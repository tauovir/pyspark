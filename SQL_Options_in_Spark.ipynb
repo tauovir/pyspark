{
 "cells": [
  {
   "cell_type": "markdown",
   "id": "portable-musician",
   "metadata": {},
   "source": [
    "# PySpark provides two main options when it comes to using staight SQL. Spark SQL and SQL Transformer. \n",
    "# 1. Spark SQL\n",
    "    Spark TempView provides two functions that allow users to run **SQL** queries against a Spark DataFrame: \n",
    "# createOrReplaceTempView:** \n",
    "        The lifetime of this temporary view is tied to the SparkSession \n",
    "        that was used to create the dataset. It creates (or replaces if that view name already exists) \n",
    "        a lazily evaluated \"view\" that you can then use like a hive table in Spark SQL. \n",
    "        It does not persist to memory unless you cache the dataset that underpins the view.\n",
    "\n",
    "# createGlobalTempView:\n",
    "        The lifetime of this temporary view is tied to this Spark application. \n",
    "        #This feature is useful when you want to share data among different sessions and keep alive until\n",
    "        #your application ends.\n",
    "\n",
    "# A **Spark Session vs. Spark application:**\n",
    "# \n",
    "    Spark application** can be used: \n",
    "     for a single batch job\n",
    "    an interactive session with multiple jobs\n",
    "    a long-lived server continually satisfying requests\n",
    "    A Spark job can consist of more than just a single map and reduce.\n",
    "    can consist of more than one Spark Session. \n",
    "# A SparkSession** on the other hand:\n",
    "     is an interaction between two or more entities. \n",
    "    can be created without creating SparkConf, SparkContext or SQLContext,\n",
    "    (they’re encapsulated within the SparkSession which is new to Spark 2.0)\n",
    "\n",
    "# 2. SQL Transformer \n",
    "You also have the option to use the SQL transformer option where you can write free-form SQL scripts as well. \n",
    "    SQL Options within regular PySpark calls\n",
    "**1. The expr function in PySparks SQL Function Library**\n",
    "**2. PySparks selectExpr function**\n",
    " \n",
    "We will go over all these in detail so buckel up!"
   ]
  },
  {
   "cell_type": "code",
   "execution_count": 4,
   "id": "sorted-validation",
   "metadata": {},
   "outputs": [],
   "source": [
    "import pyspark\n",
    "from pyspark.sql import SparkSession"
   ]
  },
  {
   "cell_type": "code",
   "execution_count": 5,
   "id": "future-quest",
   "metadata": {},
   "outputs": [
    {
     "data": {
      "text/html": [
       "\n",
       "            <div>\n",
       "                <p><b>SparkSession - in-memory</b></p>\n",
       "                \n",
       "        <div>\n",
       "            <p><b>SparkContext</b></p>\n",
       "\n",
       "            <p><a href=\"http://192.168.29.141:4040\">Spark UI</a></p>\n",
       "\n",
       "            <dl>\n",
       "              <dt>Version</dt>\n",
       "                <dd><code>v3.0.1</code></dd>\n",
       "              <dt>Master</dt>\n",
       "                <dd><code>local[*]</code></dd>\n",
       "              <dt>AppName</dt>\n",
       "                <dd><code>SparkSQL</code></dd>\n",
       "            </dl>\n",
       "        </div>\n",
       "        \n",
       "            </div>\n",
       "        "
      ],
      "text/plain": [
       "<pyspark.sql.session.SparkSession at 0x7f9cc10777f0>"
      ]
     },
     "execution_count": 5,
     "metadata": {},
     "output_type": "execute_result"
    }
   ],
   "source": [
    "spark = SparkSession.builder.appName(\"SparkSQL\").getOrCreate()\n",
    "spark"
   ]
  },
  {
   "cell_type": "code",
   "execution_count": 7,
   "id": "precious-difficulty",
   "metadata": {},
   "outputs": [
    {
     "name": "stdout",
     "output_type": "stream",
     "text": [
      "You are working with 1 core(s)\n"
     ]
    }
   ],
   "source": [
    "cores = spark._jsc.sc().getExecutorMemoryStatus().keySet().size()\n",
    "print(\"You are working with\", cores, \"core(s)\")\n"
   ]
  },
  {
   "cell_type": "code",
   "execution_count": 8,
   "id": "english-spank",
   "metadata": {},
   "outputs": [],
   "source": [
    "file_path = \"/home/nyalazone/Desktop/pyspark/Pyspark_Module/data/rec-crime-pfa.csv\"\n",
    "dataset = spark.read.csv(file_path,header = True,inferSchema = True)"
   ]
  },
  {
   "cell_type": "code",
   "execution_count": 9,
   "id": "static-settle",
   "metadata": {},
   "outputs": [
    {
     "data": {
      "text/plain": [
       "46469"
      ]
     },
     "execution_count": 9,
     "metadata": {},
     "output_type": "execute_result"
    }
   ],
   "source": [
    "dataset.count()"
   ]
  },
  {
   "cell_type": "code",
   "execution_count": 10,
   "id": "dirty-paintball",
   "metadata": {},
   "outputs": [
    {
     "data": {
      "text/html": [
       "<div>\n",
       "<style scoped>\n",
       "    .dataframe tbody tr th:only-of-type {\n",
       "        vertical-align: middle;\n",
       "    }\n",
       "\n",
       "    .dataframe tbody tr th {\n",
       "        vertical-align: top;\n",
       "    }\n",
       "\n",
       "    .dataframe thead th {\n",
       "        text-align: right;\n",
       "    }\n",
       "</style>\n",
       "<table border=\"1\" class=\"dataframe\">\n",
       "  <thead>\n",
       "    <tr style=\"text-align: right;\">\n",
       "      <th></th>\n",
       "      <th>12 months ending</th>\n",
       "      <th>PFA</th>\n",
       "      <th>Region</th>\n",
       "      <th>Offence</th>\n",
       "      <th>Rolling year total number of offences</th>\n",
       "    </tr>\n",
       "  </thead>\n",
       "  <tbody>\n",
       "    <tr>\n",
       "      <th>0</th>\n",
       "      <td>31/03/2003</td>\n",
       "      <td>Avon and Somerset</td>\n",
       "      <td>South West</td>\n",
       "      <td>All other theft offences</td>\n",
       "      <td>25959</td>\n",
       "    </tr>\n",
       "    <tr>\n",
       "      <th>1</th>\n",
       "      <td>31/03/2003</td>\n",
       "      <td>Avon and Somerset</td>\n",
       "      <td>South West</td>\n",
       "      <td>Bicycle theft</td>\n",
       "      <td>3090</td>\n",
       "    </tr>\n",
       "    <tr>\n",
       "      <th>2</th>\n",
       "      <td>31/03/2003</td>\n",
       "      <td>Avon and Somerset</td>\n",
       "      <td>South West</td>\n",
       "      <td>Criminal damage and arson</td>\n",
       "      <td>26202</td>\n",
       "    </tr>\n",
       "    <tr>\n",
       "      <th>3</th>\n",
       "      <td>31/03/2003</td>\n",
       "      <td>Avon and Somerset</td>\n",
       "      <td>South West</td>\n",
       "      <td>Death or serious injury caused by illegal driving</td>\n",
       "      <td>2</td>\n",
       "    </tr>\n",
       "    <tr>\n",
       "      <th>4</th>\n",
       "      <td>31/03/2003</td>\n",
       "      <td>Avon and Somerset</td>\n",
       "      <td>South West</td>\n",
       "      <td>Domestic burglary</td>\n",
       "      <td>14561</td>\n",
       "    </tr>\n",
       "    <tr>\n",
       "      <th>5</th>\n",
       "      <td>31/03/2003</td>\n",
       "      <td>Avon and Somerset</td>\n",
       "      <td>South West</td>\n",
       "      <td>Drug offences</td>\n",
       "      <td>2308</td>\n",
       "    </tr>\n",
       "    <tr>\n",
       "      <th>6</th>\n",
       "      <td>31/03/2003</td>\n",
       "      <td>Avon and Somerset</td>\n",
       "      <td>South West</td>\n",
       "      <td>Fraud offences</td>\n",
       "      <td>5339</td>\n",
       "    </tr>\n",
       "    <tr>\n",
       "      <th>7</th>\n",
       "      <td>31/03/2003</td>\n",
       "      <td>Avon and Somerset</td>\n",
       "      <td>South West</td>\n",
       "      <td>Homicide</td>\n",
       "      <td>19</td>\n",
       "    </tr>\n",
       "    <tr>\n",
       "      <th>8</th>\n",
       "      <td>31/03/2003</td>\n",
       "      <td>Avon and Somerset</td>\n",
       "      <td>South West</td>\n",
       "      <td>Miscellaneous crimes against society</td>\n",
       "      <td>1597</td>\n",
       "    </tr>\n",
       "    <tr>\n",
       "      <th>9</th>\n",
       "      <td>31/03/2003</td>\n",
       "      <td>Avon and Somerset</td>\n",
       "      <td>South West</td>\n",
       "      <td>Non-domestic burglary</td>\n",
       "      <td>15621</td>\n",
       "    </tr>\n",
       "  </tbody>\n",
       "</table>\n",
       "</div>"
      ],
      "text/plain": [
       "  12 months ending                PFA      Region  \\\n",
       "0       31/03/2003  Avon and Somerset  South West   \n",
       "1       31/03/2003  Avon and Somerset  South West   \n",
       "2       31/03/2003  Avon and Somerset  South West   \n",
       "3       31/03/2003  Avon and Somerset  South West   \n",
       "4       31/03/2003  Avon and Somerset  South West   \n",
       "5       31/03/2003  Avon and Somerset  South West   \n",
       "6       31/03/2003  Avon and Somerset  South West   \n",
       "7       31/03/2003  Avon and Somerset  South West   \n",
       "8       31/03/2003  Avon and Somerset  South West   \n",
       "9       31/03/2003  Avon and Somerset  South West   \n",
       "\n",
       "                                             Offence  \\\n",
       "0                           All other theft offences   \n",
       "1                                      Bicycle theft   \n",
       "2                          Criminal damage and arson   \n",
       "3  Death or serious injury caused by illegal driving   \n",
       "4                                  Domestic burglary   \n",
       "5                                      Drug offences   \n",
       "6                                     Fraud offences   \n",
       "7                                           Homicide   \n",
       "8               Miscellaneous crimes against society   \n",
       "9                              Non-domestic burglary   \n",
       "\n",
       "   Rolling year total number of offences  \n",
       "0                                  25959  \n",
       "1                                   3090  \n",
       "2                                  26202  \n",
       "3                                      2  \n",
       "4                                  14561  \n",
       "5                                   2308  \n",
       "6                                   5339  \n",
       "7                                     19  \n",
       "8                                   1597  \n",
       "9                                  15621  "
      ]
     },
     "execution_count": 10,
     "metadata": {},
     "output_type": "execute_result"
    }
   ],
   "source": [
    "dataset.limit(10).toPandas()"
   ]
  },
  {
   "cell_type": "code",
   "execution_count": 12,
   "id": "parallel-anxiety",
   "metadata": {},
   "outputs": [],
   "source": [
    "# So, in order for us to perform SQL calls off of this dataframe, \n",
    "# we will need to rename any variables that have spaces in them.\n",
    "#Lets rename it. \n"
   ]
  },
  {
   "cell_type": "code",
   "execution_count": 17,
   "id": "passive-september",
   "metadata": {},
   "outputs": [
    {
     "name": "stdout",
     "output_type": "stream",
     "text": [
      "root\n",
      " |-- 12_months_ending: string (nullable = true)\n",
      " |-- PFA: string (nullable = true)\n",
      " |-- Region: string (nullable = true)\n",
      " |-- Offence: string (nullable = true)\n",
      " |-- offence_count: integer (nullable = true)\n",
      "\n"
     ]
    }
   ],
   "source": [
    "dataframe = dataset.withColumnRenamed('Rolling year total number of offences','offence_count')\n",
    "dataframe = dataframe.withColumnRenamed('12 months ending','12_months_ending')\n",
    "\n",
    "dataframe.printSchema()"
   ]
  },
  {
   "cell_type": "code",
   "execution_count": 18,
   "id": "received-suspect",
   "metadata": {},
   "outputs": [],
   "source": [
    "# Create a temporary view of the dataframe\n",
    "dataframe.createOrReplaceTempView('tempview')"
   ]
  },
  {
   "cell_type": "code",
   "execution_count": 19,
   "id": "another-jimmy",
   "metadata": {},
   "outputs": [
    {
     "data": {
      "text/html": [
       "<div>\n",
       "<style scoped>\n",
       "    .dataframe tbody tr th:only-of-type {\n",
       "        vertical-align: middle;\n",
       "    }\n",
       "\n",
       "    .dataframe tbody tr th {\n",
       "        vertical-align: top;\n",
       "    }\n",
       "\n",
       "    .dataframe thead th {\n",
       "        text-align: right;\n",
       "    }\n",
       "</style>\n",
       "<table border=\"1\" class=\"dataframe\">\n",
       "  <thead>\n",
       "    <tr style=\"text-align: right;\">\n",
       "      <th></th>\n",
       "      <th>12_months_ending</th>\n",
       "      <th>PFA</th>\n",
       "      <th>Region</th>\n",
       "      <th>Offence</th>\n",
       "      <th>offence_count</th>\n",
       "    </tr>\n",
       "  </thead>\n",
       "  <tbody>\n",
       "    <tr>\n",
       "      <th>0</th>\n",
       "      <td>31/03/2003</td>\n",
       "      <td>Avon and Somerset</td>\n",
       "      <td>South West</td>\n",
       "      <td>All other theft offences</td>\n",
       "      <td>25959</td>\n",
       "    </tr>\n",
       "    <tr>\n",
       "      <th>1</th>\n",
       "      <td>31/03/2003</td>\n",
       "      <td>Avon and Somerset</td>\n",
       "      <td>South West</td>\n",
       "      <td>Bicycle theft</td>\n",
       "      <td>3090</td>\n",
       "    </tr>\n",
       "    <tr>\n",
       "      <th>2</th>\n",
       "      <td>31/03/2003</td>\n",
       "      <td>Avon and Somerset</td>\n",
       "      <td>South West</td>\n",
       "      <td>Criminal damage and arson</td>\n",
       "      <td>26202</td>\n",
       "    </tr>\n",
       "    <tr>\n",
       "      <th>3</th>\n",
       "      <td>31/03/2003</td>\n",
       "      <td>Avon and Somerset</td>\n",
       "      <td>South West</td>\n",
       "      <td>Death or serious injury caused by illegal driving</td>\n",
       "      <td>2</td>\n",
       "    </tr>\n",
       "    <tr>\n",
       "      <th>4</th>\n",
       "      <td>31/03/2003</td>\n",
       "      <td>Avon and Somerset</td>\n",
       "      <td>South West</td>\n",
       "      <td>Domestic burglary</td>\n",
       "      <td>14561</td>\n",
       "    </tr>\n",
       "  </tbody>\n",
       "</table>\n",
       "</div>"
      ],
      "text/plain": [
       "  12_months_ending                PFA      Region  \\\n",
       "0       31/03/2003  Avon and Somerset  South West   \n",
       "1       31/03/2003  Avon and Somerset  South West   \n",
       "2       31/03/2003  Avon and Somerset  South West   \n",
       "3       31/03/2003  Avon and Somerset  South West   \n",
       "4       31/03/2003  Avon and Somerset  South West   \n",
       "\n",
       "                                             Offence  offence_count  \n",
       "0                           All other theft offences          25959  \n",
       "1                                      Bicycle theft           3090  \n",
       "2                          Criminal damage and arson          26202  \n",
       "3  Death or serious injury caused by illegal driving              2  \n",
       "4                                  Domestic burglary          14561  "
      ]
     },
     "execution_count": 19,
     "metadata": {},
     "output_type": "execute_result"
    }
   ],
   "source": [
    "# Then Query the temp view\n",
    "spark.sql(\"Select * from tempview\").limit(5).toPandas()"
   ]
  },
  {
   "cell_type": "code",
   "execution_count": 20,
   "id": "maritime-glossary",
   "metadata": {},
   "outputs": [
    {
     "data": {
      "text/html": [
       "<div>\n",
       "<style scoped>\n",
       "    .dataframe tbody tr th:only-of-type {\n",
       "        vertical-align: middle;\n",
       "    }\n",
       "\n",
       "    .dataframe tbody tr th {\n",
       "        vertical-align: top;\n",
       "    }\n",
       "\n",
       "    .dataframe thead th {\n",
       "        text-align: right;\n",
       "    }\n",
       "</style>\n",
       "<table border=\"1\" class=\"dataframe\">\n",
       "  <thead>\n",
       "    <tr style=\"text-align: right;\">\n",
       "      <th></th>\n",
       "      <th>12_months_ending</th>\n",
       "      <th>PFA</th>\n",
       "      <th>Region</th>\n",
       "      <th>Offence</th>\n",
       "      <th>offence_count</th>\n",
       "    </tr>\n",
       "  </thead>\n",
       "  <tbody>\n",
       "    <tr>\n",
       "      <th>0</th>\n",
       "      <td>31/03/2003</td>\n",
       "      <td>Avon and Somerset</td>\n",
       "      <td>South West</td>\n",
       "      <td>Death or serious injury caused by illegal driving</td>\n",
       "      <td>2</td>\n",
       "    </tr>\n",
       "    <tr>\n",
       "      <th>1</th>\n",
       "      <td>31/03/2003</td>\n",
       "      <td>Bedfordshire</td>\n",
       "      <td>East</td>\n",
       "      <td>Death or serious injury caused by illegal driving</td>\n",
       "      <td>8</td>\n",
       "    </tr>\n",
       "    <tr>\n",
       "      <th>2</th>\n",
       "      <td>31/03/2003</td>\n",
       "      <td>Bedfordshire</td>\n",
       "      <td>East</td>\n",
       "      <td>Homicide</td>\n",
       "      <td>2</td>\n",
       "    </tr>\n",
       "    <tr>\n",
       "      <th>3</th>\n",
       "      <td>31/03/2003</td>\n",
       "      <td>British Transport Police</td>\n",
       "      <td>British Transport Police</td>\n",
       "      <td>Death or serious injury caused by illegal driving</td>\n",
       "      <td>0</td>\n",
       "    </tr>\n",
       "    <tr>\n",
       "      <th>4</th>\n",
       "      <td>31/03/2003</td>\n",
       "      <td>British Transport Police</td>\n",
       "      <td>British Transport Police</td>\n",
       "      <td>Homicide</td>\n",
       "      <td>4</td>\n",
       "    </tr>\n",
       "  </tbody>\n",
       "</table>\n",
       "</div>"
      ],
      "text/plain": [
       "  12_months_ending                       PFA                    Region  \\\n",
       "0       31/03/2003         Avon and Somerset                South West   \n",
       "1       31/03/2003              Bedfordshire                      East   \n",
       "2       31/03/2003              Bedfordshire                      East   \n",
       "3       31/03/2003  British Transport Police  British Transport Police   \n",
       "4       31/03/2003  British Transport Police  British Transport Police   \n",
       "\n",
       "                                             Offence  offence_count  \n",
       "0  Death or serious injury caused by illegal driving              2  \n",
       "1  Death or serious injury caused by illegal driving              8  \n",
       "2                                           Homicide              2  \n",
       "3  Death or serious injury caused by illegal driving              0  \n",
       "4                                           Homicide              4  "
      ]
     },
     "execution_count": 20,
     "metadata": {},
     "output_type": "execute_result"
    }
   ],
   "source": [
    "spark.sql(\"Select * from tempview where offence_count < 10 \").limit(5).toPandas()"
   ]
  },
  {
   "cell_type": "code",
   "execution_count": 25,
   "id": "russian-apartment",
   "metadata": {},
   "outputs": [
    {
     "data": {
      "text/html": [
       "<div>\n",
       "<style scoped>\n",
       "    .dataframe tbody tr th:only-of-type {\n",
       "        vertical-align: middle;\n",
       "    }\n",
       "\n",
       "    .dataframe tbody tr th {\n",
       "        vertical-align: top;\n",
       "    }\n",
       "\n",
       "    .dataframe thead th {\n",
       "        text-align: right;\n",
       "    }\n",
       "</style>\n",
       "<table border=\"1\" class=\"dataframe\">\n",
       "  <thead>\n",
       "    <tr style=\"text-align: right;\">\n",
       "      <th></th>\n",
       "      <th>12_months_ending</th>\n",
       "      <th>PFA</th>\n",
       "      <th>Region</th>\n",
       "      <th>Offence</th>\n",
       "      <th>offence_count</th>\n",
       "    </tr>\n",
       "  </thead>\n",
       "  <tbody>\n",
       "    <tr>\n",
       "      <th>0</th>\n",
       "      <td>31/03/2003</td>\n",
       "      <td>Avon and Somerset</td>\n",
       "      <td>South West</td>\n",
       "      <td>All other theft offences</td>\n",
       "      <td>25959</td>\n",
       "    </tr>\n",
       "    <tr>\n",
       "      <th>1</th>\n",
       "      <td>31/03/2003</td>\n",
       "      <td>Avon and Somerset</td>\n",
       "      <td>South West</td>\n",
       "      <td>Bicycle theft</td>\n",
       "      <td>3090</td>\n",
       "    </tr>\n",
       "    <tr>\n",
       "      <th>2</th>\n",
       "      <td>31/03/2003</td>\n",
       "      <td>Avon and Somerset</td>\n",
       "      <td>South West</td>\n",
       "      <td>Criminal damage and arson</td>\n",
       "      <td>26202</td>\n",
       "    </tr>\n",
       "    <tr>\n",
       "      <th>3</th>\n",
       "      <td>31/03/2003</td>\n",
       "      <td>Avon and Somerset</td>\n",
       "      <td>South West</td>\n",
       "      <td>Domestic burglary</td>\n",
       "      <td>14561</td>\n",
       "    </tr>\n",
       "    <tr>\n",
       "      <th>4</th>\n",
       "      <td>31/03/2003</td>\n",
       "      <td>Avon and Somerset</td>\n",
       "      <td>South West</td>\n",
       "      <td>Drug offences</td>\n",
       "      <td>2308</td>\n",
       "    </tr>\n",
       "  </tbody>\n",
       "</table>\n",
       "</div>"
      ],
      "text/plain": [
       "  12_months_ending                PFA      Region                    Offence  \\\n",
       "0       31/03/2003  Avon and Somerset  South West   All other theft offences   \n",
       "1       31/03/2003  Avon and Somerset  South West              Bicycle theft   \n",
       "2       31/03/2003  Avon and Somerset  South West  Criminal damage and arson   \n",
       "3       31/03/2003  Avon and Somerset  South West          Domestic burglary   \n",
       "4       31/03/2003  Avon and Somerset  South West              Drug offences   \n",
       "\n",
       "   offence_count  \n",
       "0          25959  \n",
       "1           3090  \n",
       "2          26202  \n",
       "3          14561  \n",
       "4           2308  "
      ]
     },
     "execution_count": 25,
     "metadata": {},
     "output_type": "execute_result"
    }
   ],
   "source": [
    "# We can also pass your query results to an object \n",
    "sql_results = spark.sql(\"SELECT * FROM tempview WHERE offence_count > 1000 AND Region='South West'\")\n",
    "sql_results.limit(5).toPandas()"
   ]
  },
  {
   "cell_type": "code",
   "execution_count": 28,
   "id": "binary-alaska",
   "metadata": {},
   "outputs": [
    {
     "data": {
      "text/html": [
       "<div>\n",
       "<style scoped>\n",
       "    .dataframe tbody tr th:only-of-type {\n",
       "        vertical-align: middle;\n",
       "    }\n",
       "\n",
       "    .dataframe tbody tr th {\n",
       "        vertical-align: top;\n",
       "    }\n",
       "\n",
       "    .dataframe thead th {\n",
       "        text-align: right;\n",
       "    }\n",
       "</style>\n",
       "<table border=\"1\" class=\"dataframe\">\n",
       "  <thead>\n",
       "    <tr style=\"text-align: right;\">\n",
       "      <th></th>\n",
       "      <th>Region</th>\n",
       "      <th>Total</th>\n",
       "    </tr>\n",
       "  </thead>\n",
       "  <tbody>\n",
       "    <tr>\n",
       "      <th>0</th>\n",
       "      <td>Fraud: CIFAS</td>\n",
       "      <td>7678981</td>\n",
       "    </tr>\n",
       "    <tr>\n",
       "      <th>1</th>\n",
       "      <td>North West</td>\n",
       "      <td>30235732</td>\n",
       "    </tr>\n",
       "    <tr>\n",
       "      <th>2</th>\n",
       "      <td>British Transport Police</td>\n",
       "      <td>3029117</td>\n",
       "    </tr>\n",
       "    <tr>\n",
       "      <th>3</th>\n",
       "      <td>Wales</td>\n",
       "      <td>11137260</td>\n",
       "    </tr>\n",
       "    <tr>\n",
       "      <th>4</th>\n",
       "      <td>London</td>\n",
       "      <td>42691902</td>\n",
       "    </tr>\n",
       "  </tbody>\n",
       "</table>\n",
       "</div>"
      ],
      "text/plain": [
       "                     Region     Total\n",
       "0              Fraud: CIFAS   7678981\n",
       "1                North West  30235732\n",
       "2  British Transport Police   3029117\n",
       "3                     Wales  11137260\n",
       "4                    London  42691902"
      ]
     },
     "execution_count": 28,
     "metadata": {},
     "output_type": "execute_result"
    }
   ],
   "source": [
    "## We can even do aggregated \"group by\" calls like this\n",
    "spark.sql(\"SELECT Region, sum(offence_count) AS Total FROM tempview GROUP BY Region\").limit(5).toPandas()"
   ]
  },
  {
   "cell_type": "markdown",
   "id": "stupid-split",
   "metadata": {},
   "source": [
    "# SQL Transformer\n",
    "    We also have the option to use the SQL transformer option where you can write freeform SQL scripts."
   ]
  },
  {
   "cell_type": "code",
   "execution_count": 30,
   "id": "asian-billy",
   "metadata": {},
   "outputs": [],
   "source": [
    "from pyspark.ml.feature import SQLTransformer\n"
   ]
  },
  {
   "cell_type": "code",
   "execution_count": 33,
   "id": "palestinian-provider",
   "metadata": {},
   "outputs": [
    {
     "name": "stdout",
     "output_type": "stream",
     "text": [
      "+-----------------+----------+--------------------+\n",
      "|              PFA|    Region|             Offence|\n",
      "+-----------------+----------+--------------------+\n",
      "|Avon and Somerset|South West|All other theft o...|\n",
      "|Avon and Somerset|South West|       Bicycle theft|\n",
      "|Avon and Somerset|South West|Criminal damage a...|\n",
      "|Avon and Somerset|South West|Death or serious ...|\n",
      "|Avon and Somerset|South West|   Domestic burglary|\n",
      "+-----------------+----------+--------------------+\n",
      "only showing top 5 rows\n",
      "\n"
     ]
    }
   ],
   "source": [
    "sqlTrans = SQLTransformer(statement=\"SELECT PFA,Region,Offence FROM __THIS__\") # __THis__ is our dataframe\n",
    "# And use it to transform our df object\n",
    "# Note that \"__THIS__\" is a special word and cannot be change to __THAT__ for example\n",
    "sqlTrans.transform(dataframe).show(5)\n"
   ]
  },
  {
   "cell_type": "code",
   "execution_count": 34,
   "id": "pretty-claim",
   "metadata": {},
   "outputs": [
    {
     "data": {
      "text/plain": [
       "pyspark.ml.feature.SQLTransformer"
      ]
     },
     "execution_count": 34,
     "metadata": {},
     "output_type": "execute_result"
    }
   ],
   "source": [
    "type(sqlTrans)"
   ]
  },
  {
   "cell_type": "code",
   "execution_count": 37,
   "id": "sacred-guitar",
   "metadata": {},
   "outputs": [
    {
     "ename": "AttributeError",
     "evalue": "'SQLTransformer' object has no attribute 'show'",
     "output_type": "error",
     "traceback": [
      "\u001b[0;31m---------------------------------------------------------------------------\u001b[0m",
      "\u001b[0;31mAttributeError\u001b[0m                            Traceback (most recent call last)",
      "\u001b[0;32m<ipython-input-37-5b10c31cad20>\u001b[0m in \u001b[0;36m<module>\u001b[0;34m\u001b[0m\n\u001b[1;32m      1\u001b[0m \u001b[0;31m# Also Note that a call like this won't work...\u001b[0m\u001b[0;34m\u001b[0m\u001b[0;34m\u001b[0m\u001b[0;34m\u001b[0m\u001b[0m\n\u001b[0;32m----> 2\u001b[0;31m \u001b[0mSQLTransformer\u001b[0m\u001b[0;34m(\u001b[0m\u001b[0mstatement\u001b[0m\u001b[0;34m=\u001b[0m\u001b[0;34m\"SELECT PFA,Region,Offence FROM __THIS__\"\u001b[0m\u001b[0;34m)\u001b[0m\u001b[0;34m.\u001b[0m\u001b[0mshow\u001b[0m\u001b[0;34m(\u001b[0m\u001b[0;34m)\u001b[0m\u001b[0;34m\u001b[0m\u001b[0;34m\u001b[0m\u001b[0m\n\u001b[0m",
      "\u001b[0;31mAttributeError\u001b[0m: 'SQLTransformer' object has no attribute 'show'"
     ]
    }
   ],
   "source": [
    "# Also Note that a call like this won't work...\n",
    "SQLTransformer(statement=\"SELECT PFA,Region,Offence FROM __THIS__\").show()\n"
   ]
  },
  {
   "cell_type": "code",
   "execution_count": 41,
   "id": "formal-bobby",
   "metadata": {},
   "outputs": [
    {
     "name": "stdout",
     "output_type": "stream",
     "text": [
      "+--------------------+--------+\n",
      "|             Offence|   Total|\n",
      "+--------------------+--------+\n",
      "|Public order offe...|10925676|\n",
      "|       Bicycle theft| 5297006|\n",
      "|Residential burglary| 1671469|\n",
      "|Violence without ...|16590158|\n",
      "|All other theft o...|30979393|\n",
      "+--------------------+--------+\n",
      "only showing top 5 rows\n",
      "\n"
     ]
    }
   ],
   "source": [
    "#Note that this call will not work on the original dataframe \"crime\" when the variable \"Count\" is a string\n",
    "\n",
    "sqlTrans = SQLTransformer(\n",
    "    statement=\"SELECT Offence, SUM(offence_count) as Total FROM __THIS__ GROUP BY Offence\") \n",
    "sqlTrans.transform(dataframe).show(5)"
   ]
  },
  {
   "cell_type": "markdown",
   "id": "cheap-cologne",
   "metadata": {},
   "source": [
    "**And a where statement**"
   ]
  },
  {
   "cell_type": "code",
   "execution_count": 49,
   "id": "massive-occupation",
   "metadata": {},
   "outputs": [
    {
     "name": "stdout",
     "output_type": "stream",
     "text": [
      "+-----------------+--------------------+\n",
      "|              PFA|             Offence|\n",
      "+-----------------+--------------------+\n",
      "|Avon and Somerset|All other theft o...|\n",
      "|Avon and Somerset|       Bicycle theft|\n",
      "|Avon and Somerset|Criminal damage a...|\n",
      "|Avon and Somerset|   Domestic burglary|\n",
      "|Avon and Somerset|       Drug offences|\n",
      "+-----------------+--------------------+\n",
      "only showing top 5 rows\n",
      "\n"
     ]
    }
   ],
   "source": [
    "sqlTrans = SQLTransformer(\n",
    "    statement=\"SELECT PFA,Offence FROM __THIS__ WHERE offence_count > 1000\") \n",
    "sqlTrans.transform(dataframe).show(5)"
   ]
  },
  {
   "cell_type": "code",
   "execution_count": 51,
   "id": "dirty-franchise",
   "metadata": {},
   "outputs": [
    {
     "name": "stdout",
     "output_type": "stream",
     "text": [
      "+-----------------+--------------------+\n",
      "|              PFA|             Offence|\n",
      "+-----------------+--------------------+\n",
      "|Avon and Somerset|All other theft o...|\n",
      "|Avon and Somerset|       Bicycle theft|\n",
      "|Avon and Somerset|Criminal damage a...|\n",
      "|Avon and Somerset|   Domestic burglary|\n",
      "|Avon and Somerset|       Drug offences|\n",
      "+-----------------+--------------------+\n",
      "only showing top 5 rows\n",
      "\n"
     ]
    }
   ],
   "source": [
    "# OR Wen can also pass veiw name tempview\n",
    "sqlTrans = SQLTransformer(\n",
    "    statement=\"SELECT PFA,Offence FROM tempview WHERE offence_count > 1000\") \n",
    "sqlTrans.transform(dataframe).show(5)"
   ]
  },
  {
   "cell_type": "code",
   "execution_count": 53,
   "id": "aging-locking",
   "metadata": {},
   "outputs": [
    {
     "name": "stdout",
     "output_type": "stream",
     "text": [
      "+-----------------+--------------------+\n",
      "|              PFA|             Offence|\n",
      "+-----------------+--------------------+\n",
      "|Avon and Somerset|All other theft o...|\n",
      "|Avon and Somerset|       Bicycle theft|\n",
      "|Avon and Somerset|Criminal damage a...|\n",
      "|Avon and Somerset|   Domestic burglary|\n",
      "|Avon and Somerset|       Drug offences|\n",
      "+-----------------+--------------------+\n",
      "only showing top 5 rows\n",
      "\n"
     ]
    }
   ],
   "source": [
    "result = sqlTrans.transform(dataframe)\n",
    "result.show(5)"
   ]
  },
  {
   "cell_type": "markdown",
   "id": "dramatic-gross",
   "metadata": {},
   "source": [
    "# SQL Options within regular PySpark calls \n",
    "**The expr function in PySparks SQL Function Library**\n",
    "You can also use the expr function within the **pyspark.sql.functions library** coupled with either PySpark's withColumn function or the select function.\n"
   ]
  },
  {
   "cell_type": "code",
   "execution_count": 55,
   "id": "french-superior",
   "metadata": {},
   "outputs": [],
   "source": [
    "# First we need to read in the library\n",
    "from pyspark.sql.functions import expr "
   ]
  },
  {
   "cell_type": "code",
   "execution_count": 60,
   "id": "representative-premium",
   "metadata": {},
   "outputs": [
    {
     "name": "stdout",
     "output_type": "stream",
     "text": [
      "+---------+\n",
      "|    Total|\n",
      "+---------+\n",
      "|244720928|\n",
      "+---------+\n",
      "\n"
     ]
    }
   ],
   "source": [
    "## Let's add a percent column to the dataframe. To do this, first we need to get the total number of rows in the dataframe (we can't soft this unfortunatly).\n",
    "\n",
    "sqlTrans = SQLTransformer(\n",
    "    statement=\"SELECT SUM(offence_count) as Total FROM __THIS__\") \n",
    "sqlTrans.transform(dataframe).show(5)"
   ]
  },
  {
   "cell_type": "code",
   "execution_count": 59,
   "id": "democratic-travel",
   "metadata": {},
   "outputs": [
    {
     "name": "stdout",
     "output_type": "stream",
     "text": [
      "+----------------+-----------------+----------+--------------------+-------------+-------+\n",
      "|12_months_ending|              PFA|    Region|             Offence|offence_count|percent|\n",
      "+----------------+-----------------+----------+--------------------+-------------+-------+\n",
      "|      31/03/2003|Avon and Somerset|South West|All other theft o...|        25959|   0.01|\n",
      "|      31/03/2003|Avon and Somerset|South West|       Bicycle theft|         3090|    0.0|\n",
      "|      31/03/2003|Avon and Somerset|South West|Criminal damage a...|        26202|   0.01|\n",
      "|      31/03/2003|Avon and Somerset|South West|Death or serious ...|            2|    0.0|\n",
      "|      31/03/2003|Avon and Somerset|South West|   Domestic burglary|        14561|   0.01|\n",
      "|      31/03/2003|Avon and Somerset|South West|       Drug offences|         2308|    0.0|\n",
      "|      31/03/2003|Avon and Somerset|South West|      Fraud offences|         5339|    0.0|\n",
      "|      31/03/2003|Avon and Somerset|South West|            Homicide|           19|    0.0|\n",
      "|      31/03/2003|Avon and Somerset|South West|Miscellaneous cri...|         1597|    0.0|\n",
      "|      31/03/2003|Avon and Somerset|South West|Non-domestic burg...|        15621|   0.01|\n",
      "|      31/03/2003|Avon and Somerset|South West|Possession of wea...|          735|    0.0|\n",
      "|      31/03/2003|Avon and Somerset|South West|Public order offe...|         4025|    0.0|\n",
      "|      31/03/2003|Avon and Somerset|South West|             Robbery|         3504|    0.0|\n",
      "|      31/03/2003|Avon and Somerset|South West|     Sexual offences|         1737|    0.0|\n",
      "|      31/03/2003|Avon and Somerset|South West|         Shoplifting|         8410|    0.0|\n",
      "|      31/03/2003|Avon and Somerset|South West|Stalking and hara...|          740|    0.0|\n",
      "|      31/03/2003|Avon and Somerset|South West|Theft from the pe...|         2554|    0.0|\n",
      "|      31/03/2003|Avon and Somerset|South West|    Vehicle offences|        41781|   0.02|\n",
      "|      31/03/2003|Avon and Somerset|South West|Violence with injury|         8565|    0.0|\n",
      "|      31/03/2003|Avon and Somerset|South West|Violence without ...|         7117|    0.0|\n",
      "+----------------+-----------------+----------+--------------------+-------------+-------+\n",
      "only showing top 20 rows\n",
      "\n"
     ]
    }
   ],
   "source": [
    "# We could add a percent column to our df \n",
    "# that shows the offence %\n",
    "# with the \"withColumn\" command\n",
    "dataframe.withColumn(\"percent\",expr(\"round((offence_count/244720928)*100,2)\")).show()"
   ]
  },
  {
   "cell_type": "markdown",
   "id": "compliant-impression",
   "metadata": {},
   "source": [
    "# PySparks selectExpr function\n",
    "Very similar idea here but slightly different syntax."
   ]
  },
  {
   "cell_type": "code",
   "execution_count": 61,
   "id": "talented-silence",
   "metadata": {},
   "outputs": [
    {
     "name": "stdout",
     "output_type": "stream",
     "text": [
      "+----------------+-----------------+----------+--------------------+-------------+-------+\n",
      "|12_months_ending|              PFA|    Region|             Offence|offence_count|percent|\n",
      "+----------------+-----------------+----------+--------------------+-------------+-------+\n",
      "|      31/03/2003|Avon and Somerset|South West|All other theft o...|        25959|   0.01|\n",
      "|      31/03/2003|Avon and Somerset|South West|       Bicycle theft|         3090|    0.0|\n",
      "|      31/03/2003|Avon and Somerset|South West|Criminal damage a...|        26202|   0.01|\n",
      "|      31/03/2003|Avon and Somerset|South West|Death or serious ...|            2|    0.0|\n",
      "|      31/03/2003|Avon and Somerset|South West|   Domestic burglary|        14561|   0.01|\n",
      "|      31/03/2003|Avon and Somerset|South West|       Drug offences|         2308|    0.0|\n",
      "|      31/03/2003|Avon and Somerset|South West|      Fraud offences|         5339|    0.0|\n",
      "|      31/03/2003|Avon and Somerset|South West|            Homicide|           19|    0.0|\n",
      "|      31/03/2003|Avon and Somerset|South West|Miscellaneous cri...|         1597|    0.0|\n",
      "|      31/03/2003|Avon and Somerset|South West|Non-domestic burg...|        15621|   0.01|\n",
      "|      31/03/2003|Avon and Somerset|South West|Possession of wea...|          735|    0.0|\n",
      "|      31/03/2003|Avon and Somerset|South West|Public order offe...|         4025|    0.0|\n",
      "|      31/03/2003|Avon and Somerset|South West|             Robbery|         3504|    0.0|\n",
      "|      31/03/2003|Avon and Somerset|South West|     Sexual offences|         1737|    0.0|\n",
      "|      31/03/2003|Avon and Somerset|South West|         Shoplifting|         8410|    0.0|\n",
      "|      31/03/2003|Avon and Somerset|South West|Stalking and hara...|          740|    0.0|\n",
      "|      31/03/2003|Avon and Somerset|South West|Theft from the pe...|         2554|    0.0|\n",
      "|      31/03/2003|Avon and Somerset|South West|    Vehicle offences|        41781|   0.02|\n",
      "|      31/03/2003|Avon and Somerset|South West|Violence with injury|         8565|    0.0|\n",
      "|      31/03/2003|Avon and Somerset|South West|Violence without ...|         7117|    0.0|\n",
      "+----------------+-----------------+----------+--------------------+-------------+-------+\n",
      "only showing top 20 rows\n",
      "\n"
     ]
    }
   ],
   "source": [
    "dataframe.selectExpr(\"*\",\"round((offence_count/244720928)*100,2) AS percent\").filter(\"Region ='South West'\").show()\n"
   ]
  },
  {
   "cell_type": "code",
   "execution_count": 62,
   "id": "split-interference",
   "metadata": {},
   "outputs": [
    {
     "name": "stdout",
     "output_type": "stream",
     "text": [
      "+----------------+-----------------+----------+--------------------+-------------+\n",
      "|12_months_ending|              PFA|    Region|             Offence|offence_count|\n",
      "+----------------+-----------------+----------+--------------------+-------------+\n",
      "|      31/03/2003|Avon and Somerset|South West|All other theft o...|        25959|\n",
      "|      31/03/2003|Avon and Somerset|South West|       Bicycle theft|         3090|\n",
      "|      31/03/2003|Avon and Somerset|South West|Criminal damage a...|        26202|\n",
      "|      31/03/2003|Avon and Somerset|South West|   Domestic burglary|        14561|\n",
      "|      31/03/2003|Avon and Somerset|South West|       Drug offences|         2308|\n",
      "|      31/03/2003|Avon and Somerset|South West|      Fraud offences|         5339|\n",
      "|      31/03/2003|Avon and Somerset|South West|Miscellaneous cri...|         1597|\n",
      "|      31/03/2003|Avon and Somerset|South West|Non-domestic burg...|        15621|\n",
      "|      31/03/2003|Avon and Somerset|South West|Public order offe...|         4025|\n",
      "|      31/03/2003|Avon and Somerset|South West|             Robbery|         3504|\n",
      "|      31/03/2003|Avon and Somerset|South West|     Sexual offences|         1737|\n",
      "|      31/03/2003|Avon and Somerset|South West|         Shoplifting|         8410|\n",
      "|      31/03/2003|Avon and Somerset|South West|Theft from the pe...|         2554|\n",
      "|      31/03/2003|Avon and Somerset|South West|    Vehicle offences|        41781|\n",
      "|      31/03/2003|Avon and Somerset|South West|Violence with injury|         8565|\n",
      "|      31/03/2003|Avon and Somerset|South West|Violence without ...|         7117|\n",
      "|      31/03/2003|     Bedfordshire|      East|All other theft o...|         8797|\n",
      "|      31/03/2003|     Bedfordshire|      East|Criminal damage a...|        10006|\n",
      "|      31/03/2003|     Bedfordshire|      East|   Domestic burglary|         3784|\n",
      "|      31/03/2003|     Bedfordshire|      East|       Drug offences|         1069|\n",
      "+----------------+-----------------+----------+--------------------+-------------+\n",
      "only showing top 20 rows\n",
      "\n"
     ]
    }
   ],
   "source": [
    "# Speed test\n",
    "spark.sql(\"SELECT * FROM tempview WHERE offence_count > 1000\").show()\n"
   ]
  },
  {
   "cell_type": "code",
   "execution_count": 64,
   "id": "guided-personal",
   "metadata": {},
   "outputs": [
    {
     "name": "stdout",
     "output_type": "stream",
     "text": [
      "+----------------+-----------------+----------+--------------------+-------------+\n",
      "|12_months_ending|              PFA|    Region|             Offence|offence_count|\n",
      "+----------------+-----------------+----------+--------------------+-------------+\n",
      "|      31/03/2003|Avon and Somerset|South West|All other theft o...|        25959|\n",
      "|      31/03/2003|Avon and Somerset|South West|       Bicycle theft|         3090|\n",
      "|      31/03/2003|Avon and Somerset|South West|Criminal damage a...|        26202|\n",
      "|      31/03/2003|Avon and Somerset|South West|   Domestic burglary|        14561|\n",
      "|      31/03/2003|Avon and Somerset|South West|       Drug offences|         2308|\n",
      "+----------------+-----------------+----------+--------------------+-------------+\n",
      "only showing top 5 rows\n",
      "\n"
     ]
    }
   ],
   "source": [
    "# Then we create an SQL call \n",
    "sqlTrans = SQLTransformer(\n",
    "    statement=\"SELECT * FROM __THIS__ WHERE offence_count > 1000\")\n",
    "# And use it to transform our df object\n",
    "sqlTrans.transform(dataframe).show(5)"
   ]
  },
  {
   "cell_type": "code",
   "execution_count": 65,
   "id": "packed-gender",
   "metadata": {},
   "outputs": [
    {
     "name": "stdout",
     "output_type": "stream",
     "text": [
      "+----------------+-----------------+----------+--------------------+-------------+\n",
      "|12_months_ending|              PFA|    Region|             Offence|offence_count|\n",
      "+----------------+-----------------+----------+--------------------+-------------+\n",
      "|      31/03/2003|Avon and Somerset|South West|All other theft o...|        25959|\n",
      "|      31/03/2003|Avon and Somerset|South West|       Bicycle theft|         3090|\n",
      "|      31/03/2003|Avon and Somerset|South West|Criminal damage a...|        26202|\n",
      "|      31/03/2003|Avon and Somerset|South West|   Domestic burglary|        14561|\n",
      "|      31/03/2003|Avon and Somerset|South West|       Drug offences|         2308|\n",
      "|      31/03/2003|Avon and Somerset|South West|      Fraud offences|         5339|\n",
      "|      31/03/2003|Avon and Somerset|South West|Miscellaneous cri...|         1597|\n",
      "|      31/03/2003|Avon and Somerset|South West|Non-domestic burg...|        15621|\n",
      "|      31/03/2003|Avon and Somerset|South West|Public order offe...|         4025|\n",
      "|      31/03/2003|Avon and Somerset|South West|             Robbery|         3504|\n",
      "|      31/03/2003|Avon and Somerset|South West|     Sexual offences|         1737|\n",
      "|      31/03/2003|Avon and Somerset|South West|         Shoplifting|         8410|\n",
      "|      31/03/2003|Avon and Somerset|South West|Theft from the pe...|         2554|\n",
      "|      31/03/2003|Avon and Somerset|South West|    Vehicle offences|        41781|\n",
      "|      31/03/2003|Avon and Somerset|South West|Violence with injury|         8565|\n",
      "|      31/03/2003|Avon and Somerset|South West|Violence without ...|         7117|\n",
      "|      31/03/2003|     Bedfordshire|      East|All other theft o...|         8797|\n",
      "|      31/03/2003|     Bedfordshire|      East|Criminal damage a...|        10006|\n",
      "|      31/03/2003|     Bedfordshire|      East|   Domestic burglary|         3784|\n",
      "|      31/03/2003|     Bedfordshire|      East|       Drug offences|         1069|\n",
      "+----------------+-----------------+----------+--------------------+-------------+\n",
      "only showing top 20 rows\n",
      "\n"
     ]
    }
   ],
   "source": [
    "SQLTransformer(statement=\"SELECT * FROM __THIS__ WHERE offence_count > 1000\").transform(dataframe).show()\n",
    "\n"
   ]
  }
 ],
 "metadata": {
  "kernelspec": {
   "display_name": "Python 3",
   "language": "python",
   "name": "python3"
  },
  "language_info": {
   "codemirror_mode": {
    "name": "ipython",
    "version": 3
   },
   "file_extension": ".py",
   "mimetype": "text/x-python",
   "name": "python",
   "nbconvert_exporter": "python",
   "pygments_lexer": "ipython3",
   "version": "3.6.9"
  }
 },
 "nbformat": 4,
 "nbformat_minor": 5
}
