{
 "cells": [
  {
   "cell_type": "code",
   "execution_count": 1,
   "id": "a38f9cd0",
   "metadata": {},
   "outputs": [],
   "source": [
    "from pyspark.sql import SparkSession\n",
    "from pyspark.sql import functions as FS\n",
    "from pyspark.sql import Window as WN\n",
    "from pyspark.sql import types as TYPE"
   ]
  },
  {
   "cell_type": "code",
   "execution_count": 2,
   "id": "5c1560fc",
   "metadata": {},
   "outputs": [],
   "source": [
    "spark = SparkSession.builder.master(\"local[2]\").appName(\"READ Operation\").getOrCreate()\n",
    "# spark = SparkSession.builder.master(\"local[2]\").appName(\"DataSet\").getOrCreate()"
   ]
  },
  {
   "cell_type": "code",
   "execution_count": 3,
   "id": "46a86b6c",
   "metadata": {},
   "outputs": [
    {
     "data": {
      "text/html": [
       "\n",
       "            <div>\n",
       "                <p><b>SparkSession - in-memory</b></p>\n",
       "                \n",
       "        <div>\n",
       "            <p><b>SparkContext</b></p>\n",
       "\n",
       "            <p><a href=\"http://10.0.0.55:4040\">Spark UI</a></p>\n",
       "\n",
       "            <dl>\n",
       "              <dt>Version</dt>\n",
       "                <dd><code>v3.5.0</code></dd>\n",
       "              <dt>Master</dt>\n",
       "                <dd><code>local[2]</code></dd>\n",
       "              <dt>AppName</dt>\n",
       "                <dd><code>READ Operation</code></dd>\n",
       "            </dl>\n",
       "        </div>\n",
       "        \n",
       "            </div>\n",
       "        "
      ],
      "text/plain": [
       "<pyspark.sql.session.SparkSession at 0x1392f3f8fd0>"
      ]
     },
     "execution_count": 3,
     "metadata": {},
     "output_type": "execute_result"
    }
   ],
   "source": [
    "spark"
   ]
  },
  {
   "cell_type": "code",
   "execution_count": 4,
   "id": "415a2fb4",
   "metadata": {},
   "outputs": [],
   "source": [
    "filepath = \"E:\\workforce\\spark\\data\\hudsonu-product\\Customer.csv\""
   ]
  },
  {
   "cell_type": "code",
   "execution_count": 41,
   "id": "0260e5eb",
   "metadata": {},
   "outputs": [
    {
     "name": "stdout",
     "output_type": "stream",
     "text": [
      "+-------+-------------+----------+--------+------+--------------+----------+---------+\n",
      "|   CPID|ChargingEvent|   EndDate| EndTime|Energy|PluginDuration| StartDate|StartTime|\n",
      "+-------+-------------+----------+--------+------+--------------+----------+---------+\n",
      "|AN22594|      2344473|03-06-2017|13:03:21|  11.5|   20.88388889|02-06-2017| 16:10:19|\n",
      "|AN10218|     12184545|21-03-2017|20:18:29|  12.1|   22.58111111|20-03-2017| 21:43:37|\n",
      "|AN02137|     11984777|08-03-2017|18:10:15|   7.8|   31.81611111|07-03-2017| 10:21:17|\n",
      "|AN07263|     15554472|29-10-2017|17:08:00|   5.3|   3.633333333|29-10-2017| 13:30:00|\n",
      "|AN15092|     15329256|15-10-2017|05:26:00|  19.2|   11.81666667|14-10-2017| 17:37:00|\n",
      "+-------+-------------+----------+--------+------+--------------+----------+---------+\n",
      "\n"
     ]
    }
   ],
   "source": [
    "data = [\n",
    "{\"ChargingEvent\" : 15554472,\"CPID\" : \"AN07263\",\n",
    "\"StartDate\":\"2017-10-29\",\"StartTime\":\"13:30:00\",\n",
    "\"EndDate\":\"2017-10-29\",\"EndTime\": \"17:08:00\",\n",
    "\"Energy\":5.3,\"PluginDuration\":3.6333333333333333\n",
    "},\n",
    "    {\"ChargingEvent\" : 15329256,\"CPID\" : \"AN15092\",\n",
    "\"StartDate\":\"2017-10-14\",\"StartTime\":\"17:37:00\",\n",
    "\"EndDate\":\"2017-10-15\",\"EndTime\": \"05:26:00\",\n",
    "\"Energy\":19.2,\"PluginDuration\":11.816666666666666\n",
    "},\n",
    "    {\"ChargingEvent\" : 2344473,\"CPID\" : \"AN22594\",\n",
    "\"StartDate\":\"2017-06-02\",\"StartTime\":\"16:10:19\",\n",
    "\"EndDate\":\"2017-06-03\",\"EndTime\": \"13:03:21\",\n",
    "\"Energy\":11.5,\"PluginDuration\":20.88388888888889\n",
    "},\n",
    "    {\"ChargingEvent\" : 12184545,\"CPID\" : \"AN10218\",\n",
    "\"StartDate\":\"2017-03-20\",\"StartTime\":\"21:43:37\",\n",
    "\"EndDate\":\"2017-03-21\",\"EndTime\": \"20:18:29\",\n",
    "\"Energy\":12.1,\"PluginDuration\":22.58111111111111\n",
    "},\n",
    "    {\"ChargingEvent\" : 11984777,\"CPID\" : \"AN02137\",\n",
    "\"StartDate\":\"2017-03-07\",\"StartTime\":\"10:21:17\",\n",
    "\"EndDate\":\"2017-03-08\",\"EndTime\": \"18:10:15\",\n",
    "\"Energy\":7.8,\"PluginDuration\":31.816111111111113\n",
    "}\n",
    "]\n",
    "\n",
    "\n",
    "data = [\n",
    "    (\"AN22594\", 2344473, \"03-06-2017\", \"13:03:21\", 11.5, 20.88388889, \"02-06-2017\", \"16:10:19\"),\n",
    "    (\"AN10218\", 12184545, \"21-03-2017\", \"20:18:29\", 12.1, 22.58111111, \"20-03-2017\", \"21:43:37\"),\n",
    "    (\"AN02137\", 11984777, \"08-03-2017\", \"18:10:15\", 7.8, 31.81611111, \"07-03-2017\", \"10:21:17\"),\n",
    "    (\"AN07263\", 15554472, \"29-10-2017\", \"17:08:00\", 5.3, 3.633333333, \"29-10-2017\", \"13:30:00\"),\n",
    "    (\"AN15092\", 15329256, \"15-10-2017\", \"05:26:00\", 19.2, 11.81666667, \"14-10-2017\", \"17:37:00\")\n",
    "]\n",
    "\n",
    "columns = [\"CPID\", \"ChargingEvent\", \"EndDate\", \"EndTime\", \"Energy\", \"PluginDuration\", \"StartDate\", \"StartTime\"]\n",
    "\n",
    "df = spark.createDataFrame(data, columns)\n",
    "df.show()"
   ]
  },
  {
   "cell_type": "code",
   "execution_count": 66,
   "id": "fe75b96c",
   "metadata": {},
   "outputs": [],
   "source": [
    "df = df.withColumn(\"PluginDuration\",FS.round(FS.col(\"PluginDuration\"),2))"
   ]
  },
  {
   "cell_type": "code",
   "execution_count": 67,
   "id": "7db1a932",
   "metadata": {},
   "outputs": [
    {
     "name": "stdout",
     "output_type": "stream",
     "text": [
      "+-------+-------------+----------+--------+------+--------------+----------+---------+------------+\n",
      "|   CPID|ChargingEvent|   EndDate| EndTime|Energy|PluginDuration| StartDate|StartTime|diff_in_hour|\n",
      "+-------+-------------+----------+--------+------+--------------+----------+---------+------------+\n",
      "|AN22594|      2344473|03-06-2017|13:03:21|  11.5|         20.88|02-06-2017| 16:10:19|       20.88|\n",
      "|AN10218|     12184545|21-03-2017|20:18:29|  12.1|         22.58|20-03-2017| 21:43:37|       22.58|\n",
      "|AN02137|     11984777|08-03-2017|18:10:15|   7.8|         31.82|07-03-2017| 10:21:17|       31.82|\n",
      "|AN07263|     15554472|29-10-2017|17:08:00|   5.3|          3.63|29-10-2017| 13:30:00|        3.63|\n",
      "|AN15092|     15329256|15-10-2017|05:26:00|  19.2|         11.82|14-10-2017| 17:37:00|       11.82|\n",
      "+-------+-------------+----------+--------+------+--------------+----------+---------+------------+\n",
      "\n"
     ]
    }
   ],
   "source": [
    "df.show()"
   ]
  },
  {
   "cell_type": "code",
   "execution_count": 69,
   "id": "d78fa17b",
   "metadata": {},
   "outputs": [
    {
     "data": {
      "text/plain": [
       "[{'max_duration': 31.82, 'avg_duration': 18.145999999999997}]"
      ]
     },
     "execution_count": 69,
     "metadata": {},
     "output_type": "execute_result"
    }
   ],
   "source": [
    "max_duration = df.selectExpr(\"max(PluginDuration)\").collect()[0][0]\n",
    "avg_duration = df.selectExpr(\"avg(PluginDuration)\").collect()[0][0]\n",
    "data1 = [{\"max_duration\":max_duration,\"avg_duration\":avg_duration}]\n",
    "data1"
   ]
  },
  {
   "cell_type": "code",
   "execution_count": 70,
   "id": "d29f850d",
   "metadata": {},
   "outputs": [
    {
     "name": "stdout",
     "output_type": "stream",
     "text": [
      "+------------------+------------+\n",
      "|      avg_duration|max_duration|\n",
      "+------------------+------------+\n",
      "|18.145999999999997|       31.82|\n",
      "+------------------+------------+\n",
      "\n"
     ]
    }
   ],
   "source": [
    "new_df = spark.createDataFrame(data1)\n",
    "\n",
    "new_df.show()"
   ]
  },
  {
   "cell_type": "code",
   "execution_count": 73,
   "id": "5dc0bf4d",
   "metadata": {},
   "outputs": [],
   "source": [
    "resp= df.join(new_df,df.PluginDuration == new_df.max_duration).\\\n",
    "select(FS.col(\"CPID\").alias(\"chargepoint_id\"),\"max_duration\",\"avg_duration\")"
   ]
  },
  {
   "cell_type": "code",
   "execution_count": 78,
   "id": "9aa73305",
   "metadata": {},
   "outputs": [],
   "source": [
    "resp.write.parquet(\"E:/workforce/spark/data/hudsonu-product/t1/analysis\")\n"
   ]
  },
  {
   "cell_type": "code",
   "execution_count": 53,
   "id": "a88aeb90",
   "metadata": {},
   "outputs": [
    {
     "name": "stdout",
     "output_type": "stream",
     "text": [
      "+-------+------------+------------+\n",
      "|   CPID|max_duration|avg_duration|\n",
      "+-------+------------+------------+\n",
      "|AN10218|       22.58|       22.58|\n",
      "|AN22594|       20.88|       20.88|\n",
      "|AN02137|       31.82|       31.82|\n",
      "|AN15092|       11.82|       11.82|\n",
      "|AN07263|        3.63|        3.63|\n",
      "+-------+------------+------------+\n",
      "\n"
     ]
    }
   ],
   "source": [
    "df.groupBy(\"CPID\").agg(FS.max(\"PluginDuration\").alias(\"max_duration\"),FS.avg(\"PluginDuration\").alias(\"avg_duration\")).show()"
   ]
  },
  {
   "cell_type": "code",
   "execution_count": null,
   "id": "b6aed8d0",
   "metadata": {},
   "outputs": [],
   "source": []
  },
  {
   "cell_type": "code",
   "execution_count": null,
   "id": "2cd1fe17",
   "metadata": {},
   "outputs": [],
   "source": []
  },
  {
   "cell_type": "code",
   "execution_count": null,
   "id": "7477c150",
   "metadata": {},
   "outputs": [],
   "source": []
  },
  {
   "cell_type": "code",
   "execution_count": null,
   "id": "8a700371",
   "metadata": {},
   "outputs": [],
   "source": []
  },
  {
   "cell_type": "code",
   "execution_count": null,
   "id": "65f0e028",
   "metadata": {},
   "outputs": [],
   "source": []
  },
  {
   "cell_type": "code",
   "execution_count": null,
   "id": "ff294e66",
   "metadata": {},
   "outputs": [],
   "source": []
  },
  {
   "cell_type": "code",
   "execution_count": 25,
   "id": "69597ca9",
   "metadata": {},
   "outputs": [
    {
     "name": "stdout",
     "output_type": "stream",
     "text": [
      "+-------+-------------+----------+--------+------+--------------+----------+---------+-------------------+-------------------+\n",
      "|   CPID|ChargingEvent|   EndDate| EndTime|Energy|PluginDuration| StartDate|StartTime|     start_datatime|       end_datatime|\n",
      "+-------+-------------+----------+--------+------+--------------+----------+---------+-------------------+-------------------+\n",
      "|AN22594|      2344473|03-06-2017|13:03:21|  11.5|   20.88388889|02-06-2017| 16:10:19|2017-06-02 16:10:19|2017-06-03 13:03:21|\n",
      "|AN10218|     12184545|21-03-2017|20:18:29|  12.1|   22.58111111|20-03-2017| 21:43:37|2017-03-20 21:43:37|2017-03-21 20:18:29|\n",
      "|AN02137|     11984777|08-03-2017|18:10:15|   7.8|   31.81611111|07-03-2017| 10:21:17|2017-03-07 10:21:17|2017-03-08 18:10:15|\n",
      "|AN07263|     15554472|29-10-2017|17:08:00|   5.3|   3.633333333|29-10-2017| 13:30:00|2017-10-29 13:30:00|2017-10-29 17:08:00|\n",
      "|AN15092|     15329256|15-10-2017|05:26:00|  19.2|   11.81666667|14-10-2017| 17:37:00|2017-10-14 17:37:00|2017-10-15 05:26:00|\n",
      "+-------+-------------+----------+--------+------+--------------+----------+---------+-------------------+-------------------+\n",
      "\n"
     ]
    }
   ],
   "source": [
    "transformed_df = df.withColumn(\"start_datatime\", FS.to_timestamp(FS.expr(\"CONCAT(StartDate,' ',StartTime)\"),'dd-MM-yyyy HH:mm:ss')).\\\n",
    "withColumn(\"end_datatime\", FS.to_timestamp(FS.expr(\"CONCAT(EndDate,' ',EndTime)\"),'dd-MM-yyyy HH:mm:ss')).\\\n",
    "select(\"CPID\",FS.col(\"start_datatime\",FS.col(\"end_datatime\")))\n",
    "transformed_df.drop(\"ChargingEvent\",\"EndDate\",)\n",
    "\n"
   ]
  },
  {
   "cell_type": "code",
   "execution_count": 32,
   "id": "344e0b4b",
   "metadata": {},
   "outputs": [],
   "source": [
    "filterred_data = transformed_df.withColumn('DiffInSeconds',FS.col(\"end_datatime\").cast(\"long\") - FS.col('start_datatime').cast(\"long\")).\\\n",
    "select(\"CPID\",\"start_datatime\",\"end_datatime\",FS.col(\"DiffInSeconds\"))"
   ]
  },
  {
   "cell_type": "code",
   "execution_count": 35,
   "id": "b3116e68",
   "metadata": {},
   "outputs": [],
   "source": [
    "fm = filterred_data.withColumn(\"diff_in_hour\",FS.col(\"DiffInSeconds\")/3600)"
   ]
  },
  {
   "cell_type": "code",
   "execution_count": 36,
   "id": "5370fa4e",
   "metadata": {},
   "outputs": [
    {
     "name": "stdout",
     "output_type": "stream",
     "text": [
      "+-------+-------------------+-------------------+-------------+------------------+\n",
      "|   CPID|     start_datatime|       end_datatime|DiffInSeconds|      diff_in_hour|\n",
      "+-------+-------------------+-------------------+-------------+------------------+\n",
      "|AN22594|2017-06-02 16:10:19|2017-06-03 13:03:21|        75182| 20.88388888888889|\n",
      "|AN10218|2017-03-20 21:43:37|2017-03-21 20:18:29|        81292| 22.58111111111111|\n",
      "|AN02137|2017-03-07 10:21:17|2017-03-08 18:10:15|       114538|31.816111111111113|\n",
      "|AN07263|2017-10-29 13:30:00|2017-10-29 17:08:00|        13080|3.6333333333333333|\n",
      "|AN15092|2017-10-14 17:37:00|2017-10-15 05:26:00|        42540|11.816666666666666|\n",
      "+-------+-------------------+-------------------+-------------+------------------+\n",
      "\n"
     ]
    }
   ],
   "source": [
    "fm.show()"
   ]
  },
  {
   "cell_type": "code",
   "execution_count": 39,
   "id": "1c47373a",
   "metadata": {},
   "outputs": [
    {
     "name": "stdout",
     "output_type": "stream",
     "text": [
      "+-------+------------------+------------------+\n",
      "|   CPID|      max_duration|      avg_duration|\n",
      "+-------+------------------+------------------+\n",
      "|AN10218| 22.58111111111111| 22.58111111111111|\n",
      "|AN22594| 20.88388888888889| 20.88388888888889|\n",
      "|AN02137|31.816111111111113|31.816111111111113|\n",
      "|AN15092|11.816666666666666|11.816666666666666|\n",
      "|AN07263|3.6333333333333333|3.6333333333333333|\n",
      "+-------+------------------+------------------+\n",
      "\n"
     ]
    }
   ],
   "source": [
    "fm.groupBy(\"CPID\").agg(FS.max(\"diff_in_hour\").alias(\"max_duration\"),FS.avg(\"diff_in_hour\").alias(\"avg_duration\")).show()"
   ]
  },
  {
   "cell_type": "code",
   "execution_count": null,
   "id": "aa40a8ff",
   "metadata": {},
   "outputs": [],
   "source": []
  }
 ],
 "metadata": {
  "kernelspec": {
   "display_name": "Python 3 (ipykernel)",
   "language": "python",
   "name": "python3"
  },
  "language_info": {
   "codemirror_mode": {
    "name": "ipython",
    "version": 3
   },
   "file_extension": ".py",
   "mimetype": "text/x-python",
   "name": "python",
   "nbconvert_exporter": "python",
   "pygments_lexer": "ipython3",
   "version": "3.10.4"
  }
 },
 "nbformat": 4,
 "nbformat_minor": 5
}
