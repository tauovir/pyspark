{
 "cells": [
  {
   "cell_type": "code",
   "execution_count": 11,
   "id": "32d95597",
   "metadata": {},
   "outputs": [],
   "source": [
    "from pyspark.sql import SparkSession\n",
    "from pyspark.sql import functions as FS\n",
    "from pyspark.sql import Window as WN"
   ]
  },
  {
   "cell_type": "code",
   "execution_count": 3,
   "id": "db13f3c8",
   "metadata": {},
   "outputs": [],
   "source": [
    "employee_date = [\n",
    "(1,'JOE',85000,1),\n",
    "(2,'Henry',80000,2),\n",
    "(3,'Sam',60000,2),\n",
    "(4,'Max',90000,1),\n",
    "(5,'Janet',69000,1),\n",
    "(6,'Randy',85000,1),\n",
    "(7,'Will',70000,1)\n",
    "]\n",
    "emp_schema = [ 'ID', 'NAME', 'SALARY','DEPARTMENTID']\n",
    "dept_data = [\n",
    "(1,'IT'),\n",
    "(2,'Sales')\n",
    "]\n",
    "dept_schema = [ 'ID', 'NAME']"
   ]
  },
  {
   "cell_type": "code",
   "execution_count": 4,
   "id": "f7aabe0a",
   "metadata": {},
   "outputs": [],
   "source": [
    "spark = SparkSession.builder.master(\"local[2]\").appName(\"MAX_SAL_EMP\").getOrCreate()"
   ]
  },
  {
   "cell_type": "code",
   "execution_count": 5,
   "id": "4dfb69b2",
   "metadata": {},
   "outputs": [
    {
     "name": "stdout",
     "output_type": "stream",
     "text": [
      "+---+-----+------+------------+\n",
      "| ID| NAME|SALARY|DEPARTMENTID|\n",
      "+---+-----+------+------------+\n",
      "|  1|  JOE| 85000|           1|\n",
      "|  2|Henry| 80000|           2|\n",
      "|  3|  Sam| 60000|           2|\n",
      "|  4|  Max| 90000|           1|\n",
      "|  5|Janet| 69000|           1|\n",
      "|  6|Randy| 85000|           1|\n",
      "|  7| Will| 70000|           1|\n",
      "+---+-----+------+------------+\n",
      "\n"
     ]
    }
   ],
   "source": [
    "emp_df = spark.createDataFrame(employee_date,schema = emp_schema)\n",
    "emp_df.show()"
   ]
  },
  {
   "cell_type": "code",
   "execution_count": 6,
   "id": "e38a8052",
   "metadata": {},
   "outputs": [
    {
     "name": "stdout",
     "output_type": "stream",
     "text": [
      "+---+-----+\n",
      "| ID| NAME|\n",
      "+---+-----+\n",
      "|  1|   IT|\n",
      "|  2|Sales|\n",
      "+---+-----+\n",
      "\n"
     ]
    }
   ],
   "source": [
    "dept_df = spark.createDataFrame(dept_data,schema = dept_schema)\n",
    "dept_df.show()"
   ]
  },
  {
   "cell_type": "code",
   "execution_count": 32,
   "id": "cc8fd4bb",
   "metadata": {},
   "outputs": [
    {
     "name": "stdout",
     "output_type": "stream",
     "text": [
      "+----------+-----+------+\n",
      "|DEPARTMENT| NAME|SALARY|\n",
      "+----------+-----+------+\n",
      "|        IT|  Max| 90000|\n",
      "|        IT|  JOE| 85000|\n",
      "|        IT|Randy| 85000|\n",
      "|     Sales|Henry| 80000|\n",
      "|     Sales|  Sam| 60000|\n",
      "+----------+-----+------+\n",
      "\n"
     ]
    }
   ],
   "source": [
    "result = emp_df.join(dept_df, emp_df.DEPARTMENTID == dept_df.ID,'inner').\\\n",
    "withColumn(\"RNK\",FS.dense_rank().over(WN.partitionBy('DEPARTMENTID').orderBy(FS.col('SALARY').desc()))).\\\n",
    "withColumn(\"DEPARTMENT\",dept_df.NAME).select(\"DEPARTMENT\",emp_df.NAME,\"SALARY\").filter(FS.col('RNK') < 3)\n",
    "\n",
    "result.show()"
   ]
  }
 ],
 "metadata": {
  "kernelspec": {
   "display_name": "Python 3 (ipykernel)",
   "language": "python",
   "name": "python3"
  },
  "language_info": {
   "codemirror_mode": {
    "name": "ipython",
    "version": 3
   },
   "file_extension": ".py",
   "mimetype": "text/x-python",
   "name": "python",
   "nbconvert_exporter": "python",
   "pygments_lexer": "ipython3",
   "version": "3.10.4"
  }
 },
 "nbformat": 4,
 "nbformat_minor": 5
}
