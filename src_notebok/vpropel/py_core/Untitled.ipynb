{
 "cells": [
  {
   "cell_type": "code",
   "execution_count": 1,
   "id": "86a5b86d",
   "metadata": {},
   "outputs": [],
   "source": [
    "data = [\n",
    "    {\"fname\": \"Rahul\", \"lname\": \"Kumar\", \"gender\": \"M\", \"salary\": 10000, \"bonus\": 1000, \"deduction\": 500},\n",
    "    {\"fname\": \"Taukir\", \"lname\": \"Khan\", \"gender\": \"M\", \"salary\": 12000, \"bonus\": 2000},\n",
    "    {\"fname\": \"Pooja\", \"lname\": \"Sharma\", \"gender\": \"F\", \"salary\": 15000, \"bonus\": 3000, \"deduction\": 2000}\n",
    "]"
   ]
  },
  {
   "cell_type": "code",
   "execution_count": 24,
   "id": "e0f95258",
   "metadata": {},
   "outputs": [
    {
     "name": "stdout",
     "output_type": "stream",
     "text": [
      "[12, 15, 18]\n"
     ]
    }
   ],
   "source": [
    "import numpy as np\n",
    "class Matrix:\n",
    "\n",
    "    def __init__(self):\n",
    "        self.mat = [\n",
    "            [1, 2, 3],\n",
    "            [4, 5, 6],\n",
    "            [7, 8, 9]\n",
    "        ]\n",
    "\n",
    "    def flatten(self):\n",
    "        # output: [1, 2, 3, 4, 5, 6, 7, 8, 9]\n",
    "        resp = [ele for row in self.mat for ele in row]\n",
    "        return resp\n",
    "\n",
    "    def row_addtion(self):\n",
    "        # list comprehension\n",
    "        # output:[6, 15, 24]\n",
    "        resp = [sum(row) for row in self.mat]\n",
    "        return resp\n",
    "\n",
    "    def col_addtion(self):\n",
    "        # output: [12, 15, 18]\n",
    "        new_mat = []\n",
    "        col_length =  len(self.mat[0])\n",
    "        row_length = len(self.mat)\n",
    "        for row_ind in range(row_length):\n",
    "            temp = []\n",
    "            for col_ind in range(col_length):\n",
    "                temp.append(self.mat[col_ind][row_ind])\n",
    "            new_mat.append(temp)\n",
    "        resp = [sum(row) for row in new_mat]\n",
    "        return resp\n",
    "\n",
    "\n",
    "    def row_reverse(self):\n",
    "        # Result: [[3, 2, 1], [6, 5, 4], [9, 8, 7]]\n",
    "        resp = [row[::-1] for row in self.mat]\n",
    "        return resp\n",
    "\n"
   ]
  },
  {
   "cell_type": "code",
   "execution_count": 42,
   "id": "5b984927",
   "metadata": {},
   "outputs": [
    {
     "data": {
      "text/plain": [
       "{'first_name': 'MOHIT',\n",
       " 'last_name': 'KUMAR',\n",
       " 'address': [{'city': 'Delhi', 'country': 'India'},\n",
       "  [{'city': 'Mumbai', 'country': 'India'}]]}"
      ]
     },
     "execution_count": 42,
     "metadata": {},
     "output_type": "execute_result"
    }
   ],
   "source": [
    "data = [\n",
    "            {\"id\": \"101\", \"name\": \"Mohit Kumar\", \"city\": \"Delhi\", \"country\": \"India\"},\n",
    "            {\"id\": \"101\", \"name\": \"Mohit Kumar\", \"city\": \"Mumbai\", \"country\": \"India\"},\n",
    "            {\"id\": \"103\", \"name\": \"Rahul Sharma\", \"city\": \"Pune\", \"country\": \"India\"}\n",
    "        ]\n",
    "\n",
    "def data_format():\n",
    "    \"\"\"\n",
    "    Format list of dictionary od data into below format\n",
    "    output: {\"101\": {\"first_name\": \"MOHIT\", \"last_name\": \"KUMAR\", \"address\": [{\"city\": \"Delhi\", \"country\": \"India\"}]}, \"103\": {\"first_name\": \"RAHUL\", \"last_name\": \"SHARMA\", \"address\": [{\"city\": \"Pune\", \"country\": \"India\"}, {\"city\": \"Pune\", \"country\": \"India\"}]}}\n",
    "    \"\"\"\n",
    "    records = {}\n",
    "    for row in data:\n",
    "        if row['id'] in records:\n",
    "            row_dict = records[row['id']]\n",
    "            address  = [{\"city\" :row['city'],\"country\" :row['country']}]\n",
    "            row_dict['address'].append(address)\n",
    "            \n",
    "        else:\n",
    "            temp_dict = {\n",
    "                \"first_name\" : row['name'].split(' ')[0].upper(),\n",
    "                \"last_name\" : row['name'].split(' ')[-1].upper(),\n",
    "                \"address\" : [{\"city\" :row['city'],\"country\" :row['country']}]\n",
    "            }\n",
    "            \n",
    "        records[row['id']] = temp_dict\n",
    "    return records\n",
    "    \n",
    "res  = data_format()\n",
    "res['101']"
   ]
  }
 ],
 "metadata": {
  "kernelspec": {
   "display_name": "Python 3 (ipykernel)",
   "language": "python",
   "name": "python3"
  },
  "language_info": {
   "codemirror_mode": {
    "name": "ipython",
    "version": 3
   },
   "file_extension": ".py",
   "mimetype": "text/x-python",
   "name": "python",
   "nbconvert_exporter": "python",
   "pygments_lexer": "ipython3",
   "version": "3.10.4"
  }
 },
 "nbformat": 4,
 "nbformat_minor": 5
}
