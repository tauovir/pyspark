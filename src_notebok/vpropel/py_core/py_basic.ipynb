{
 "cells": [
  {
   "cell_type": "markdown",
   "id": "029e1e04",
   "metadata": {},
   "source": [
    "**01: extract value between from the given string**<br>\n",
    "datatype_string = \"number(12, 8)\"<br>\n"
   ]
  },
  {
   "cell_type": "code",
   "execution_count": 11,
   "id": "3c8bd7ea",
   "metadata": {},
   "outputs": [
    {
     "data": {
      "text/plain": [
       "(12, 8)"
      ]
     },
     "execution_count": 11,
     "metadata": {},
     "output_type": "execute_result"
    }
   ],
   "source": [
    "def get_value(datatype_string):\n",
    "    split_str = eval(datatype_string.split(\"number\")[-1])\n",
    "    return split_str\n",
    "    \n",
    "get_value(datatype_string = \"number(12, 8)\")"
   ]
  },
  {
   "cell_type": "markdown",
   "id": "0c921a2c",
   "metadata": {},
   "source": [
    "**02: What will be the output of from below code**"
   ]
  },
  {
   "cell_type": "code",
   "execution_count": 12,
   "id": "45610ea5",
   "metadata": {},
   "outputs": [
    {
     "data": {
      "text/plain": [
       "25"
      ]
     },
     "execution_count": 12,
     "metadata": {},
     "output_type": "execute_result"
    }
   ],
   "source": [
    "def output_02():\n",
    "    a = 0\n",
    "    for b in range(0,10,2):\n",
    "        a += b+1\n",
    "    return a\n",
    "\n",
    "output_02()"
   ]
  },
  {
   "cell_type": "markdown",
   "id": "3d05fa9a",
   "metadata": {},
   "source": [
    "**03:Combine the list l1 and l2,  and find the element in reverse order**<br>\n",
    "**Output:** ['blue', 'green', 'red', 'banna', 'orange', 'mango']"
   ]
  },
  {
   "cell_type": "code",
   "execution_count": 16,
   "id": "54b8a3a4",
   "metadata": {},
   "outputs": [],
   "source": [
    "def combined_ele_reverse():\n",
    "    \"\"\"\n",
    "    Combine the list l1 and l2,  and find the element in reverse order\n",
    "    Output: ['blue', 'green', 'red', 'banna', 'orange', 'mango']\n",
    "    \"\"\"\n",
    "    l1 = ['mango', 'orange', 'banana']\n",
    "    l2 = ['red', 'green', 'blue']\n",
    "    res = l1 + l2\n",
    "    return res[::-1]\n"
   ]
  },
  {
   "cell_type": "markdown",
   "id": "5f7860e0",
   "metadata": {},
   "source": [
    "**04: what will be tha output**<br>\n"
   ]
  },
  {
   "cell_type": "code",
   "execution_count": 19,
   "id": "3b25ce06",
   "metadata": {},
   "outputs": [
    {
     "data": {
      "text/plain": [
       "[1, 2, 3, 4, [10, 20]]"
      ]
     },
     "execution_count": 19,
     "metadata": {},
     "output_type": "execute_result"
    }
   ],
   "source": [
    "l1 = [1,2,3,4]\n",
    "l1.append([10,20])\n",
    "l1"
   ]
  },
  {
   "cell_type": "markdown",
   "id": "333a09a0",
   "metadata": {},
   "source": [
    "**05: put all zero at end of the list**"
   ]
  },
  {
   "cell_type": "code",
   "execution_count": 26,
   "id": "4c6969ed",
   "metadata": {},
   "outputs": [
    {
     "name": "stdout",
     "output_type": "stream",
     "text": [
      "[1, 2, 3, 5, 4, 0, 0, 0]\n"
     ]
    }
   ],
   "source": [
    "def arrange_zero():\n",
    "    l1 = [1,0,2,3,0,5,0,4]\n",
    "    output = [1,2,3,5,4,0,0,0]\n",
    "    for ele in l1:\n",
    "        if ele ==0:\n",
    "            l1.remove(ele)\n",
    "            l1.append(ele)\n",
    "    print(l1)\n",
    "            \n",
    "            \n",
    "arrange_zero()\n"
   ]
  }
 ],
 "metadata": {
  "kernelspec": {
   "display_name": "Python 3 (ipykernel)",
   "language": "python",
   "name": "python3"
  },
  "language_info": {
   "codemirror_mode": {
    "name": "ipython",
    "version": 3
   },
   "file_extension": ".py",
   "mimetype": "text/x-python",
   "name": "python",
   "nbconvert_exporter": "python",
   "pygments_lexer": "ipython3",
   "version": "3.10.4"
  }
 },
 "nbformat": 4,
 "nbformat_minor": 5
}
