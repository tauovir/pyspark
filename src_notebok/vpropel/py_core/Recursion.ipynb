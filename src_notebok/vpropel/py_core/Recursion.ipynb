{
 "cells": [
  {
   "cell_type": "markdown",
   "id": "76ed963d",
   "metadata": {},
   "source": [
    "## Factorial"
   ]
  },
  {
   "cell_type": "code",
   "execution_count": 1,
   "id": "3cf6430a",
   "metadata": {},
   "outputs": [],
   "source": [
    "def fact(n):\n",
    "    if n==0:\n",
    "        return 1\n",
    "    return n * fact(n-1)"
   ]
  },
  {
   "cell_type": "code",
   "execution_count": 3,
   "id": "f79ecfd9",
   "metadata": {},
   "outputs": [
    {
     "name": "stdout",
     "output_type": "stream",
     "text": [
      "Factorial: 120\n"
     ]
    }
   ],
   "source": [
    "print(f'Factorial:',fact(5))"
   ]
  },
  {
   "cell_type": "markdown",
   "id": "62c123df",
   "metadata": {},
   "source": [
    "## Fibonacci Series"
   ]
  },
  {
   "cell_type": "code",
   "execution_count": 7,
   "id": "362d0715",
   "metadata": {},
   "outputs": [
    {
     "data": {
      "text/plain": [
       "[1, 2, 3, 4, 5, 6, 7, 8, 9, 10]"
      ]
     },
     "execution_count": 7,
     "metadata": {},
     "output_type": "execute_result"
    }
   ],
   "source": [
    "def febi(n):\n",
    "    if n == 0:\n",
    "        return 0\n",
    "    if n == 1:\n",
    "        return 1\n",
    "    return febi(n-1) + febi(n-2)\n",
    "\n",
    "n = 10\n",
    "febi_list = []\n",
    "for x in range(1,n+1):\n",
    "    febi_list.append(x)\n",
    "\n",
    "febi_list"
   ]
  },
  {
   "cell_type": "markdown",
   "id": "63a92501",
   "metadata": {},
   "source": [
    "## Generator"
   ]
  },
  {
   "cell_type": "code",
   "execution_count": 10,
   "id": "e81191cd",
   "metadata": {},
   "outputs": [
    {
     "data": {
      "text/plain": [
       "[0, 1, 1, 2, 3, 5, 8]"
      ]
     },
     "execution_count": 10,
     "metadata": {},
     "output_type": "execute_result"
    }
   ],
   "source": [
    "def gen(n):\n",
    "    p,q = 0,1\n",
    "    while p < n:\n",
    "        yield p\n",
    "        p,q = q,p+q\n",
    "\n",
    "febi_list = []\n",
    "for x in gen(10):\n",
    "    febi_list.append(x)\n",
    "febi_list"
   ]
  },
  {
   "cell_type": "code",
   "execution_count": 11,
   "id": "10d01083",
   "metadata": {},
   "outputs": [],
   "source": [
    "## Pascal Traingle"
   ]
  },
  {
   "cell_type": "code",
   "execution_count": 20,
   "id": "1e85c30b",
   "metadata": {},
   "outputs": [],
   "source": [
    "def pascal2(nth_num):\n",
    "    \n",
    "    if nth_num == 0:\n",
    "        return []\n",
    "    \n",
    "    p = [[1]]\n",
    "    \n",
    "    for i in range(1,nth_num):\n",
    "        row1 = [1]\n",
    "        for j in range(1,i):\n",
    "            new = p[i-1][j-1] + p[i-1][j]\n",
    "            row1.append(new)\n",
    "        row1.append[1]\n",
    "        p.append(row)\n",
    "\n",
    "# res = pascal2(10)\n",
    "# resp\n",
    "    "
   ]
  }
 ],
 "metadata": {
  "kernelspec": {
   "display_name": "Python 3 (ipykernel)",
   "language": "python",
   "name": "python3"
  },
  "language_info": {
   "codemirror_mode": {
    "name": "ipython",
    "version": 3
   },
   "file_extension": ".py",
   "mimetype": "text/x-python",
   "name": "python",
   "nbconvert_exporter": "python",
   "pygments_lexer": "ipython3",
   "version": "3.10.4"
  }
 },
 "nbformat": 4,
 "nbformat_minor": 5
}
