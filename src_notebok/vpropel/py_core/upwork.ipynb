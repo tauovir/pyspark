{
 "cells": [
  {
   "cell_type": "code",
   "execution_count": 2,
   "id": "3465ab1e",
   "metadata": {},
   "outputs": [],
   "source": [
    "# - Let us say the 'user_pairs' given are: [[\"A\", \"B\"], [\"A\", \"C\"],[\"B\", \"D\"], [\"C\", \"E\"]]\n",
    "# →This data represents the following relationships: user A follows user B, user A follows user C,\n",
    "# user C follows user E.\n",
    "# - Let us check if the source: \"A\" can reach the targets: \"D\", \"E\", \"F\"\n",
    "# -> From source \"A\", \"D\" can be reached via \"B\" as \"B\" follows \"A\". (Output is True)\n",
    "# --> From source \"A\", \"E\" can be reached via \"C\" as \"C\" follows \"A\". (Output is True)\n",
    "# -> User \"F\" doesn't follow anyone and cannot be reached from \"A\". (Output is False)\n"
   ]
  },
  {
   "cell_type": "code",
   "execution_count": 3,
   "id": "1314f8bd",
   "metadata": {},
   "outputs": [],
   "source": [
    "def isSourceTargetConnected(user_pairs : list, source : str, target : str) -> bool:\n",
    "\n",
    "    following_dict = {}\n",
    "    for follower,following in user_pairs:\n",
    "        if follower in following_dict:\n",
    "            following_dict[follower].append(following)\n",
    "        else:\n",
    "            following_dict[follower] = [following]\n",
    "    # stored all connected path\n",
    "    # path = following_dict[source]  Reference integrity may cause issue\n",
    "    path = []\n",
    "    path.extend(following_dict[source])\n",
    "    print(\"following_dict\",following_dict)\n",
    "    print(\"path\", path)\n",
    "    for path_connect in following_dict[source]:\n",
    "        path.extend(following_dict[path_connect])\n",
    "\n",
    "    if target in path:\n",
    "        return True\n",
    "    else:\n",
    "        return False\n"
   ]
  },
  {
   "cell_type": "code",
   "execution_count": 5,
   "id": "d66b560c",
   "metadata": {},
   "outputs": [
    {
     "name": "stdout",
     "output_type": "stream",
     "text": [
      "following_dict {'A': ['B', 'C'], 'B': ['D'], 'C': ['E']}\n",
      "path ['B', 'C']\n",
      "Result: True\n"
     ]
    }
   ],
   "source": [
    "user_pairs = [[\"A\", \"B\"], [\"A\", \"C\"], [\"B\", \"D\"], [\"C\", \"E\"]]\n",
    "source = \"A\"\n",
    "targets = \"D\"\n",
    "print(\"Result:\",isSourceTargetConnected(user_pairs, source, targets))"
   ]
  },
  {
   "cell_type": "code",
   "execution_count": null,
   "id": "5f29628e",
   "metadata": {},
   "outputs": [],
   "source": []
  }
 ],
 "metadata": {
  "kernelspec": {
   "display_name": "Python 3 (ipykernel)",
   "language": "python",
   "name": "python3"
  },
  "language_info": {
   "codemirror_mode": {
    "name": "ipython",
    "version": 3
   },
   "file_extension": ".py",
   "mimetype": "text/x-python",
   "name": "python",
   "nbconvert_exporter": "python",
   "pygments_lexer": "ipython3",
   "version": "3.10.4"
  }
 },
 "nbformat": 4,
 "nbformat_minor": 5
}
