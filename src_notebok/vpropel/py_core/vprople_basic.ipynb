{
 "cells": [
  {
   "cell_type": "markdown",
   "id": "b23245c7",
   "metadata": {},
   "source": [
    "### What will be the output"
   ]
  },
  {
   "cell_type": "code",
   "execution_count": 7,
   "id": "95dc3c3d",
   "metadata": {},
   "outputs": [
    {
     "name": "stdout",
     "output_type": "stream",
     "text": [
      "[1, 2, 3, 4]\n",
      "[1, 2, 3, 4, [5, 6]]\n"
     ]
    }
   ],
   "source": [
    "l1 = [1,2,3]\n",
    "l1.append(4)\n",
    "print(l1) # Output : \n",
    "l1.append([5,6])\n",
    "print(l1) # Output : "
   ]
  },
  {
   "cell_type": "code",
   "execution_count": 8,
   "id": "e78135f5",
   "metadata": {},
   "outputs": [
    {
     "name": "stdout",
     "output_type": "stream",
     "text": [
      "pineapple\n",
      "neapp\n",
      "pineap\n"
     ]
    }
   ],
   "source": [
    "name = \"pineapple\"\n",
    "print(name[:]) # Output : \n",
    "print(name[2:7]) # Output : \n",
    "print(name[:-3]) # Output : "
   ]
  },
  {
   "cell_type": "code",
   "execution_count": 9,
   "id": "c10b46fb",
   "metadata": {},
   "outputs": [
    {
     "name": "stdout",
     "output_type": "stream",
     "text": [
      "[4, 16, 36]\n"
     ]
    }
   ],
   "source": [
    "l1 = [1,2,3,4,5,6]\n",
    "l2 = [x * x for x in l1 if x%2 == 0]\n",
    "print(l2)"
   ]
  }
 ],
 "metadata": {
  "kernelspec": {
   "display_name": "Python 3 (ipykernel)",
   "language": "python",
   "name": "python3"
  },
  "language_info": {
   "codemirror_mode": {
    "name": "ipython",
    "version": 3
   },
   "file_extension": ".py",
   "mimetype": "text/x-python",
   "name": "python",
   "nbconvert_exporter": "python",
   "pygments_lexer": "ipython3",
   "version": "3.10.4"
  }
 },
 "nbformat": 4,
 "nbformat_minor": 5
}
