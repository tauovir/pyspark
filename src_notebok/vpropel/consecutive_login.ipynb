{
 "cells": [
  {
   "cell_type": "code",
   "execution_count": 1,
   "id": "24b0ec88",
   "metadata": {},
   "outputs": [],
   "source": [
    "from pyspark.sql import SparkSession\n",
    "from pyspark.sql import functions as FS\n",
    "from pyspark.sql import Window as wn\n"
   ]
  },
  {
   "cell_type": "code",
   "execution_count": 2,
   "id": "b6c3b472",
   "metadata": {},
   "outputs": [],
   "source": [
    "spark = SparkSession.builder.master(\"local[2]\").appName(\"Consecutive Login\").getOrCreate()"
   ]
  },
  {
   "cell_type": "code",
   "execution_count": 3,
   "id": "ad7a56c5",
   "metadata": {},
   "outputs": [],
   "source": [
    "_data = [(101,'02-01-2024','N'),\n",
    "(101,'03-01-2024','Y'),\n",
    "(101,'04-01-2024','N'),\n",
    "(101,'07-01-2024','Y'),\n",
    "(102,'01-01-2024','N'),\n",
    "(102,'02-01-2024','Y'),\n",
    "(102,'03-01-2024','Y'),\n",
    "(102,'04-01-2024','N'),\n",
    "(102,'05-01-2024','Y'),\n",
    "(102,'06-01-2024','Y'),\n",
    "(102,'07-01-2024','Y'),\n",
    "(103,'01-01-2024','N'),\n",
    "(103,'04-01-2024','N'),\n",
    "(103,'05-01-2024','Y'),\n",
    "(103,'06-01-2024','Y'),\n",
    "(103,'07-01-2024','N')\n",
    "]\n",
    "_schema = [\"emp_id\" , \"log_date\" , \"flag\"]\n",
    "dataframe = spark.createDataFrame(data = _data, schema =_schema)"
   ]
  },
  {
   "cell_type": "code",
   "execution_count": 4,
   "id": "3e559307",
   "metadata": {},
   "outputs": [
    {
     "name": "stdout",
     "output_type": "stream",
     "text": [
      "+------+----------+----+\n",
      "|emp_id|  log_date|flag|\n",
      "+------+----------+----+\n",
      "|   101|02-01-2024|   N|\n",
      "|   101|03-01-2024|   Y|\n",
      "|   101|04-01-2024|   N|\n",
      "|   101|07-01-2024|   Y|\n",
      "|   102|01-01-2024|   N|\n",
      "|   102|02-01-2024|   Y|\n",
      "|   102|03-01-2024|   Y|\n",
      "|   102|04-01-2024|   N|\n",
      "|   102|05-01-2024|   Y|\n",
      "|   102|06-01-2024|   Y|\n",
      "|   102|07-01-2024|   Y|\n",
      "|   103|01-01-2024|   N|\n",
      "|   103|04-01-2024|   N|\n",
      "|   103|05-01-2024|   Y|\n",
      "|   103|06-01-2024|   Y|\n",
      "|   103|07-01-2024|   N|\n",
      "+------+----------+----+\n",
      "\n"
     ]
    }
   ],
   "source": [
    "dataframe.show()"
   ]
  },
  {
   "cell_type": "markdown",
   "id": "d0e14392",
   "metadata": {},
   "source": [
    "##### Retrieve information about consecutive login streaks fron employee who have loggedin fot at least two consecutive day\n",
    "For each employee provided the emp_id,\n",
    "the number of consecutive days loggedin<br>\n",
    "the start_date of the streak and end_date of the streak.\n",
    "##### Output:\n",
    "```\n",
    " +------+---+----------+----------+---+\n",
    "|emp_id|grp|start_date|  end_date|cnt|\n",
    "+------+---+----------+----------+---+\n",
    "|   102|  1|2024-01-02|2024-01-03|  2|\n",
    "|   102|  2|2024-01-05|2024-01-07|  3|\n",
    "|   103|  4|2024-01-05|2024-01-06|  2|\n",
    "+------+---+----------+----------+---+\n",
    "\n",
    "```"
   ]
  },
  {
   "cell_type": "markdown",
   "id": "c6e13056",
   "metadata": {},
   "source": [
    "**Filter data that are absent**"
   ]
  },
  {
   "cell_type": "code",
   "execution_count": 5,
   "id": "1a46dbec",
   "metadata": {},
   "outputs": [
    {
     "name": "stdout",
     "output_type": "stream",
     "text": [
      "+------+----------+----+\n",
      "|emp_id|  log_date|flag|\n",
      "+------+----------+----+\n",
      "|   101|03-01-2024|   Y|\n",
      "|   101|07-01-2024|   Y|\n",
      "|   102|02-01-2024|   Y|\n",
      "|   102|03-01-2024|   Y|\n",
      "|   102|05-01-2024|   Y|\n",
      "|   102|06-01-2024|   Y|\n",
      "|   102|07-01-2024|   Y|\n",
      "|   103|05-01-2024|   Y|\n",
      "|   103|06-01-2024|   Y|\n",
      "+------+----------+----+\n",
      "\n"
     ]
    }
   ],
   "source": [
    "filter_df = dataframe.filter(dataframe.flag == 'Y')\n",
    "filter_df.show()"
   ]
  },
  {
   "cell_type": "markdown",
   "id": "cc456733",
   "metadata": {},
   "source": [
    "**Convert log_date to date format**"
   ]
  },
  {
   "cell_type": "code",
   "execution_count": 11,
   "id": "a32fbed3",
   "metadata": {},
   "outputs": [
    {
     "name": "stdout",
     "output_type": "stream",
     "text": [
      "root\n",
      " |-- emp_id: long (nullable = true)\n",
      " |-- log_date: date (nullable = true)\n",
      " |-- flag: string (nullable = true)\n",
      "\n"
     ]
    }
   ],
   "source": [
    "filter_df = filter_df.withColumn(\"log_date\",FS.to_date(FS.col('log_date'),'dd-mm-yyyy'))\n",
    "filter_df.printSchema()"
   ]
  },
  {
   "cell_type": "code",
   "execution_count": 12,
   "id": "b87ea49c",
   "metadata": {},
   "outputs": [
    {
     "name": "stdout",
     "output_type": "stream",
     "text": [
      "+------+----------+----+\n",
      "|emp_id|  log_date|flag|\n",
      "+------+----------+----+\n",
      "|   101|2024-01-03|   Y|\n",
      "|   101|2024-01-07|   Y|\n",
      "|   102|2024-01-02|   Y|\n",
      "|   102|2024-01-03|   Y|\n",
      "|   102|2024-01-05|   Y|\n",
      "|   102|2024-01-06|   Y|\n",
      "|   102|2024-01-07|   Y|\n",
      "|   103|2024-01-05|   Y|\n",
      "|   103|2024-01-06|   Y|\n",
      "+------+----------+----+\n",
      "\n"
     ]
    }
   ],
   "source": [
    "filter_df.show()"
   ]
  },
  {
   "cell_type": "markdown",
   "id": "51f3328a",
   "metadata": {},
   "source": [
    "## Create row number partition by emp_id"
   ]
  },
  {
   "cell_type": "code",
   "execution_count": 14,
   "id": "0a7a50a0",
   "metadata": {},
   "outputs": [],
   "source": [
    "partition_df = filter_df.withColumn(\"rn\",FS.row_number().over(wn.partitionBy('emp_id').orderBy('log_date')))"
   ]
  },
  {
   "cell_type": "code",
   "execution_count": 15,
   "id": "8d6ee15e",
   "metadata": {},
   "outputs": [
    {
     "name": "stdout",
     "output_type": "stream",
     "text": [
      "+------+----------+----+---+\n",
      "|emp_id|  log_date|flag| rn|\n",
      "+------+----------+----+---+\n",
      "|   101|2024-01-03|   Y|  1|\n",
      "|   101|2024-01-07|   Y|  2|\n",
      "|   102|2024-01-02|   Y|  1|\n",
      "|   102|2024-01-03|   Y|  2|\n",
      "|   102|2024-01-05|   Y|  3|\n",
      "|   102|2024-01-06|   Y|  4|\n",
      "|   102|2024-01-07|   Y|  5|\n",
      "|   103|2024-01-05|   Y|  1|\n",
      "|   103|2024-01-06|   Y|  2|\n",
      "+------+----------+----+---+\n",
      "\n"
     ]
    }
   ],
   "source": [
    "partition_df.show()"
   ]
  },
  {
   "cell_type": "markdown",
   "id": "9dcecda2",
   "metadata": {},
   "source": [
    "### Get Day from date"
   ]
  },
  {
   "cell_type": "code",
   "execution_count": 16,
   "id": "12de2593",
   "metadata": {},
   "outputs": [
    {
     "name": "stdout",
     "output_type": "stream",
     "text": [
      "+------+----------+----+---+---+\n",
      "|emp_id|  log_date|flag| rn|day|\n",
      "+------+----------+----+---+---+\n",
      "|   101|2024-01-03|   Y|  1|  3|\n",
      "|   101|2024-01-07|   Y|  2|  7|\n",
      "|   102|2024-01-02|   Y|  1|  2|\n",
      "|   102|2024-01-03|   Y|  2|  3|\n",
      "|   102|2024-01-05|   Y|  3|  5|\n",
      "|   102|2024-01-06|   Y|  4|  6|\n",
      "|   102|2024-01-07|   Y|  5|  7|\n",
      "|   103|2024-01-05|   Y|  1|  5|\n",
      "|   103|2024-01-06|   Y|  2|  6|\n",
      "+------+----------+----+---+---+\n",
      "\n"
     ]
    }
   ],
   "source": [
    "partition2_df = partition_df.withColumn(\"day\",FS.dayofmonth(FS.col('log_date')))\n",
    "partition2_df.show()"
   ]
  },
  {
   "cell_type": "markdown",
   "id": "e843e109",
   "metadata": {},
   "source": [
    "### make a group of consecute day "
   ]
  },
  {
   "cell_type": "code",
   "execution_count": 23,
   "id": "939e08be",
   "metadata": {},
   "outputs": [
    {
     "name": "stdout",
     "output_type": "stream",
     "text": [
      "+------+----------+----+---+---+---+\n",
      "|emp_id|  log_date|flag| rn|day|grp|\n",
      "+------+----------+----+---+---+---+\n",
      "|   101|2024-01-03|   Y|  1|  3|  2|\n",
      "|   101|2024-01-07|   Y|  2|  7|  5|\n",
      "|   102|2024-01-02|   Y|  1|  2|  1|\n",
      "|   102|2024-01-03|   Y|  2|  3|  1|\n",
      "|   102|2024-01-05|   Y|  3|  5|  2|\n",
      "|   102|2024-01-06|   Y|  4|  6|  2|\n",
      "|   102|2024-01-07|   Y|  5|  7|  2|\n",
      "|   103|2024-01-05|   Y|  1|  5|  4|\n",
      "|   103|2024-01-06|   Y|  2|  6|  4|\n",
      "+------+----------+----+---+---+---+\n",
      "\n"
     ]
    }
   ],
   "source": [
    "grp_df = partition2_df.withColumn('grp',FS.col('day') - FS.col('rn'))\n",
    "grp_df.show()"
   ]
  },
  {
   "cell_type": "markdown",
   "id": "4362726d",
   "metadata": {},
   "source": [
    "## Get the Min and max date as start and end date and filter by count"
   ]
  },
  {
   "cell_type": "code",
   "execution_count": 21,
   "id": "8938c286",
   "metadata": {},
   "outputs": [
    {
     "name": "stdout",
     "output_type": "stream",
     "text": [
      "+------+---+----------+----------+---+\n",
      "|emp_id|grp|start_date|  end_date|cnt|\n",
      "+------+---+----------+----------+---+\n",
      "|   102|  1|2024-01-02|2024-01-03|  2|\n",
      "|   102|  2|2024-01-05|2024-01-07|  3|\n",
      "|   103|  4|2024-01-05|2024-01-06|  2|\n",
      "+------+---+----------+----------+---+\n",
      "\n"
     ]
    }
   ],
   "source": [
    "answer_df = grp_df.groupBy(grp_df.emp_id,grp_df.grp).agg(\n",
    "    FS.min(FS.col('log_date')).alias(\"start_date\"),\n",
    "    FS.max(FS.col('log_date')).alias(\"end_date\"),\n",
    "    FS.count('*').alias(\"cnt\")\n",
    ").filter(FS.col('cnt') > 1)\n",
    "answer_df.show()"
   ]
  },
  {
   "cell_type": "code",
   "execution_count": null,
   "id": "242d3a71",
   "metadata": {},
   "outputs": [],
   "source": []
  }
 ],
 "metadata": {
  "kernelspec": {
   "display_name": "Python 3 (ipykernel)",
   "language": "python",
   "name": "python3"
  },
  "language_info": {
   "codemirror_mode": {
    "name": "ipython",
    "version": 3
   },
   "file_extension": ".py",
   "mimetype": "text/x-python",
   "name": "python",
   "nbconvert_exporter": "python",
   "pygments_lexer": "ipython3",
   "version": "3.10.4"
  }
 },
 "nbformat": 4,
 "nbformat_minor": 5
}
