{
 "cells": [
  {
   "cell_type": "code",
   "execution_count": 28,
   "id": "54be5516",
   "metadata": {},
   "outputs": [],
   "source": [
    "from pyspark.sql import SparkSession\n",
    "from pyspark.sql.functions import col,when,concat,length,row_number\n",
    "from pyspark.sql import Window as WN\n",
    "from pyspark.sql import types as TP\n"
   ]
  },
  {
   "cell_type": "code",
   "execution_count": 2,
   "id": "b63811f0",
   "metadata": {},
   "outputs": [],
   "source": [
    "spark = SparkSession.builder.appName(\"REDUNTANT_PAIR\").master(\"local[2]\").getOrCreate()"
   ]
  },
  {
   "cell_type": "code",
   "execution_count": 3,
   "id": "f2998d7a",
   "metadata": {},
   "outputs": [
    {
     "data": {
      "text/html": [
       "\n",
       "            <div>\n",
       "                <p><b>SparkSession - in-memory</b></p>\n",
       "                \n",
       "        <div>\n",
       "            <p><b>SparkContext</b></p>\n",
       "\n",
       "            <p><a href=\"http://10.0.0.55:4041\">Spark UI</a></p>\n",
       "\n",
       "            <dl>\n",
       "              <dt>Version</dt>\n",
       "                <dd><code>v3.5.0</code></dd>\n",
       "              <dt>Master</dt>\n",
       "                <dd><code>local[2]</code></dd>\n",
       "              <dt>AppName</dt>\n",
       "                <dd><code>REDUNTANT_PAIR</code></dd>\n",
       "            </dl>\n",
       "        </div>\n",
       "        \n",
       "            </div>\n",
       "        "
      ],
      "text/plain": [
       "<pyspark.sql.session.SparkSession at 0x288b7300e20>"
      ]
     },
     "execution_count": 3,
     "metadata": {},
     "output_type": "execute_result"
    }
   ],
   "source": [
    "spark"
   ]
  },
  {
   "cell_type": "code",
   "execution_count": 4,
   "id": "d263a4f3",
   "metadata": {},
   "outputs": [
    {
     "name": "stdout",
     "output_type": "stream",
     "text": [
      "+-------+-------+----+-------+-------+-------+-------+\n",
      "| brand1| brand2|year|custom1|custom2|custom3|custom4|\n",
      "+-------+-------+----+-------+-------+-------+-------+\n",
      "|  apple|samsung|2020|      1|      2|      1|      2|\n",
      "|samsung|  apple|2020|      1|      2|      1|      2|\n",
      "|  apple|samsung|2021|      1|      2|      5|      3|\n",
      "|samsung|  apple|2021|      5|      3|      1|      2|\n",
      "| google|   NULL|2020|      5|      9|   NULL|   NULL|\n",
      "|oneplus|nothing|2020|      5|      9|      6|      3|\n",
      "+-------+-------+----+-------+-------+-------+-------+\n",
      "\n"
     ]
    }
   ],
   "source": [
    "data = [\n",
    "    ('apple', 'samsung', 2020, 1, 2, 1, 2),\n",
    "    ('samsung', 'apple', 2020, 1, 2, 1, 2),\n",
    "    ('apple', 'samsung', 2021, 1, 2, 5, 3),\n",
    "    ('samsung', 'apple', 2021, 5, 3, 1, 2),\n",
    "    ('google', None, 2020, 5, 9, None, None),\n",
    "    ('oneplus', 'nothing', 2020, 5, 9, 6, 3)\n",
    "]\n",
    "schema = 'brand1 string , brand2 string , year int , custom1 int, custom2 int , custom3 int , custom4 int'\n",
    "\n",
    "df = spark.createDataFrame(data = data , schema = schema)\n",
    "df.show()"
   ]
  },
  {
   "cell_type": "markdown",
   "id": "686a8b0d",
   "metadata": {},
   "source": [
    "**For pairs of brands in the same year<br>\n",
    "(e.g. apple/samsung/2020 and sample/apple/2020)<br>\n",
    "IF custom1=custom3 and custom2 = custom4\n",
    "then keep only one pair.<br>\n",
    "For pairs of brands in the same year<br>\n",
    "IF custom1 !=custom3 OR custom2 != custom4 then keep both<br>\n",
    "For pairs of brands that do not have pairs in the same year<br>\n",
    "Keep those rows as well\n",
    "**"
   ]
  },
  {
   "cell_type": "code",
   "execution_count": null,
   "id": "3069a938",
   "metadata": {},
   "outputs": [],
   "source": [
    "# Method-1"
   ]
  },
  {
   "cell_type": "code",
   "execution_count": 20,
   "id": "1002997d",
   "metadata": {},
   "outputs": [],
   "source": [
    "when_con = when( length(col('brand1')) > length(col('brand2')),concat(col('brand1'),col('brand2'),col('year'))).\\\n",
    "    otherwise(concat(col('brand2'),col('brand1'),col('year')))\n"
   ]
  },
  {
   "cell_type": "code",
   "execution_count": 25,
   "id": "769aaadf",
   "metadata": {},
   "outputs": [],
   "source": [
    "df_pair = df.withColumn(\"pait_brand\",when_con)"
   ]
  },
  {
   "cell_type": "code",
   "execution_count": 30,
   "id": "d12c518b",
   "metadata": {},
   "outputs": [
    {
     "name": "stdout",
     "output_type": "stream",
     "text": [
      "+-------+-------+----+-------+-------+-------+-------+------------------+\n",
      "| brand1| brand2|year|custom1|custom2|custom3|custom4|        pait_brand|\n",
      "+-------+-------+----+-------+-------+-------+-------+------------------+\n",
      "|  apple|samsung|2020|      1|      2|      1|      2|  samsungapple2020|\n",
      "|samsung|  apple|2020|      1|      2|      1|      2|  samsungapple2020|\n",
      "|  apple|samsung|2021|      1|      2|      5|      3|  samsungapple2021|\n",
      "|samsung|  apple|2021|      5|      3|      1|      2|  samsungapple2021|\n",
      "| google|   NULL|2020|      5|      9|   NULL|   NULL|              NULL|\n",
      "|oneplus|nothing|2020|      5|      9|      6|      3|oneplusnothing2020|\n",
      "+-------+-------+----+-------+-------+-------+-------+------------------+\n",
      "\n"
     ]
    }
   ],
   "source": [
    "df_pair.show()"
   ]
  },
  {
   "cell_type": "code",
   "execution_count": 36,
   "id": "9c42c109",
   "metadata": {},
   "outputs": [],
   "source": [
    "wind_cond = WN.partitionBy(col('pait_brand')).orderBy(col('year'))\n",
    "\n",
    "partition_df = df_pair.withColumn(\"row_num\",row_number().over(wind_cond))"
   ]
  },
  {
   "cell_type": "code",
   "execution_count": 38,
   "id": "e2232b7a",
   "metadata": {},
   "outputs": [
    {
     "name": "stdout",
     "output_type": "stream",
     "text": [
      "+-------+-------+----+-------+-------+-------+-------+------------------+-------+\n",
      "| brand1| brand2|year|custom1|custom2|custom3|custom4|        pait_brand|row_num|\n",
      "+-------+-------+----+-------+-------+-------+-------+------------------+-------+\n",
      "| google|   NULL|2020|      5|      9|   NULL|   NULL|              NULL|      1|\n",
      "|oneplus|nothing|2020|      5|      9|      6|      3|oneplusnothing2020|      1|\n",
      "|  apple|samsung|2020|      1|      2|      1|      2|  samsungapple2020|      1|\n",
      "|samsung|  apple|2020|      1|      2|      1|      2|  samsungapple2020|      2|\n",
      "|  apple|samsung|2021|      1|      2|      5|      3|  samsungapple2021|      1|\n",
      "|samsung|  apple|2021|      5|      3|      1|      2|  samsungapple2021|      2|\n",
      "+-------+-------+----+-------+-------+-------+-------+------------------+-------+\n",
      "\n"
     ]
    }
   ],
   "source": [
    "partition_df.show()"
   ]
  },
  {
   "cell_type": "code",
   "execution_count": 46,
   "id": "a1f4cec3",
   "metadata": {},
   "outputs": [
    {
     "name": "stdout",
     "output_type": "stream",
     "text": [
      "+-------+-------+----+-------+-------+-------+-------+\n",
      "| brand1| brand2|year|custom1|custom2|custom3|custom4|\n",
      "+-------+-------+----+-------+-------+-------+-------+\n",
      "| google|   NULL|2020|      5|      9|   NULL|   NULL|\n",
      "|oneplus|nothing|2020|      5|      9|      6|      3|\n",
      "|  apple|samsung|2020|      1|      2|      1|      2|\n",
      "|  apple|samsung|2021|      1|      2|      5|      3|\n",
      "|samsung|  apple|2021|      5|      3|      1|      2|\n",
      "+-------+-------+----+-------+-------+-------+-------+\n",
      "\n"
     ]
    }
   ],
   "source": [
    "partition_df.select(\"brand1\",\"brand2\",\"year\",\"custom1\",\"custom2\",\"custom3\",\"custom4\").\\\n",
    "filter((col('row_num') == 1) | ((col('custom1') != col('custom3')) | (col('custom2') != col('custom4')))).show()"
   ]
  },
  {
   "cell_type": "code",
   "execution_count": 57,
   "id": "241bbd67",
   "metadata": {},
   "outputs": [],
   "source": [
    "df.createOrReplaceTempView(\"brand_table2\")"
   ]
  },
  {
   "cell_type": "code",
   "execution_count": 73,
   "id": "297a8a2c",
   "metadata": {},
   "outputs": [],
   "source": [
    "# Using SQL"
   ]
  },
  {
   "cell_type": "code",
   "execution_count": 58,
   "id": "e94f8b86",
   "metadata": {},
   "outputs": [
    {
     "name": "stdout",
     "output_type": "stream",
     "text": [
      "+-------+-------+----+-------+-------+-------+-------+\n",
      "| brand1| brand2|year|custom1|custom2|custom3|custom4|\n",
      "+-------+-------+----+-------+-------+-------+-------+\n",
      "|  apple|samsung|2020|      1|      2|      1|      2|\n",
      "|samsung|  apple|2020|      1|      2|      1|      2|\n",
      "|  apple|samsung|2021|      1|      2|      5|      3|\n",
      "|samsung|  apple|2021|      5|      3|      1|      2|\n",
      "| google|   NULL|2020|      5|      9|   NULL|   NULL|\n",
      "|oneplus|nothing|2020|      5|      9|      6|      3|\n",
      "+-------+-------+----+-------+-------+-------+-------+\n",
      "\n"
     ]
    }
   ],
   "source": [
    "spark.sql(\"select * from brand_table2\").show()"
   ]
  },
  {
   "cell_type": "code",
   "execution_count": 72,
   "id": "c6406a9a",
   "metadata": {},
   "outputs": [
    {
     "name": "stdout",
     "output_type": "stream",
     "text": [
      "+-------+-------+----+-------+-------+-------+-------+\n",
      "| brand1| brand2|year|custom1|custom2|custom3|custom4|\n",
      "+-------+-------+----+-------+-------+-------+-------+\n",
      "| google|   NULL|2020|      5|      9|   NULL|   NULL|\n",
      "|  apple|samsung|2020|      1|      2|      1|      2|\n",
      "|  apple|samsung|2021|      1|      2|      5|      3|\n",
      "|oneplus|nothing|2020|      5|      9|      6|      3|\n",
      "|samsung|  apple|2020|      1|      2|      1|      2|\n",
      "|samsung|  apple|2021|      5|      3|      1|      2|\n",
      "+-------+-------+----+-------+-------+-------+-------+\n",
      "\n"
     ]
    }
   ],
   "source": [
    "sql_statement = \"\"\"\n",
    "WITH DATA AS\n",
    "(\n",
    "SELECT brand1,brand2,year,custom1,custom2,custom3,custom4,\n",
    "CASE\n",
    "WHEN LEN(brand1) > LEN(brand2) THEN CONCAT(brand1,brand2,year)\n",
    "ELSE\n",
    "CONCAT(brand1,brand2,year)\n",
    "END AS PAIRS\n",
    "FROM brand_table2\n",
    "), filter_data AS(\n",
    "SELECT brand1,brand2,year,custom1,custom2,custom3,custom4,PAIRS,\n",
    "ROW_NUMBER() OVER(PARTITION BY PAIRS ORDER BY year) as RW1\n",
    "from DATA\n",
    ")\n",
    "SELECT brand1,brand2,year,custom1,custom2,custom3,custom4\n",
    "FROM filter_data WHERE RW1 =1 OR (custom1 != custom3 AND custom2 !=custom4)\n",
    "\"\"\"\n",
    "spark.sql(sql_statement).show()"
   ]
  },
  {
   "cell_type": "code",
   "execution_count": null,
   "id": "8a876764",
   "metadata": {},
   "outputs": [],
   "source": []
  }
 ],
 "metadata": {
  "kernelspec": {
   "display_name": "Python 3 (ipykernel)",
   "language": "python",
   "name": "python3"
  },
  "language_info": {
   "codemirror_mode": {
    "name": "ipython",
    "version": 3
   },
   "file_extension": ".py",
   "mimetype": "text/x-python",
   "name": "python",
   "nbconvert_exporter": "python",
   "pygments_lexer": "ipython3",
   "version": "3.10.4"
  }
 },
 "nbformat": 4,
 "nbformat_minor": 5
}
