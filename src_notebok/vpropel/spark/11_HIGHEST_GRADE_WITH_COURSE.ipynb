{
 "cells": [
  {
   "cell_type": "code",
   "execution_count": 1,
   "id": "3a6a3cb8",
   "metadata": {},
   "outputs": [],
   "source": [
    "from pyspark.sql import SparkSession\n",
    "from pyspark.sql import functions as FS\n",
    "from pyspark.sql import Window as WN\n",
    "from pyspark.sql import types as TP\n",
    "\n"
   ]
  },
  {
   "cell_type": "code",
   "execution_count": 2,
   "id": "48791690",
   "metadata": {},
   "outputs": [],
   "source": [
    "spark = SparkSession.builder.appName(\"Grade\").master(\"local[2]\").getOrCreate()"
   ]
  },
  {
   "cell_type": "code",
   "execution_count": 3,
   "id": "ce589de5",
   "metadata": {},
   "outputs": [],
   "source": [
    "data = [('2', '2', '95') ,\n",
    "('2', '3', '95'),\n",
    "('1', '1', '90'),\n",
    "('1', '2', '99'),\n",
    "('3', '1', '80'),\n",
    "('3', '2', '75'),\n",
    "('3', '3', '82')]\n",
    "schema = [\"student_id\",\"course_id\",\"grade\"]"
   ]
  },
  {
   "cell_type": "code",
   "execution_count": 15,
   "id": "520f95ef",
   "metadata": {},
   "outputs": [],
   "source": [
    "dataframe = spark.createDataFrame(data, schema = schema)"
   ]
  },
  {
   "cell_type": "code",
   "execution_count": 16,
   "id": "cffe805b",
   "metadata": {},
   "outputs": [
    {
     "name": "stdout",
     "output_type": "stream",
     "text": [
      "+----------+---------+-----+\n",
      "|student_id|course_id|grade|\n",
      "+----------+---------+-----+\n",
      "|         2|        2|   95|\n",
      "|         2|        3|   95|\n",
      "|         1|        1|   90|\n",
      "|         1|        2|   99|\n",
      "|         3|        1|   80|\n",
      "|         3|        2|   75|\n",
      "|         3|        3|   82|\n",
      "+----------+---------+-----+\n",
      "\n"
     ]
    }
   ],
   "source": [
    "dataframe.show()"
   ]
  },
  {
   "cell_type": "markdown",
   "id": "314f660c",
   "metadata": {},
   "source": [
    "**Write a SQL query to find the highest grade with its corresponding course for\n",
    "each student. In case of a tie you should find the course with the smallest course_id.\n",
    "The output must be sorted by student_id**\n",
    "\n",
    "#### Output\n",
    "```\n",
    "+----------+---------+-----+\n",
    "|student_id|course_id|grade|\n",
    "+----------+---------+-----+\n",
    "|         1|        2|   99|\n",
    "|         2|        2|   95|\n",
    "|         3|        3|   82|\n",
    "+----------+---------+-----+\n",
    "\n",
    "```\n"
   ]
  },
  {
   "cell_type": "code",
   "execution_count": 18,
   "id": "3467ef80",
   "metadata": {},
   "outputs": [],
   "source": [
    "final_data =  dataframe.select(\"student_id\",\"course_id\",\"grade\",\n",
    "                FS.dense_rank().over(WN.partitionBy('student_id').\\\n",
    "                                     orderBy(FS.col(\"grade\").desc(),FS.col(\"course_id\").asc())).alias(\"RNK\"))"
   ]
  },
  {
   "cell_type": "code",
   "execution_count": 19,
   "id": "c2a37126",
   "metadata": {},
   "outputs": [
    {
     "name": "stdout",
     "output_type": "stream",
     "text": [
      "+----------+---------+-----+---+\n",
      "|student_id|course_id|grade|RNK|\n",
      "+----------+---------+-----+---+\n",
      "|         1|        2|   99|  1|\n",
      "|         1|        1|   90|  2|\n",
      "|         2|        2|   95|  1|\n",
      "|         2|        3|   95|  2|\n",
      "|         3|        3|   82|  1|\n",
      "|         3|        1|   80|  2|\n",
      "|         3|        2|   75|  3|\n",
      "+----------+---------+-----+---+\n",
      "\n"
     ]
    }
   ],
   "source": [
    "final_data.show()"
   ]
  },
  {
   "cell_type": "code",
   "execution_count": 20,
   "id": "eee2cace",
   "metadata": {},
   "outputs": [
    {
     "name": "stdout",
     "output_type": "stream",
     "text": [
      "+----------+---------+-----+\n",
      "|student_id|course_id|grade|\n",
      "+----------+---------+-----+\n",
      "|         1|        2|   99|\n",
      "|         2|        2|   95|\n",
      "|         3|        3|   82|\n",
      "+----------+---------+-----+\n",
      "\n"
     ]
    }
   ],
   "source": [
    "final_data.select(\"student_id\",\"course_id\",\"grade\").filter(\"RNK = 1\").show()"
   ]
  },
  {
   "cell_type": "markdown",
   "id": "37bc9cf3",
   "metadata": {},
   "source": [
    "## With SQL"
   ]
  },
  {
   "cell_type": "code",
   "execution_count": 22,
   "id": "5adc7639",
   "metadata": {},
   "outputs": [],
   "source": [
    "dataframe.createOrReplaceTempView(\"table\")"
   ]
  },
  {
   "cell_type": "code",
   "execution_count": 24,
   "id": "41cb1e48",
   "metadata": {},
   "outputs": [
    {
     "name": "stdout",
     "output_type": "stream",
     "text": [
      "+----------+---------+-----+\n",
      "|student_id|course_id|grade|\n",
      "+----------+---------+-----+\n",
      "|         2|        2|   95|\n",
      "|         2|        3|   95|\n",
      "|         1|        1|   90|\n",
      "|         1|        2|   99|\n",
      "|         3|        1|   80|\n",
      "|         3|        2|   75|\n",
      "|         3|        3|   82|\n",
      "+----------+---------+-----+\n",
      "\n"
     ]
    }
   ],
   "source": [
    "spark.sql(\"select * from table\").show()"
   ]
  },
  {
   "cell_type": "code",
   "execution_count": 32,
   "id": "788f4cfe",
   "metadata": {},
   "outputs": [
    {
     "name": "stdout",
     "output_type": "stream",
     "text": [
      "+----------+---------+-----+\n",
      "|student_id|course_id|grade|\n",
      "+----------+---------+-----+\n",
      "|         1|        2|   99|\n",
      "|         2|        2|   95|\n",
      "|         3|        3|   82|\n",
      "+----------+---------+-----+\n",
      "\n"
     ]
    }
   ],
   "source": [
    "sql_statement = \"\"\"\n",
    "WITH GRADE_DATE AS\n",
    "(\n",
    "SELECT student_id,course_id,grade,DENSE_RANK() OVER(PARTITION BY student_id ORDER BY grade DESC,course_id ASC) AS RNK\n",
    "FROM table\n",
    ")\n",
    "SELECT student_id, course_id,grade FROM GRADE_DATE\n",
    "WHERE RNK = 1 ORDER BY student_id\n",
    "\"\"\"\n",
    "spark.sql(sql_statement).show()"
   ]
  },
  {
   "cell_type": "code",
   "execution_count": null,
   "id": "a379c357",
   "metadata": {},
   "outputs": [],
   "source": []
  }
 ],
 "metadata": {
  "kernelspec": {
   "display_name": "Python 3 (ipykernel)",
   "language": "python",
   "name": "python3"
  },
  "language_info": {
   "codemirror_mode": {
    "name": "ipython",
    "version": 3
   },
   "file_extension": ".py",
   "mimetype": "text/x-python",
   "name": "python",
   "nbconvert_exporter": "python",
   "pygments_lexer": "ipython3",
   "version": "3.10.4"
  }
 },
 "nbformat": 4,
 "nbformat_minor": 5
}
