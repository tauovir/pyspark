{
 "cells": [
  {
   "cell_type": "code",
   "execution_count": 1,
   "id": "b4d1c5cb",
   "metadata": {},
   "outputs": [],
   "source": [
    "from pyspark.sql import SparkSession\n",
    "from pyspark.sql.functions import *\n",
    "from pyspark.sql import types as T\n"
   ]
  },
  {
   "cell_type": "code",
   "execution_count": 2,
   "id": "9ca826a1",
   "metadata": {},
   "outputs": [],
   "source": [
    "\n",
    "spark = SparkSession.builder.master(\"local[2]\").appName(\"Spark-Query\").getOrCreate()"
   ]
  },
  {
   "cell_type": "markdown",
   "id": "69af35f5",
   "metadata": {},
   "source": [
    "### Read Data"
   ]
  },
  {
   "cell_type": "code",
   "execution_count": 3,
   "id": "0df19f57",
   "metadata": {},
   "outputs": [],
   "source": [
    "def read_data(spark, file_path):\n",
    "    source_data = spark.read.format(\"csv\").options(path=file_path,header=True,inferSchema = True,delimiter = \",\").load()\n",
    "    return source_data"
   ]
  },
  {
   "cell_type": "markdown",
   "id": "622574d8",
   "metadata": {},
   "source": [
    "### Write Data"
   ]
  },
  {
   "cell_type": "code",
   "execution_count": 4,
   "id": "ff0e54c4",
   "metadata": {},
   "outputs": [],
   "source": [
    "def write_df(target_dataframe):\n",
    "    if len(final_records.head(1)) > 0:\n",
    "        target_file_path =\"E:\\\\workforce\\\\spark\\\\data\\\\scd_type_data\\\\temp\\\\target_emp.csv\"\n",
    "        target_dataframe.coalesce(1).write.format(\"csv\").\\\n",
    "        mode('overwrite').option(\"path\",target_file_path).option('header',True).save()\n",
    "        return 1\n",
    "    else:\n",
    "        return 0\n",
    "    \n",
    "def pd_write(target_dataframe):\n",
    "    if len(final_records.head(1)) > 0:\n",
    "        target_file_path =\"E:\\\\workforce\\\\spark\\\\data\\\\scd_type_data\\\\temp\\\\target_emp.csv\"\n",
    "        pdframe = final_records.toPandas()\n",
    "        pdframe.to_csv(target_file_path,index = False)\n",
    "        return 1\n",
    "    else:\n",
    "        return 0\n",
    "    "
   ]
  },
  {
   "cell_type": "markdown",
   "id": "e5bf3ffb",
   "metadata": {},
   "source": [
    "### Source Data"
   ]
  },
  {
   "cell_type": "code",
   "execution_count": 5,
   "id": "37ebd47c",
   "metadata": {},
   "outputs": [
    {
     "name": "stdout",
     "output_type": "stream",
     "text": [
      "+---+------+-------------------+-------+----------+\n",
      "| id|  name|              email|country|created_at|\n",
      "+---+------+-------------------+-------+----------+\n",
      "|  1|  KHAN|  khan101@gmail.com|  INDIA|2024-01-05|\n",
      "|  2|TAUKIR|taukir101@gmail.com| CANADA|2024-01-06|\n",
      "+---+------+-------------------+-------+----------+\n",
      "\n"
     ]
    }
   ],
   "source": [
    "file_path =\"E:\\workforce\\spark\\data\\scd_type_data\\source_emp_day1.csv\"\n",
    "source_df = read_data(spark, file_path)\n",
    "source_df.show()"
   ]
  },
  {
   "cell_type": "markdown",
   "id": "f9ceb7d7",
   "metadata": {},
   "source": [
    "### Target Data"
   ]
  },
  {
   "cell_type": "code",
   "execution_count": 6,
   "id": "2ec1277c",
   "metadata": {},
   "outputs": [
    {
     "name": "stdout",
     "output_type": "stream",
     "text": [
      "+---+----+-----+-------+----------+--------+---------+\n",
      "| id|name|email|country|valid_from|valid_to|is_active|\n",
      "+---+----+-----+-------+----------+--------+---------+\n",
      "+---+----+-----+-------+----------+--------+---------+\n",
      "\n"
     ]
    }
   ],
   "source": [
    "file_path =\"E:\\\\workforce\\\\spark\\\\data\\\\scd_type_data\\\\target_emp_day1.csv\"\n",
    "target_df = read_data(spark, file_path)\n",
    "target_df.show()"
   ]
  },
  {
   "cell_type": "code",
   "execution_count": 7,
   "id": "76f4e861",
   "metadata": {},
   "outputs": [],
   "source": [
    "def get_new_data(source_df,target_df):\n",
    "    \n",
    "    return source_df.join(target_df,source_df.id == target_df.id,'leftanti' ).\\\n",
    "    withColumn('valid_from',source_df.created_at).\\\n",
    "    withColumn('valid_to',lit('9999-01-01')).\\\n",
    "    withColumn('is_active',lit('Y')).\\\n",
    "    drop(source_df.created_at)\n",
    "    \n",
    "\"\"\"\n",
    "The left anti join in PySpark is similar to the join functionality,\n",
    "but it returns only columns from the left DataFrame for non-matched records.\n",
    "\"\"\"\n",
    "#target_Schema = 'id integer,name string,email string,country string, valid_from date,valid_to date, is_active string'\n",
    "def deactivate_records(source_df,target_df):\n",
    "    \n",
    "    deactivate_rec =  source_df.join(target_df,source_df.id == target_df.id).\\\n",
    "            filter((target_df.is_active == 'Y') & \n",
    "                   (concat(source_df.name,source_df.email,source_df.country) != \n",
    "                   concat(target_df.name,target_df.email,target_df.country))).\\\n",
    "                        withColumn('is_active',lit('N')).\\\n",
    "                        withColumn('valid_from',source_df.created_at).\\\n",
    "                        withColumn('valid_to',current_date()).\\\n",
    "                select(target_df.id,target_df.name,target_df.email,\n",
    "                       target_df.country,col('valid_from'),col('valid_to'),col('is_active'))\n",
    "   \n",
    "\n",
    "    deactivate_join_cond = [target_df.id == deactivate_rec.id,target_df.is_active == 'Y',target_df.valid_to == '9999-01-01']\n",
    "    filter_target = target_df.alias('target').join(deactivate_rec.alias('deactivate') ,how='leftanti',on=deactivate_join_cond).\\\n",
    "                     select(col(\"target.id\"),col(\"target.name\"),col(\"target.email\"),\n",
    "                            col(\"target.country\"),col(\"target.valid_from\"),\n",
    "                            col(\"target.valid_to\"),col(\"target.is_active\"))\n",
    "                        \n",
    "    \n",
    "    updated_recs = filter_target.union(deactivate_rec)\n",
    "    \n",
    "    join_cond = [source_df.id == target_df.id,target_df.is_active == 'Y',\n",
    "                 concat(source_df.name,source_df.email,source_df.country) != \n",
    "                   concat(target_df.name,target_df.email,target_df.country)]\n",
    "    \n",
    "    non_updated_recs =  source_df.join(target_df,how='inner',on=join_cond).\\\n",
    "                        withColumn('is_active',lit('Y')).\\\n",
    "                        withColumn('valid_from',source_df.created_at).\\\n",
    "                        withColumn('valid_to',lit('9999-01-01')).\\\n",
    "                select(source_df.id,source_df.name,source_df.email,source_df.country,\n",
    "                       col('valid_from'),col('valid_to'),col('is_active'))\n",
    "    return updated_recs.union(non_updated_recs)\n",
    "   \n",
    "\n",
    "\n",
    "def get_updated_data(source_df,target_df):\n",
    "    \n",
    "    return source_df.join(target_df,source_df.id == target_df.id).\\\n",
    "            filter((target_df.is_active == 'Y') & \n",
    "                   (concat(source_df.name,source_df.email,source_df.country) != \n",
    "                   concat(target_df.name,target_df.email,target_df.country))).\\\n",
    "                        withColumn('is_active',lit('Y')).\\\n",
    "                        withColumn('valid_from',source_df.created_at).\\\n",
    "                        withColumn('valid_to',lit('9999-01-01')).\\\n",
    "                        select(source_df.id,source_df.name,source_df.email,\n",
    "                       source_df.country,col('valid_from'),col('valid_to'),col('is_active'))\n",
    "\n",
    "\n",
    "def process_scd_type2_data(source_df,target_df):\n",
    "    \n",
    "    new_records = get_new_data(source_df,target_df)\n",
    "    existing_records = deactivate_records(source_df,target_df)\n",
    "    updated_ecords = get_updated_data(source_df,target_df)\n",
    "    final_records = existing_records.union(new_records).union(updated_ecords)\n",
    "    return final_records\n",
    "\n"
   ]
  },
  {
   "cell_type": "code",
   "execution_count": null,
   "id": "56acb962",
   "metadata": {},
   "outputs": [],
   "source": []
  },
  {
   "cell_type": "markdown",
   "id": "a37d2a21",
   "metadata": {},
   "source": [
    "## Day-1 Suurce data processed"
   ]
  },
  {
   "cell_type": "code",
   "execution_count": 8,
   "id": "9239fc98",
   "metadata": {},
   "outputs": [
    {
     "name": "stdout",
     "output_type": "stream",
     "text": [
      "+---+------+-------------------+-------+----------+----------+---------+\n",
      "| id|  name|              email|country|valid_from|  valid_to|is_active|\n",
      "+---+------+-------------------+-------+----------+----------+---------+\n",
      "|  1|  KHAN|  khan101@gmail.com|  INDIA|2024-01-05|9999-01-01|        Y|\n",
      "|  2|TAUKIR|taukir101@gmail.com| CANADA|2024-01-06|9999-01-01|        Y|\n",
      "+---+------+-------------------+-------+----------+----------+---------+\n",
      "\n"
     ]
    }
   ],
   "source": [
    "final_records = process_scd_type2_data(source_df,target_df) \n",
    "pd_write(final_records)\n",
    "final_records.show()"
   ]
  },
  {
   "cell_type": "markdown",
   "id": "9dfb573f",
   "metadata": {},
   "source": [
    "## Day-2 Suurce data processed"
   ]
  },
  {
   "cell_type": "code",
   "execution_count": 9,
   "id": "ebf29fa2",
   "metadata": {},
   "outputs": [
    {
     "name": "stdout",
     "output_type": "stream",
     "text": [
      "+---+------+-------------------+-------+----------+\n",
      "| id|  name|              email|country|created_at|\n",
      "+---+------+-------------------+-------+----------+\n",
      "|  1|  KHAN|  khan101@gmail.com|  INDIA|2024-01-07|\n",
      "|  2|TAUKIR|taukir101@gmail.com| CANADA|2024-01-07|\n",
      "+---+------+-------------------+-------+----------+\n",
      "\n"
     ]
    }
   ],
   "source": [
    "file_path =\"E:\\workforce\\spark\\data\\scd_type_data\\source_emp_day2.csv\"\n",
    "source_df = read_data(spark, file_path)\n",
    "source_df.show()"
   ]
  },
  {
   "cell_type": "code",
   "execution_count": 10,
   "id": "765dc1e0",
   "metadata": {},
   "outputs": [
    {
     "name": "stdout",
     "output_type": "stream",
     "text": [
      "+---+------+-------------------+-------+----------+----------+---------+\n",
      "| id|  name|              email|country|valid_from|  valid_to|is_active|\n",
      "+---+------+-------------------+-------+----------+----------+---------+\n",
      "|  1|  KHAN|  khan101@gmail.com|  INDIA|2024-01-05|9999-01-01|        Y|\n",
      "|  2|TAUKIR|taukir101@gmail.com| CANADA|2024-01-06|9999-01-01|        Y|\n",
      "+---+------+-------------------+-------+----------+----------+---------+\n",
      "\n"
     ]
    }
   ],
   "source": [
    "target_file_path =\"E:\\\\workforce\\\\spark\\\\data\\\\scd_type_data\\\\temp\\\\target_emp.csv\"\n",
    "target_df = read_data(spark, target_file_path)\n",
    "target_df.show()"
   ]
  },
  {
   "cell_type": "code",
   "execution_count": null,
   "id": "c75aa763",
   "metadata": {},
   "outputs": [],
   "source": []
  },
  {
   "cell_type": "code",
   "execution_count": 11,
   "id": "7e84959a",
   "metadata": {},
   "outputs": [
    {
     "name": "stdout",
     "output_type": "stream",
     "text": [
      "+---+------+-------------------+-------+----------+----------+---------+\n",
      "| id|  name|              email|country|valid_from|  valid_to|is_active|\n",
      "+---+------+-------------------+-------+----------+----------+---------+\n",
      "|  1|  KHAN|  khan101@gmail.com|  INDIA|2024-01-05|9999-01-01|        Y|\n",
      "|  2|TAUKIR|taukir101@gmail.com| CANADA|2024-01-06|9999-01-01|        Y|\n",
      "+---+------+-------------------+-------+----------+----------+---------+\n",
      "\n"
     ]
    }
   ],
   "source": [
    "final_records = process_scd_type2_data(source_df,target_df) \n",
    "pd_write(final_records)\n",
    "final_records.show()"
   ]
  },
  {
   "cell_type": "markdown",
   "id": "f9863d49",
   "metadata": {},
   "source": [
    "## Day-3 Suurce data processed"
   ]
  },
  {
   "cell_type": "code",
   "execution_count": 12,
   "id": "8f7468da",
   "metadata": {},
   "outputs": [
    {
     "name": "stdout",
     "output_type": "stream",
     "text": [
      "+---+------+-------------------+---------+----------+\n",
      "| id|  name|              email|  country|created_at|\n",
      "+---+------+-------------------+---------+----------+\n",
      "|  1|  KHAN|  khan101@gmail.com|AUSTRALIA|2024-01-08|\n",
      "|  2|TAUKIR|taukir101@gmail.com|   CANADA|2024-01-07|\n",
      "+---+------+-------------------+---------+----------+\n",
      "\n"
     ]
    }
   ],
   "source": [
    "file_path =\"E:\\workforce\\spark\\data\\scd_type_data\\source_emp_day3.csv\"\n",
    "source_df = read_data(spark, file_path)\n",
    "source_df.show()"
   ]
  },
  {
   "cell_type": "code",
   "execution_count": 13,
   "id": "e7ff3720",
   "metadata": {},
   "outputs": [
    {
     "name": "stdout",
     "output_type": "stream",
     "text": [
      "+---+------+-------------------+-------+----------+----------+---------+\n",
      "| id|  name|              email|country|valid_from|  valid_to|is_active|\n",
      "+---+------+-------------------+-------+----------+----------+---------+\n",
      "|  1|  KHAN|  khan101@gmail.com|  INDIA|2024-01-05|9999-01-01|        Y|\n",
      "|  2|TAUKIR|taukir101@gmail.com| CANADA|2024-01-06|9999-01-01|        Y|\n",
      "+---+------+-------------------+-------+----------+----------+---------+\n",
      "\n"
     ]
    }
   ],
   "source": [
    "target_file_path =\"E:\\\\workforce\\\\spark\\\\data\\\\scd_type_data\\\\temp\\\\target_emp.csv\"\n",
    "target_df = read_data(spark, target_file_path)\n",
    "target_df.show()"
   ]
  },
  {
   "cell_type": "code",
   "execution_count": 14,
   "id": "e48385e9",
   "metadata": {},
   "outputs": [
    {
     "name": "stdout",
     "output_type": "stream",
     "text": [
      "+---+------+-------------------+---------+----------+----------+---------+\n",
      "| id|  name|              email|  country|valid_from|  valid_to|is_active|\n",
      "+---+------+-------------------+---------+----------+----------+---------+\n",
      "|  2|TAUKIR|taukir101@gmail.com|   CANADA|2024-01-06|9999-01-01|        Y|\n",
      "|  1|  KHAN|  khan101@gmail.com|    INDIA|2024-01-08|2024-04-07|        N|\n",
      "|  1|  KHAN|  khan101@gmail.com|AUSTRALIA|2024-01-08|9999-01-01|        Y|\n",
      "|  1|  KHAN|  khan101@gmail.com|AUSTRALIA|2024-01-08|9999-01-01|        Y|\n",
      "+---+------+-------------------+---------+----------+----------+---------+\n",
      "\n"
     ]
    }
   ],
   "source": [
    "final_records = process_scd_type2_data(source_df,target_df) \n",
    "final_records.show()"
   ]
  },
  {
   "cell_type": "code",
   "execution_count": 15,
   "id": "a4739854",
   "metadata": {},
   "outputs": [
    {
     "name": "stdout",
     "output_type": "stream",
     "text": [
      "+---+------+-------------------+---------+----------+----------+---------+\n",
      "| id|  name|              email|  country|valid_from|  valid_to|is_active|\n",
      "+---+------+-------------------+---------+----------+----------+---------+\n",
      "|  2|TAUKIR|taukir101@gmail.com|   CANADA|2024-01-06|9999-01-01|        Y|\n",
      "|  1|  KHAN|  khan101@gmail.com|    INDIA|2024-01-08|2024-04-07|        N|\n",
      "|  1|  KHAN|  khan101@gmail.com|AUSTRALIA|2024-01-08|9999-01-01|        Y|\n",
      "+---+------+-------------------+---------+----------+----------+---------+\n",
      "\n"
     ]
    }
   ],
   "source": [
    "pd_write(final_records)\n",
    "final_records.show()"
   ]
  },
  {
   "cell_type": "markdown",
   "id": "95d5a83b",
   "metadata": {},
   "source": [
    "## Day-4 Suurce data processed"
   ]
  },
  {
   "cell_type": "code",
   "execution_count": 16,
   "id": "5e5fb87a",
   "metadata": {},
   "outputs": [
    {
     "name": "stdout",
     "output_type": "stream",
     "text": [
      "+---+------+-------------------+---------+----------+\n",
      "| id|  name|              email|  country|created_at|\n",
      "+---+------+-------------------+---------+----------+\n",
      "|  1|  KHAN|  khan101@gmail.com|AUSTRALIA|2024-01-08|\n",
      "|  2|TAUKIR|taukir101@gmail.com|   CANADA|2024-01-07|\n",
      "|  3|   SAM|      sam@gmail.com|   CANADA|2024-01-15|\n",
      "+---+------+-------------------+---------+----------+\n",
      "\n"
     ]
    }
   ],
   "source": [
    "file_path =\"E:\\workforce\\spark\\data\\scd_type_data\\source_emp_day4.csv\"\n",
    "source_df = read_data(spark, file_path)\n",
    "source_df.show()"
   ]
  },
  {
   "cell_type": "code",
   "execution_count": 17,
   "id": "bff0a8fe",
   "metadata": {},
   "outputs": [
    {
     "name": "stdout",
     "output_type": "stream",
     "text": [
      "+---+------+-------------------+---------+----------+----------+---------+\n",
      "| id|  name|              email|  country|valid_from|  valid_to|is_active|\n",
      "+---+------+-------------------+---------+----------+----------+---------+\n",
      "|  2|TAUKIR|taukir101@gmail.com|   CANADA|2024-01-06|9999-01-01|        Y|\n",
      "|  1|  KHAN|  khan101@gmail.com|    INDIA|2024-01-08|2024-04-07|        N|\n",
      "|  1|  KHAN|  khan101@gmail.com|AUSTRALIA|2024-01-08|9999-01-01|        Y|\n",
      "|  1|  KHAN|  khan101@gmail.com|AUSTRALIA|2024-01-08|9999-01-01|        Y|\n",
      "+---+------+-------------------+---------+----------+----------+---------+\n",
      "\n"
     ]
    }
   ],
   "source": [
    "target_file_path =\"E:\\\\workforce\\\\spark\\\\data\\\\scd_type_data\\\\temp\\\\target_emp.csv\"\n",
    "target_df = read_data(spark, target_file_path)\n",
    "target_df.show()"
   ]
  },
  {
   "cell_type": "code",
   "execution_count": 18,
   "id": "b7ac335d",
   "metadata": {},
   "outputs": [
    {
     "name": "stdout",
     "output_type": "stream",
     "text": [
      "+---+------+-------------------+---------+----------+----------+---------+\n",
      "| id|  name|              email|  country|valid_from|  valid_to|is_active|\n",
      "+---+------+-------------------+---------+----------+----------+---------+\n",
      "|  2|TAUKIR|taukir101@gmail.com|   CANADA|2024-01-06|9999-01-01|        Y|\n",
      "|  1|  KHAN|  khan101@gmail.com|    INDIA|2024-01-08|2024-04-07|        N|\n",
      "|  1|  KHAN|  khan101@gmail.com|AUSTRALIA|2024-01-08|9999-01-01|        Y|\n",
      "|  1|  KHAN|  khan101@gmail.com|AUSTRALIA|2024-01-08|9999-01-01|        Y|\n",
      "|  3|   SAM|      sam@gmail.com|   CANADA|2024-01-15|9999-01-01|        Y|\n",
      "+---+------+-------------------+---------+----------+----------+---------+\n",
      "\n"
     ]
    }
   ],
   "source": [
    "final_records = process_scd_type2_data(source_df,target_df) \n",
    "final_records.show()"
   ]
  },
  {
   "cell_type": "code",
   "execution_count": 19,
   "id": "924297a8",
   "metadata": {},
   "outputs": [
    {
     "name": "stdout",
     "output_type": "stream",
     "text": [
      "+---+------+-------------------+---------+----------+----------+---------+\n",
      "| id|  name|              email|  country|valid_from|  valid_to|is_active|\n",
      "+---+------+-------------------+---------+----------+----------+---------+\n",
      "|  2|TAUKIR|taukir101@gmail.com|   CANADA|2024-01-06|9999-01-01|        Y|\n",
      "|  1|  KHAN|  khan101@gmail.com|    INDIA|2024-01-08|2024-04-07|        N|\n",
      "|  1|  KHAN|  khan101@gmail.com|AUSTRALIA|2024-01-08|9999-01-01|        Y|\n",
      "|  1|  KHAN|  khan101@gmail.com|AUSTRALIA|2024-01-08|9999-01-01|        Y|\n",
      "|  3|   SAM|      sam@gmail.com|   CANADA|2024-01-15|9999-01-01|        Y|\n",
      "+---+------+-------------------+---------+----------+----------+---------+\n",
      "\n"
     ]
    }
   ],
   "source": [
    "pd_write(final_records)\n",
    "final_records.show()"
   ]
  },
  {
   "cell_type": "markdown",
   "id": "3be31b7b",
   "metadata": {},
   "source": [
    "```\n",
    "\n",
    "+---+------+-------------------+---------+----------+----------+---------+\n",
    "| id|  name|              email|  country|valid_from|  valid_to|is_active|\n",
    "+---+------+-------------------+---------+----------+----------+---------+\n",
    "|  2|TAUKIR|taukir101@gmail.com|   CANADA|2024-01-06|9999-01-01|        Y|\n",
    "|  1|  KHAN|  khan101@gmail.com|    INDIA|2024-01-08|2024-04-07|        N|\n",
    "|  1|  KHAN|  khan101@gmail.com|AUSTRALIA|2024-01-08|9999-01-01|        Y|\n",
    "|  3|   SAM|      sam@gmail.com|   CANADA|2024-01-15|9999-01-01|        Y|\n",
    "+---+------+-------------------+---------+----------+----------+---------+\n",
    "```"
   ]
  }
 ],
 "metadata": {
  "kernelspec": {
   "display_name": "Python 3 (ipykernel)",
   "language": "python",
   "name": "python3"
  },
  "language_info": {
   "codemirror_mode": {
    "name": "ipython",
    "version": 3
   },
   "file_extension": ".py",
   "mimetype": "text/x-python",
   "name": "python",
   "nbconvert_exporter": "python",
   "pygments_lexer": "ipython3",
   "version": "3.10.4"
  }
 },
 "nbformat": 4,
 "nbformat_minor": 5
}
