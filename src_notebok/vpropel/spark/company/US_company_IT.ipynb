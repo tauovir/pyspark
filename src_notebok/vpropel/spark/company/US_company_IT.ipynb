{
 "cells": [
  {
   "cell_type": "markdown",
   "id": "674e7ba0",
   "metadata": {},
   "source": [
    "**The below question were asked during the interview**"
   ]
  },
  {
   "cell_type": "markdown",
   "id": "8da4e87f",
   "metadata": {},
   "source": [
    "### Python Problem2"
   ]
  },
  {
   "cell_type": "code",
   "execution_count": 1,
   "id": "f2149e85",
   "metadata": {},
   "outputs": [
    {
     "name": "stdout",
     "output_type": "stream",
     "text": [
      "{'x': 'y', '1': '2', 't': 'y'}\n"
     ]
    }
   ],
   "source": [
    "\n",
    "# Problem-1\n",
    "data_dict = [\n",
    "{ \"x\": \"y\"},\n",
    "{ \"1\": \"2\"},\n",
    "{ \"t\": \"y\"}\n",
    "]\n",
    "\n",
    "# Output: {\"x\": \"y\", \"1\": \"2\", \"t\": \"y\"}\n",
    "\n",
    "def reformat(data_dict):\n",
    "    response = {}\n",
    "    for row in data_dict:\n",
    "        for key,val in row.items():\n",
    "            response[key] = val\n",
    "    return response\n",
    "print(reformat(data_dict))"
   ]
  },
  {
   "cell_type": "markdown",
   "id": "3b51bdca",
   "metadata": {},
   "source": [
    "### Python Problem2"
   ]
  },
  {
   "cell_type": "code",
   "execution_count": 3,
   "id": "de1e9f29",
   "metadata": {},
   "outputs": [
    {
     "name": "stdout",
     "output_type": "stream",
     "text": [
      "['c']\n",
      "{'c'}\n"
     ]
    }
   ],
   "source": [
    "x = [ 'a', 'b', 'c' ] \n",
    "y = [ 'a', 'b' ]\n",
    "# how to get x - y operation\n",
    "res1 = [ele for ele in x if ele not in y]\n",
    "print(res1)\n",
    "res2 = set(x) - set(y)\n",
    "print(res2)"
   ]
  },
  {
   "cell_type": "markdown",
   "id": "7cabaea3",
   "metadata": {},
   "source": [
    "### Pyspark Problem"
   ]
  },
  {
   "cell_type": "code",
   "execution_count": 82,
   "id": "b26ec9df",
   "metadata": {},
   "outputs": [],
   "source": [
    "#Pyspark:\n",
    "from pyspark.sql import SparkSession\n",
    "from pyspark.sql import functions as FS\n",
    "from pyspark.sql import Window as WN"
   ]
  },
  {
   "cell_type": "code",
   "execution_count": 6,
   "id": "9acd2bdf",
   "metadata": {},
   "outputs": [],
   "source": [
    "dataset = [\n",
    "    {\"id\":\"abc\",\"amount\":10},\n",
    "    {\"id\":\"def\",\"amount\":20}\n",
    "]\n",
    "spark = SparkSession.builder.master(\"local[2]\").appName(\"US_Client\").getOrCreate()"
   ]
  },
  {
   "cell_type": "code",
   "execution_count": 1,
   "id": "171f33b0",
   "metadata": {},
   "outputs": [
    {
     "ename": "NameError",
     "evalue": "name 'spark' is not defined",
     "output_type": "error",
     "traceback": [
      "\u001b[1;31m---------------------------------------------------------------------------\u001b[0m",
      "\u001b[1;31mNameError\u001b[0m                                 Traceback (most recent call last)",
      "Input \u001b[1;32mIn [1]\u001b[0m, in \u001b[0;36m<cell line: 5>\u001b[1;34m()\u001b[0m\n\u001b[0;32m      1\u001b[0m sql \u001b[38;5;241m=\u001b[39m \u001b[38;5;124m\"\"\"\u001b[39m\n\u001b[0;32m      2\u001b[0m \u001b[38;5;124mselect 10\u001b[39m\n\u001b[0;32m      3\u001b[0m \u001b[38;5;124munion select 10\u001b[39m\n\u001b[0;32m      4\u001b[0m \u001b[38;5;124m\"\"\"\u001b[39m\n\u001b[1;32m----> 5\u001b[0m \u001b[43mspark\u001b[49m\u001b[38;5;241m.\u001b[39msql(sql)\u001b[38;5;241m.\u001b[39mshow()\n",
      "\u001b[1;31mNameError\u001b[0m: name 'spark' is not defined"
     ]
    }
   ],
   "source": [
    "sql = \"\"\"\n",
    "select 10\n",
    "union select 10\n",
    "\"\"\"\n",
    "spark.sql(sql).show()"
   ]
  }
 ],
 "metadata": {
  "kernelspec": {
   "display_name": "Python 3 (ipykernel)",
   "language": "python",
   "name": "python3"
  },
  "language_info": {
   "codemirror_mode": {
    "name": "ipython",
    "version": 3
   },
   "file_extension": ".py",
   "mimetype": "text/x-python",
   "name": "python",
   "nbconvert_exporter": "python",
   "pygments_lexer": "ipython3",
   "version": "3.10.4"
  }
 },
 "nbformat": 4,
 "nbformat_minor": 5
}
