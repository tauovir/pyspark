{
 "cells": [
  {
   "cell_type": "code",
   "execution_count": 8,
   "id": "9fb9b059",
   "metadata": {},
   "outputs": [],
   "source": [
    "from pyspark.sql import SparkSession\n",
    "from pyspark.sql import functions as FS"
   ]
  },
  {
   "cell_type": "code",
   "execution_count": 3,
   "id": "b7173b25",
   "metadata": {},
   "outputs": [],
   "source": [
    "spark = SparkSession.builder.master(\"local[2]\").appName(\"Indian Cricket Data\").getOrCreate()"
   ]
  },
  {
   "cell_type": "markdown",
   "id": "0f0380d5",
   "metadata": {},
   "source": [
    "#### Cricket Data "
   ]
  },
  {
   "cell_type": "code",
   "execution_count": 5,
   "id": "9c059fb7",
   "metadata": {},
   "outputs": [],
   "source": [
    "cricket_data = [(\"Virat Kohli\", 85, 100, 75),\n",
    "        (\"Steve Smith\", 90, 105, 80),\n",
    "        (\"Kane Williamson\", 88, 95, 70)]\n",
    "columns = [\"Player\", \"Match1\", \"Match2\", \"Match3\"]"
   ]
  },
  {
   "cell_type": "code",
   "execution_count": 6,
   "id": "252ebb34",
   "metadata": {},
   "outputs": [
    {
     "name": "stdout",
     "output_type": "stream",
     "text": [
      "+---------------+------+------+------+\n",
      "|         Player|Match1|Match2|Match3|\n",
      "+---------------+------+------+------+\n",
      "|    Virat Kohli|    85|   100|    75|\n",
      "|    Steve Smith|    90|   105|    80|\n",
      "|Kane Williamson|    88|    95|    70|\n",
      "+---------------+------+------+------+\n",
      "\n"
     ]
    }
   ],
   "source": [
    "cricket_df = spark.createDataFrame(data = cricket_data,schema = columns)\n",
    "cricket_df.show()"
   ]
  },
  {
   "cell_type": "markdown",
   "id": "857fd30c",
   "metadata": {},
   "source": [
    "**Pivote:** Conver Row to column format<br>\n",
    "**UnPivote:** Convert Column to Row\n",
    "**Convert the above Dataframe format into below format**<br>\n",
    "```\n",
    "+---------------+------+-----+\n",
    "|         Player| Match|Score|\n",
    "+---------------+------+-----+\n",
    "|    Virat Kohli|Match1|   85|\n",
    "|    Virat Kohli|Match2|  100|\n",
    "|    Virat Kohli|Match3|   75|\n",
    "|    Steve Smith|Match1|   90|\n",
    "|    Steve Smith|Match2|  105|\n",
    "|    Steve Smith|Match3|   80|\n",
    "|Kane Williamson|Match1|   88|\n",
    "|Kane Williamson|Match2|   95|\n",
    "|Kane Williamson|Match3|   70|\n",
    "+---------------+------+-----+\n",
    "\n",
    "```"
   ]
  },
  {
   "cell_type": "markdown",
   "id": "30c25496",
   "metadata": {},
   "source": [
    "#### create unpivote data Frame"
   ]
  },
  {
   "cell_type": "code",
   "execution_count": 24,
   "id": "443496c9",
   "metadata": {},
   "outputs": [
    {
     "name": "stdout",
     "output_type": "stream",
     "text": [
      "+---------------+------+-----+\n",
      "|         Player| Match|Score|\n",
      "+---------------+------+-----+\n",
      "|    Virat Kohli|Match1|   85|\n",
      "|    Virat Kohli|Match2|  100|\n",
      "|    Virat Kohli|Match3|   75|\n",
      "|    Steve Smith|Match1|   90|\n",
      "|    Steve Smith|Match2|  105|\n",
      "|    Steve Smith|Match3|   80|\n",
      "|Kane Williamson|Match1|   88|\n",
      "|Kane Williamson|Match2|   95|\n",
      "|Kane Williamson|Match3|   70|\n",
      "+---------------+------+-----+\n",
      "\n"
     ]
    }
   ],
   "source": [
    "# stack_expr = \"stack(1,'Match1', Match1) as (Match, Score)\"\n",
    "# stack_expr = \"stack(2,'Match1', Match1,'Match2',Match2) as (Match, Score)\"\n",
    "stack_expr = \"stack(3,'Match1', Match1,'Match2',Match2,'Match3',Match3) as (Match, Score)\"\n",
    "stack_df1 = cricket_df.select(\"Player\",FS.expr(stack_expr))\n",
    "stack_df1.show()"
   ]
  },
  {
   "cell_type": "code",
   "execution_count": null,
   "id": "519b7e58",
   "metadata": {},
   "outputs": [],
   "source": []
  }
 ],
 "metadata": {
  "kernelspec": {
   "display_name": "Python 3 (ipykernel)",
   "language": "python",
   "name": "python3"
  },
  "language_info": {
   "codemirror_mode": {
    "name": "ipython",
    "version": 3
   },
   "file_extension": ".py",
   "mimetype": "text/x-python",
   "name": "python",
   "nbconvert_exporter": "python",
   "pygments_lexer": "ipython3",
   "version": "3.10.4"
  }
 },
 "nbformat": 4,
 "nbformat_minor": 5
}
