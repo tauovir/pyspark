{
 "cells": [
  {
   "cell_type": "code",
   "execution_count": 1,
   "id": "324588c6",
   "metadata": {},
   "outputs": [],
   "source": [
    "from pyspark.sql import SparkSession\n",
    "from pyspark.sql.functions import *\n",
    "from pyspark.sql import Window as WN"
   ]
  },
  {
   "cell_type": "code",
   "execution_count": 2,
   "id": "b67c4f80",
   "metadata": {},
   "outputs": [],
   "source": [
    "spark = SparkSession.builder.master(\"local[2]\").appName(\"Spark-Query\").getOrCreate()"
   ]
  },
  {
   "cell_type": "code",
   "execution_count": 3,
   "id": "3ca1f6c4",
   "metadata": {},
   "outputs": [],
   "source": [
    "file_path =\"E:\\\\workforce\\\\spark\\\\data\\\\emp_json.json\"\n",
    "# dataframe = spark.read.load(file_path, format='json',multiLine=True,schema=None)\n",
    "dataframe = spark.read.format(\"json\").option(\"path\",file_path).option(\"multiLine\",True).option(\"schema\",None).load()"
   ]
  },
  {
   "cell_type": "code",
   "execution_count": 4,
   "id": "1312fc9f",
   "metadata": {},
   "outputs": [
    {
     "name": "stdout",
     "output_type": "stream",
     "text": [
      "+-------------------+------+----------------------+------+------+\n",
      "|address            |fname |languages             |lname |salary|\n",
      "+-------------------+------+----------------------+------+------+\n",
      "|[{India}, {Canada}]|Taukir|[english, hindi, urdu]|khan  |30    |\n",
      "|[{India}, {Canada}]|Zeenat|[english, urdu]       |khan  |50    |\n",
      "|[{germany}]        |Banana|[tamil, english]      |haider|25    |\n",
      "+-------------------+------+----------------------+------+------+\n",
      "\n"
     ]
    }
   ],
   "source": [
    "dataframe.show(truncate = False)"
   ]
  },
  {
   "cell_type": "code",
   "execution_count": 5,
   "id": "823522e2",
   "metadata": {},
   "outputs": [
    {
     "name": "stdout",
     "output_type": "stream",
     "text": [
      "+------+------------------+\n",
      "| fname|address[0].country|\n",
      "+------+------------------+\n",
      "|Taukir|             India|\n",
      "|Zeenat|             India|\n",
      "|Banana|           germany|\n",
      "+------+------------------+\n",
      "\n"
     ]
    }
   ],
   "source": [
    "dataframe.select(col(\"fname\"),col(\"address\")[0].getItem('country')).show()"
   ]
  },
  {
   "cell_type": "code",
   "execution_count": 6,
   "id": "4c903772",
   "metadata": {},
   "outputs": [
    {
     "name": "stdout",
     "output_type": "stream",
     "text": [
      "+------+------------+\n",
      "| fname|languages[2]|\n",
      "+------+------------+\n",
      "|Taukir|        urdu|\n",
      "|Zeenat|        NULL|\n",
      "|Banana|        NULL|\n",
      "+------+------------+\n",
      "\n"
     ]
    }
   ],
   "source": [
    "dataframe.select(col(\"fname\"),col(\"languages\")[2]).show()"
   ]
  },
  {
   "cell_type": "code",
   "execution_count": 7,
   "id": "f503ac9b",
   "metadata": {},
   "outputs": [
    {
     "name": "stdout",
     "output_type": "stream",
     "text": [
      "+----------+\n",
      "|      name|\n",
      "+----------+\n",
      "|Taukirkhan|\n",
      "|Zeenatkhan|\n",
      "+----------+\n",
      "\n"
     ]
    }
   ],
   "source": [
    "dataframe.select(concat(col(\"fname\"),col(\"lname\")).alias(\"name\")).\\\n",
    "filter(col(\"address\")[0].getItem('country') == 'India').show()"
   ]
  },
  {
   "cell_type": "code",
   "execution_count": 8,
   "id": "2222399a",
   "metadata": {},
   "outputs": [],
   "source": [
    "# dataframe.select(dataframe.fname).show()\n",
    "# dataframe.select(dataframe.address[0].country).show()"
   ]
  },
  {
   "cell_type": "markdown",
   "id": "e39a3b18",
   "metadata": {},
   "source": [
    "%md\n",
    "### Creating a new column as Json type"
   ]
  },
  {
   "cell_type": "code",
   "execution_count": 95,
   "id": "b0d616fd",
   "metadata": {},
   "outputs": [],
   "source": [
    "from pyspark.sql.types import IntegerType,StringType,StructField,MapType,StructType,ArrayType"
   ]
  },
  {
   "cell_type": "code",
   "execution_count": 34,
   "id": "116ea90f",
   "metadata": {},
   "outputs": [
    {
     "name": "stdout",
     "output_type": "stream",
     "text": [
      "+-----+---------+------+------+------+------+\n",
      "|bonus|deduction| fname|gender| lname|salary|\n",
      "+-----+---------+------+------+------+------+\n",
      "| 1000|      500| Rahul|     M| Kumar| 10000|\n",
      "| 2000|     NULL|Taukir|     M|  Khan| 12000|\n",
      "| 3000|     2000| Pooja|     F|Sharma| 15000|\n",
      "| 3000|     2000|  Ravi| other|Kumari| 15000|\n",
      "+-----+---------+------+------+------+------+\n",
      "\n"
     ]
    }
   ],
   "source": [
    "data = [\n",
    "    {\"fname\": \"Rahul\", \"lname\": \"Kumar\", \"gender\": \"M\", \"salary\": 10000, \"bonus\": 1000, \"deduction\": 500},\n",
    "    {\"fname\": \"Taukir\", \"lname\": \"Khan\", \"gender\": \"M\", \"salary\": 12000, \"bonus\": 2000},\n",
    "    {\"fname\": \"Pooja\", \"lname\": \"Sharma\", \"gender\": \"F\", \"salary\": 15000, \"bonus\": 3000, \"deduction\": 2000},\n",
    "     {\"fname\": \"Ravi\", \"lname\": \"Kumari\", \"gender\": \"other\", \"salary\": 15000, \"bonus\": 3000, \"deduction\": 2000}\n",
    "]\n",
    "dataframe = spark.createDataFrame(data) \n",
    "dataframe.show()"
   ]
  },
  {
   "cell_type": "code",
   "execution_count": 91,
   "id": "a55c0108",
   "metadata": {},
   "outputs": [
    {
     "data": {
      "text/plain": [
       "Column<'{\"device\": \"mobile\", \"country\": \"India\", \"languages\": [\"English\", \"Hindi\"]}'>"
      ]
     },
     "execution_count": 91,
     "metadata": {},
     "output_type": "execute_result"
    }
   ],
   "source": [
    "## Make json type object\n",
    "import json\n",
    "d1 = {\"device\":\"mobile\",\"country\" : \"India\",'languages' : ['English','Hindi']}\n",
    "json_col = lit(json.dumps(d1))\n",
    "json_col"
   ]
  },
  {
   "cell_type": "code",
   "execution_count": 92,
   "id": "caeab0f8",
   "metadata": {},
   "outputs": [
    {
     "name": "stdout",
     "output_type": "stream",
     "text": [
      "+-----+---------+------+------+------+------+---------------------------------------------------------------------------+\n",
      "|bonus|deduction|fname |gender|lname |salary|src_rec                                                                    |\n",
      "+-----+---------+------+------+------+------+---------------------------------------------------------------------------+\n",
      "|1000 |500      |Rahul |M     |Kumar |10000 |{\"device\": \"mobile\", \"country\": \"India\", \"languages\": [\"English\", \"Hindi\"]}|\n",
      "|2000 |NULL     |Taukir|M     |Khan  |12000 |{\"device\": \"mobile\", \"country\": \"India\", \"languages\": [\"English\", \"Hindi\"]}|\n",
      "|3000 |2000     |Pooja |F     |Sharma|15000 |{\"device\": \"mobile\", \"country\": \"India\", \"languages\": [\"English\", \"Hindi\"]}|\n",
      "|3000 |2000     |Ravi  |other |Kumari|15000 |{\"device\": \"mobile\", \"country\": \"India\", \"languages\": [\"English\", \"Hindi\"]}|\n",
      "+-----+---------+------+------+------+------+---------------------------------------------------------------------------+\n",
      "\n"
     ]
    }
   ],
   "source": [
    "dataframe2 = dataframe.withColumn('src_rec',lit(json_col))\n",
    "dataframe2.show(truncate = False)"
   ]
  },
  {
   "cell_type": "code",
   "execution_count": 41,
   "id": "31ad4422",
   "metadata": {},
   "outputs": [],
   "source": [
    "## We need to conver json string data to Map type in order to access the key and value\n",
    "##dataframe2.select(col('src_rec.divice')).show()"
   ]
  },
  {
   "cell_type": "code",
   "execution_count": 93,
   "id": "370e9f2b",
   "metadata": {},
   "outputs": [
    {
     "name": "stdout",
     "output_type": "stream",
     "text": [
      "root\n",
      " |-- bonus: long (nullable = true)\n",
      " |-- deduction: long (nullable = true)\n",
      " |-- fname: string (nullable = true)\n",
      " |-- gender: string (nullable = true)\n",
      " |-- lname: string (nullable = true)\n",
      " |-- salary: long (nullable = true)\n",
      " |-- src_rec: string (nullable = false)\n",
      "\n"
     ]
    }
   ],
   "source": [
    "dataframe2.printSchema()"
   ]
  },
  {
   "cell_type": "code",
   "execution_count": 99,
   "id": "333f753f",
   "metadata": {},
   "outputs": [
    {
     "name": "stdout",
     "output_type": "stream",
     "text": [
      "+-----+---------+------+------+------+------+---------------------------------+\n",
      "|bonus|deduction|fname |gender|lname |salary|src_rec                          |\n",
      "+-----+---------+------+------+------+------+---------------------------------+\n",
      "|1000 |500      |Rahul |M     |Kumar |10000 |{mobile, India, [English, Hindi]}|\n",
      "|2000 |NULL     |Taukir|M     |Khan  |12000 |{mobile, India, [English, Hindi]}|\n",
      "|3000 |2000     |Pooja |F     |Sharma|15000 |{mobile, India, [English, Hindi]}|\n",
      "|3000 |2000     |Ravi  |other |Kumari|15000 |{mobile, India, [English, Hindi]}|\n",
      "+-----+---------+------+------+------+------+---------------------------------+\n",
      "\n"
     ]
    }
   ],
   "source": [
    "# src_rec_type = spark.read.json(dataframe2.rdd.map(lambda row: row.src_rec)).schema\n",
    "#json_schema = spark.read.json(df.rdd.map(lambda row: row.json)).schema\n",
    "src_rec_type = StructType(\n",
    "  [\n",
    "    StructField('device', StringType(), True),\n",
    "    StructField('country', StringType(), True),\n",
    "    StructField('languages', ArrayType(StringType()), True)\n",
    "  ]\n",
    ")\n",
    "\n",
    "dataframe3 = dataframe2.withColumn('src_rec',from_json(col('src_rec'), schema))\n",
    "dataframe3.show(truncate = False)"
   ]
  },
  {
   "cell_type": "code",
   "execution_count": 100,
   "id": "04ae7828",
   "metadata": {},
   "outputs": [
    {
     "name": "stdout",
     "output_type": "stream",
     "text": [
      "root\n",
      " |-- bonus: long (nullable = true)\n",
      " |-- deduction: long (nullable = true)\n",
      " |-- fname: string (nullable = true)\n",
      " |-- gender: string (nullable = true)\n",
      " |-- lname: string (nullable = true)\n",
      " |-- salary: long (nullable = true)\n",
      " |-- src_rec: struct (nullable = true)\n",
      " |    |-- device: string (nullable = true)\n",
      " |    |-- country: string (nullable = true)\n",
      " |    |-- languages: array (nullable = true)\n",
      " |    |    |-- element: string (containsNull = true)\n",
      "\n"
     ]
    }
   ],
   "source": [
    "dataframe3.printSchema()"
   ]
  },
  {
   "cell_type": "code",
   "execution_count": 102,
   "id": "16e4aa53",
   "metadata": {},
   "outputs": [
    {
     "name": "stdout",
     "output_type": "stream",
     "text": [
      "+------+-------+\n",
      "| fname|country|\n",
      "+------+-------+\n",
      "| Rahul|  India|\n",
      "|Taukir|  India|\n",
      "| Pooja|  India|\n",
      "|  Ravi|  India|\n",
      "+------+-------+\n",
      "\n"
     ]
    }
   ],
   "source": [
    "dataframe3.select(col('fname'),col('src_rec.country')).show()"
   ]
  },
  {
   "cell_type": "code",
   "execution_count": 105,
   "id": "af41f14c",
   "metadata": {},
   "outputs": [
    {
     "data": {
      "text/plain": [
       "StructType([StructField('_corrupt_record', StringType(), True)])"
      ]
     },
     "execution_count": 105,
     "metadata": {},
     "output_type": "execute_result"
    }
   ],
   "source": [
    "json_schema = spark.read.json(dataframe2.rdd.map(lambda row: row.fname)).schema\n",
    "json_schema"
   ]
  },
  {
   "cell_type": "code",
   "execution_count": 108,
   "id": "880a7eeb",
   "metadata": {},
   "outputs": [
    {
     "data": {
      "text/plain": [
       "Column<'fname[schema]'>"
      ]
     },
     "execution_count": 108,
     "metadata": {},
     "output_type": "execute_result"
    }
   ],
   "source": []
  }
 ],
 "metadata": {
  "kernelspec": {
   "display_name": "Python 3 (ipykernel)",
   "language": "python",
   "name": "python3"
  },
  "language_info": {
   "codemirror_mode": {
    "name": "ipython",
    "version": 3
   },
   "file_extension": ".py",
   "mimetype": "text/x-python",
   "name": "python",
   "nbconvert_exporter": "python",
   "pygments_lexer": "ipython3",
   "version": "3.10.4"
  }
 },
 "nbformat": 4,
 "nbformat_minor": 5
}
