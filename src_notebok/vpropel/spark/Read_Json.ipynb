{
 "cells": [
  {
   "cell_type": "code",
   "execution_count": 1,
   "id": "324588c6",
   "metadata": {},
   "outputs": [],
   "source": [
    "from pyspark.sql import SparkSession\n",
    "from pyspark.sql.functions import *\n",
    "from pyspark.sql import Window as WN"
   ]
  },
  {
   "cell_type": "code",
   "execution_count": 2,
   "id": "b67c4f80",
   "metadata": {},
   "outputs": [],
   "source": [
    "spark = SparkSession.builder.master(\"local[2]\").appName(\"Spark-Query\").getOrCreate()"
   ]
  },
  {
   "cell_type": "code",
   "execution_count": 14,
   "id": "3ca1f6c4",
   "metadata": {},
   "outputs": [],
   "source": [
    "file_path =\"E:\\\\workforce\\\\spark\\\\data\\\\emp_json.json\"\n",
    "# dataframe = spark.read.load(file_path, format='json',multiLine=True,schema=None)\n",
    "dataframe = spark.read.format(\"json\").option(\"path\",file_path).option(\"multiLine\",True).option(\"schema\",None).load()"
   ]
  },
  {
   "cell_type": "code",
   "execution_count": 9,
   "id": "1312fc9f",
   "metadata": {},
   "outputs": [
    {
     "name": "stdout",
     "output_type": "stream",
     "text": [
      "+-------------------+------+----------------------+------+------+\n",
      "|address            |fname |languages             |lname |salary|\n",
      "+-------------------+------+----------------------+------+------+\n",
      "|[{India}, {Canada}]|Taukir|[english, hindi, urdu]|khan  |30    |\n",
      "|[{India}, {Canada}]|Zeenat|[english, urdu]       |khan  |50    |\n",
      "|[{germany}]        |Banana|[tamil, english]      |haider|25    |\n",
      "+-------------------+------+----------------------+------+------+\n",
      "\n"
     ]
    }
   ],
   "source": [
    "dataframe.show(truncate = False)"
   ]
  },
  {
   "cell_type": "code",
   "execution_count": 20,
   "id": "823522e2",
   "metadata": {},
   "outputs": [
    {
     "name": "stdout",
     "output_type": "stream",
     "text": [
      "+------+------------------+\n",
      "| fname|address[0].country|\n",
      "+------+------------------+\n",
      "|Taukir|             India|\n",
      "|Zeenat|             India|\n",
      "|Banana|           germany|\n",
      "+------+------------------+\n",
      "\n"
     ]
    }
   ],
   "source": [
    "dataframe.select(col(\"fname\"),col(\"address\")[0].getItem('country')).show()"
   ]
  },
  {
   "cell_type": "code",
   "execution_count": 23,
   "id": "4c903772",
   "metadata": {},
   "outputs": [
    {
     "name": "stdout",
     "output_type": "stream",
     "text": [
      "+------+------------+\n",
      "| fname|languages[2]|\n",
      "+------+------------+\n",
      "|Taukir|        urdu|\n",
      "|Zeenat|        NULL|\n",
      "|Banana|        NULL|\n",
      "+------+------------+\n",
      "\n"
     ]
    }
   ],
   "source": [
    "dataframe.select(col(\"fname\"),col(\"languages\")[2]).show()"
   ]
  },
  {
   "cell_type": "code",
   "execution_count": 26,
   "id": "f503ac9b",
   "metadata": {},
   "outputs": [
    {
     "name": "stdout",
     "output_type": "stream",
     "text": [
      "+----------+\n",
      "|      name|\n",
      "+----------+\n",
      "|Taukirkhan|\n",
      "|Zeenatkhan|\n",
      "+----------+\n",
      "\n"
     ]
    }
   ],
   "source": [
    "dataframe.select(concat(col(\"fname\"),col(\"lname\")).alias(\"name\")).\\\n",
    "filter(col(\"address\")[0].getItem('country') == 'India').show()"
   ]
  },
  {
   "cell_type": "code",
   "execution_count": null,
   "id": "2222399a",
   "metadata": {},
   "outputs": [],
   "source": [
    "# dataframe.select(dataframe.fname).show()\n",
    "# dataframe.select(dataframe.address[0].country).show()"
   ]
  }
 ],
 "metadata": {
  "kernelspec": {
   "display_name": "Python 3 (ipykernel)",
   "language": "python",
   "name": "python3"
  },
  "language_info": {
   "codemirror_mode": {
    "name": "ipython",
    "version": 3
   },
   "file_extension": ".py",
   "mimetype": "text/x-python",
   "name": "python",
   "nbconvert_exporter": "python",
   "pygments_lexer": "ipython3",
   "version": "3.10.4"
  }
 },
 "nbformat": 4,
 "nbformat_minor": 5
}
