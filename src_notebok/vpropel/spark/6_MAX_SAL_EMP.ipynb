{
 "cells": [
  {
   "cell_type": "code",
   "execution_count": 1,
   "id": "32d95597",
   "metadata": {},
   "outputs": [],
   "source": [
    "from pyspark.sql import SparkSession\n",
    "from pyspark.sql import functions as FS\n",
    "from pyspark.sql import Window as WN"
   ]
  },
  {
   "cell_type": "code",
   "execution_count": 2,
   "id": "db13f3c8",
   "metadata": {},
   "outputs": [],
   "source": [
    "employee_date = [\n",
    "(1,'JOE',85000,1),\n",
    "(2,'Henry',80000,2),\n",
    "(3,'Sam',60000,2),\n",
    "(4,'Max',90000,1),\n",
    "(5,'Janet',69000,1),\n",
    "(6,'Randy',85000,1),\n",
    "(7,'Will',70000,1)\n",
    "]\n",
    "emp_schema = [ 'ID', 'NAME', 'SALARY','DEPARTMENTID']\n",
    "dept_data = [\n",
    "(1,'IT'),\n",
    "(2,'Sales')\n",
    "]\n",
    "dept_schema = [ 'ID', 'NAME']"
   ]
  },
  {
   "cell_type": "code",
   "execution_count": 3,
   "id": "f7aabe0a",
   "metadata": {},
   "outputs": [],
   "source": [
    "spark = SparkSession.builder.master(\"local[2]\").appName(\"MAX_SAL_EMP\").getOrCreate()"
   ]
  },
  {
   "cell_type": "code",
   "execution_count": 4,
   "id": "4dfb69b2",
   "metadata": {},
   "outputs": [
    {
     "name": "stdout",
     "output_type": "stream",
     "text": [
      "+---+-----+------+------------+\n",
      "| ID| NAME|SALARY|DEPARTMENTID|\n",
      "+---+-----+------+------------+\n",
      "|  1|  JOE| 85000|           1|\n",
      "|  2|Henry| 80000|           2|\n",
      "|  3|  Sam| 60000|           2|\n",
      "|  4|  Max| 90000|           1|\n",
      "|  5|Janet| 69000|           1|\n",
      "|  6|Randy| 85000|           1|\n",
      "|  7| Will| 70000|           1|\n",
      "+---+-----+------+------------+\n",
      "\n"
     ]
    }
   ],
   "source": [
    "emp_df = spark.createDataFrame(employee_date,schema = emp_schema)\n",
    "emp_df.show()"
   ]
  },
  {
   "cell_type": "code",
   "execution_count": 5,
   "id": "e38a8052",
   "metadata": {},
   "outputs": [
    {
     "name": "stdout",
     "output_type": "stream",
     "text": [
      "+---+-----+\n",
      "| ID| NAME|\n",
      "+---+-----+\n",
      "|  1|   IT|\n",
      "|  2|Sales|\n",
      "+---+-----+\n",
      "\n"
     ]
    }
   ],
   "source": [
    "dept_df = spark.createDataFrame(dept_data,schema = dept_schema)\n",
    "dept_df.show()"
   ]
  },
  {
   "cell_type": "markdown",
   "id": "400decc6",
   "metadata": {},
   "source": [
    "#### Find The employee information from each department who is getting max salary"
   ]
  },
  {
   "cell_type": "markdown",
   "id": "13d99e91",
   "metadata": {},
   "source": [
    "#### Method-1: Dense_RANK()"
   ]
  },
  {
   "cell_type": "code",
   "execution_count": 10,
   "id": "cc8fd4bb",
   "metadata": {},
   "outputs": [
    {
     "name": "stdout",
     "output_type": "stream",
     "text": [
      "+----------+-----+------+\n",
      "|DEPARTMENT| NAME|SALARY|\n",
      "+----------+-----+------+\n",
      "|        IT|  Max| 90000|\n",
      "|     Sales|Henry| 80000|\n",
      "+----------+-----+------+\n",
      "\n"
     ]
    }
   ],
   "source": [
    "result = emp_df.join(dept_df, emp_df.DEPARTMENTID == dept_df.ID,'inner').\\\n",
    "withColumn(\"RNK\",FS.dense_rank().over(WN.partitionBy('DEPARTMENTID').orderBy(FS.col('SALARY').desc()))).\\\n",
    "withColumn(\"DEPARTMENT\",dept_df.NAME).select(\"DEPARTMENT\",emp_df.NAME,\"SALARY\").filter(FS.col('RNK') == 1)\n",
    "\n",
    "result.show()"
   ]
  },
  {
   "cell_type": "markdown",
   "id": "712e8fc0",
   "metadata": {},
   "source": [
    "#### Method-1: INNER JOIN()"
   ]
  },
  {
   "cell_type": "code",
   "execution_count": 7,
   "id": "c067de5a",
   "metadata": {},
   "outputs": [
    {
     "name": "stdout",
     "output_type": "stream",
     "text": [
      "+------+-----+------+-------+-----+\n",
      "|emp_id| NAME|SALARY|dept_id|  dpt|\n",
      "+------+-----+------+-------+-----+\n",
      "|     1|  JOE| 85000|      1|   IT|\n",
      "|     4|  Max| 90000|      1|   IT|\n",
      "|     5|Janet| 69000|      1|   IT|\n",
      "|     6|Randy| 85000|      1|   IT|\n",
      "|     7| Will| 70000|      1|   IT|\n",
      "|     2|Henry| 80000|      2|Sales|\n",
      "|     3|  Sam| 60000|      2|Sales|\n",
      "+------+-----+------+-------+-----+\n",
      "\n"
     ]
    }
   ],
   "source": [
    "join_data = emp_df.join(dept_df, emp_df.DEPARTMENTID ==dept_df.ID).\\\n",
    "select(emp_df.ID.alias(\"emp_id\"),emp_df.NAME,emp_df.SALARY,dept_df.ID.alias(\"dept_id\"),dept_df.NAME.alias(\"dpt\"))\n",
    "join_data.show()"
   ]
  },
  {
   "cell_type": "code",
   "execution_count": 8,
   "id": "11388c8f",
   "metadata": {},
   "outputs": [
    {
     "name": "stdout",
     "output_type": "stream",
     "text": [
      "+------------+-------+\n",
      "|DEPARTMENTID|MAX_SAL|\n",
      "+------------+-------+\n",
      "|           1|  90000|\n",
      "|           2|  80000|\n",
      "+------------+-------+\n",
      "\n"
     ]
    }
   ],
   "source": [
    "max_sal_data = emp_df.groupBy(\"DEPARTMENTID\").agg(FS.max(\"SALARY\").alias(\"MAX_SAL\"))\n",
    "max_sal_data.show()"
   ]
  },
  {
   "cell_type": "code",
   "execution_count": 9,
   "id": "de9d41a1",
   "metadata": {},
   "outputs": [
    {
     "name": "stdout",
     "output_type": "stream",
     "text": [
      "+------+-----+------+-----+\n",
      "|emp_id| NAME|SALARY|  dpt|\n",
      "+------+-----+------+-----+\n",
      "|     4|  Max| 90000|   IT|\n",
      "|     2|Henry| 80000|Sales|\n",
      "+------+-----+------+-----+\n",
      "\n"
     ]
    }
   ],
   "source": [
    "join_data.join(FS.broadcast(max_sal_data),join_data.dept_id == max_sal_data.DEPARTMENTID,\"inner\").\\\n",
    "filter(\"SALARY == MAX_SAL\").select(\"emp_id\",\"NAME\",\"SALARY\",\"dpt\").show()"
   ]
  },
  {
   "cell_type": "code",
   "execution_count": null,
   "id": "7314f19a",
   "metadata": {},
   "outputs": [],
   "source": []
  }
 ],
 "metadata": {
  "kernelspec": {
   "display_name": "Python 3 (ipykernel)",
   "language": "python",
   "name": "python3"
  },
  "language_info": {
   "codemirror_mode": {
    "name": "ipython",
    "version": 3
   },
   "file_extension": ".py",
   "mimetype": "text/x-python",
   "name": "python",
   "nbconvert_exporter": "python",
   "pygments_lexer": "ipython3",
   "version": "3.10.4"
  }
 },
 "nbformat": 4,
 "nbformat_minor": 5
}
