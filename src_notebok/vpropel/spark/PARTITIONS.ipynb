{
 "cells": [
  {
   "cell_type": "code",
   "execution_count": 9,
   "id": "9f33a6d7",
   "metadata": {},
   "outputs": [],
   "source": [
    "from pyspark.sql import SparkSession\n",
    "from pyspark.sql.functions import spark_partition_id,count"
   ]
  },
  {
   "cell_type": "code",
   "execution_count": 2,
   "id": "12d9c491",
   "metadata": {},
   "outputs": [],
   "source": [
    "spark = SparkSession.builder.appName(\"Partitions\").master(\"local[3]\").getOrCreate()"
   ]
  },
  {
   "cell_type": "code",
   "execution_count": 20,
   "id": "256e7837",
   "metadata": {},
   "outputs": [],
   "source": [
    "file_path =\"E:\\workforce\\spark\\data\\hudsonu-product\\Customer.csv\"\n",
    "file_path = \"E:\\workforce\\spark\\data\\Bengaluru_House_Data*.csv\""
   ]
  },
  {
   "cell_type": "code",
   "execution_count": 21,
   "id": "a6ae13be",
   "metadata": {},
   "outputs": [],
   "source": [
    "dataframe = spark.read.format(\"csv\").option(\"header\",True).option(\"inferSchema\",True).option(\"path\",file_path).load()"
   ]
  },
  {
   "cell_type": "code",
   "execution_count": 22,
   "id": "efd1c99a",
   "metadata": {},
   "outputs": [
    {
     "data": {
      "text/plain": [
       "1"
      ]
     },
     "execution_count": 22,
     "metadata": {},
     "output_type": "execute_result"
    }
   ],
   "source": [
    "dataframe.rdd.getNumPartitions()"
   ]
  },
  {
   "cell_type": "code",
   "execution_count": 23,
   "id": "b51cacc0",
   "metadata": {},
   "outputs": [
    {
     "name": "stdout",
     "output_type": "stream",
     "text": [
      "+--------------------+-------------+--------------------+---------+-------+----------+----+-------+-----+\n",
      "|           area_type| availability|            location|     size|society|total_sqft|bath|balcony|price|\n",
      "+--------------------+-------------+--------------------+---------+-------+----------+----+-------+-----+\n",
      "|Super built-up  Area|       19-Dec|Electronic City P...|    2 BHK|Coomee |      1056|   2|      1|39.07|\n",
      "|          Plot  Area|Ready To Move|    Chikka Tirupathi|4 Bedroom|Theanmp|      2600|   5|      3|120.0|\n",
      "|      Built-up  Area|Ready To Move|         Uttarahalli|    3 BHK|   NULL|      1440|   2|      3| 62.0|\n",
      "|Super built-up  Area|Ready To Move|  Lingadheeranahalli|    3 BHK|Soiewre|      1521|   3|      1| 95.0|\n",
      "|Super built-up  Area|Ready To Move|            Kothanur|    2 BHK|   NULL|      1200|   2|      1| 51.0|\n",
      "|Super built-up  Area|Ready To Move|          Whitefield|    2 BHK|DuenaTa|      1170|   2|      1| 38.0|\n",
      "|Super built-up  Area|       18-May|    Old Airport Road|    4 BHK|Jaades |      2732|   4|   NULL|204.0|\n",
      "|Super built-up  Area|Ready To Move|        Rajaji Nagar|    4 BHK|Brway G|      3300|   4|   NULL|600.0|\n",
      "|Super built-up  Area|Ready To Move|        Marathahalli|    3 BHK|   NULL|      1310|   3|      1|63.25|\n",
      "|          Plot  Area|Ready To Move|        Gandhi Bazar|6 Bedroom|   NULL|      1020|   6|   NULL|370.0|\n",
      "+--------------------+-------------+--------------------+---------+-------+----------+----+-------+-----+\n",
      "only showing top 10 rows\n",
      "\n"
     ]
    }
   ],
   "source": [
    "dataframe.show(10)"
   ]
  },
  {
   "cell_type": "code",
   "execution_count": 33,
   "id": "bdc8fa3f",
   "metadata": {},
   "outputs": [
    {
     "name": "stdout",
     "output_type": "stream",
     "text": [
      "+--------------------+-----+\n",
      "|           area_type|count|\n",
      "+--------------------+-----+\n",
      "|      Built-up  Area| 2418|\n",
      "|Super built-up  Area| 8790|\n",
      "|          Plot  Area| 2025|\n",
      "|        Carpet  Area|   87|\n",
      "+--------------------+-----+\n",
      "\n"
     ]
    }
   ],
   "source": [
    "dataframe.groupBy(\"area_type\").count().show()"
   ]
  },
  {
   "cell_type": "code",
   "execution_count": 35,
   "id": "2916e47c",
   "metadata": {},
   "outputs": [],
   "source": [
    "## Write without Partition defualt partition is 1\n",
    "save_path = filepath = \"E:/workforce/spark/data/hudsonu-product/tmp/\"\n",
    "dataframe.write.format(\"csv\").mode('overwrite').option(\"path\",save_path).save()"
   ]
  },
  {
   "cell_type": "code",
   "execution_count": 54,
   "id": "1def3891",
   "metadata": {},
   "outputs": [],
   "source": [
    "# make partition on columns area_type\n",
    "new_df = dataframe.repartition(5,\"area_type\")"
   ]
  },
  {
   "cell_type": "code",
   "execution_count": 64,
   "id": "95f8918a",
   "metadata": {},
   "outputs": [
    {
     "data": {
      "text/plain": [
       "5"
      ]
     },
     "execution_count": 64,
     "metadata": {},
     "output_type": "execute_result"
    }
   ],
   "source": [
    "new_df.rdd.getNumPartitions()"
   ]
  },
  {
   "cell_type": "code",
   "execution_count": 56,
   "id": "5b37a87b",
   "metadata": {},
   "outputs": [],
   "source": [
    "new_df.write.format(\"csv\").mode('overwrite').option(\"path\",save_path).save()"
   ]
  },
  {
   "cell_type": "code",
   "execution_count": null,
   "id": "33426aad",
   "metadata": {},
   "outputs": [],
   "source": [
    "# Rite PartitionBy"
   ]
  },
  {
   "cell_type": "code",
   "execution_count": 65,
   "id": "dab89aaa",
   "metadata": {},
   "outputs": [],
   "source": [
    "new_df.write.format(\"csv\").mode('overwrite').option(\"path\",save_path).\\\n",
    "partitionBy(\"area_type\").option(\"maxRecordsPerFile\",1000).save()"
   ]
  },
  {
   "cell_type": "code",
   "execution_count": 63,
   "id": "88faf4bb",
   "metadata": {},
   "outputs": [],
   "source": [
    "# Bucket By\n",
    "new_df.write.format(\"csv\").mode('overwrite').option(\"path\",save_path).\\\n",
    "bucketBy(3,\"bath\").saveAsTable(\"bucketTable\")"
   ]
  },
  {
   "cell_type": "code",
   "execution_count": null,
   "id": "1d836e9f",
   "metadata": {},
   "outputs": [],
   "source": []
  }
 ],
 "metadata": {
  "kernelspec": {
   "display_name": "Python 3 (ipykernel)",
   "language": "python",
   "name": "python3"
  },
  "language_info": {
   "codemirror_mode": {
    "name": "ipython",
    "version": 3
   },
   "file_extension": ".py",
   "mimetype": "text/x-python",
   "name": "python",
   "nbconvert_exporter": "python",
   "pygments_lexer": "ipython3",
   "version": "3.10.4"
  }
 },
 "nbformat": 4,
 "nbformat_minor": 5
}
