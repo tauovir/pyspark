{
 "cells": [
  {
   "cell_type": "code",
   "execution_count": 1,
   "id": "71e4a4cb",
   "metadata": {},
   "outputs": [],
   "source": [
    "from pyspark.sql import SparkSession\n",
    "from pyspark.sql.functions import *\n",
    "from pyspark.sql import Window as WN"
   ]
  },
  {
   "cell_type": "code",
   "execution_count": 2,
   "id": "e5a56c06",
   "metadata": {},
   "outputs": [],
   "source": [
    "spark = SparkSession.builder.master(\"local[2]\").appName(\"Test\").getOrCreate()"
   ]
  },
  {
   "cell_type": "code",
   "execution_count": 3,
   "id": "206c7031",
   "metadata": {},
   "outputs": [
    {
     "name": "stdout",
     "output_type": "stream",
     "text": [
      "+----+\n",
      "|   a|\n",
      "+----+\n",
      "|   1|\n",
      "|   2|\n",
      "|   1|\n",
      "|   3|\n",
      "|NULL|\n",
      "+----+\n",
      "\n"
     ]
    }
   ],
   "source": [
    "data = [\n",
    "    {'a':1},{'a':2},{'a':1},{'a':3},{'a':None}\n",
    "]\n",
    "schema = \"a int\"\n",
    "df1 = spark.createDataFrame(data =data,schema = schema)\n",
    "df1.show()"
   ]
  },
  {
   "cell_type": "code",
   "execution_count": 4,
   "id": "ae09fcbf",
   "metadata": {},
   "outputs": [
    {
     "name": "stdout",
     "output_type": "stream",
     "text": [
      "+----+\n",
      "|   b|\n",
      "+----+\n",
      "|   1|\n",
      "|   2|\n",
      "|   2|\n",
      "|   4|\n",
      "|NULL|\n",
      "+----+\n",
      "\n"
     ]
    }
   ],
   "source": [
    "data2 = [\n",
    "    {'b':1},{'b':2},{'b':2},{'b':4},{'b':None}\n",
    "]\n",
    "schema2 = \"b int\"\n",
    "df2 = spark.createDataFrame(data =data2,schema = schema2)\n",
    "df2.show()"
   ]
  },
  {
   "cell_type": "markdown",
   "id": "45906d8f",
   "metadata": {},
   "source": [
    "### Inner Join Records"
   ]
  },
  {
   "cell_type": "code",
   "execution_count": 5,
   "id": "67ed4a15",
   "metadata": {},
   "outputs": [
    {
     "name": "stdout",
     "output_type": "stream",
     "text": [
      "Rows_count: 4\n",
      "+---+---+\n",
      "|  a|  b|\n",
      "+---+---+\n",
      "|  1|  1|\n",
      "|  1|  1|\n",
      "|  2|  2|\n",
      "|  2|  2|\n",
      "+---+---+\n",
      "\n"
     ]
    }
   ],
   "source": [
    "print(\"Rows_count:\",df1.join(df2,df1.a==df2.b,how=\"inner\").count())\n",
    "df1.join(df2,df1.a==df2.b,how=\"inner\").show()"
   ]
  },
  {
   "cell_type": "markdown",
   "id": "4c49880a",
   "metadata": {},
   "source": [
    "### left Join Records"
   ]
  },
  {
   "cell_type": "code",
   "execution_count": 6,
   "id": "8cac4c8d",
   "metadata": {},
   "outputs": [
    {
     "name": "stdout",
     "output_type": "stream",
     "text": [
      "Rows_count: 6\n",
      "+----+----+\n",
      "|   a|   b|\n",
      "+----+----+\n",
      "|   1|   1|\n",
      "|   2|   2|\n",
      "|   2|   2|\n",
      "|NULL|NULL|\n",
      "|   1|   1|\n",
      "|   3|NULL|\n",
      "+----+----+\n",
      "\n"
     ]
    }
   ],
   "source": [
    "print(\"Rows_count:\",df1.join(df2,df1.a==df2.b,how=\"left\").count())\n",
    "df1.join(df2,df1.a==df2.b,how=\"left\").show()"
   ]
  },
  {
   "cell_type": "markdown",
   "id": "91a24e13",
   "metadata": {},
   "source": [
    "### Right Join Records"
   ]
  },
  {
   "cell_type": "code",
   "execution_count": 7,
   "id": "5acb23fe",
   "metadata": {},
   "outputs": [
    {
     "name": "stdout",
     "output_type": "stream",
     "text": [
      "Rows_count: 6\n",
      "+----+----+\n",
      "|   a|   b|\n",
      "+----+----+\n",
      "|   1|   1|\n",
      "|   1|   1|\n",
      "|   2|   2|\n",
      "|NULL|NULL|\n",
      "|NULL|   4|\n",
      "|   2|   2|\n",
      "+----+----+\n",
      "\n"
     ]
    }
   ],
   "source": [
    "print(\"Rows_count:\",df1.join(df2,df1.a==df2.b,how=\"right\").count())\n",
    "df1.join(df2,df1.a==df2.b,how=\"right\").show()"
   ]
  },
  {
   "cell_type": "markdown",
   "id": "73c95bbb",
   "metadata": {},
   "source": [
    "#### semi, leftsemi, left_semi\n",
    "<br>leftsemi join is similar to inner join difference being leftsemi join returns all columns from the left dataset and ignores all columns from the right dataset"
   ]
  },
  {
   "cell_type": "code",
   "execution_count": 8,
   "id": "e9852743",
   "metadata": {},
   "outputs": [
    {
     "name": "stdout",
     "output_type": "stream",
     "text": [
      "Rows_count: 3\n",
      "+---+\n",
      "|  a|\n",
      "+---+\n",
      "|  1|\n",
      "|  1|\n",
      "|  2|\n",
      "+---+\n",
      "\n"
     ]
    }
   ],
   "source": [
    "print(\"Rows_count:\",df1.join(df2,df1.a==df2.b,how=\"semi\").count())\n",
    "df1.join(df2,df1.a==df2.b,how=\"semi\").show()"
   ]
  },
  {
   "cell_type": "markdown",
   "id": "f90aca08",
   "metadata": {},
   "source": [
    "### Left Anti Join\n",
    "(anti, leftanti, left_anti)<br>\n",
    "leftanti join does the exact opposite of the leftsemi, leftanti join returns only columns from the left dataset for non-matched records."
   ]
  },
  {
   "cell_type": "code",
   "execution_count": 9,
   "id": "afac9ea3",
   "metadata": {},
   "outputs": [
    {
     "name": "stdout",
     "output_type": "stream",
     "text": [
      "Rows_count: 2\n",
      "+----+\n",
      "|   a|\n",
      "+----+\n",
      "|NULL|\n",
      "|   3|\n",
      "+----+\n",
      "\n"
     ]
    }
   ],
   "source": [
    "print(\"Rows_count:\",df1.join(df2,df1.a==df2.b,how=\"anti\").count())\n",
    "df1.join(df2,df1.a==df2.b,how=\"anti\").show()"
   ]
  },
  {
   "cell_type": "markdown",
   "id": "475dd7ec",
   "metadata": {},
   "source": [
    "### outer, full, fullouter, full_outer"
   ]
  },
  {
   "cell_type": "code",
   "execution_count": 10,
   "id": "1b108112",
   "metadata": {},
   "outputs": [
    {
     "name": "stdout",
     "output_type": "stream",
     "text": [
      "Rows_count: 8\n",
      "+----+----+\n",
      "|   a|   b|\n",
      "+----+----+\n",
      "|NULL|NULL|\n",
      "|NULL|NULL|\n",
      "|   1|   1|\n",
      "|   1|   1|\n",
      "|   2|   2|\n",
      "|   2|   2|\n",
      "|   3|NULL|\n",
      "|NULL|   4|\n",
      "+----+----+\n",
      "\n"
     ]
    }
   ],
   "source": [
    "print(\"Rows_count:\",df1.join(df2,df1.a==df2.b,how=\"full\").count())\n",
    "df1.join(df2,df1.a==df2.b,how=\"full\").show()"
   ]
  },
  {
   "cell_type": "markdown",
   "id": "936ea76c",
   "metadata": {},
   "source": [
    "## Scenerio-2"
   ]
  },
  {
   "cell_type": "code",
   "execution_count": 11,
   "id": "9f36ee02",
   "metadata": {},
   "outputs": [
    {
     "name": "stdout",
     "output_type": "stream",
     "text": [
      "+----+\n",
      "|   a|\n",
      "+----+\n",
      "|   1|\n",
      "|   1|\n",
      "|   0|\n",
      "|NULL|\n",
      "|NULL|\n",
      "+----+\n",
      "\n"
     ]
    }
   ],
   "source": [
    "data = [\n",
    "    {'a':1},{'a':1},{'a':0},{'a':None},{'a':None}\n",
    "]\n",
    "schema = \"a int\"\n",
    "df1 = spark.createDataFrame(data =data,schema = schema)\n",
    "df1.show()"
   ]
  },
  {
   "cell_type": "code",
   "execution_count": 12,
   "id": "361b159a",
   "metadata": {},
   "outputs": [
    {
     "name": "stdout",
     "output_type": "stream",
     "text": [
      "+---+\n",
      "|  b|\n",
      "+---+\n",
      "|  1|\n",
      "|  0|\n",
      "|  0|\n",
      "+---+\n",
      "\n"
     ]
    }
   ],
   "source": [
    "data = [\n",
    "    {'b':1},{'b':0},{'b':0}\n",
    "]\n",
    "schema = \"b int\"\n",
    "df2 = spark.createDataFrame(data =data,schema = schema)\n",
    "df2.show()"
   ]
  },
  {
   "cell_type": "code",
   "execution_count": 13,
   "id": "8299c47d",
   "metadata": {},
   "outputs": [],
   "source": [
    "### Inner Join Records"
   ]
  },
  {
   "cell_type": "code",
   "execution_count": 14,
   "id": "ef94ea8b",
   "metadata": {},
   "outputs": [
    {
     "name": "stdout",
     "output_type": "stream",
     "text": [
      "Rows_count: 4\n",
      "+---+---+\n",
      "|  a|  b|\n",
      "+---+---+\n",
      "|  0|  0|\n",
      "|  0|  0|\n",
      "|  1|  1|\n",
      "|  1|  1|\n",
      "+---+---+\n",
      "\n"
     ]
    }
   ],
   "source": [
    "print(\"Rows_count:\",df1.join(df2,df1.a==df2.b,how=\"inner\").count())\n",
    "df1.join(df2,df1.a==df2.b,how=\"inner\").show()"
   ]
  },
  {
   "cell_type": "code",
   "execution_count": 15,
   "id": "aab7fc6a",
   "metadata": {},
   "outputs": [
    {
     "name": "stdout",
     "output_type": "stream",
     "text": [
      "Rows_count: 6\n",
      "+----+----+\n",
      "|   a|   b|\n",
      "+----+----+\n",
      "|   1|   1|\n",
      "|   1|   1|\n",
      "|NULL|NULL|\n",
      "|NULL|NULL|\n",
      "|   0|   0|\n",
      "|   0|   0|\n",
      "+----+----+\n",
      "\n"
     ]
    }
   ],
   "source": [
    "### left Join Records\n",
    "print(\"Rows_count:\",df1.join(df2,df1.a==df2.b,how=\"left\").count())\n",
    "df1.join(df2,df1.a==df2.b,how=\"left\").show()"
   ]
  },
  {
   "cell_type": "code",
   "execution_count": 16,
   "id": "5242a65a",
   "metadata": {},
   "outputs": [
    {
     "name": "stdout",
     "output_type": "stream",
     "text": [
      "Rows_count: 4\n",
      "+---+---+\n",
      "|  a|  b|\n",
      "+---+---+\n",
      "|  1|  1|\n",
      "|  1|  1|\n",
      "|  0|  0|\n",
      "|  0|  0|\n",
      "+---+---+\n",
      "\n"
     ]
    }
   ],
   "source": [
    "### Right Join Records\n",
    "print(\"Rows_count:\",df1.join(df2,df1.a==df2.b,how=\"right\").count())\n",
    "df1.join(df2,df1.a==df2.b,how=\"right\").show()"
   ]
  },
  {
   "cell_type": "code",
   "execution_count": 17,
   "id": "305e67d8",
   "metadata": {},
   "outputs": [
    {
     "name": "stdout",
     "output_type": "stream",
     "text": [
      "Rows_count: 3\n",
      "+---+\n",
      "|  a|\n",
      "+---+\n",
      "|  0|\n",
      "|  1|\n",
      "|  1|\n",
      "+---+\n",
      "\n"
     ]
    }
   ],
   "source": [
    "#### semi, leftsemi, left_semi\n",
    "print(\"Rows_count:\",df1.join(df2,df1.a==df2.b,how=\"semi\").count())\n",
    "df1.join(df2,df1.a==df2.b,how=\"semi\").show()"
   ]
  },
  {
   "cell_type": "code",
   "execution_count": 18,
   "id": "01792d99",
   "metadata": {},
   "outputs": [
    {
     "name": "stdout",
     "output_type": "stream",
     "text": [
      "Rows_count: 2\n",
      "+----+\n",
      "|   a|\n",
      "+----+\n",
      "|NULL|\n",
      "|NULL|\n",
      "+----+\n",
      "\n"
     ]
    }
   ],
   "source": [
    "### Left Anti Join\n",
    "print(\"Rows_count:\",df1.join(df2,df1.a==df2.b,how=\"anti\").count())\n",
    "df1.join(df2,df1.a==df2.b,how=\"anti\").show()"
   ]
  },
  {
   "cell_type": "code",
   "execution_count": 19,
   "id": "fdf6907c",
   "metadata": {},
   "outputs": [
    {
     "name": "stdout",
     "output_type": "stream",
     "text": [
      "Rows_count: 6\n",
      "+----+----+\n",
      "|   a|   b|\n",
      "+----+----+\n",
      "|NULL|NULL|\n",
      "|NULL|NULL|\n",
      "|   0|   0|\n",
      "|   0|   0|\n",
      "|   1|   1|\n",
      "|   1|   1|\n",
      "+----+----+\n",
      "\n"
     ]
    }
   ],
   "source": [
    "### outer, full, fullouter, full_outer\n",
    "print(\"Rows_count:\",df1.join(df2,df1.a==df2.b,how=\"full\").count())\n",
    "df1.join(df2,df1.a==df2.b,how=\"full\").show()"
   ]
  },
  {
   "cell_type": "code",
   "execution_count": null,
   "id": "f9202b95",
   "metadata": {},
   "outputs": [],
   "source": []
  }
 ],
 "metadata": {
  "kernelspec": {
   "display_name": "Python 3 (ipykernel)",
   "language": "python",
   "name": "python3"
  },
  "language_info": {
   "codemirror_mode": {
    "name": "ipython",
    "version": 3
   },
   "file_extension": ".py",
   "mimetype": "text/x-python",
   "name": "python",
   "nbconvert_exporter": "python",
   "pygments_lexer": "ipython3",
   "version": "3.10.4"
  }
 },
 "nbformat": 4,
 "nbformat_minor": 5
}
