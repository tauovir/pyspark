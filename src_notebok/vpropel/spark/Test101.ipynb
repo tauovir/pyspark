{
 "cells": [
  {
   "cell_type": "code",
   "execution_count": null,
   "id": "71e4a4cb",
   "metadata": {},
   "outputs": [],
   "source": [
    "from abs import a\n",
    "from abc import ABC,abstractmethod,abstractproperty\n",
    "from abc import ABC, abstractmethod,abstractproperty"
   ]
  },
  {
   "cell_type": "code",
   "execution_count": 1,
   "id": "73b083e6",
   "metadata": {},
   "outputs": [],
   "source": [
    " mat = [\n",
    "            [1, 2, 3],\n",
    "            [4, 5, 6],\n",
    "            [7, 8, 9]\n",
    "        ]"
   ]
  },
  {
   "cell_type": "code",
   "execution_count": 2,
   "id": "e05dfa5c",
   "metadata": {},
   "outputs": [],
   "source": [
    "import numpy as np"
   ]
  },
  {
   "cell_type": "code",
   "execution_count": 3,
   "id": "70a587e9",
   "metadata": {},
   "outputs": [],
   "source": [
    "mat1 = np.array(mat)"
   ]
  },
  {
   "cell_type": "code",
   "execution_count": 19,
   "id": "384476c6",
   "metadata": {},
   "outputs": [],
   "source": [
    "class ABS1:\n",
    "    salary = 10\n",
    "    def __init__(self,name):\n",
    "        self.name = name\n",
    "    def show(self):\n",
    "        print(\"show\",self.name)\n",
    "    \n",
    "    @classmethod\n",
    "    def m1(cls):\n",
    "        print(\"cls\",cls.salary)\n",
    "    @staticmethod\n",
    "    def static_me():\n",
    "        print(\"=====\",salary)"
   ]
  },
  {
   "cell_type": "code",
   "execution_count": 25,
   "id": "64e23879",
   "metadata": {},
   "outputs": [],
   "source": [
    "l1 = [ele for row in mat for ele in row]"
   ]
  },
  {
   "cell_type": "code",
   "execution_count": 27,
   "id": "770c26c1",
   "metadata": {},
   "outputs": [],
   "source": [
    "l1 = [x+x for x in l1]"
   ]
  },
  {
   "cell_type": "code",
   "execution_count": 29,
   "id": "cc707b66",
   "metadata": {},
   "outputs": [],
   "source": [
    "import csv"
   ]
  },
  {
   "cell_type": "code",
   "execution_count": 35,
   "id": "09e0cd92",
   "metadata": {},
   "outputs": [],
   "source": [
    "# with open(\"E:\\workforce\\spark\\data\\Bengaluru_House_Data.csv\",'r') as fs:\n",
    "#     line = fs.readlines()\n",
    "#     print(line)"
   ]
  },
  {
   "cell_type": "code",
   "execution_count": 36,
   "id": "423a008e",
   "metadata": {},
   "outputs": [
    {
     "data": {
      "text/plain": [
       "'khan'"
      ]
     },
     "execution_count": 36,
     "metadata": {},
     "output_type": "execute_result"
    }
   ],
   "source": [
    "name = 'khan'\n",
    "name"
   ]
  },
  {
   "cell_type": "code",
   "execution_count": 38,
   "id": "0fd7e7e4",
   "metadata": {},
   "outputs": [
    {
     "ename": "TypeError",
     "evalue": "'str' object does not support item assignment",
     "output_type": "error",
     "traceback": [
      "\u001b[1;31m---------------------------------------------------------------------------\u001b[0m",
      "\u001b[1;31mTypeError\u001b[0m                                 Traceback (most recent call last)",
      "Input \u001b[1;32mIn [38]\u001b[0m, in \u001b[0;36m<cell line: 1>\u001b[1;34m()\u001b[0m\n\u001b[1;32m----> 1\u001b[0m name[\u001b[38;5;241m0\u001b[39m] \u001b[38;5;241m=\u001b[39m \u001b[38;5;124m'\u001b[39m\u001b[38;5;124mP\u001b[39m\u001b[38;5;124m'\u001b[39m\n",
      "\u001b[1;31mTypeError\u001b[0m: 'str' object does not support item assignment"
     ]
    }
   ],
   "source": [
    "name[0] = 'P'"
   ]
  },
  {
   "cell_type": "code",
   "execution_count": null,
   "id": "7b81fef9",
   "metadata": {},
   "outputs": [],
   "source": []
  }
 ],
 "metadata": {
  "kernelspec": {
   "display_name": "Python 3 (ipykernel)",
   "language": "python",
   "name": "python3"
  },
  "language_info": {
   "codemirror_mode": {
    "name": "ipython",
    "version": 3
   },
   "file_extension": ".py",
   "mimetype": "text/x-python",
   "name": "python",
   "nbconvert_exporter": "python",
   "pygments_lexer": "ipython3",
   "version": "3.10.4"
  }
 },
 "nbformat": 4,
 "nbformat_minor": 5
}
