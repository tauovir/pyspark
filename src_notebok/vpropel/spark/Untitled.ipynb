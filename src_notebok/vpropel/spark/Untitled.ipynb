{
 "cells": [
  {
   "cell_type": "code",
   "execution_count": 6,
   "id": "07a85eee",
   "metadata": {},
   "outputs": [],
   "source": [
    "from pyspark.sql import SparkSession\n",
    "from pyspark.sql import functions as FS\n",
    "from pyspark.sql.types import IntegerType"
   ]
  },
  {
   "cell_type": "code",
   "execution_count": 7,
   "id": "74e5c69c",
   "metadata": {},
   "outputs": [],
   "source": [
    "spark = SparkSession.builder.master(\"local[2]\").appName(\"StudentMarks\").getOrCreate()"
   ]
  },
  {
   "cell_type": "code",
   "execution_count": 31,
   "id": "37b7aa2b",
   "metadata": {},
   "outputs": [],
   "source": [
    "cricket_data = [(\"Virat Kohli\", 85, 100, 75),\n",
    "        (\"Steve Smith\", 90, 105, 80),\n",
    "        (\"Kane Williamson\", 88, 95, 70)]\n",
    "columns = [\"Player\", \"Match1\", \"Match2\", \"Match3\"]"
   ]
  },
  {
   "cell_type": "code",
   "execution_count": 32,
   "id": "24c0ee61",
   "metadata": {},
   "outputs": [
    {
     "name": "stdout",
     "output_type": "stream",
     "text": [
      "+---------------+------+------+------+\n",
      "|         Player|Match1|Match2|Match3|\n",
      "+---------------+------+------+------+\n",
      "|    Virat Kohli|    85|   100|    75|\n",
      "|    Steve Smith|    90|   105|    80|\n",
      "|Kane Williamson|    88|    95|    70|\n",
      "+---------------+------+------+------+\n",
      "\n"
     ]
    }
   ],
   "source": [
    "cricket_df = spark.createDataFrame(data = cricket_data,schema = columns)\n",
    "cricket_df.show()"
   ]
  },
  {
   "cell_type": "code",
   "execution_count": 35,
   "id": "468e9d9a",
   "metadata": {},
   "outputs": [],
   "source": [
    "expr2 = \"stack(3,'Match1',Match1,'Match2',Match2,'Match3',Match3) as (Match,score)\"\n",
    "\n",
    "df3 = cricket_df.select('Player',FS.expr(expr2))"
   ]
  },
  {
   "cell_type": "code",
   "execution_count": 36,
   "id": "d0a638b6",
   "metadata": {},
   "outputs": [
    {
     "name": "stdout",
     "output_type": "stream",
     "text": [
      "+---------------+------+-----+\n",
      "|         Player| Match|score|\n",
      "+---------------+------+-----+\n",
      "|    Virat Kohli|Match1|   85|\n",
      "|    Virat Kohli|Match2|  100|\n",
      "|    Virat Kohli|Match3|   75|\n",
      "|    Steve Smith|Match1|   90|\n",
      "|    Steve Smith|Match2|  105|\n",
      "|    Steve Smith|Match3|   80|\n",
      "|Kane Williamson|Match1|   88|\n",
      "|Kane Williamson|Match2|   95|\n",
      "|Kane Williamson|Match3|   70|\n",
      "+---------------+------+-----+\n",
      "\n"
     ]
    }
   ],
   "source": [
    "df3.show()"
   ]
  },
  {
   "cell_type": "code",
   "execution_count": 38,
   "id": "d45fa9cb",
   "metadata": {},
   "outputs": [
    {
     "name": "stdout",
     "output_type": "stream",
     "text": [
      "+---------------+------+------+------+\n",
      "|         Player|Match1|Match2|Match3|\n",
      "+---------------+------+------+------+\n",
      "|Kane Williamson|    88|    95|    70|\n",
      "|    Steve Smith|    90|   105|    80|\n",
      "|    Virat Kohli|    85|   100|    75|\n",
      "+---------------+------+------+------+\n",
      "\n"
     ]
    }
   ],
   "source": [
    "df3.groupBy('Player').pivot('Match').sum('score').show()"
   ]
  },
  {
   "cell_type": "code",
   "execution_count": null,
   "id": "06809af5",
   "metadata": {},
   "outputs": [],
   "source": []
  }
 ],
 "metadata": {
  "kernelspec": {
   "display_name": "Python 3 (ipykernel)",
   "language": "python",
   "name": "python3"
  },
  "language_info": {
   "codemirror_mode": {
    "name": "ipython",
    "version": 3
   },
   "file_extension": ".py",
   "mimetype": "text/x-python",
   "name": "python",
   "nbconvert_exporter": "python",
   "pygments_lexer": "ipython3",
   "version": "3.10.4"
  }
 },
 "nbformat": 4,
 "nbformat_minor": 5
}
