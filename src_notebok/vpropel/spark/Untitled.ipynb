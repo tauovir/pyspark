{
 "cells": [
  {
   "cell_type": "code",
   "execution_count": 66,
   "id": "725fb9ef",
   "metadata": {},
   "outputs": [],
   "source": [
    "from pyspark.sql import SparkSession\n",
    "from pyspark.sql.functions import *\n",
    "from pyspark.sql import Window as W\n",
    "from pyspark.sql.types import *"
   ]
  },
  {
   "cell_type": "code",
   "execution_count": 67,
   "id": "1f790d41",
   "metadata": {},
   "outputs": [],
   "source": [
    "spark = SparkSession.builder.master(\"local[2]\").appName(\"DataSet\").getOrCreate()"
   ]
  },
  {
   "cell_type": "code",
   "execution_count": 68,
   "id": "49526339",
   "metadata": {},
   "outputs": [],
   "source": [
    "data = [('2', '2', '95') ,\n",
    "('2', '3', '95'),\n",
    "('1', '1', '90'),\n",
    "('1', '2', '99'),\n",
    "('3', '1', '80'),\n",
    "('3', '2', '75'),\n",
    "('3', '3', '82')]\n",
    "schema = [\"student_id\",\"course_id\",\"grade\"]"
   ]
  },
  {
   "cell_type": "code",
   "execution_count": 88,
   "id": "d9f48e81",
   "metadata": {},
   "outputs": [],
   "source": [
    "data1= [(1,\"manish\",\"data engineer\"),(2,\"rani\",\"data analyst\"),(3,\"manju\",\"data science\")]\n",
    "column1 =[\"id\",\"name\",\"department\"]\n",
    "\n",
    "data2= [(3,\"harish\"),(4,\"monish\"),(5,\"priti\")]\n",
    "column2 =[\"id\",\"name\"]\n",
    "dataframe1 = spark.createDataFrame(data = data1,schema =column1 )\n",
    "dataframe2 = spark.createDataFrame(data = data2,schema =column2 )"
   ]
  },
  {
   "cell_type": "code",
   "execution_count": 89,
   "id": "229ca0e5",
   "metadata": {},
   "outputs": [
    {
     "name": "stdout",
     "output_type": "stream",
     "text": [
      "+---+------+-------------+\n",
      "| id|  name|   department|\n",
      "+---+------+-------------+\n",
      "|  1|manish|data engineer|\n",
      "|  2|  rani| data analyst|\n",
      "|  3| manju| data science|\n",
      "+---+------+-------------+\n",
      "\n"
     ]
    }
   ],
   "source": [
    "dataframe1.show()"
   ]
  },
  {
   "cell_type": "code",
   "execution_count": 90,
   "id": "0af82fa4",
   "metadata": {},
   "outputs": [
    {
     "name": "stdout",
     "output_type": "stream",
     "text": [
      "+---+------+\n",
      "| id|  name|\n",
      "+---+------+\n",
      "|  3|harish|\n",
      "|  4|monish|\n",
      "|  5| priti|\n",
      "+---+------+\n",
      "\n"
     ]
    }
   ],
   "source": [
    "dataframe2.show()"
   ]
  },
  {
   "cell_type": "code",
   "execution_count": 93,
   "id": "8ddd2596",
   "metadata": {},
   "outputs": [
    {
     "name": "stdout",
     "output_type": "stream",
     "text": [
      "+---+------+-------------+\n",
      "| id|  name|   department|\n",
      "+---+------+-------------+\n",
      "|  1|manish|data engineer|\n",
      "|  2|  rani| data analyst|\n",
      "|  3| manju| data science|\n",
      "|  3|harish|           NA|\n",
      "|  4|monish|           NA|\n",
      "|  5| priti|           NA|\n",
      "+---+------+-------------+\n",
      "\n"
     ]
    }
   ],
   "source": [
    "dataframe1.select('id','name','department').union(dataframe2.select('id','name',lit('NA').alias('department'))).show()"
   ]
  },
  {
   "cell_type": "code",
   "execution_count": 94,
   "id": "6589995e",
   "metadata": {},
   "outputs": [],
   "source": [
    "dataframe1.createOrReplaceTempView('tbl')"
   ]
  },
  {
   "cell_type": "code",
   "execution_count": 124,
   "id": "72ded412",
   "metadata": {},
   "outputs": [
    {
     "name": "stdout",
     "output_type": "stream",
     "text": [
      "+-------------------+----+\n",
      "|                 id|name|\n",
      "+-------------------+----+\n",
      "|mango,banana,orange|khan|\n",
      "+-------------------+----+\n",
      "\n"
     ]
    }
   ],
   "source": [
    "d = [{'name':\"khan\",\"id\":\"mango,banana,orange\"}]\n",
    "df1 = spark.createDataFrame(data = d )\n",
    "df1.show()"
   ]
  },
  {
   "cell_type": "code",
   "execution_count": 120,
   "id": "74353bb3",
   "metadata": {},
   "outputs": [
    {
     "name": "stdout",
     "output_type": "stream",
     "text": [
      "+-------------------+----+--------------------+\n",
      "|                 id|name|                 id2|\n",
      "+-------------------+----+--------------------+\n",
      "|mango,banana,orange|khan|[mango, banana, o...|\n",
      "+-------------------+----+--------------------+\n",
      "\n"
     ]
    }
   ],
   "source": [
    "df1.withColumn(\"id\",.split(\"id\",\",\")).show()"
   ]
  },
  {
   "cell_type": "code",
   "execution_count": 127,
   "id": "695ed0a1",
   "metadata": {},
   "outputs": [
    {
     "name": "stdout",
     "output_type": "stream",
     "text": [
      "+----+------+\n",
      "|name|   mmm|\n",
      "+----+------+\n",
      "|khan| mango|\n",
      "|khan|banana|\n",
      "|khan|orange|\n",
      "+----+------+\n",
      "\n"
     ]
    }
   ],
   "source": [
    "df1.select('name',explode(split(\"id\",\",\")).alias('mmm')).show()"
   ]
  },
  {
   "cell_type": "code",
   "execution_count": null,
   "id": "d2b72fd4",
   "metadata": {},
   "outputs": [],
   "source": []
  }
 ],
 "metadata": {
  "kernelspec": {
   "display_name": "Python 3 (ipykernel)",
   "language": "python",
   "name": "python3"
  },
  "language_info": {
   "codemirror_mode": {
    "name": "ipython",
    "version": 3
   },
   "file_extension": ".py",
   "mimetype": "text/x-python",
   "name": "python",
   "nbconvert_exporter": "python",
   "pygments_lexer": "ipython3",
   "version": "3.10.4"
  }
 },
 "nbformat": 4,
 "nbformat_minor": 5
}
