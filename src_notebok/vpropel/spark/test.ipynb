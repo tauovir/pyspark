{
 "cells": [
  {
   "cell_type": "code",
   "execution_count": 1,
   "id": "2c1b2452",
   "metadata": {},
   "outputs": [],
   "source": [
    "from pyspark.sql import SparkSession\n",
    "from pyspark.sql import functions as F\n",
    "from pyspark.sql import Window as W"
   ]
  },
  {
   "cell_type": "code",
   "execution_count": 2,
   "id": "939a4102",
   "metadata": {},
   "outputs": [],
   "source": [
    "from pyspark.sql.types import DateType,StringType"
   ]
  },
  {
   "cell_type": "code",
   "execution_count": 3,
   "id": "4f72379f",
   "metadata": {},
   "outputs": [],
   "source": [
    "spark = SparkSession.builder.appName(\"Test\").getOrCreate()"
   ]
  },
  {
   "cell_type": "code",
   "execution_count": 4,
   "id": "51324c8b",
   "metadata": {},
   "outputs": [],
   "source": [
    "student_data = [(\"Vendor1\",10,\"cat1\",4,\"sub_cat1\",1),\n",
    "                (\"Vendor1\",10,\"cat1\",4,\"sub_cat2\",2),\n",
    "                (\"Vendor1\",10,\"cat1\",4,\"sub_cat3\",3),\n",
    "                (\"Vendor1\",10,\"cat1\",4,\"sub_cat4\",4)]\n",
    "\n",
    "columns = [\"vendor_name\",\"count\",\"catogory\",\"category_count\",\"sub_cat\",\"sub_cat_count\"]"
   ]
  },
  {
   "cell_type": "code",
   "execution_count": 5,
   "id": "78b76b1a",
   "metadata": {},
   "outputs": [
    {
     "name": "stdout",
     "output_type": "stream",
     "text": [
      "+-----------+-----+--------+--------------+--------+-------------+\n",
      "|vendor_name|count|catogory|category_count| sub_cat|sub_cat_count|\n",
      "+-----------+-----+--------+--------------+--------+-------------+\n",
      "|    Vendor1|   10|    cat1|             4|sub_cat1|            1|\n",
      "|    Vendor1|   10|    cat1|             4|sub_cat2|            2|\n",
      "|    Vendor1|   10|    cat1|             4|sub_cat3|            3|\n",
      "|    Vendor1|   10|    cat1|             4|sub_cat4|            4|\n",
      "+-----------+-----+--------+--------------+--------+-------------+\n",
      "\n"
     ]
    }
   ],
   "source": [
    "dataframe = spark.createDataFrame(data = student_data,schema = columns)\n",
    "dataframe.show()"
   ]
  },
  {
   "cell_type": "code",
   "execution_count": 102,
   "id": "c243429b",
   "metadata": {},
   "outputs": [],
   "source": [
    "conf = {\n",
    "    'header' : True,\n",
    "    'inferSchema' : True,\n",
    "    \n",
    "    \n",
    "}"
   ]
  },
  {
   "cell_type": "code",
   "execution_count": 104,
   "id": "71747277",
   "metadata": {},
   "outputs": [
    {
     "name": "stdout",
     "output_type": "stream",
     "text": [
      "+--------------------+-------------+--------------------+---------+-------+----------+----+-------+-----+\n",
      "|           area_type| availability|            location|     size|society|total_sqft|bath|balcony|price|\n",
      "+--------------------+-------------+--------------------+---------+-------+----------+----+-------+-----+\n",
      "|Super built-up  Area|       19-Dec|Electronic City P...|    2 BHK|Coomee |      1056|   2|      1|39.07|\n",
      "|          Plot  Area|Ready To Move|    Chikka Tirupathi|4 Bedroom|Theanmp|      2600|   5|      3|120.0|\n",
      "|      Built-up  Area|Ready To Move|         Uttarahalli|    3 BHK|   NULL|      1440|   2|      3| 62.0|\n",
      "|Super built-up  Area|Ready To Move|  Lingadheeranahalli|    3 BHK|Soiewre|      1521|   3|      1| 95.0|\n",
      "|Super built-up  Area|Ready To Move|            Kothanur|    2 BHK|   NULL|      1200|   2|      1| 51.0|\n",
      "|Super built-up  Area|Ready To Move|          Whitefield|    2 BHK|DuenaTa|      1170|   2|      1| 38.0|\n",
      "|Super built-up  Area|       18-May|    Old Airport Road|    4 BHK|Jaades |      2732|   4|   NULL|204.0|\n",
      "|Super built-up  Area|Ready To Move|        Rajaji Nagar|    4 BHK|Brway G|      3300|   4|   NULL|600.0|\n",
      "|Super built-up  Area|Ready To Move|        Marathahalli|    3 BHK|   NULL|      1310|   3|      1|63.25|\n",
      "|          Plot  Area|Ready To Move|        Gandhi Bazar|6 Bedroom|   NULL|      1020|   6|   NULL|370.0|\n",
      "|Super built-up  Area|       18-Feb|          Whitefield|    3 BHK|   NULL|      1800|   2|      2| 70.0|\n",
      "|          Plot  Area|Ready To Move|          Whitefield|4 Bedroom|Prrry M|      2785|   5|      3|295.0|\n",
      "|Super built-up  Area|Ready To Move|  7th Phase JP Nagar|    2 BHK|Shncyes|      1000|   2|      1| 38.0|\n",
      "|      Built-up  Area|Ready To Move|           Gottigere|    2 BHK|   NULL|      1100|   2|      2| 40.0|\n",
      "|          Plot  Area|Ready To Move|            Sarjapur|3 Bedroom|Skityer|      2250|   3|      2|148.0|\n",
      "|Super built-up  Area|Ready To Move|         Mysore Road|    2 BHK|PrntaEn|      1175|   2|      2| 73.5|\n",
      "|Super built-up  Area|Ready To Move|       Bisuvanahalli|    3 BHK|Prityel|      1180|   3|      2| 48.0|\n",
      "|Super built-up  Area|Ready To Move|Raja Rajeshwari N...|    3 BHK|GrrvaGr|      1540|   3|      3| 60.0|\n",
      "|Super built-up  Area|Ready To Move|Ramakrishnappa La...|    3 BHK|PeBayle|      2770|   4|      2|290.0|\n",
      "|Super built-up  Area|Ready To Move|  Manayata Tech Park|    2 BHK|   NULL|      1100|   2|      2| 48.0|\n",
      "+--------------------+-------------+--------------------+---------+-------+----------+----+-------+-----+\n",
      "only showing top 20 rows\n",
      "\n"
     ]
    }
   ],
   "source": [
    "file_path = \"E:\\workforce\\spark\\data\\Bengaluru_House_Data*.csv\"\n",
    "df = spark.read.format('csv').options(**conf).option('path',file_path).load()\n",
    "df.show()"
   ]
  },
  {
   "cell_type": "code",
   "execution_count": 106,
   "id": "38b82b58",
   "metadata": {},
   "outputs": [
    {
     "data": {
      "text/plain": [
       "1"
      ]
     },
     "execution_count": 106,
     "metadata": {},
     "output_type": "execute_result"
    }
   ],
   "source": [
    "df.rdd.getNumPartitions()"
   ]
  },
  {
   "cell_type": "code",
   "execution_count": 109,
   "id": "719c9c32",
   "metadata": {},
   "outputs": [
    {
     "name": "stdout",
     "output_type": "stream",
     "text": [
      "+--------------------+-----+\n",
      "|           area_type|count|\n",
      "+--------------------+-----+\n",
      "|      Built-up  Area| 2418|\n",
      "|Super built-up  Area| 8790|\n",
      "|          Plot  Area| 2025|\n",
      "|        Carpet  Area|   87|\n",
      "+--------------------+-----+\n",
      "\n"
     ]
    }
   ],
   "source": [
    "df.groupBy(\"area_type\").count().show()"
   ]
  },
  {
   "cell_type": "code",
   "execution_count": 110,
   "id": "4bd860b6",
   "metadata": {},
   "outputs": [],
   "source": [
    "save_path = filepath = \"E:/workforce/spark/data/hudsonu-product/tmp/\"\n",
    "df.write.format(\"csv\").mode('overwrite').option(\"path\",save_path).save()"
   ]
  },
  {
   "cell_type": "code",
   "execution_count": 112,
   "id": "73161d1b",
   "metadata": {},
   "outputs": [],
   "source": [
    "new_df = df.repartition(4,'area_type')"
   ]
  },
  {
   "cell_type": "code",
   "execution_count": 113,
   "id": "04eabe78",
   "metadata": {},
   "outputs": [
    {
     "data": {
      "text/plain": [
       "4"
      ]
     },
     "execution_count": 113,
     "metadata": {},
     "output_type": "execute_result"
    }
   ],
   "source": [
    "new_df.rdd.getNumPartitions()"
   ]
  },
  {
   "cell_type": "code",
   "execution_count": 115,
   "id": "b3d93414",
   "metadata": {},
   "outputs": [],
   "source": [
    "new_df.write.format('csv').mode('overwrite').option(\"path\",save_path).\\\n",
    "partitionBy(\"area_type\").option(\"maxRecordsPerFile\",1000).save()"
   ]
  },
  {
   "cell_type": "code",
   "execution_count": 116,
   "id": "7a4afe76",
   "metadata": {},
   "outputs": [],
   "source": [
    "df44 = spark.read.format('csv').options(**conf).option('path',save_path).load().filter(F.col('area_type') == 'Carpet  Area')"
   ]
  },
  {
   "cell_type": "code",
   "execution_count": 118,
   "id": "e6c8c9ae",
   "metadata": {},
   "outputs": [],
   "source": [
    "new_df.write.format(\"csv\").mode('overwrite').option(\"path\",save_path).\\\n",
    "bucketBy(3,\"bath\").saveAsTable(\"bucketTable\")"
   ]
  },
  {
   "cell_type": "code",
   "execution_count": null,
   "id": "d4a3a439",
   "metadata": {},
   "outputs": [],
   "source": []
  }
 ],
 "metadata": {
  "kernelspec": {
   "display_name": "Python 3 (ipykernel)",
   "language": "python",
   "name": "python3"
  },
  "language_info": {
   "codemirror_mode": {
    "name": "ipython",
    "version": 3
   },
   "file_extension": ".py",
   "mimetype": "text/x-python",
   "name": "python",
   "nbconvert_exporter": "python",
   "pygments_lexer": "ipython3",
   "version": "3.10.4"
  }
 },
 "nbformat": 4,
 "nbformat_minor": 5
}
