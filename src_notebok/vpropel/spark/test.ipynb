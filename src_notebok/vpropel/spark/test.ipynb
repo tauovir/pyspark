{
 "cells": [
  {
   "cell_type": "code",
   "execution_count": 1,
   "id": "2c1b2452",
   "metadata": {},
   "outputs": [],
   "source": [
    "from pyspark.sql import SparkSession\n",
    "from pyspark.sql import functions as F\n",
    "from pyspark.sql import Window as W"
   ]
  },
  {
   "cell_type": "code",
   "execution_count": 2,
   "id": "939a4102",
   "metadata": {},
   "outputs": [],
   "source": [
    "from pyspark.sql.types import DateType,StringType"
   ]
  },
  {
   "cell_type": "code",
   "execution_count": 3,
   "id": "4f72379f",
   "metadata": {},
   "outputs": [],
   "source": [
    "spark = SparkSession.builder.appName(\"Test\").getOrCreate()"
   ]
  },
  {
   "cell_type": "code",
   "execution_count": 4,
   "id": "d4a3a439",
   "metadata": {},
   "outputs": [],
   "source": [
    "student_data = [\n",
    "    {\"student_id\": 1,\"name\":\"Khan\"},\n",
    "     {\"student_id\": 2,\"name\":\"Rahul\"},\n",
    "    {\"student_id\": 3,\"name\":\"Lavan\"},\n",
    "]\n",
    "schema = \"student_id int,name string\"\n",
    "df = spark.createDataFrame(data = student_data,schema = schema)"
   ]
  },
  {
   "cell_type": "code",
   "execution_count": 5,
   "id": "0747b5f7",
   "metadata": {},
   "outputs": [
    {
     "name": "stdout",
     "output_type": "stream",
     "text": [
      "+----------+-----+\n",
      "|student_id| name|\n",
      "+----------+-----+\n",
      "|         1| Khan|\n",
      "|         2|Rahul|\n",
      "|         3|Lavan|\n",
      "+----------+-----+\n",
      "\n"
     ]
    }
   ],
   "source": [
    "df.show()"
   ]
  },
  {
   "cell_type": "code",
   "execution_count": 6,
   "id": "55a9c7e0",
   "metadata": {},
   "outputs": [],
   "source": [
    "student_marks = [\n",
    "    {\"student_id\": 1,\"subject\":\"Pyspark\",\"marks\":90},\n",
    "    {\"student_id\": 1,\"subject\":\"SQL\",\"marks\":100},\n",
    "    {\"student_id\": 2,\"subject\":\"SQL\",\"marks\":70},\n",
    "    {\"student_id\": 2,\"subject\":\"Pyspark\",\"marks\":60},\n",
    "    {\"student_id\": 3,\"subject\":\"SQL\",\"marks\":30},\n",
    "    {\"student_id\": 3,\"subject\":\"Pyspark\",\"marks\":20},\n",
    "]"
   ]
  },
  {
   "cell_type": "code",
   "execution_count": 7,
   "id": "0d50dd6b",
   "metadata": {},
   "outputs": [
    {
     "name": "stdout",
     "output_type": "stream",
     "text": [
      "+-----+----------+-------+\n",
      "|marks|student_id|subject|\n",
      "+-----+----------+-------+\n",
      "|   90|         1|Pyspark|\n",
      "|  100|         1|    SQL|\n",
      "|   70|         2|    SQL|\n",
      "|   60|         2|Pyspark|\n",
      "|   30|         3|    SQL|\n",
      "|   20|         3|Pyspark|\n",
      "+-----+----------+-------+\n",
      "\n"
     ]
    }
   ],
   "source": [
    "student_marks = spark.createDataFrame(student_marks)\n",
    "student_marks.show()"
   ]
  },
  {
   "cell_type": "code",
   "execution_count": 9,
   "id": "5d1faabe",
   "metadata": {},
   "outputs": [
    {
     "name": "stdout",
     "output_type": "stream",
     "text": [
      "+----------+-----+-----+----------+-------+\n",
      "|student_id| name|marks|student_id|subject|\n",
      "+----------+-----+-----+----------+-------+\n",
      "|         1| Khan|   90|         1|Pyspark|\n",
      "|         1| Khan|  100|         1|    SQL|\n",
      "|         2|Rahul|   70|         2|    SQL|\n",
      "|         2|Rahul|   60|         2|Pyspark|\n",
      "|         3|Lavan|   30|         3|    SQL|\n",
      "|         3|Lavan|   20|         3|Pyspark|\n",
      "+----------+-----+-----+----------+-------+\n",
      "\n"
     ]
    }
   ],
   "source": [
    "df.alias('stu').join(student_marks.alias('marks'),F.col('stu.student_id') == F.col('marks.student_id'),'inner').show()"
   ]
  },
  {
   "cell_type": "code",
   "execution_count": 10,
   "id": "1879e3d1",
   "metadata": {},
   "outputs": [
    {
     "name": "stdout",
     "output_type": "stream",
     "text": [
      "+----------+-----------+\n",
      "|student_id|total_marks|\n",
      "+----------+-----------+\n",
      "|         1|        190|\n",
      "|         3|         50|\n",
      "|         2|        130|\n",
      "+----------+-----------+\n",
      "\n"
     ]
    }
   ],
   "source": [
    "df.alias('stu').join(student_marks.alias('sub'),F.col('stu.student_id') == F.col('sub.student_id'),'inner').\\\n",
    "groupBy('stu.student_id').agg(\n",
    "    F.sum(F.col('sub.marks')).alias('total_marks')\n",
    ").show()"
   ]
  },
  {
   "cell_type": "code",
   "execution_count": 15,
   "id": "7fe741d2",
   "metadata": {},
   "outputs": [
    {
     "name": "stdout",
     "output_type": "stream",
     "text": [
      "+----------+-----------+----+--------+\n",
      "|student_id|total_marks| per|division|\n",
      "+----------+-----------+----+--------+\n",
      "|         1|        190|95.0|   First|\n",
      "|         2|        130|65.0|  second|\n",
      "|         3|         50|25.0|    fial|\n",
      "+----------+-----------+----+--------+\n",
      "\n"
     ]
    }
   ],
   "source": [
    "expr = F.when(F.col('per') > 90,'First').\\\n",
    "when(F.col('per').between(60,69),'second').\\\n",
    "when(F.col('per').between(50,59),'third').\\\n",
    "otherwise('faile')\n",
    "marks_data = student_marks.groupBy('student_id').agg( F.sum(F.col('marks')).alias('total_marks')).\\\n",
    "withColumn('per',(F.col('total_marks')/2)).withColumn('division',expr).show()"
   ]
  },
  {
   "cell_type": "code",
   "execution_count": null,
   "id": "8e95d4bc",
   "metadata": {},
   "outputs": [],
   "source": [
    "df.alias('stu').join(marks_data.alias('mar'),F.col('stu.student_id') == )"
   ]
  }
 ],
 "metadata": {
  "kernelspec": {
   "display_name": "Python 3 (ipykernel)",
   "language": "python",
   "name": "python3"
  },
  "language_info": {
   "codemirror_mode": {
    "name": "ipython",
    "version": 3
   },
   "file_extension": ".py",
   "mimetype": "text/x-python",
   "name": "python",
   "nbconvert_exporter": "python",
   "pygments_lexer": "ipython3",
   "version": "3.10.4"
  }
 },
 "nbformat": 4,
 "nbformat_minor": 5
}
