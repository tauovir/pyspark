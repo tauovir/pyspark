{
 "cells": [
  {
   "cell_type": "code",
   "execution_count": 1,
   "id": "898be518",
   "metadata": {},
   "outputs": [],
   "source": [
    "from pyspark.sql import SparkSession\n",
    "from pyspark.sql import functions as F\n",
    "from pyspark.sql import Window as W\n"
   ]
  },
  {
   "cell_type": "code",
   "execution_count": 2,
   "id": "8b073c54",
   "metadata": {},
   "outputs": [],
   "source": [
    "spark = SparkSession.builder.appName('Window Function').getOrCreate()"
   ]
  },
  {
   "cell_type": "code",
   "execution_count": 3,
   "id": "916ae69d",
   "metadata": {},
   "outputs": [],
   "source": [
    "file_path =\"E:\\workforce\\spark\\data\\window_data.csv\"\n",
    "dataframe = spark.read.format(\"csv\").option(\"header\",True).option(\"inferSchema\",True).option(\"path\",file_path).load()"
   ]
  },
  {
   "cell_type": "code",
   "execution_count": 4,
   "id": "19815ab7",
   "metadata": {},
   "outputs": [
    {
     "name": "stdout",
     "output_type": "stream",
     "text": [
      "+--------+-------+-----+\n",
      "|store_id|country|sales|\n",
      "+--------+-------+-----+\n",
      "|       1|  india|  100|\n",
      "|       1|  india|  100|\n",
      "|       1|  india|  200|\n",
      "|       2| canada|   99|\n",
      "|       3|     US|  120|\n",
      "|       3|     US|  150|\n",
      "+--------+-------+-----+\n",
      "\n"
     ]
    }
   ],
   "source": [
    "dataframe.show()"
   ]
  },
  {
   "cell_type": "code",
   "execution_count": 8,
   "id": "bf6e070b",
   "metadata": {},
   "outputs": [
    {
     "name": "stdout",
     "output_type": "stream",
     "text": [
      "+--------+-------+-----+---------+----+---------+---+----+----+\n",
      "|store_id|country|sales|RowNUmber|Rank|DenseRank|sum| lag|lead|\n",
      "+--------+-------+-----+---------+----+---------+---+----+----+\n",
      "|       3|     US|  120|        1|   1|        1|120|NULL| 150|\n",
      "|       3|     US|  150|        2|   2|        2|270| 120|NULL|\n",
      "|       2| canada|   99|        1|   1|        1| 99|NULL|NULL|\n",
      "|       1|  india|  100|        1|   1|        1|200|NULL| 100|\n",
      "|       1|  india|  100|        2|   1|        1|200| 100| 200|\n",
      "|       1|  india|  200|        3|   3|        2|400| 100|NULL|\n",
      "+--------+-------+-----+---------+----+---------+---+----+----+\n",
      "\n"
     ]
    }
   ],
   "source": [
    "dataframe.select(\"store_id\",\"country\",\"sales\").\\\n",
    "withColumn(\"RowNUmber\",F.row_number().over(W.partitionBy(\"country\").orderBy(F.col(\"sales\").asc()))).\\\n",
    "withColumn(\"Rank\",F.rank().over(W.partitionBy(\"country\").orderBy(F.col(\"sales\").asc()))).\\\n",
    "withColumn(\"DenseRank\",F.dense_rank().over(W.partitionBy(\"country\").orderBy(F.col(\"sales\").asc()))).\\\n",
    "withColumn(\"sum\",F.sum(F.col(\"sales\")).over(W.partitionBy(\"country\").orderBy(F.col(\"sales\").asc()))).\\\n",
    "withColumn(\"lag\",F.lag(F.col(\"sales\")).over(W.partitionBy(\"country\").orderBy(F.col(\"sales\").asc()))).\\\n",
    "withColumn(\"lead\",F.lead(F.col(\"sales\")).over(W.partitionBy(\"country\").orderBy(F.col(\"sales\").asc()))).\\\n",
    "show()"
   ]
  },
  {
   "cell_type": "code",
   "execution_count": 7,
   "id": "236d89ea",
   "metadata": {},
   "outputs": [
    {
     "name": "stdout",
     "output_type": "stream",
     "text": [
      "+--------+-------+-----+---------+----+---------+---+----+----+\n",
      "|store_id|country|sales|RowNUmber|Rank|DenseRank|sum| lag|lead|\n",
      "+--------+-------+-----+---------+----+---------+---+----+----+\n",
      "|       3|     US|  150|        1|   1|        1|150|NULL| 120|\n",
      "|       3|     US|  120|        2|   2|        2|270| 150|NULL|\n",
      "|       2| canada|   99|        1|   1|        1| 99|NULL|NULL|\n",
      "|       1|  india|  200|        1|   1|        1|200|NULL| 100|\n",
      "|       1|  india|  100|        2|   2|        2|400| 200| 100|\n",
      "|       1|  india|  100|        3|   2|        2|400| 100|NULL|\n",
      "+--------+-------+-----+---------+----+---------+---+----+----+\n",
      "\n"
     ]
    }
   ],
   "source": [
    "dataframe.select(\"store_id\",\"country\",\"sales\").\\\n",
    "withColumn(\"RowNUmber\",F.row_number().over(W.partitionBy(\"country\").orderBy(F.col(\"sales\").desc()))).\\\n",
    "withColumn(\"Rank\",F.rank().over(W.partitionBy(\"country\").orderBy(F.col(\"sales\").desc()))).\\\n",
    "withColumn(\"DenseRank\",F.dense_rank().over(W.partitionBy(\"country\").orderBy(F.col(\"sales\").desc()))).\\\n",
    "withColumn(\"sum\",F.sum(F.col(\"sales\")).over(W.partitionBy(\"country\").orderBy(F.col(\"sales\").desc()))).\\\n",
    "withColumn(\"lag\",F.lag(F.col(\"sales\")).over(W.partitionBy(\"country\").orderBy(F.col(\"sales\").desc()))).\\\n",
    "withColumn(\"lead\",F.lead(F.col(\"sales\")).over(W.partitionBy(\"country\").orderBy(F.col(\"sales\").desc()))).\\\n",
    "show()"
   ]
  }
 ],
 "metadata": {
  "kernelspec": {
   "display_name": "Python 3 (ipykernel)",
   "language": "python",
   "name": "python3"
  },
  "language_info": {
   "codemirror_mode": {
    "name": "ipython",
    "version": 3
   },
   "file_extension": ".py",
   "mimetype": "text/x-python",
   "name": "python",
   "nbconvert_exporter": "python",
   "pygments_lexer": "ipython3",
   "version": "3.10.4"
  }
 },
 "nbformat": 4,
 "nbformat_minor": 5
}
