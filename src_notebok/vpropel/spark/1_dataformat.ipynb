{
 "cells": [
  {
   "cell_type": "code",
   "execution_count": 1,
   "id": "c53389c5-ccec-428b-8017-47fff5b125d9",
   "metadata": {},
   "outputs": [],
   "source": [
    "from pyspark.sql import SparkSession\n",
    "from pyspark.sql import functions\n",
    "from pyspark.sql.types import IntegerType"
   ]
  },
  {
   "cell_type": "code",
   "execution_count": 2,
   "id": "584d4ff9-3737-4ec3-be9b-2ee3af665e9f",
   "metadata": {},
   "outputs": [],
   "source": [
    "from pyspark.sql.functions import *"
   ]
  },
  {
   "cell_type": "code",
   "execution_count": 3,
   "id": "7f5616ca",
   "metadata": {},
   "outputs": [],
   "source": [
    "spark = SparkSession.builder.master(\"local[2]\").appName(\"DataSet\").getOrCreate()"
   ]
  },
  {
   "cell_type": "code",
   "execution_count": 4,
   "id": "1ff69109-6e2f-4bf2-af89-29ed0bf536c4",
   "metadata": {},
   "outputs": [],
   "source": [
    "data = [\n",
    "    {\"fname\": \"Rahul\", \"lname\": \"Kumar\", \"gender\": \"M\", \"salary\": 10000, \"bonus\": 1000, \"deduction\": 500},\n",
    "    {\"fname\": \"Taukir\", \"lname\": \"Khan\", \"gender\": \"M\", \"salary\": 12000, \"bonus\": 2000},\n",
    "    {\"fname\": \"Pooja\", \"lname\": \"Sharma\", \"gender\": \"F\", \"salary\": 15000, \"bonus\": 3000, \"deduction\": 2000},\n",
    "     {\"fname\": \"Ravi\", \"lname\": \"Kumari\", \"gender\": \"other\", \"salary\": 15000, \"bonus\": 3000, \"deduction\": 2000}\n",
    "]"
   ]
  },
  {
   "cell_type": "code",
   "execution_count": null,
   "id": "bf6b5c9a",
   "metadata": {},
   "outputs": [],
   "source": []
  },
  {
   "cell_type": "markdown",
   "id": "20afe95c-4bfe-4cde-b890-beb500bfa753",
   "metadata": {},
   "source": [
    "#### Conver data to blow format\n",
    "```\n",
    " +------------+------+------------+\n",
    "|        name|gender|total_salary|\n",
    "+------------+------+------------+\n",
    "| Rahul Kumar|  Male|       10500|\n",
    "| Taukir Khan|  Male|       14000|\n",
    "|Pooja Sharma|Female|       16000|\n",
    "| Ravi Kumari| other|       16000|\n",
    "+------------+------+------------+\n",
    "\n",
    "```"
   ]
  },
  {
   "cell_type": "code",
   "execution_count": 5,
   "id": "57e61ad8-5b97-4d19-9a72-3e7b2830a48e",
   "metadata": {},
   "outputs": [],
   "source": [
    "spark = SparkSession.builder.master(\"local[2]\").appName(\"DataSet\").getOrCreate()"
   ]
  },
  {
   "cell_type": "code",
   "execution_count": 6,
   "id": "d2a31463-4bc1-4bd7-b1f9-2df164b701ba",
   "metadata": {},
   "outputs": [
    {
     "name": "stdout",
     "output_type": "stream",
     "text": [
      "+-----+---------+------+------+------+------+\n",
      "|bonus|deduction| fname|gender| lname|salary|\n",
      "+-----+---------+------+------+------+------+\n",
      "| 1000|      500| Rahul|     M| Kumar| 10000|\n",
      "| 2000|     NULL|Taukir|     M|  Khan| 12000|\n",
      "| 3000|     2000| Pooja|     F|Sharma| 15000|\n",
      "| 3000|     2000|  Ravi| other|Kumari| 15000|\n",
      "+-----+---------+------+------+------+------+\n",
      "\n"
     ]
    }
   ],
   "source": [
    "dataframe = spark.createDataFrame(data) \n",
    "dataframe.show()\n",
    "# na.fill(value=0,subset=[\"deduction\"])."
   ]
  },
  {
   "cell_type": "markdown",
   "id": "5164d8f8-979e-431c-8d3a-850a00bcbfce",
   "metadata": {},
   "source": [
    "#### Method-1"
   ]
  },
  {
   "cell_type": "code",
   "execution_count": 7,
   "id": "4e52cbb4-3d03-4599-b9d3-375893ea7b17",
   "metadata": {},
   "outputs": [
    {
     "name": "stdout",
     "output_type": "stream",
     "text": [
      "+------------+------+------------+\n",
      "|        name|gender|total_salary|\n",
      "+------------+------+------------+\n",
      "| Rahul Kumar|  Male|       10500|\n",
      "| Taukir Khan|  Male|       14000|\n",
      "|Pooja Sharma|Female|       16000|\n",
      "| Ravi Kumari| other|       16000|\n",
      "+------------+------+------------+\n",
      "\n"
     ]
    }
   ],
   "source": [
    "dataframe.na.fill(value=0,subset=[\"deduction\"]).withColumn(\"gender\",functions.when(dataframe.gender == \"M\",\"Male\").\\\n",
    "                                  when(dataframe.gender == \"F\",\"Female\").\\\n",
    "                                  otherwise(dataframe.gender)).\\\n",
    "withColumn(\"name\", functions.expr(\"concat(fname,' ',lname)\")).\\\n",
    "withColumn(\"total_salary\",(functions.col('salary') + functions.col('bonus') - functions.col('deduction'))).\\\n",
    "select(\"name\",\"gender\",\"total_salary\").show()"
   ]
  },
  {
   "cell_type": "markdown",
   "id": "03624e4a-5a11-4720-82c6-407201294ca3",
   "metadata": {},
   "source": [
    "#### Method-2"
   ]
  },
  {
   "cell_type": "code",
   "execution_count": 8,
   "id": "69d7010e-0bdc-4b44-a4b5-9e7daccd5e17",
   "metadata": {},
   "outputs": [
    {
     "name": "stdout",
     "output_type": "stream",
     "text": [
      "+------------+------+------------+\n",
      "|        name|gender|total_salary|\n",
      "+------------+------+------------+\n",
      "| Rahul Kumar|  Male|       10500|\n",
      "| Taukir Khan|  Male|       14000|\n",
      "|Pooja Sharma|Female|       16000|\n",
      "| Ravi Kumari| other|       16000|\n",
      "+------------+------+------------+\n",
      "\n"
     ]
    }
   ],
   "source": [
    "dataframe.na.fill(value=0,subset=[\"deduction\"]).withColumn(\"gender\",functions.expr(\"CASE WHEN gender = 'M' THEN 'Male' \" +\n",
    "           \"WHEN gender = 'F' THEN 'Female' ELSE gender END\")).\\\n",
    "withColumn(\"name\", functions.expr(\"concat(fname,' ',lname)\")).\\\n",
    "withColumn(\"total_salary\",(functions.col('salary') + functions.col('bonus') - functions.col('deduction'))).\\\n",
    "select(\"name\",\"gender\",\"total_salary\").show()"
   ]
  },
  {
   "cell_type": "markdown",
   "id": "074d738e-2781-4b5e-b8d6-f0f24856e04b",
   "metadata": {},
   "source": [
    "#### Method-3"
   ]
  },
  {
   "cell_type": "code",
   "execution_count": 9,
   "id": "c7509155-5bac-48d1-a0af-7c45b369d47e",
   "metadata": {},
   "outputs": [
    {
     "name": "stdout",
     "output_type": "stream",
     "text": [
      "+------------+------+------------+\n",
      "|        name|gender|total_salary|\n",
      "+------------+------+------------+\n",
      "| Rahul Kumar|  Male|     10500.0|\n",
      "| Taukir Khan|  Male|     14000.0|\n",
      "|Pooja Sharma|Female|     16000.0|\n",
      "| Ravi Kumari| other|     16000.0|\n",
      "+------------+------+------------+\n",
      "\n"
     ]
    }
   ],
   "source": [
    "dataframe.withColumn(\"gender\",functions.expr(\"CASE WHEN gender = 'M' THEN 'Male' \" +\n",
    "           \"WHEN gender = 'F' THEN 'Female' ELSE gender END\")).\\\n",
    "withColumn(\"name\", functions.expr(\"concat(fname,' ',lname)\")).\\\n",
    "withColumn(\"total_salary\",(col('salary') + col('bonus') - coalesce(col('deduction'),lit(0.0)))).\\\n",
    "select(\"name\",\"gender\",\"total_salary\").show()"
   ]
  },
  {
   "cell_type": "markdown",
   "id": "6179fb69",
   "metadata": {},
   "source": [
    "#### Method-4"
   ]
  },
  {
   "cell_type": "code",
   "execution_count": 10,
   "id": "03d422f2",
   "metadata": {},
   "outputs": [
    {
     "ename": "NameError",
     "evalue": "name 'FS' is not defined",
     "output_type": "error",
     "traceback": [
      "\u001b[1;31m---------------------------------------------------------------------------\u001b[0m",
      "\u001b[1;31mNameError\u001b[0m                                 Traceback (most recent call last)",
      "Input \u001b[1;32mIn [10]\u001b[0m, in \u001b[0;36m<cell line: 9>\u001b[1;34m()\u001b[0m\n\u001b[0;32m      6\u001b[0m     \u001b[38;5;28;01melse\u001b[39;00m:\n\u001b[0;32m      7\u001b[0m         \u001b[38;5;28;01mreturn\u001b[39;00m gender\n\u001b[1;32m----> 9\u001b[0m get_gender_udf \u001b[38;5;241m=\u001b[39m \u001b[43mFS\u001b[49m\u001b[38;5;241m.\u001b[39mudf(\u001b[38;5;28;01mlambda\u001b[39;00m gen:get_gender(gen))\n\u001b[0;32m     11\u001b[0m dataframe\u001b[38;5;241m.\u001b[39mna\u001b[38;5;241m.\u001b[39mfill(value\u001b[38;5;241m=\u001b[39m\u001b[38;5;241m0\u001b[39m,subset\u001b[38;5;241m=\u001b[39m[\u001b[38;5;124m\"\u001b[39m\u001b[38;5;124mdeduction\u001b[39m\u001b[38;5;124m\"\u001b[39m])\u001b[38;5;241m.\u001b[39mwithColumn(\u001b[38;5;124m\"\u001b[39m\u001b[38;5;124mname\u001b[39m\u001b[38;5;124m\"\u001b[39m,FS\u001b[38;5;241m.\u001b[39mexpr(\u001b[38;5;124m\"\u001b[39m\u001b[38;5;124mconcat(fname,\u001b[39m\u001b[38;5;124m'\u001b[39m\u001b[38;5;124m \u001b[39m\u001b[38;5;124m'\u001b[39m\u001b[38;5;124m, lname)\u001b[39m\u001b[38;5;124m\"\u001b[39m))\u001b[38;5;241m.\u001b[39m\\\n\u001b[0;32m     12\u001b[0m withColumn(\u001b[38;5;124m\"\u001b[39m\u001b[38;5;124mgender\u001b[39m\u001b[38;5;124m\"\u001b[39m,get_gender_udf(FS\u001b[38;5;241m.\u001b[39mcol(\u001b[38;5;124m'\u001b[39m\u001b[38;5;124mgender\u001b[39m\u001b[38;5;124m'\u001b[39m)))\u001b[38;5;241m.\u001b[39m\\\n\u001b[0;32m     13\u001b[0m withColumn(\u001b[38;5;124m\"\u001b[39m\u001b[38;5;124mtotal_salary\u001b[39m\u001b[38;5;124m\"\u001b[39m,(FS\u001b[38;5;241m.\u001b[39mcol(\u001b[38;5;124m'\u001b[39m\u001b[38;5;124msalary\u001b[39m\u001b[38;5;124m'\u001b[39m) \u001b[38;5;241m+\u001b[39m FS\u001b[38;5;241m.\u001b[39mcol(\u001b[38;5;124m'\u001b[39m\u001b[38;5;124mbonus\u001b[39m\u001b[38;5;124m'\u001b[39m) \u001b[38;5;241m-\u001b[39m (FS\u001b[38;5;241m.\u001b[39mcol(\u001b[38;5;124m'\u001b[39m\u001b[38;5;124mdeduction\u001b[39m\u001b[38;5;124m'\u001b[39m))))\u001b[38;5;241m.\u001b[39m\\\n\u001b[0;32m     14\u001b[0m drop(\u001b[38;5;124m'\u001b[39m\u001b[38;5;124mbonus\u001b[39m\u001b[38;5;124m'\u001b[39m,\u001b[38;5;124m'\u001b[39m\u001b[38;5;124mdeduction\u001b[39m\u001b[38;5;124m'\u001b[39m,\u001b[38;5;124m'\u001b[39m\u001b[38;5;124mfname\u001b[39m\u001b[38;5;124m'\u001b[39m,\u001b[38;5;124m'\u001b[39m\u001b[38;5;124mlname\u001b[39m\u001b[38;5;124m'\u001b[39m,\u001b[38;5;124m'\u001b[39m\u001b[38;5;124msalary\u001b[39m\u001b[38;5;124m'\u001b[39m)\u001b[38;5;241m.\u001b[39mshow()\n",
      "\u001b[1;31mNameError\u001b[0m: name 'FS' is not defined"
     ]
    }
   ],
   "source": [
    "def get_gender(gender):\n",
    "    if gender =='M':\n",
    "        return 'Male'\n",
    "    elif gender =='F':\n",
    "        return 'Female'\n",
    "    else:\n",
    "        return gender\n",
    "\n",
    "get_gender_udf = FS.udf(lambda gen:get_gender(gen))\n",
    "\n",
    "dataframe.na.fill(value=0,subset=[\"deduction\"]).withColumn(\"name\",FS.expr(\"concat(fname,' ', lname)\")).\\\n",
    "withColumn(\"gender\",get_gender_udf(FS.col('gender'))).\\\n",
    "withColumn(\"total_salary\",(FS.col('salary') + FS.col('bonus') - (FS.col('deduction')))).\\\n",
    "drop('bonus','deduction','fname','lname','salary').show()"
   ]
  }
 ],
 "metadata": {
  "kernelspec": {
   "display_name": "Python 3 (ipykernel)",
   "language": "python",
   "name": "python3"
  },
  "language_info": {
   "codemirror_mode": {
    "name": "ipython",
    "version": 3
   },
   "file_extension": ".py",
   "mimetype": "text/x-python",
   "name": "python",
   "nbconvert_exporter": "python",
   "pygments_lexer": "ipython3",
   "version": "3.10.4"
  }
 },
 "nbformat": 4,
 "nbformat_minor": 5
}
