{
 "cells": [
  {
   "cell_type": "code",
   "execution_count": 8,
   "id": "1218477d",
   "metadata": {},
   "outputs": [],
   "source": [
    "from pyspark.sql import SparkSession\n",
    "from pyspark.sql import functions as FS\n",
    "from pyspark.sql import types as T"
   ]
  },
  {
   "cell_type": "code",
   "execution_count": 3,
   "id": "9f85f3d6",
   "metadata": {},
   "outputs": [],
   "source": [
    "spark = SparkSession.builder.master(\"local[2]\").appName(\"JSON_PARSER\").getOrCreate()"
   ]
  },
  {
   "cell_type": "code",
   "execution_count": 24,
   "id": "56bd407a",
   "metadata": {},
   "outputs": [
    {
     "name": "stdout",
     "output_type": "stream",
     "text": [
      "+-----+--------------------+\n",
      "| name|             address|\n",
      "+-----+--------------------+\n",
      "| Khan|{\"street\": \"Sadar...|\n",
      "|Rahul|{\"street\": \"Hall ...|\n",
      "+-----+--------------------+\n",
      "\n"
     ]
    }
   ],
   "source": [
    "data=[('Khan','{\"street\": \"Sadar Bazar\", \"city\": \"Meerut\"}'),('Rahul','{\"street\": \"Hall Town\", \"city\": \"Kanpur\"}')]\n",
    "df=spark.createDataFrame(data,schema=\"name string,address string\")\n",
    "df.show()"
   ]
  },
  {
   "cell_type": "markdown",
   "id": "5095a4a1",
   "metadata": {},
   "source": [
    "**Convert the above dataframe format into below one**\n",
    "```\n",
    "+-----+-----------+------+\n",
    "| name|     street|  city|\n",
    "+-----+-----------+------+\n",
    "| Khan|Sadar Bazar|Meerut|\n",
    "|Rahul|  Hall Town|Kanpur|\n",
    "+-----+-----------+------+\n",
    "```"
   ]
  },
  {
   "cell_type": "markdown",
   "id": "dd91f3d1",
   "metadata": {},
   "source": [
    "df.printSchema()"
   ]
  },
  {
   "cell_type": "code",
   "execution_count": 26,
   "id": "6aca4aaf",
   "metadata": {},
   "outputs": [],
   "source": [
    "#schema to represent out json data\n",
    "schema = T.StructType(\n",
    "  [\n",
    "    T.StructField('street', T.StringType(), True),\n",
    "    T.StructField('city', T.StringType(), True)\n",
    "  ]\n",
    ")"
   ]
  },
  {
   "cell_type": "markdown",
   "id": "984e20c3",
   "metadata": {},
   "source": [
    "**Conver address String type to json type**"
   ]
  },
  {
   "cell_type": "code",
   "execution_count": 27,
   "id": "eb815c3d",
   "metadata": {},
   "outputs": [],
   "source": [
    "df2 = df.withColumn(\"address\",FS.from_json(\"address\",schema))"
   ]
  },
  {
   "cell_type": "code",
   "execution_count": 28,
   "id": "7a1ae538",
   "metadata": {},
   "outputs": [
    {
     "name": "stdout",
     "output_type": "stream",
     "text": [
      "root\n",
      " |-- name: string (nullable = true)\n",
      " |-- address: struct (nullable = true)\n",
      " |    |-- street: string (nullable = true)\n",
      " |    |-- city: string (nullable = true)\n",
      "\n"
     ]
    }
   ],
   "source": [
    "df2.printSchema()"
   ]
  },
  {
   "cell_type": "code",
   "execution_count": 29,
   "id": "ac70eee7",
   "metadata": {},
   "outputs": [
    {
     "name": "stdout",
     "output_type": "stream",
     "text": [
      "+-----+--------------------+\n",
      "| name|             address|\n",
      "+-----+--------------------+\n",
      "| Khan|{Sadar Bazar, Mee...|\n",
      "|Rahul| {Hall Town, Kanpur}|\n",
      "+-----+--------------------+\n",
      "\n"
     ]
    }
   ],
   "source": [
    "df2.show()"
   ]
  },
  {
   "cell_type": "markdown",
   "id": "715460f3",
   "metadata": {},
   "source": [
    "**Now get the json field to show the result**"
   ]
  },
  {
   "cell_type": "code",
   "execution_count": 31,
   "id": "48a66f2a",
   "metadata": {},
   "outputs": [
    {
     "name": "stdout",
     "output_type": "stream",
     "text": [
      "+-----+-----------+------+\n",
      "| name|     street|  city|\n",
      "+-----+-----------+------+\n",
      "| Khan|Sadar Bazar|Meerut|\n",
      "|Rahul|  Hall Town|Kanpur|\n",
      "+-----+-----------+------+\n",
      "\n"
     ]
    }
   ],
   "source": [
    "df2.select(df2.name,df2.address.street.alias('street'),df2.address.city.alias('city')).show()"
   ]
  },
  {
   "cell_type": "code",
   "execution_count": null,
   "id": "d68b7f00",
   "metadata": {},
   "outputs": [],
   "source": []
  }
 ],
 "metadata": {
  "kernelspec": {
   "display_name": "Python 3 (ipykernel)",
   "language": "python",
   "name": "python3"
  },
  "language_info": {
   "codemirror_mode": {
    "name": "ipython",
    "version": 3
   },
   "file_extension": ".py",
   "mimetype": "text/x-python",
   "name": "python",
   "nbconvert_exporter": "python",
   "pygments_lexer": "ipython3",
   "version": "3.10.4"
  }
 },
 "nbformat": 4,
 "nbformat_minor": 5
}
