{
 "cells": [
  {
   "cell_type": "code",
   "execution_count": 1,
   "id": "06a44197",
   "metadata": {},
   "outputs": [],
   "source": [
    "from pyspark.sql import SparkSession\n",
    "from pyspark.sql import functions as FS\n",
    "from pyspark.sql import types as T"
   ]
  },
  {
   "cell_type": "code",
   "execution_count": 2,
   "id": "3ad1a921",
   "metadata": {},
   "outputs": [],
   "source": [
    "spark = SparkSession.builder.master(\"local[2]\").appName(\"ALL_DF\").getOrCreate()"
   ]
  },
  {
   "cell_type": "code",
   "execution_count": 3,
   "id": "9b7ca29e",
   "metadata": {},
   "outputs": [
    {
     "data": {
      "text/html": [
       "\n",
       "            <div>\n",
       "                <p><b>SparkSession - in-memory</b></p>\n",
       "                \n",
       "        <div>\n",
       "            <p><b>SparkContext</b></p>\n",
       "\n",
       "            <p><a href=\"http://DESKTOP-EPOU8CU:4042\">Spark UI</a></p>\n",
       "\n",
       "            <dl>\n",
       "              <dt>Version</dt>\n",
       "                <dd><code>v3.5.0</code></dd>\n",
       "              <dt>Master</dt>\n",
       "                <dd><code>local[2]</code></dd>\n",
       "              <dt>AppName</dt>\n",
       "                <dd><code>ALL_DF</code></dd>\n",
       "            </dl>\n",
       "        </div>\n",
       "        \n",
       "            </div>\n",
       "        "
      ],
      "text/plain": [
       "<pyspark.sql.session.SparkSession at 0x1a0b6bb8df0>"
      ]
     },
     "execution_count": 3,
     "metadata": {},
     "output_type": "execute_result"
    }
   ],
   "source": [
    "spark"
   ]
  },
  {
   "cell_type": "code",
   "execution_count": 4,
   "id": "be84f0da",
   "metadata": {},
   "outputs": [
    {
     "name": "stdout",
     "output_type": "stream",
     "text": [
      "+-----+--------------------+\n",
      "| name|             address|\n",
      "+-----+--------------------+\n",
      "| Khan|{\"street\": \"Sadar...|\n",
      "|Rahul|{\"street\": \"Hall ...|\n",
      "+-----+--------------------+\n",
      "\n"
     ]
    }
   ],
   "source": [
    "data=[('Khan','{\"street\": \"Sadar Bazar\", \"city\": \"Meerut\"}'),('Rahul','{\"street\": \"Hall Town\", \"city\": \"Kanpur\"}')]\n",
    "address_df=spark.createDataFrame(data,schema=\"name string,address string\")\n",
    "address_df.show()"
   ]
  },
  {
   "cell_type": "code",
   "execution_count": 5,
   "id": "6ca85a99",
   "metadata": {},
   "outputs": [],
   "source": [
    "data1= [(1,\"manish\",\"data engineer\"),(2,\"rani\",\"data analyst\"),(3,\"manju\",\"data science\")]\n",
    "column1 =[\"id\",\"name\",\"department\"]\n",
    "\n",
    "data2= [(3,\"harish\"),(4,\"monish\"),(5,\"priti\")]\n",
    "column2 =[\"id\",\"name\"]\n",
    "dataframe1 = spark.createDataFrame(data = data1,schema =column1 )\n",
    "dataframe2 = spark.createDataFrame(data = data2,schema =column2 )"
   ]
  },
  {
   "cell_type": "markdown",
   "id": "29ad71b7",
   "metadata": {},
   "source": [
    "** Find all data frame that existing in this notebook or session**"
   ]
  },
  {
   "cell_type": "code",
   "execution_count": null,
   "id": "18b6565c",
   "metadata": {},
   "outputs": [],
   "source": []
  }
 ],
 "metadata": {
  "kernelspec": {
   "display_name": "Python 3 (ipykernel)",
   "language": "python",
   "name": "python3"
  },
  "language_info": {
   "codemirror_mode": {
    "name": "ipython",
    "version": 3
   },
   "file_extension": ".py",
   "mimetype": "text/x-python",
   "name": "python",
   "nbconvert_exporter": "python",
   "pygments_lexer": "ipython3",
   "version": "3.10.4"
  }
 },
 "nbformat": 4,
 "nbformat_minor": 5
}
