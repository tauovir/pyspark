{
 "cells": [
  {
   "cell_type": "code",
   "execution_count": 1,
   "id": "f461bc65",
   "metadata": {},
   "outputs": [],
   "source": [
    "from pyspark.sql import SparkSession\n",
    "from pyspark.sql import functions as FS\n",
    "from pyspark.sql.types import IntegerType"
   ]
  },
  {
   "cell_type": "code",
   "execution_count": 2,
   "id": "097f00bf",
   "metadata": {},
   "outputs": [],
   "source": [
    "spark = SparkSession.builder.master(\"local[2]\").appName(\"StudentMarks\").getOrCreate()"
   ]
  },
  {
   "cell_type": "code",
   "execution_count": 3,
   "id": "1035a6bf",
   "metadata": {},
   "outputs": [],
   "source": [
    "student_data = [(\"Vendor1\",10,\"cat1\",4,\"sub_cat1\",1),\n",
    "                (\"Vendor1\",10,\"cat1\",4,\"sub_cat2\",2),\n",
    "                (\"Vendor1\",10,\"cat1\",4,\"sub_cat3\",3),\n",
    "                (\"Vendor1\",10,\"cat1\",4,\"sub_cat4\",4)]\n",
    "\n",
    "columns = [\"vendor_name\",\"count\",\"catogory\",\"category_count\",\"sub_cat\",\"sub_cat_count\"]"
   ]
  },
  {
   "cell_type": "code",
   "execution_count": 4,
   "id": "ea5b43e9",
   "metadata": {},
   "outputs": [
    {
     "name": "stdout",
     "output_type": "stream",
     "text": [
      "+-----------+-----+--------+--------------+--------+-------------+\n",
      "|vendor_name|count|catogory|category_count| sub_cat|sub_cat_count|\n",
      "+-----------+-----+--------+--------------+--------+-------------+\n",
      "|    Vendor1|   10|    cat1|             4|sub_cat1|            1|\n",
      "|    Vendor1|   10|    cat1|             4|sub_cat2|            2|\n",
      "|    Vendor1|   10|    cat1|             4|sub_cat3|            3|\n",
      "|    Vendor1|   10|    cat1|             4|sub_cat4|            4|\n",
      "+-----------+-----+--------+--------------+--------+-------------+\n",
      "\n"
     ]
    }
   ],
   "source": [
    "dataframe = spark.createDataFrame(data = student_data,schema = columns)\n",
    "dataframe.show()"
   ]
  },
  {
   "cell_type": "markdown",
   "id": "f66110da",
   "metadata": {},
   "source": [
    "#### ITIDATA technical question asked are listed below."
   ]
  },
  {
   "cell_type": "markdown",
   "id": "2afc9a2a",
   "metadata": {},
   "source": [
    "### 01\n",
    "**Convert the above Dataframe into below format**\n",
    "```\n",
    "+-----------+-----+--------+--------------+--------------------+-------------+\n",
    "|vendor_name|count|catogory|category_count|             sub_cat|sub_cat_count|\n",
    "+-----------+-----+--------+--------------+--------------------+-------------+\n",
    "|    Vendor1|   10|    cat1|             4|[sub_cat1, sub_ca...| [1, 2, 3, 4]|\n",
    "+-----------+-----+--------+--------------+--------------------+-------------+\n",
    "```"
   ]
  },
  {
   "cell_type": "code",
   "execution_count": 5,
   "id": "68db529b",
   "metadata": {},
   "outputs": [],
   "source": [
    "sub_cat=dataframe.rdd.map(lambda x: x[4]).collect()\n",
    "sub_cat_count=dataframe.rdd.map(lambda x: x[5]).collect()"
   ]
  },
  {
   "cell_type": "code",
   "execution_count": 6,
   "id": "c0eaf008",
   "metadata": {},
   "outputs": [
    {
     "data": {
      "text/plain": [
       "['sub_cat1', 'sub_cat2', 'sub_cat3', 'sub_cat4']"
      ]
     },
     "execution_count": 6,
     "metadata": {},
     "output_type": "execute_result"
    }
   ],
   "source": [
    "sub_cat"
   ]
  },
  {
   "cell_type": "code",
   "execution_count": 7,
   "id": "a5f3b595",
   "metadata": {},
   "outputs": [
    {
     "data": {
      "text/plain": [
       "[1, 2, 3, 4]"
      ]
     },
     "execution_count": 7,
     "metadata": {},
     "output_type": "execute_result"
    }
   ],
   "source": [
    "sub_cat_count"
   ]
  },
  {
   "cell_type": "code",
   "execution_count": 8,
   "id": "3261bf2c",
   "metadata": {},
   "outputs": [
    {
     "name": "stdout",
     "output_type": "stream",
     "text": [
      "+-----------+-----+--------+--------------+--------------------+-------------+\n",
      "|vendor_name|count|catogory|category_count|             sub_cat|sub_cat_count|\n",
      "+-----------+-----+--------+--------------+--------------------+-------------+\n",
      "|    Vendor1|   10|    cat1|             4|[sub_cat1, sub_ca...| [1, 2, 3, 4]|\n",
      "+-----------+-----+--------+--------------+--------------------+-------------+\n",
      "\n"
     ]
    }
   ],
   "source": [
    "dataframe.withColumn(\"sub_cat\",FS.lit(sub_cat)).\\\n",
    "withColumn(\"sub_cat_count\",FS.lit(sub_cat_count)).\\\n",
    "select(\"vendor_name\",\"count\",\"catogory\",\"category_count\",\"sub_cat\",\"sub_cat_count\").distinct().show()"
   ]
  },
  {
   "cell_type": "markdown",
   "id": "520385d7",
   "metadata": {},
   "source": [
    "### Methid-2\n",
    "**method two is not working, list unable to hold the data**"
   ]
  },
  {
   "cell_type": "code",
   "execution_count": 21,
   "id": "39c57782",
   "metadata": {},
   "outputs": [
    {
     "name": "stdout",
     "output_type": "stream",
     "text": [
      "+-----------+-----+--------+--------------+--------+-------------+\n",
      "|vendor_name|count|catogory|category_count| sub_cat|sub_cat_count|\n",
      "+-----------+-----+--------+--------------+--------+-------------+\n",
      "|    Vendor1|   10|    cat1|             4|sub_cat1|            1|\n",
      "|    Vendor1|   10|    cat1|             4|sub_cat2|            2|\n",
      "|    Vendor1|   10|    cat1|             4|sub_cat3|            3|\n",
      "|    Vendor1|   10|    cat1|             4|sub_cat4|            4|\n",
      "+-----------+-----+--------+--------------+--------+-------------+\n",
      "\n"
     ]
    }
   ],
   "source": [
    "dataframe.show()"
   ]
  },
  {
   "cell_type": "code",
   "execution_count": 23,
   "id": "61931858",
   "metadata": {},
   "outputs": [
    {
     "name": "stdout",
     "output_type": "stream",
     "text": [
      "+-----------+-----+--------+--------------+--------------------+-------------+\n",
      "|vendor_name|count|catogory|category_count|             sub_cat|sub_cat_count|\n",
      "+-----------+-----+--------+--------------+--------------------+-------------+\n",
      "|    Vendor1|   10|    cat1|             4|[sub_cat1, sub_ca...| [1, 2, 3, 4]|\n",
      "+-----------+-----+--------+--------------+--------------------+-------------+\n",
      "\n"
     ]
    }
   ],
   "source": [
    "dataframe.groupBy(\"vendor_name\",\"count\",\"catogory\",\"category_count\").\\\n",
    "agg(FS.collect_list(\"sub_cat\").alias(\"sub_cat\"),FS.collect_list(\"sub_cat_count\").alias(\"sub_cat_count\")).show()"
   ]
  },
  {
   "cell_type": "code",
   "execution_count": 10,
   "id": "07443259",
   "metadata": {},
   "outputs": [],
   "source": [
    "from pyspark.sql.types import StringType,IntegerType\n",
    "\n",
    "def add_category(cat):\n",
    "    print(cat)\n",
    "    sub_cat.append(cat)\n",
    "    return cat + \"5555\"\n",
    "\n",
    "def add_cat_count(cat_cnt):\n",
    "    sub_count.append(cat_cnt)\n",
    "    return cat_cnt\n",
    "\n",
    "addCatUDF = FS.udf(lambda z: add_category(z),StringType())\n",
    "addCatCntUDF = FS.udf(lambda z: add_cat_count(z),IntegerType())"
   ]
  },
  {
   "cell_type": "code",
   "execution_count": 11,
   "id": "e2ac6e84",
   "metadata": {},
   "outputs": [
    {
     "name": "stdout",
     "output_type": "stream",
     "text": [
      "+-----------+-----+--------+--------------+------------+-------------+\n",
      "|vendor_name|count|catogory|category_count|sub_cat     |sub_cat_count|\n",
      "+-----------+-----+--------+--------------+------------+-------------+\n",
      "|Vendor1    |10   |cat1    |4             |sub_cat15555|1            |\n",
      "|Vendor1    |10   |cat1    |4             |sub_cat25555|2            |\n",
      "|Vendor1    |10   |cat1    |4             |sub_cat35555|3            |\n",
      "|Vendor1    |10   |cat1    |4             |sub_cat45555|4            |\n",
      "+-----------+-----+--------+--------------+------------+-------------+\n",
      "\n"
     ]
    }
   ],
   "source": [
    "dataframe.select(\"vendor_name\",\"count\",\"catogory\",\"category_count\",\n",
    "    addCatUDF(\"sub_cat\").alias(\"sub_cat\"),addCatCntUDF(\"sub_cat_count\").alias(\"sub_cat_count\") ) \\\n",
    "   .show(truncate=False)"
   ]
  },
  {
   "cell_type": "code",
   "execution_count": 12,
   "id": "33b674d9",
   "metadata": {},
   "outputs": [
    {
     "data": {
      "text/plain": [
       "[]"
      ]
     },
     "execution_count": 12,
     "metadata": {},
     "output_type": "execute_result"
    }
   ],
   "source": [
    "sub_cat"
   ]
  },
  {
   "cell_type": "markdown",
   "id": "35dae9d6",
   "metadata": {},
   "source": [
    "### 02:\n",
    "**name column contain the coma separated strng. Fid the name occurence like below format **\n",
    "```\n",
    "+-----+---------+\n",
    "|name2|count_num|\n",
    "+-----+---------+\n",
    "| John|        2|\n",
    "|johna|        1|\n",
    "|Johna|        2|\n",
    "|KRISH|        1|\n",
    "|  Jon|        2|\n",
    "+-----+---------+\n",
    "```\n"
   ]
  },
  {
   "cell_type": "code",
   "execution_count": 13,
   "id": "a71fc2f6",
   "metadata": {},
   "outputs": [],
   "source": [
    "data1 = [{\"name\":\"John,John,Jon,Johna,johna,Johna,KRISH,Jon\"}]"
   ]
  },
  {
   "cell_type": "code",
   "execution_count": 14,
   "id": "1f1fa565",
   "metadata": {},
   "outputs": [
    {
     "name": "stdout",
     "output_type": "stream",
     "text": [
      "+--------------------+\n",
      "|                name|\n",
      "+--------------------+\n",
      "|John,John,Jon,Joh...|\n",
      "+--------------------+\n",
      "\n"
     ]
    }
   ],
   "source": [
    "dataframe2 = spark.createDataFrame(data = data1)\n",
    "dataframe2.show()"
   ]
  },
  {
   "cell_type": "code",
   "execution_count": 15,
   "id": "dbfbe361",
   "metadata": {},
   "outputs": [
    {
     "name": "stdout",
     "output_type": "stream",
     "text": [
      "+-----+---------+\n",
      "|name2|count_num|\n",
      "+-----+---------+\n",
      "| John|        2|\n",
      "|johna|        1|\n",
      "|Johna|        2|\n",
      "|KRISH|        1|\n",
      "|  Jon|        2|\n",
      "+-----+---------+\n",
      "\n"
     ]
    }
   ],
   "source": [
    "dataframe2.select(FS.split(\"name\",\",\").alias(\"name2\")).withColumn(\"name2\",FS.explode(FS.col('name2'))).\\\n",
    "groupBy(\"name2\").agg(FS.count(\"*\").alias(\"count_num\")).show()"
   ]
  },
  {
   "cell_type": "markdown",
   "id": "74014999",
   "metadata": {},
   "source": [
    "### 03\n",
    "```\n",
    "[[1,2,3],\n",
    "[4,5,6],\n",
    "[7,8,9]]\n",
    "```\n",
    "**print the nested list as below in the below pattern**\n",
    "1,4,7,2,5,8,3,6,9\n"
   ]
  },
  {
   "cell_type": "code",
   "execution_count": 16,
   "id": "b2ddc169",
   "metadata": {},
   "outputs": [
    {
     "name": "stdout",
     "output_type": "stream",
     "text": [
      "1\n",
      "4\n",
      "7\n",
      "2\n",
      "5\n",
      "8\n",
      "3\n",
      "6\n",
      "9\n"
     ]
    }
   ],
   "source": [
    "import numpy as np\n",
    "nest_list = [[1,2,3],[4,5,6],[7,8,9]]\n",
    "def matrix(mat):\n",
    "    np_array = np.array(mat)\n",
    "    np_traspose = np_array.T\n",
    "    for row in np_traspose:\n",
    "        for ele in row:\n",
    "            print(ele)\n",
    "matrix(nest_list)"
   ]
  },
  {
   "cell_type": "markdown",
   "id": "de5cd463",
   "metadata": {},
   "source": [
    "### 04\n",
    "***Find the employee_name and their manager**\n",
    "```\n",
    "empid  emp_name    manager_id\n",
    "1       A           2\n",
    "2       B          3\n",
    "3       C          Null\n",
    "4       D          1\n",
    "```\n",
    "**print the nested list as below in the below pattern**\n",
    "1,4,7,2,5,8,3,6,9"
   ]
  },
  {
   "cell_type": "code",
   "execution_count": 17,
   "id": "f2a200ca",
   "metadata": {},
   "outputs": [
    {
     "name": "stdout",
     "output_type": "stream",
     "text": [
      "+-----+--------+----------+\n",
      "|empid|emp_name|manager_id|\n",
      "+-----+--------+----------+\n",
      "|    1|       A|         2|\n",
      "|    2|       B|         3|\n",
      "|    3|       C|      NULL|\n",
      "|    4|       D|         1|\n",
      "+-----+--------+----------+\n",
      "\n"
     ]
    }
   ],
   "source": [
    "student_data = [(1,'A',2),\n",
    "                (2,'B',3),\n",
    "                (3,'C',None),\n",
    "                (4,'D',1),]\n",
    "\n",
    "columns = [\"empid\",\"emp_name\",\"manager_id\"]\n",
    "emp_df = spark.createDataFrame(data = student_data,schema = columns)\n",
    "emp_df.show()"
   ]
  },
  {
   "cell_type": "code",
   "execution_count": 18,
   "id": "88155f45",
   "metadata": {},
   "outputs": [],
   "source": [
    "emp_df.createOrReplaceTempView(\"EMPLOYEE_MNG\")"
   ]
  },
  {
   "cell_type": "code",
   "execution_count": 19,
   "id": "9fc83332",
   "metadata": {},
   "outputs": [
    {
     "name": "stdout",
     "output_type": "stream",
     "text": [
      "+-----+--------+----------+------------+\n",
      "|EMPID|EMP_NAME|manager_id|manager_name|\n",
      "+-----+--------+----------+------------+\n",
      "|    1|       A|         3|           B|\n",
      "|    2|       B|        -1|           C|\n",
      "|    3|       C|        -1|          **|\n",
      "|    4|       D|         2|           A|\n",
      "+-----+--------+----------+------------+\n",
      "\n"
     ]
    }
   ],
   "source": [
    "SQL =\"\"\"\n",
    "SELECT e.EMPID,e.EMP_NAME,NVL(m.manager_id,-1) as manager_id,NVL(m.EMP_NAME,'**') as manager_name\n",
    "from EMPLOYEE_MNG as e left join EMPLOYEE_MNG as m on e.manager_id = m.EMPID\n",
    "order by e.EMPID\n",
    "\"\"\"\n",
    "spark.sql(SQL).show()"
   ]
  },
  {
   "cell_type": "code",
   "execution_count": 20,
   "id": "9fc87fe5",
   "metadata": {},
   "outputs": [
    {
     "name": "stdout",
     "output_type": "stream",
     "text": [
      "+-----+--------+-------+\n",
      "|empid|emp_name|manager|\n",
      "+-----+--------+-------+\n",
      "|    1|       A|      B|\n",
      "|    2|       B|      C|\n",
      "|    3|       C|   NULL|\n",
      "|    4|       D|      A|\n",
      "+-----+--------+-------+\n",
      "\n"
     ]
    }
   ],
   "source": [
    "emp_df.alias(\"emp\").join(emp_df.alias(\"emp_mng\"),\n",
    "                         FS.col(\"emp.manager_id\") == FS.col(\"emp_mng.empid\"),\"left\").\\\n",
    "select(FS.col(\"emp.empid\"),FS.col(\"emp.emp_name\"),FS.col(\"emp_mng.emp_name\").alias(\"manager\")).\\\n",
    "orderBy(FS.col(\"emp.empid\")).show()"
   ]
  }
 ],
 "metadata": {
  "kernelspec": {
   "display_name": "Python 3 (ipykernel)",
   "language": "python",
   "name": "python3"
  },
  "language_info": {
   "codemirror_mode": {
    "name": "ipython",
    "version": 3
   },
   "file_extension": ".py",
   "mimetype": "text/x-python",
   "name": "python",
   "nbconvert_exporter": "python",
   "pygments_lexer": "ipython3",
   "version": "3.10.4"
  }
 },
 "nbformat": 4,
 "nbformat_minor": 5
}
