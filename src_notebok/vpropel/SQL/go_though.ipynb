{
 "cells": [
  {
   "cell_type": "code",
   "execution_count": 1,
   "id": "3574360c",
   "metadata": {},
   "outputs": [],
   "source": [
    "from pyspark.sql import SparkSession\n",
    "from pyspark.sql import functions as F\n",
    "from pyspark.sql import Window as W\n"
   ]
  },
  {
   "cell_type": "code",
   "execution_count": 2,
   "id": "54026c98",
   "metadata": {},
   "outputs": [],
   "source": [
    "spark = SparkSession.builder.appName('Go Through').getOrCreate()"
   ]
  },
  {
   "cell_type": "code",
   "execution_count": 43,
   "id": "9ceecb6a",
   "metadata": {},
   "outputs": [
    {
     "name": "stdout",
     "output_type": "stream",
     "text": [
      "root\n",
      " |-- id: integer (nullable = true)\n",
      " |-- notes: string (nullable = true)\n",
      " |-- sales_date: string (nullable = true)\n",
      " |-- amount: integer (nullable = true)\n",
      "\n"
     ]
    }
   ],
   "source": [
    "dataset = [(10,'mango','2024-01-01',100),\n",
    "(10,'orange','2024-01-02',120),\n",
    "(11,'jeans','2024-01-03',200),\n",
    "(11,'jeans','2024-01-03',250),\n",
    "(11,'T-shirt','2024-01-04',200),\n",
    "(12,'Banana','2024-01-04',50)]\n",
    "data_schema = \"id int, notes string,sales_date string,amount int\"\n",
    "dataframe = spark.createDataFrame(data = dataset, schema = data_schema)\n",
    "dataframe.printSchema()"
   ]
  },
  {
   "cell_type": "code",
   "execution_count": 44,
   "id": "04ce8703",
   "metadata": {},
   "outputs": [
    {
     "name": "stdout",
     "output_type": "stream",
     "text": [
      "+---+-------+----------+------+\n",
      "|id |notes  |sales_date|amount|\n",
      "+---+-------+----------+------+\n",
      "|10 |mango  |2024-01-01|100   |\n",
      "|10 |orange |2024-01-02|120   |\n",
      "|11 |jeans  |2024-01-03|200   |\n",
      "|11 |jeans  |2024-01-03|250   |\n",
      "|11 |T-shirt|2024-01-04|200   |\n",
      "|12 |Banana |2024-01-04|50    |\n",
      "+---+-------+----------+------+\n",
      "\n"
     ]
    }
   ],
   "source": [
    "dataframe.show(truncate = False)"
   ]
  },
  {
   "cell_type": "code",
   "execution_count": 47,
   "id": "75f0695f",
   "metadata": {},
   "outputs": [
    {
     "name": "stdout",
     "output_type": "stream",
     "text": [
      "+---+-------+----------+------+---+\n",
      "| id|  notes|sales_date|amount|max|\n",
      "+---+-------+----------+------+---+\n",
      "| 10|  mango|2024-01-01|   100|100|\n",
      "| 10| orange|2024-01-02|   120|120|\n",
      "| 11|  jeans|2024-01-03|   200|250|\n",
      "| 11|  jeans|2024-01-03|   250|250|\n",
      "| 11|T-shirt|2024-01-04|   200|200|\n",
      "| 12| Banana|2024-01-04|    50| 50|\n",
      "+---+-------+----------+------+---+\n",
      "\n"
     ]
    }
   ],
   "source": [
    "max_cn = F.max(F.col('amount')).over(W.partitionBy(F.col('id'),F.col('sales_date')))\n",
    "dataframe.select('*').\\\n",
    "withColumn('max',max_cn).show()"
   ]
  },
  {
   "cell_type": "code",
   "execution_count": null,
   "id": "a33af0e4",
   "metadata": {},
   "outputs": [],
   "source": []
  }
 ],
 "metadata": {
  "kernelspec": {
   "display_name": "Python 3 (ipykernel)",
   "language": "python",
   "name": "python3"
  },
  "language_info": {
   "codemirror_mode": {
    "name": "ipython",
    "version": 3
   },
   "file_extension": ".py",
   "mimetype": "text/x-python",
   "name": "python",
   "nbconvert_exporter": "python",
   "pygments_lexer": "ipython3",
   "version": "3.10.4"
  }
 },
 "nbformat": 4,
 "nbformat_minor": 5
}
