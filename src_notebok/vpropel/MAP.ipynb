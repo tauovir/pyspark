{
 "cells": [
  {
   "cell_type": "code",
   "execution_count": 1,
   "id": "b4ff7d77",
   "metadata": {},
   "outputs": [],
   "source": [
    "from pyspark.sql import SparkSession\n",
    "from pyspark.sql import Window as WN\n",
    "from pyspark.sql.functions import row_number,dense_rank,col,when, length,concat,udf,to_date,day,min,max,count,lit,split,explode\n",
    "from pyspark.sql.functions import  collect_set,collect_list,coalesce,from_json,broadcast,substr,month,lag\n",
    "from pyspark.sql import  types as TP"
   ]
  },
  {
   "cell_type": "code",
   "execution_count": 2,
   "id": "cb2e2fac",
   "metadata": {},
   "outputs": [],
   "source": [
    "spark = SparkSession.builder.appName(\"Practice\").master(\"local[3]\").getOrCreate()"
   ]
  },
  {
   "cell_type": "code",
   "execution_count": 3,
   "id": "4ab37732",
   "metadata": {},
   "outputs": [
    {
     "name": "stdout",
     "output_type": "stream",
     "text": [
      "+------+---+\n",
      "|amount| id|\n",
      "+------+---+\n",
      "|    10|abc|\n",
      "|    20|def|\n",
      "+------+---+\n",
      "\n"
     ]
    }
   ],
   "source": [
    "dataset = [\n",
    "    {\"id\":\"abc\",\"amount\":10},\n",
    "    {\"id\":\"def\",\"amount\":20}\n",
    "]\n",
    "\n",
    "\n",
    "emp_df = spark.createDataFrame(data = dataset)\n",
    "emp_df.show()"
   ]
  },
  {
   "cell_type": "code",
   "execution_count": 69,
   "id": "251187a0",
   "metadata": {},
   "outputs": [
    {
     "data": {
      "text/plain": [
       "[Row(amount=10, id='abc'), Row(amount=20, id='def')]"
      ]
     },
     "execution_count": 69,
     "metadata": {},
     "output_type": "execute_result"
    }
   ],
   "source": [
    "emp_df.collect()"
   ]
  },
  {
   "cell_type": "code",
   "execution_count": 26,
   "id": "be17ace4",
   "metadata": {},
   "outputs": [],
   "source": [
    "def extract_features(row):\n",
    " return (row.amount + 10, row.id)"
   ]
  },
  {
   "cell_type": "code",
   "execution_count": 27,
   "id": "7acb781e",
   "metadata": {},
   "outputs": [],
   "source": [
    "rddmap = emp_df.rdd.map(extract_features)"
   ]
  },
  {
   "cell_type": "code",
   "execution_count": 28,
   "id": "be6a826e",
   "metadata": {},
   "outputs": [
    {
     "name": "stdout",
     "output_type": "stream",
     "text": [
      "(20, 'abc')\n",
      "(30, 'def')\n"
     ]
    }
   ],
   "source": [
    "normalized_data = rddmap.collect()\n",
    "for row in normalized_data:\n",
    " print(row)"
   ]
  },
  {
   "cell_type": "code",
   "execution_count": 29,
   "id": "a333168c",
   "metadata": {},
   "outputs": [],
   "source": [
    "rddmap2 = emp_df.rdd.map(lambda row: row[0] + 10)"
   ]
  },
  {
   "cell_type": "code",
   "execution_count": 30,
   "id": "a7b615c5",
   "metadata": {},
   "outputs": [
    {
     "name": "stdout",
     "output_type": "stream",
     "text": [
      "(20, 'abc')\n",
      "(30, 'def')\n"
     ]
    }
   ],
   "source": [
    "for row in rddmap.collect():\n",
    "    print(row)"
   ]
  },
  {
   "cell_type": "code",
   "execution_count": 34,
   "id": "8a751320",
   "metadata": {},
   "outputs": [],
   "source": [
    "import collections as cl"
   ]
  },
  {
   "cell_type": "code",
   "execution_count": 61,
   "id": "55248a0b",
   "metadata": {},
   "outputs": [
    {
     "data": {
      "text/plain": [
       "{1: 2, 2: 2, 3: 2, 4: 1, 5: 3}"
      ]
     },
     "execution_count": 61,
     "metadata": {},
     "output_type": "execute_result"
    }
   ],
   "source": [
    "l1 = [1,2,3,1,2,3,4,5,5,5]\n",
    "cl2 = cl.Counter(l1)\n",
    "dict(cl2)"
   ]
  },
  {
   "cell_type": "code",
   "execution_count": 63,
   "id": "13a8a264",
   "metadata": {},
   "outputs": [
    {
     "data": {
      "text/plain": [
       "2"
      ]
     },
     "execution_count": 63,
     "metadata": {},
     "output_type": "execute_result"
    }
   ],
   "source": [
    "l1.count(2)"
   ]
  },
  {
   "cell_type": "code",
   "execution_count": 42,
   "id": "e70f3dec",
   "metadata": {},
   "outputs": [],
   "source": [
    "emp = cl.namedtuple('employee',['name','id'])\n",
    "rr = emp('khan',10)"
   ]
  },
  {
   "cell_type": "code",
   "execution_count": 43,
   "id": "0d17f160",
   "metadata": {},
   "outputs": [
    {
     "data": {
      "text/plain": [
       "'khan'"
      ]
     },
     "execution_count": 43,
     "metadata": {},
     "output_type": "execute_result"
    }
   ],
   "source": [
    "rr.name"
   ]
  },
  {
   "cell_type": "code",
   "execution_count": 45,
   "id": "f728d3c2",
   "metadata": {},
   "outputs": [],
   "source": [
    "import itertools"
   ]
  },
  {
   "cell_type": "code",
   "execution_count": 51,
   "id": "6466adcd",
   "metadata": {},
   "outputs": [],
   "source": [
    "l1 = [1,2,3]\n",
    "com = itertools.permutations(l1,2)"
   ]
  },
  {
   "cell_type": "code",
   "execution_count": 52,
   "id": "a2c60d87",
   "metadata": {},
   "outputs": [
    {
     "data": {
      "text/plain": [
       "[(1, 2), (1, 3), (2, 1), (2, 3), (3, 1), (3, 2)]"
      ]
     },
     "execution_count": 52,
     "metadata": {},
     "output_type": "execute_result"
    }
   ],
   "source": [
    "list(com)"
   ]
  },
  {
   "cell_type": "code",
   "execution_count": 57,
   "id": "2ab639de",
   "metadata": {},
   "outputs": [],
   "source": [
    "def deco(func):\n",
    "    def warpper(arg):\n",
    "        n = func(arg)\n",
    "        return n*n\n",
    "    return warpper\n",
    "\n",
    "@deco\n",
    "def demo(x):\n",
    "    return x"
   ]
  },
  {
   "cell_type": "code",
   "execution_count": 58,
   "id": "842fd4b7",
   "metadata": {},
   "outputs": [
    {
     "data": {
      "text/plain": [
       "25"
      ]
     },
     "execution_count": 58,
     "metadata": {},
     "output_type": "execute_result"
    }
   ],
   "source": [
    "demo(5)"
   ]
  },
  {
   "cell_type": "code",
   "execution_count": null,
   "id": "19d238e1",
   "metadata": {},
   "outputs": [],
   "source": []
  }
 ],
 "metadata": {
  "kernelspec": {
   "display_name": "Python 3 (ipykernel)",
   "language": "python",
   "name": "python3"
  },
  "language_info": {
   "codemirror_mode": {
    "name": "ipython",
    "version": 3
   },
   "file_extension": ".py",
   "mimetype": "text/x-python",
   "name": "python",
   "nbconvert_exporter": "python",
   "pygments_lexer": "ipython3",
   "version": "3.10.4"
  }
 },
 "nbformat": 4,
 "nbformat_minor": 5
}
