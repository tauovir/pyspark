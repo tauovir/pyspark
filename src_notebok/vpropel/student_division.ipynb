{
 "cells": [
  {
   "cell_type": "code",
   "execution_count": 1,
   "id": "5ad58b5d",
   "metadata": {},
   "outputs": [],
   "source": [
    "from pyspark.sql import SparkSession\n",
    "from pyspark.sql import functions as FS\n",
    "from pyspark.sql.types import IntegerType"
   ]
  },
  {
   "cell_type": "code",
   "execution_count": 17,
   "id": "9640b82c",
   "metadata": {},
   "outputs": [],
   "source": [
    "student_data = [\n",
    "    {\"student_id\": 1,\"name\":\"Khan\"},\n",
    "     {\"student_id\": 2,\"name\":\"Rahul\"},\n",
    "    {\"student_id\": 3,\"name\":\"Lavan\"},\n",
    "]"
   ]
  },
  {
   "cell_type": "code",
   "execution_count": 3,
   "id": "f1b2914a",
   "metadata": {},
   "outputs": [],
   "source": [
    "spark = SparkSession.builder.master(\"local[2]\").appName(\"StudentMarks\").getOrCreate()"
   ]
  },
  {
   "cell_type": "code",
   "execution_count": 18,
   "id": "560c6bf0",
   "metadata": {},
   "outputs": [
    {
     "name": "stdout",
     "output_type": "stream",
     "text": [
      "+-----+----------+\n",
      "| name|student_id|\n",
      "+-----+----------+\n",
      "| Khan|         1|\n",
      "|Rahul|         2|\n",
      "|Lavan|         3|\n",
      "+-----+----------+\n",
      "\n"
     ]
    }
   ],
   "source": [
    "student = spark.createDataFrame(student_data)\n",
    "student.show()"
   ]
  },
  {
   "cell_type": "code",
   "execution_count": 20,
   "id": "9a8c1b23",
   "metadata": {},
   "outputs": [],
   "source": [
    "student_marks = [\n",
    "    {\"student_id\": 1,\"subject\":\"Pyspark\",\"marks\":90},\n",
    "    {\"student_id\": 1,\"subject\":\"SQL\",\"marks\":100},\n",
    "    {\"student_id\": 2,\"subject\":\"SQL\",\"marks\":70},\n",
    "    {\"student_id\": 2,\"subject\":\"Pyspark\",\"marks\":60},\n",
    "    {\"student_id\": 3,\"subject\":\"SQL\",\"marks\":30},\n",
    "    {\"student_id\": 3,\"subject\":\"Pyspark\",\"marks\":20},\n",
    "]"
   ]
  },
  {
   "cell_type": "code",
   "execution_count": 21,
   "id": "c5321cbf",
   "metadata": {},
   "outputs": [
    {
     "name": "stdout",
     "output_type": "stream",
     "text": [
      "+-----+----------+-------+\n",
      "|marks|student_id|subject|\n",
      "+-----+----------+-------+\n",
      "|   90|         1|Pyspark|\n",
      "|  100|         1|    SQL|\n",
      "|   70|         2|    SQL|\n",
      "|   60|         2|Pyspark|\n",
      "|   30|         3|    SQL|\n",
      "|   20|         3|Pyspark|\n",
      "+-----+----------+-------+\n",
      "\n"
     ]
    }
   ],
   "source": [
    "student_marks = spark.createDataFrame(student_marks)\n",
    "student_marks.show()"
   ]
  },
  {
   "cell_type": "markdown",
   "id": "ff774248",
   "metadata": {},
   "source": [
    "### Calculate the % Marks for each student.\n",
    "**Each subject is of 100 marks.**\n",
    "Create the Division column by following below condition.\n",
    "<ol>\n",
    "<li> % Marks greater than or equal to 70 then \"Distinction\"</li>\n",
    "<li> % Marks range between 60-69 then \"First class\"</li>\n",
    "<li> % Marks range between 50-59 then \"Second class\"</li>\n",
    "<li> % Marks range between 40-49 then \"Third class\"</li>\n",
    "<li> % Marks less then or equal to 39 the \"fail\"</li>"
   ]
  },
  {
   "cell_type": "code",
   "execution_count": 23,
   "id": "c21341e6",
   "metadata": {},
   "outputs": [],
   "source": [
    "df = student.join(student_marks, student.student_id == student_marks.student_id,\"inner\").\\\n",
    "groupBy(student.student_id,student.name).agg(FS.sum('marks').alias(\"total\")).\\\n",
    "withColumn(\"percentage\",FS.expr('(total * 100)/200')).\\\n",
    "withColumn(\"Division\",\n",
    "           FS.when(FS.col('percentage') >= 70,\"Distinct\").\\\n",
    "           when(FS.col('percentage').between(60, 69),\"First class\").\\\n",
    "           when(FS.col('percentage').between(50, 59),\"Second class\").\\\n",
    "           when(FS.col('percentage').between(40, 49),\"Third class\").\\\n",
    "           otherwise(\"Fail\")\n",
    "          ).drop(\"total\")"
   ]
  },
  {
   "cell_type": "code",
   "execution_count": 24,
   "id": "cfd21432",
   "metadata": {},
   "outputs": [
    {
     "name": "stdout",
     "output_type": "stream",
     "text": [
      "+----------+-----+----------+-----------+\n",
      "|student_id| name|percentage|   Division|\n",
      "+----------+-----+----------+-----------+\n",
      "|         1| Khan|      95.0|   Distinct|\n",
      "|         2|Rahul|      65.0|First class|\n",
      "|         3|Lavan|      25.0|       Fail|\n",
      "+----------+-----+----------+-----------+\n",
      "\n"
     ]
    }
   ],
   "source": [
    "df.select(\"*\").show()"
   ]
  }
 ],
 "metadata": {
  "kernelspec": {
   "display_name": "Python 3 (ipykernel)",
   "language": "python",
   "name": "python3"
  },
  "language_info": {
   "codemirror_mode": {
    "name": "ipython",
    "version": 3
   },
   "file_extension": ".py",
   "mimetype": "text/x-python",
   "name": "python",
   "nbconvert_exporter": "python",
   "pygments_lexer": "ipython3",
   "version": "3.10.4"
  }
 },
 "nbformat": 4,
 "nbformat_minor": 5
}
