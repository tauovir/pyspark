{
 "cells": [
  {
   "cell_type": "code",
   "execution_count": 1,
   "id": "991c532f",
   "metadata": {},
   "outputs": [],
   "source": [
    "from pyspark.sql import SparkSession\n",
    "from pyspark.sql import functions as FS\n",
    "from pyspark.sql import Window as wn"
   ]
  },
  {
   "cell_type": "code",
   "execution_count": 2,
   "id": "79039a79",
   "metadata": {},
   "outputs": [],
   "source": [
    "spark = SparkSession.builder.master(\"local[2]\").appName(\"Min MAx Salary\").getOrCreate()"
   ]
  },
  {
   "cell_type": "code",
   "execution_count": 3,
   "id": "41ed5682",
   "metadata": {},
   "outputs": [
    {
     "name": "stdout",
     "output_type": "stream",
     "text": [
      "+--------+------+------+\n",
      "|emp_name|dep_id|salary|\n",
      "+--------+------+------+\n",
      "|    Siva|     1| 30000|\n",
      "|    Ravi|     2| 40000|\n",
      "|  Prasad|     1| 50000|\n",
      "|    Arun|     1| 30000|\n",
      "|     Sai|     2| 20000|\n",
      "+--------+------+------+\n",
      "\n"
     ]
    }
   ],
   "source": [
    "emp_data = [\n",
    "    ('Siva',1,30000),\n",
    "    ('Ravi',2,40000),\n",
    "    ('Prasad',1,50000),\n",
    "    ('Arun',1,30000),\n",
    "    ('Sai',2,20000)\n",
    "]\n",
    "emp_schema = \"emp_name string , dep_id int , salary long\"\n",
    "df = spark.createDataFrame(data = emp_data , schema = emp_schema)\n",
    "df.show()"
   ]
  },
  {
   "cell_type": "code",
   "execution_count": 17,
   "id": "83cb6586",
   "metadata": {},
   "outputs": [
    {
     "name": "stdout",
     "output_type": "stream",
     "text": [
      "+--------+------+------+---+-----+-----+\n",
      "|emp_name|dep_id|salary|DRN|  MAx|  MIN|\n",
      "+--------+------+------+---+-----+-----+\n",
      "|  Prasad|     1| 50000|  1|50000|30000|\n",
      "|    Siva|     1| 30000|  2|50000|30000|\n",
      "|    Arun|     1| 30000|  2|50000|30000|\n",
      "|    Ravi|     2| 40000|  1|40000|20000|\n",
      "|     Sai|     2| 20000|  2|40000|20000|\n",
      "+--------+------+------+---+-----+-----+\n",
      "\n"
     ]
    }
   ],
   "source": [
    "part_df = df.withColumn(\"DRN\",FS.dense_rank().over(wn.partitionBy(\"dep_id\").orderBy(FS.col(\"salary\").desc()))).\\\n",
    "withColumn(\"MAx\",FS.max(\"salary\").over(wn.partitionBy(\"dep_id\"))).\\\n",
    "withColumn(\"MIN\",FS.min(\"salary\").over(wn.partitionBy(\"dep_id\")))\n",
    "part_df.show()"
   ]
  },
  {
   "cell_type": "code",
   "execution_count": 14,
   "id": "26247e53",
   "metadata": {},
   "outputs": [
    {
     "name": "stdout",
     "output_type": "stream",
     "text": [
      "+--------+------+------+---+\n",
      "|emp_name|dep_id|salary|DRN|\n",
      "+--------+------+------+---+\n",
      "|  Prasad|     1| 50000|  1|\n",
      "|    Ravi|     2| 40000|  1|\n",
      "+--------+------+------+---+\n",
      "\n"
     ]
    }
   ],
   "source": [
    "part_df.filter(FS.col(\"DRN\") == 1).show()"
   ]
  },
  {
   "cell_type": "code",
   "execution_count": 18,
   "id": "ae1c9b9e",
   "metadata": {},
   "outputs": [],
   "source": [
    "# part_df.groupBy(\"dep_id\").agg(\n",
    "#     FS.when(FS.max(FS.col('DRN')) == 1,FS.col('emp_name')).alias('min'),\n",
    "#      FS.when(FS.min(FS.col('DRN')) == FS.col('dep_id'),FS.col('emp_name')).alias('max')).show()"
   ]
  },
  {
   "cell_type": "code",
   "execution_count": null,
   "id": "5c41b4f0",
   "metadata": {},
   "outputs": [],
   "source": []
  }
 ],
 "metadata": {
  "kernelspec": {
   "display_name": "Python 3 (ipykernel)",
   "language": "python",
   "name": "python3"
  },
  "language_info": {
   "codemirror_mode": {
    "name": "ipython",
    "version": 3
   },
   "file_extension": ".py",
   "mimetype": "text/x-python",
   "name": "python",
   "nbconvert_exporter": "python",
   "pygments_lexer": "ipython3",
   "version": "3.10.4"
  }
 },
 "nbformat": 4,
 "nbformat_minor": 5
}
