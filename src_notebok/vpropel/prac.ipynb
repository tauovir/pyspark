{
 "cells": [
  {
   "cell_type": "code",
   "execution_count": 1,
   "id": "585017b4",
   "metadata": {},
   "outputs": [],
   "source": [
    "from pyspark.sql import SparkSession\n",
    "from pyspark.sql.functions import *\n",
    "from pyspark.sql.types import *\n",
    "from pyspark.sql import Window as w\n"
   ]
  },
  {
   "cell_type": "code",
   "execution_count": 7,
   "id": "2c5edeec",
   "metadata": {},
   "outputs": [
    {
     "data": {
      "text/html": [
       "\n",
       "            <div>\n",
       "                <p><b>SparkSession - in-memory</b></p>\n",
       "                \n",
       "        <div>\n",
       "            <p><b>SparkContext</b></p>\n",
       "\n",
       "            <p><a href=\"http://10.0.0.55:4040\">Spark UI</a></p>\n",
       "\n",
       "            <dl>\n",
       "              <dt>Version</dt>\n",
       "                <dd><code>v3.5.0</code></dd>\n",
       "              <dt>Master</dt>\n",
       "                <dd><code>local[*]</code></dd>\n",
       "              <dt>AppName</dt>\n",
       "                <dd><code>Lumen</code></dd>\n",
       "            </dl>\n",
       "        </div>\n",
       "        \n",
       "            </div>\n",
       "        "
      ],
      "text/plain": [
       "<pyspark.sql.session.SparkSession at 0x1ca23d735e0>"
      ]
     },
     "execution_count": 7,
     "metadata": {},
     "output_type": "execute_result"
    }
   ],
   "source": [
    "spark = SparkSession.builder.appName('Lumen').getOrCreate()\n",
    "spark"
   ]
  },
  {
   "cell_type": "code",
   "execution_count": 33,
   "id": "3aa4c4b0",
   "metadata": {},
   "outputs": [],
   "source": [
    "filepath = '../../data/open_forum/epam/'\n",
    "def get_read_data(spark,filename):\n",
    "    path = f\"{filepath}{filename}.csv\"\n",
    "    options = {'header':True,'inferSchema':True,'path' : path}\n",
    "    dataframe = spark.read.format('csv').options(**options).load()\n",
    "    return dataframe\n",
    "\n",
    "karnatak_df = get_read_data(spark,'karnataka')"
   ]
  },
  {
   "cell_type": "code",
   "execution_count": 34,
   "id": "811e0d26",
   "metadata": {},
   "outputs": [],
   "source": [
    "maharashtra_df = get_read_data(spark,\"maharashtra\")"
   ]
  },
  {
   "cell_type": "code",
   "execution_count": 49,
   "id": "ef53d7e4",
   "metadata": {},
   "outputs": [
    {
     "name": "stdout",
     "output_type": "stream",
     "text": [
      "+----------+---------+---+------+--------+---------+\n",
      "|first_name|last_name|age|sex   |location|state    |\n",
      "+----------+---------+---+------+--------+---------+\n",
      "|taukir    |khan     |30 |male  |india   |karnataka|\n",
      "|tauovir   |khan     |31 |male  |canada  |karnataka|\n",
      "|zeenat    |fatima   |30 |frmale|canada  |karnataka|\n",
      "+----------+---------+---+------+--------+---------+\n",
      "\n"
     ]
    }
   ],
   "source": [
    "karnatak_df.select('*').withColumn('state',split(col('_metadata.file_name'),'.csv')[0]).show(truncate = False)"
   ]
  },
  {
   "cell_type": "code",
   "execution_count": 53,
   "id": "ca782f34",
   "metadata": {},
   "outputs": [
    {
     "name": "stdout",
     "output_type": "stream",
     "text": [
      "+----------+---------+---+------+--------+-----------+\n",
      "|first_name|last_name|age|sex   |location|state      |\n",
      "+----------+---------+---+------+--------+-----------+\n",
      "|rahul     |kumar    |30 |male  |india   |maharashtra|\n",
      "|ashi      |chuhan   |31 |female|india   |maharashtra|\n",
      "|rohit     |gupta    |36 |male  |canada  |maharashtra|\n",
      "+----------+---------+---+------+--------+-----------+\n",
      "\n"
     ]
    }
   ],
   "source": [
    "maharashtra_df.select('*').withColumn('state',split(col('_metadata.file_name'),'.csv')[0]).show(truncate = False)"
   ]
  },
  {
   "cell_type": "code",
   "execution_count": 54,
   "id": "c0a39ab5",
   "metadata": {},
   "outputs": [],
   "source": [
    "file_path = \"E:\\workforce\\spark\\data\\Bengaluru_House_Data*.csv\"\n",
    "house_df = spark.read.format('csv').option('inferSchema',True).option('header',True).load(file_path)"
   ]
  },
  {
   "cell_type": "code",
   "execution_count": 61,
   "id": "756c3422",
   "metadata": {},
   "outputs": [
    {
     "name": "stdout",
     "output_type": "stream",
     "text": [
      "+--------------------+\n",
      "|           area_type|\n",
      "+--------------------+\n",
      "|      Built-up  Area|\n",
      "|Super built-up  Area|\n",
      "|          Plot  Area|\n",
      "|        Carpet  Area|\n",
      "+--------------------+\n",
      "\n"
     ]
    }
   ],
   "source": [
    "house_df.select('area_type').distinct().show()"
   ]
  },
  {
   "cell_type": "code",
   "execution_count": 60,
   "id": "7160d65f",
   "metadata": {},
   "outputs": [],
   "source": [
    "save_path = filepath = \"E:/workforce/spark/data/hudsonu-product/tmp/\"\n",
    "house_df.write.format(\"csv\").partitionBy('area_type').mode('overwrite').option(\"path\",save_path).save()"
   ]
  },
  {
   "cell_type": "code",
   "execution_count": 67,
   "id": "3207b4c7",
   "metadata": {},
   "outputs": [
    {
     "name": "stdout",
     "output_type": "stream",
     "text": [
      "+-------------+------------------------+---------+-------+-----------------+---+----+------+------------+\n",
      "|       19-Dec|Electronic City Phase II|    2 BHK| Coomee|             1056|  2|   1| 39.07|   area_type|\n",
      "+-------------+------------------------+---------+-------+-----------------+---+----+------+------------+\n",
      "|Ready To Move|        Muneshwara Nagar|    2 BHK|   NULL|             1230|  2|   3|  48.0|Carpet  Area|\n",
      "|Ready To Move|            Sampigehalli|    3 BHK|Puens G|             1592|  3|   2|  75.0|Carpet  Area|\n",
      "|Ready To Move|            Sanjay nagar|    2 BHK|   NULL|             1100|  2|   2|  98.0|Carpet  Area|\n",
      "|Ready To Move|       Bannerghatta Road|    3 BHK|   NULL|             1445|  3|   2|  95.0|Carpet  Area|\n",
      "|       18-Jul|               Hosahalli|    3 BHK|NSezeBr|             1375|  3|   2|  70.0|Carpet  Area|\n",
      "|Ready To Move|          Chikkalasandra|    2 BHK|   NULL|              875|  2|   3|  52.8|Carpet  Area|\n",
      "|Ready To Move|          Weavers Colony|    1 BHK|   NULL|               15|  1|   0|  30.0|Carpet  Area|\n",
      "|Ready To Move|              Nagasandra|6 Bedroom|   NULL|             1500|  5|   1| 130.0|Carpet  Area|\n",
      "|Ready To Move|                 Iggalur|    2 BHK|VaoldMa|              910|  2|   1|  30.5|Carpet  Area|\n",
      "|Ready To Move|    Electronics City ...|    1 BHK|   NULL|              785|  1|   1|  55.0|Carpet  Area|\n",
      "|Ready To Move|          Vinayaka Nagar|    3 BHK|SVon hn|             1535|  3|   1|  95.0|Carpet  Area|\n",
      "|       18-Mar|                  Hebbal|    2 BHK|Arcia S|  547.34 - 827.31|  2|   0| 42.72|Carpet  Area|\n",
      "|       18-Dec|             Bhoganhalli|    2 BHK|Rosha I|            804.1|  2|   1| 69.09|Carpet  Area|\n",
      "|Ready To Move|             Kumara Park|    3 BHK|   NULL|             2200|  4|NULL| 350.0|Carpet  Area|\n",
      "|Ready To Move|       Jaya Mahal layout|    3 BHK|Fanorrt|             1650|  3|   3| 175.0|Carpet  Area|\n",
      "|Ready To Move|          Kanakpura Road|    3 BHK| Advash|             1560|  3|NULL|  92.0|Carpet  Area|\n",
      "|Ready To Move|           BTM 2nd Stage|    2 BHK|Jancyva|              950|  2|   1|  52.0|Carpet  Area|\n",
      "|Ready To Move|                KR Puram|    3 BHK|Jahidva|1005.03 - 1252.49|  3|   0|47.405|Carpet  Area|\n",
      "|       18-Dec|                  Hebbal|    2 BHK|Arcia S|              823|  2|   1| 50.63|Carpet  Area|\n",
      "|       18-Dec|                  Hebbal|    3 BHK|Arcia S|             1069|  3|   2|  65.4|Carpet  Area|\n",
      "+-------------+------------------------+---------+-------+-----------------+---+----+------+------------+\n",
      "only showing top 20 rows\n",
      "\n"
     ]
    }
   ],
   "source": [
    "house_df2 = spark.read.format('csv').option('inferSchema',True).option('header',True).load(save_path).\\\n",
    "where(col('area_type') == 'Carpet  Area').show()"
   ]
  },
  {
   "cell_type": "code",
   "execution_count": null,
   "id": "991891d4",
   "metadata": {},
   "outputs": [],
   "source": []
  }
 ],
 "metadata": {
  "kernelspec": {
   "display_name": "Python 3 (ipykernel)",
   "language": "python",
   "name": "python3"
  },
  "language_info": {
   "codemirror_mode": {
    "name": "ipython",
    "version": 3
   },
   "file_extension": ".py",
   "mimetype": "text/x-python",
   "name": "python",
   "nbconvert_exporter": "python",
   "pygments_lexer": "ipython3",
   "version": "3.10.4"
  }
 },
 "nbformat": 4,
 "nbformat_minor": 5
}
