{
 "cells": [
  {
   "cell_type": "code",
   "execution_count": 1,
   "id": "02de3d0c",
   "metadata": {},
   "outputs": [],
   "source": [
    "from pyspark.sql import SparkSession\n",
    "from pyspark.sql import functions as F"
   ]
  },
  {
   "cell_type": "code",
   "execution_count": 2,
   "id": "d130b23d",
   "metadata": {},
   "outputs": [],
   "source": [
    "spark = SparkSession.builder.appName(\"epam\").getOrCreate()"
   ]
  },
  {
   "cell_type": "markdown",
   "id": "9e912915",
   "metadata": {},
   "source": [
    "#### q-1 Pyspark:\n",
    "You've been given some CSV files like karnataka.csv and maharashtra.csv in an ADLS location, <br>\n",
    "each containing columns for first_name, last_name, age, sex, and location. <br>\n",
    "Your task is to add a new column called state to each DataFrame. The state column should contain the state name extracted from the filename. <br>\n",
    "For example:\n",
    "For karnataka.csv, the state column should contain the value 'karnataka'. <br>\n",
    "For maharashtra.csv, the state column should contain the value 'maharashtra'. <br>\n",
    "Your solution should utilize PySpark to efficiently handle large-scale data processing tasks."
   ]
  },
  {
   "cell_type": "code",
   "execution_count": 18,
   "id": "451c895a",
   "metadata": {},
   "outputs": [],
   "source": [
    "filepath = '../../data/open_forum/epam/'\n",
    "# karnataka\n",
    "def get_read_data(spark,filename):\n",
    "    path = f\"{filepath}{filename}.csv\"\n",
    "    options = {'header':True,'inferSchema':True,'path' : path}\n",
    "    dataframe = spark.read.format('csv').options(**options).load()\n",
    "    return dataframe\n",
    "    "
   ]
  },
  {
   "cell_type": "code",
   "execution_count": 19,
   "id": "3e7703ff",
   "metadata": {},
   "outputs": [],
   "source": [
    "karnatak_df = get_read_data(spark,'karnataka')"
   ]
  },
  {
   "cell_type": "code",
   "execution_count": 20,
   "id": "a5d04700",
   "metadata": {},
   "outputs": [],
   "source": [
    "maharashtra_df = get_read_data(spark,\"maharashtra\")"
   ]
  },
  {
   "cell_type": "code",
   "execution_count": 21,
   "id": "182abb8a",
   "metadata": {},
   "outputs": [
    {
     "name": "stdout",
     "output_type": "stream",
     "text": [
      "+----------+---------+---+------+--------+\n",
      "|first_name|last_name|age|   sex|location|\n",
      "+----------+---------+---+------+--------+\n",
      "|    taukir|     khan| 30|  male|   india|\n",
      "|   tauovir|     khan| 31|  male|  canada|\n",
      "|    zeenat|   fatima| 30|frmale|  canada|\n",
      "+----------+---------+---+------+--------+\n",
      "\n"
     ]
    }
   ],
   "source": [
    "karnatak_df.show()"
   ]
  },
  {
   "cell_type": "code",
   "execution_count": 23,
   "id": "347bfb54",
   "metadata": {},
   "outputs": [
    {
     "name": "stdout",
     "output_type": "stream",
     "text": [
      "+----------+---------+---+------+--------+\n",
      "|first_name|last_name|age|   sex|location|\n",
      "+----------+---------+---+------+--------+\n",
      "|     rahul|    kumar| 30|  male|   india|\n",
      "|      ashi|   chuhan| 31|female|   india|\n",
      "|     rohit|    gupta| 36|  male|  canada|\n",
      "+----------+---------+---+------+--------+\n",
      "\n"
     ]
    }
   ],
   "source": [
    "maharashtra_df.show()"
   ]
  },
  {
   "cell_type": "code",
   "execution_count": 30,
   "id": "09046290",
   "metadata": {},
   "outputs": [
    {
     "name": "stdout",
     "output_type": "stream",
     "text": [
      "+----------+---------+---+------+--------+-----------+\n",
      "|first_name|last_name|age|sex   |location|state      |\n",
      "+----------+---------+---+------+--------+-----------+\n",
      "|rahul     |kumar    |30 |male  |india   |maharashtra|\n",
      "|ashi      |chuhan   |31 |female|india   |maharashtra|\n",
      "|rohit     |gupta    |36 |male  |canada  |maharashtra|\n",
      "+----------+---------+---+------+--------+-----------+\n",
      "\n"
     ]
    }
   ],
   "source": [
    "@F.udf\n",
    "def get_filename(filename):\n",
    "    return filename.split('.')[0]\n",
    "\n",
    "maharashtra_df.withColumn(\"state\", get_filename(F.col(\"_metadata.file_name\"))).show(truncate = False)"
   ]
  },
  {
   "cell_type": "code",
   "execution_count": 31,
   "id": "94ea4e1b",
   "metadata": {},
   "outputs": [
    {
     "name": "stdout",
     "output_type": "stream",
     "text": [
      "+----------+---------+---+------+--------+---------+\n",
      "|first_name|last_name|age|sex   |location|state    |\n",
      "+----------+---------+---+------+--------+---------+\n",
      "|taukir    |khan     |30 |male  |india   |karnataka|\n",
      "|tauovir   |khan     |31 |male  |canada  |karnataka|\n",
      "|zeenat    |fatima   |30 |frmale|canada  |karnataka|\n",
      "+----------+---------+---+------+--------+---------+\n",
      "\n"
     ]
    }
   ],
   "source": [
    "\n",
    "karnatak_df.withColumn(\"state\", get_filename(F.col(\"_metadata.file_name\"))).show(truncate = False)"
   ]
  },
  {
   "cell_type": "markdown",
   "id": "2470c2f2",
   "metadata": {},
   "source": [
    "## Python/ DSA:"
   ]
  },
  {
   "cell_type": "markdown",
   "id": "255e000d",
   "metadata": {},
   "source": [
    "### A. Reverse a string without using reverse function"
   ]
  },
  {
   "cell_type": "code",
   "execution_count": 36,
   "id": "62b3d3ed",
   "metadata": {},
   "outputs": [
    {
     "data": {
      "text/plain": [
       "'nahk rikuat'"
      ]
     },
     "execution_count": 36,
     "metadata": {},
     "output_type": "execute_result"
    }
   ],
   "source": [
    "name = \"taukir khan\"\n",
    "name[::-1]"
   ]
  },
  {
   "cell_type": "markdown",
   "id": "c6293df9",
   "metadata": {},
   "source": [
    "#### B. Write a python program to implement following. Given a pattern and a string. If string matches the pattern return true else return false\n",
    "**Example**:\n",
    "Pattern – “abba”, String – “dog cat cat dog” will return true. <br>\n",
    "Pattern – “aba”, String – “dog dog cat” will return false."
   ]
  },
  {
   "cell_type": "code",
   "execution_count": 43,
   "id": "de5cf2e0",
   "metadata": {},
   "outputs": [
    {
     "name": "stdout",
     "output_type": "stream",
     "text": [
      "True\n",
      "False\n"
     ]
    }
   ],
   "source": [
    "def word_pattern(pattern, s):\n",
    "    words = s.split()\n",
    "    if len(pattern) != len(words):\n",
    "        return False\n",
    "    \n",
    "    pattern_map = {}\n",
    "    \n",
    "    for char, word in zip(pattern, words):\n",
    "        if char not in pattern_map:\n",
    "            pattern_map[char] = word\n",
    "        elif pattern_map[char] != word:\n",
    "            return False\n",
    "            \n",
    "    \n",
    "    return True\n",
    "\n",
    "# Example usage\n",
    "pattern1 = \"abba\"\n",
    "s1 = \"dog cat cat dog\"\n",
    "print(word_pattern(pattern1, s1))  # Output: True\n",
    "\n",
    "pattern2 = \"aba\"\n",
    "s2 = \"dog dog cat\"\n",
    "print(word_pattern(pattern2, s2))  # Output: False\n"
   ]
  },
  {
   "cell_type": "markdown",
   "id": "a686e350",
   "metadata": {},
   "source": [
    "Find the 3-month rolling average of total revenue from purchases given a table with users, their purchase amount, and date purchased (YYYY-MM-DD). Output the year-month (YYYY-MM) and 3-month rolling average of revenue, sorted from earliest month to latest month."
   ]
  },
  {
   "cell_type": "code",
   "execution_count": null,
   "id": "f5b80477",
   "metadata": {},
   "outputs": [],
   "source": []
  }
 ],
 "metadata": {
  "kernelspec": {
   "display_name": "Python 3 (ipykernel)",
   "language": "python",
   "name": "python3"
  },
  "language_info": {
   "codemirror_mode": {
    "name": "ipython",
    "version": 3
   },
   "file_extension": ".py",
   "mimetype": "text/x-python",
   "name": "python",
   "nbconvert_exporter": "python",
   "pygments_lexer": "ipython3",
   "version": "3.10.4"
  }
 },
 "nbformat": 4,
 "nbformat_minor": 5
}
