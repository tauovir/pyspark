{
 "cells": [
  {
   "cell_type": "code",
   "execution_count": 2,
   "id": "14eef080",
   "metadata": {},
   "outputs": [],
   "source": [
    "from pyspark.sql import SparkSession"
   ]
  },
  {
   "cell_type": "code",
   "execution_count": 4,
   "id": "a895788c",
   "metadata": {},
   "outputs": [],
   "source": [
    "spark = SparkSession.builder.master(\"local[2]\").appName(\"DataSet\").getOrCreate()\n"
   ]
  },
  {
   "cell_type": "code",
   "execution_count": 23,
   "id": "b6946b40",
   "metadata": {},
   "outputs": [],
   "source": [
    "filepath = \"../data/users_data*.csv\""
   ]
  },
  {
   "cell_type": "code",
   "execution_count": 24,
   "id": "261d8f6c",
   "metadata": {},
   "outputs": [],
   "source": [
    "dataset = spark.read.format(\"CSV\").option(\"path\",filepath).option(\"header\",\"true\").option(\"inferSchema\",\"true\").load()"
   ]
  },
  {
   "cell_type": "code",
   "execution_count": 26,
   "id": "874a33d1",
   "metadata": {},
   "outputs": [
    {
     "data": {
      "text/plain": [
       "14"
      ]
     },
     "execution_count": 26,
     "metadata": {},
     "output_type": "execute_result"
    }
   ],
   "source": [
    "dataset.count()"
   ]
  },
  {
   "cell_type": "markdown",
   "id": "adc2ac4f",
   "metadata": {},
   "source": [
    "## Flight DataSet"
   ]
  },
  {
   "cell_type": "code",
   "execution_count": 33,
   "id": "1c62696b",
   "metadata": {},
   "outputs": [],
   "source": [
    "from pyspark.sql.types import *"
   ]
  },
  {
   "cell_type": "code",
   "execution_count": 34,
   "id": "6dd8fc28",
   "metadata": {},
   "outputs": [],
   "source": [
    "schema_def = StructType([\n",
    "        StructField(\"FL_DATE\", DateType()),\n",
    "        StructField(\"OP_CARRIER\", StringType()),\n",
    "    StructField(\"OP_CARRIER_FL_NUM\", IntegerType()),\n",
    "    StructField(\"ORIGIN\", StringType()),\n",
    "    StructField(\"ORIGIN_CITY_NAME\", StringType()),\n",
    "    StructField(\"DEST\", StringType()),\n",
    "    StructField(\"DEST_CITY_NAME\", StringType()),\n",
    "    StructField(\"CRS_DEP_TIME\", IntegerType()),\n",
    "    StructField(\"DEP_TIME\", IntegerType()),\n",
    "    StructField(\"WHEELS_ON\", IntegerType()),\n",
    "    StructField(\"TAXI_IN\", IntegerType()),\n",
    "    StructField(\"CRS_ARR_TIME\", IntegerType()),\n",
    "    StructField(\"ARR_TIME\", IntegerType()),\n",
    "    StructField(\"CANCELLED\", IntegerType()),\n",
    "    StructField(\"DISTANCE\", IntegerType())\n",
    "])\n"
   ]
  },
  {
   "cell_type": "code",
   "execution_count": 38,
   "id": "aa431669",
   "metadata": {},
   "outputs": [],
   "source": [
    "flight_file = \"../data/flight-time*.parquet\"\n",
    "flight_dataset = spark.read.format(\"parquet\").option(\"path\",flight_file).option(\"header\",\"true\").schema(schema_def).load()"
   ]
  },
  {
   "cell_type": "code",
   "execution_count": 48,
   "id": "e537a075",
   "metadata": {},
   "outputs": [
    {
     "data": {
      "text/plain": [
       "470477"
      ]
     },
     "execution_count": 48,
     "metadata": {},
     "output_type": "execute_result"
    }
   ],
   "source": [
    "flight_dataset.count()"
   ]
  }
 ],
 "metadata": {
  "kernelspec": {
   "display_name": "Python 3 (ipykernel)",
   "language": "python",
   "name": "python3"
  },
  "language_info": {
   "codemirror_mode": {
    "name": "ipython",
    "version": 3
   },
   "file_extension": ".py",
   "mimetype": "text/x-python",
   "name": "python",
   "nbconvert_exporter": "python",
   "pygments_lexer": "ipython3",
   "version": "3.10.4"
  }
 },
 "nbformat": 4,
 "nbformat_minor": 5
}
