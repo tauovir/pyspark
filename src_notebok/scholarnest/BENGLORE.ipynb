{
 "cells": [
  {
   "cell_type": "code",
   "execution_count": 3,
   "id": "5dd97ac3",
   "metadata": {},
   "outputs": [],
   "source": [
    "from pyspark.sql import SparkSession"
   ]
  },
  {
   "cell_type": "code",
   "execution_count": 51,
   "id": "0d8d2701",
   "metadata": {},
   "outputs": [],
   "source": [
    "from pyspark.sql.functions import spark_partition_id"
   ]
  },
  {
   "cell_type": "code",
   "execution_count": 52,
   "id": "f369ccbd",
   "metadata": {},
   "outputs": [],
   "source": [
    "from pyspark.sql import functions as sf"
   ]
  },
  {
   "cell_type": "code",
   "execution_count": 4,
   "id": "fc441c30",
   "metadata": {},
   "outputs": [],
   "source": [
    "spark = SparkSession.builder.master(\"local[2]\").appName(\"Bangloe\").getOrCreate()"
   ]
  },
  {
   "cell_type": "markdown",
   "id": "4de4eb17",
   "metadata": {},
   "source": [
    "## Read Banglore dataset"
   ]
  },
  {
   "cell_type": "code",
   "execution_count": 6,
   "id": "54597aeb",
   "metadata": {},
   "outputs": [],
   "source": [
    "filepath = \"../data/Bengaluru_House_Data*.csv\""
   ]
  },
  {
   "cell_type": "code",
   "execution_count": 9,
   "id": "46a0e107",
   "metadata": {},
   "outputs": [],
   "source": [
    "dataframe = spark.read.format(\"csv\").option(\"path\",filepath).option(\"inferSchema\",\"true\").option(\"header\",\"true\").load()"
   ]
  },
  {
   "cell_type": "code",
   "execution_count": 100,
   "id": "1eefcb44",
   "metadata": {},
   "outputs": [
    {
     "name": "stdout",
     "output_type": "stream",
     "text": [
      "+--------------------+-------------+--------------------+---------+-------+----------+----+-------+-----+\n",
      "|           area_type| availability|            location|     size|society|total_sqft|bath|balcony|price|\n",
      "+--------------------+-------------+--------------------+---------+-------+----------+----+-------+-----+\n",
      "|Super built-up  Area|       19-Dec|Electronic City P...|    2 BHK|Coomee |      1056|   2|      1|39.07|\n",
      "|          Plot  Area|Ready To Move|    Chikka Tirupathi|4 Bedroom|Theanmp|      2600|   5|      3|120.0|\n",
      "|      Built-up  Area|Ready To Move|         Uttarahalli|    3 BHK|   NULL|      1440|   2|      3| 62.0|\n",
      "|Super built-up  Area|Ready To Move|  Lingadheeranahalli|    3 BHK|Soiewre|      1521|   3|      1| 95.0|\n",
      "|Super built-up  Area|Ready To Move|            Kothanur|    2 BHK|   NULL|      1200|   2|      1| 51.0|\n",
      "+--------------------+-------------+--------------------+---------+-------+----------+----+-------+-----+\n",
      "only showing top 5 rows\n",
      "\n"
     ]
    }
   ],
   "source": [
    "dataframe.show(5)"
   ]
  },
  {
   "cell_type": "code",
   "execution_count": 41,
   "id": "5029cda2",
   "metadata": {},
   "outputs": [
    {
     "name": "stdout",
     "output_type": "stream",
     "text": [
      "root\n",
      " |-- area_type: string (nullable = true)\n",
      " |-- availability: string (nullable = true)\n",
      " |-- location: string (nullable = true)\n",
      " |-- size: string (nullable = true)\n",
      " |-- society: string (nullable = true)\n",
      " |-- total_sqft: string (nullable = true)\n",
      " |-- bath: integer (nullable = true)\n",
      " |-- balcony: integer (nullable = true)\n",
      " |-- price: double (nullable = true)\n",
      "\n"
     ]
    }
   ],
   "source": [
    "dataframe.printSchema()"
   ]
  },
  {
   "cell_type": "code",
   "execution_count": 46,
   "id": "3f87f631",
   "metadata": {},
   "outputs": [
    {
     "data": {
      "text/plain": [
       "['area_type',\n",
       " 'availability',\n",
       " 'location',\n",
       " 'size',\n",
       " 'society',\n",
       " 'total_sqft',\n",
       " 'bath',\n",
       " 'balcony',\n",
       " 'price']"
      ]
     },
     "execution_count": 46,
     "metadata": {},
     "output_type": "execute_result"
    }
   ],
   "source": [
    "dataframe.columns"
   ]
  },
  {
   "cell_type": "markdown",
   "id": "cb629c94",
   "metadata": {},
   "source": [
    "## GroupBy Area count, Sum"
   ]
  },
  {
   "cell_type": "code",
   "execution_count": 49,
   "id": "137b5e77",
   "metadata": {},
   "outputs": [
    {
     "name": "stdout",
     "output_type": "stream",
     "text": [
      "+--------------------+-----+\n",
      "|           area_type|count|\n",
      "+--------------------+-----+\n",
      "|Super built-up  Area| 8790|\n",
      "|      Built-up  Area| 2418|\n",
      "|          Plot  Area| 2025|\n",
      "|        Carpet  Area|   87|\n",
      "+--------------------+-----+\n",
      "\n"
     ]
    }
   ],
   "source": [
    "dataframe.groupBy(\"area_type\").count().orderBy(\"count\",ascending=False).show()"
   ]
  },
  {
   "cell_type": "code",
   "execution_count": 68,
   "id": "d6e0754e",
   "metadata": {},
   "outputs": [
    {
     "name": "stdout",
     "output_type": "stream",
     "text": [
      "+--------------------+-----+\n",
      "|           area_type|  bhk|\n",
      "+--------------------+-----+\n",
      "|Super built-up  Area|34342|\n",
      "|          Plot  Area| 9378|\n",
      "|      Built-up  Area| 9376|\n",
      "|        Carpet  Area|  312|\n",
      "+--------------------+-----+\n",
      "\n"
     ]
    }
   ],
   "source": [
    "dataframe.groupBy(\"area_type\").agg(sf.sum(sf.column(\"bath\") + sf.column(\"balcony\")).alias(\"bhk\")).orderBy(\"bhk\",ascending=False).show()"
   ]
  },
  {
   "cell_type": "code",
   "execution_count": null,
   "id": "c654d5ad",
   "metadata": {},
   "outputs": [],
   "source": [
    "dataframe.groupBy(\"area_type\").agg(sf.sum(\"price\").alias(\"price2\")).\\\n",
    "withColumn(\"price2\",round('price2',2)).orderBy(\"price2\",ascending=False).show()"
   ]
  },
  {
   "cell_type": "markdown",
   "id": "949d9626",
   "metadata": {},
   "source": [
    "## Selection Column"
   ]
  },
  {
   "cell_type": "code",
   "execution_count": 73,
   "id": "64586a04",
   "metadata": {},
   "outputs": [
    {
     "name": "stdout",
     "output_type": "stream",
     "text": [
      "+--------------------+-------------+-----+----------+\n",
      "|           area_type| availability|price|total_sqft|\n",
      "+--------------------+-------------+-----+----------+\n",
      "|Super built-up  Area|       19-Dec|39.07|      1056|\n",
      "|          Plot  Area|Ready To Move|120.0|      2600|\n",
      "+--------------------+-------------+-----+----------+\n",
      "\n"
     ]
    }
   ],
   "source": [
    "dataframe.select(\"area_type\",column(\"availability\"),col(\"price\"),dataframe.total_sqft).limit(2).show()"
   ]
  },
  {
   "cell_type": "code",
   "execution_count": 77,
   "id": "afd03fe6",
   "metadata": {},
   "outputs": [
    {
     "name": "stdout",
     "output_type": "stream",
     "text": [
      "+--------------+-----+\n",
      "|     area_type|price|\n",
      "+--------------+-----+\n",
      "|    Plot  Area|120.0|\n",
      "|Built-up  Area| 62.0|\n",
      "+--------------+-----+\n",
      "\n",
      "+--------------+-----+\n",
      "|     area_type|price|\n",
      "+--------------+-----+\n",
      "|    Plot  Area|120.0|\n",
      "|Built-up  Area| 62.0|\n",
      "+--------------+-----+\n",
      "\n"
     ]
    }
   ],
   "source": [
    "dataframe.where(\"balcony > 2\").select(\"area_type\",\"price\").limit(2).show()\n",
    "dataframe.filter(\"balcony > 2\").select(\"area_type\",\"price\").limit(2).show()"
   ]
  },
  {
   "cell_type": "code",
   "execution_count": 80,
   "id": "5b10385d",
   "metadata": {},
   "outputs": [
    {
     "name": "stdout",
     "output_type": "stream",
     "text": [
      "+--------------+-----+\n",
      "|     area_type|price|\n",
      "+--------------+-----+\n",
      "|    Plot  Area|120.0|\n",
      "|Built-up  Area| 62.0|\n",
      "+--------------+-----+\n",
      "\n"
     ]
    }
   ],
   "source": [
    "dataframe.filter(dataframe['balcony'] > 2).select(\"area_type\",\"price\").limit(2).show()"
   ]
  },
  {
   "cell_type": "markdown",
   "id": "d286957c",
   "metadata": {},
   "source": [
    "## Partitioning"
   ]
  },
  {
   "cell_type": "code",
   "execution_count": 82,
   "id": "9a5b6889",
   "metadata": {},
   "outputs": [
    {
     "data": {
      "text/plain": [
       "1"
      ]
     },
     "execution_count": 82,
     "metadata": {},
     "output_type": "execute_result"
    }
   ],
   "source": [
    "dataframe.rdd.getNumPartitions() # Check partition"
   ]
  },
  {
   "cell_type": "code",
   "execution_count": 83,
   "id": "d14d912a",
   "metadata": {},
   "outputs": [],
   "source": [
    "repartition_df = dataframe.repartition(5) # it perform random and equal partition"
   ]
  },
  {
   "cell_type": "code",
   "execution_count": 84,
   "id": "38ac6b6e",
   "metadata": {},
   "outputs": [
    {
     "data": {
      "text/plain": [
       "13320"
      ]
     },
     "execution_count": 84,
     "metadata": {},
     "output_type": "execute_result"
    }
   ],
   "source": [
    "repartition_df.count()"
   ]
  },
  {
   "cell_type": "code",
   "execution_count": 86,
   "id": "14cc783c",
   "metadata": {},
   "outputs": [
    {
     "name": "stdout",
     "output_type": "stream",
     "text": [
      "+--------------------+-----+\n",
      "|SPARK_PARTITION_ID()|count|\n",
      "+--------------------+-----+\n",
      "|                   0| 2664|\n",
      "|                   1| 2664|\n",
      "|                   2| 2664|\n",
      "|                   3| 2664|\n",
      "|                   4| 2664|\n",
      "+--------------------+-----+\n",
      "\n"
     ]
    }
   ],
   "source": [
    "repartition_df.groupBy(spark_partition_id()).count().show()"
   ]
  },
  {
   "cell_type": "markdown",
   "id": "5ba4d5f1",
   "metadata": {},
   "source": [
    "## Save Repartition Data"
   ]
  },
  {
   "cell_type": "code",
   "execution_count": 88,
   "id": "4b3de073",
   "metadata": {},
   "outputs": [],
   "source": [
    "save_path = filepath = \"../data/output/\""
   ]
  },
  {
   "cell_type": "code",
   "execution_count": 92,
   "id": "5d2bb30a",
   "metadata": {},
   "outputs": [],
   "source": [
    "repartition_df.write.format(\"csv\").mode('overwrite').option(\"path\",save_path).save()"
   ]
  },
  {
   "cell_type": "markdown",
   "id": "fea14a00",
   "metadata": {},
   "source": [
    "## Save PartitionBy data\n",
    "It will partition by the given columns, at the time of read operation spark engin just look into specified folder"
   ]
  },
  {
   "cell_type": "code",
   "execution_count": 99,
   "id": "84a1bc97",
   "metadata": {},
   "outputs": [],
   "source": [
    "save_path = filepath = \"../data/output/json/\"\n",
    "dataframe.write.format(\"json\").mode('overwrite').\\\n",
    "option(\"path\",save_path).\\\n",
    "partitionBy(\"balcony\").option(\"maxRecordsPerFile\",1000).save()"
   ]
  },
  {
   "cell_type": "code",
   "execution_count": 93,
   "id": "6f09ec4f",
   "metadata": {},
   "outputs": [],
   "source": [
    "rdd1.coalesce(4)"
   ]
  }
 ],
 "metadata": {
  "kernelspec": {
   "display_name": "Python 3 (ipykernel)",
   "language": "python",
   "name": "python3"
  },
  "language_info": {
   "codemirror_mode": {
    "name": "ipython",
    "version": 3
   },
   "file_extension": ".py",
   "mimetype": "text/x-python",
   "name": "python",
   "nbconvert_exporter": "python",
   "pygments_lexer": "ipython3",
   "version": "3.10.4"
  }
 },
 "nbformat": 4,
 "nbformat_minor": 5
}
