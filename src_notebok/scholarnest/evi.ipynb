{
 "cells": [
  {
   "cell_type": "code",
   "execution_count": 1,
   "id": "e90c6e2a",
   "metadata": {},
   "outputs": [],
   "source": [
    "from pyspark.sql import SparkSession"
   ]
  },
  {
   "cell_type": "code",
   "execution_count": 2,
   "id": "ae7e9815",
   "metadata": {},
   "outputs": [],
   "source": [
    "from pyspark.sql import functions as sf"
   ]
  },
  {
   "cell_type": "code",
   "execution_count": 3,
   "id": "1f9ee487",
   "metadata": {},
   "outputs": [],
   "source": [
    "spark = SparkSession.builder.master(\"local[3]\").appName(\"Vpropel\").getOrCreate()"
   ]
  },
  {
   "cell_type": "code",
   "execution_count": 8,
   "id": "c9f72ecc",
   "metadata": {},
   "outputs": [
    {
     "data": {
      "text/plain": [
       "Row(area_type='Super built-up  Area', availability='19-Dec', location='Electronic City Phase II', size='2 BHK', society='Coomee ', total_sqft='1056', bath=2, balcony=1, price=39.07)"
      ]
     },
     "execution_count": 8,
     "metadata": {},
     "output_type": "execute_result"
    }
   ],
   "source": [
    "filepath = \"../data/Bengaluru_House_Data*.csv\"\n",
    "data = spark.read.format(\"csv\").option(\"header\",\"true\").option(\"inferSchema\",\"true\").option(\"path\",filepath).load()\n"
   ]
  },
  {
   "cell_type": "code",
   "execution_count": 14,
   "id": "eb45e30c",
   "metadata": {},
   "outputs": [
    {
     "name": "stdout",
     "output_type": "stream",
     "text": [
      "+--------------------+-------------+--------------------+---------+-------+----------+----+-------+-----+\n",
      "|           area_type| availability|            location|     size|society|total_sqft|bath|balcony|price|\n",
      "+--------------------+-------------+--------------------+---------+-------+----------+----+-------+-----+\n",
      "|Super built-up  Area|       19-Dec|Electronic City P...|    2 BHK|Coomee |      1056|   2|      1|39.07|\n",
      "|          Plot  Area|Ready To Move|    Chikka Tirupathi|4 Bedroom|Theanmp|      2600|   5|      3|120.0|\n",
      "+--------------------+-------------+--------------------+---------+-------+----------+----+-------+-----+\n",
      "only showing top 2 rows\n",
      "\n"
     ]
    }
   ],
   "source": [
    "data.show(2)"
   ]
  },
  {
   "cell_type": "code",
   "execution_count": 19,
   "id": "c538b1dd",
   "metadata": {},
   "outputs": [
    {
     "name": "stdout",
     "output_type": "stream",
     "text": [
      "+--------------------+-----+\n",
      "|           area_type|count|\n",
      "+--------------------+-----+\n",
      "|Super built-up  Area| 8790|\n",
      "|      Built-up  Area| 2418|\n",
      "|          Plot  Area| 2025|\n",
      "|        Carpet  Area|   87|\n",
      "+--------------------+-----+\n",
      "\n"
     ]
    }
   ],
   "source": [
    "data.groupBy(\"area_type\").count().orderBy(\"count\",ascending=False).show()"
   ]
  },
  {
   "cell_type": "code",
   "execution_count": null,
   "id": "c08b77e1",
   "metadata": {},
   "outputs": [],
   "source": [
    "dataframe.groupBy(\"area_type\").agg(sf.sum(sf.column(\"bath\") + sf.column(\"balcony\")).alias(\"bhk\")).orderBy(\"bhk\",ascending=False).show()"
   ]
  },
  {
   "cell_type": "code",
   "execution_count": 24,
   "id": "00b243fe",
   "metadata": {},
   "outputs": [
    {
     "name": "stdout",
     "output_type": "stream",
     "text": [
      "+--------------------+-----+------------------+\n",
      "|           area_type|  sum|avg(bath AS bath2)|\n",
      "+--------------------+-----+------------------+\n",
      "|      Built-up  Area| 9376|2.6493775933609958|\n",
      "|Super built-up  Area|34342|2.4303855394119664|\n",
      "|          Plot  Area| 9378|3.8934793429566947|\n",
      "|        Carpet  Area|  312|2.5057471264367814|\n",
      "+--------------------+-----+------------------+\n",
      "\n"
     ]
    }
   ],
   "source": [
    "data.groupBy(\"area_type\").agg(sf.sum(sf.column(\"bath\") + sf.column(\"balcony\")).alias(\"sum\"),\n",
    "                              sf.avg(sf.column(\"bath\").alias(\"bath2\"))).show()"
   ]
  },
  {
   "cell_type": "code",
   "execution_count": 40,
   "id": "ddb802c7",
   "metadata": {},
   "outputs": [
    {
     "data": {
      "text/plain": [
       "5"
      ]
     },
     "execution_count": 40,
     "metadata": {},
     "output_type": "execute_result"
    }
   ],
   "source": [
    "repartition_df.rdd.getNumPartitions() # Check partition"
   ]
  },
  {
   "cell_type": "code",
   "execution_count": 37,
   "id": "d38ae1e5",
   "metadata": {},
   "outputs": [
    {
     "ename": "NameError",
     "evalue": "name 'repartition_df1' is not defined",
     "output_type": "error",
     "traceback": [
      "\u001b[1;31m---------------------------------------------------------------------------\u001b[0m",
      "\u001b[1;31mNameError\u001b[0m                                 Traceback (most recent call last)",
      "Input \u001b[1;32mIn [37]\u001b[0m, in \u001b[0;36m<cell line: 1>\u001b[1;34m()\u001b[0m\n\u001b[1;32m----> 1\u001b[0m \u001b[43mrepartition_df1\u001b[49m\u001b[38;5;241m.\u001b[39mrdd\u001b[38;5;241m.\u001b[39mgetNumPartitions()\n",
      "\u001b[1;31mNameError\u001b[0m: name 'repartition_df1' is not defined"
     ]
    }
   ],
   "source": [
    "repartition_df1.rdd.getNumPartitions() # Check partition"
   ]
  },
  {
   "cell_type": "code",
   "execution_count": 44,
   "id": "bcff13e7",
   "metadata": {},
   "outputs": [
    {
     "data": {
      "text/plain": [
       "5"
      ]
     },
     "execution_count": 44,
     "metadata": {},
     "output_type": "execute_result"
    }
   ],
   "source": [
    "repartition_df = data.repartition(5) # it perform random and equal partition\n",
    "repartition_df.rdd.getNumPartitions()"
   ]
  },
  {
   "cell_type": "code",
   "execution_count": 50,
   "id": "578c523d",
   "metadata": {},
   "outputs": [],
   "source": [
    "repartition_df2 = repartition_df.coalesce(2)"
   ]
  },
  {
   "cell_type": "code",
   "execution_count": 52,
   "id": "02dbed89",
   "metadata": {},
   "outputs": [
    {
     "data": {
      "text/plain": [
       "2"
      ]
     },
     "execution_count": 52,
     "metadata": {},
     "output_type": "execute_result"
    }
   ],
   "source": [
    "repartition_df2.rdd.getNumPartitions()"
   ]
  },
  {
   "cell_type": "code",
   "execution_count": 55,
   "id": "65d8d358",
   "metadata": {},
   "outputs": [],
   "source": [
    "save_path = filepath = \"../data/output/\""
   ]
  },
  {
   "cell_type": "code",
   "execution_count": 58,
   "id": "4495c134",
   "metadata": {},
   "outputs": [],
   "source": [
    "repartition_df2.write.format(\"csv\").mode('overwrite').option(\"path\",save_path).save()"
   ]
  }
 ],
 "metadata": {
  "kernelspec": {
   "display_name": "Python 3 (ipykernel)",
   "language": "python",
   "name": "python3"
  },
  "language_info": {
   "codemirror_mode": {
    "name": "ipython",
    "version": 3
   },
   "file_extension": ".py",
   "mimetype": "text/x-python",
   "name": "python",
   "nbconvert_exporter": "python",
   "pygments_lexer": "ipython3",
   "version": "3.10.4"
  }
 },
 "nbformat": 4,
 "nbformat_minor": 5
}
