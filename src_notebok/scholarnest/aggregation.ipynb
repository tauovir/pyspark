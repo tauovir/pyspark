{
 "cells": [
  {
   "cell_type": "code",
   "execution_count": 1,
   "id": "4e8fd6bf",
   "metadata": {},
   "outputs": [],
   "source": [
    "from pyspark.sql import SparkSession\n",
    "from pyspark.sql.functions import spark_partition_id\n",
    "from pyspark.sql import functions as sf"
   ]
  },
  {
   "cell_type": "code",
   "execution_count": 2,
   "id": "13575eb0",
   "metadata": {},
   "outputs": [],
   "source": [
    "spark = SparkSession.builder.master(\"local[2]\").appName(\"Bangloe\").getOrCreate()"
   ]
  },
  {
   "cell_type": "code",
   "execution_count": 3,
   "id": "73ae9657",
   "metadata": {},
   "outputs": [],
   "source": [
    "filepath = \"../data/Bengaluru_House_Data*.csv\"\n",
    "dataframe = spark.read.format(\"csv\").option(\"path\",filepath).option(\"inferSchema\",\"true\").option(\"header\",\"true\").load()"
   ]
  },
  {
   "cell_type": "code",
   "execution_count": 4,
   "id": "07a318a0",
   "metadata": {},
   "outputs": [
    {
     "name": "stdout",
     "output_type": "stream",
     "text": [
      "+--------------------+-------------+--------------------+---------+-------+----------+----+-------+-----+\n",
      "|           area_type| availability|            location|     size|society|total_sqft|bath|balcony|price|\n",
      "+--------------------+-------------+--------------------+---------+-------+----------+----+-------+-----+\n",
      "|Super built-up  Area|       19-Dec|Electronic City P...|    2 BHK|Coomee |      1056|   2|      1|39.07|\n",
      "|          Plot  Area|Ready To Move|    Chikka Tirupathi|4 Bedroom|Theanmp|      2600|   5|      3|120.0|\n",
      "+--------------------+-------------+--------------------+---------+-------+----------+----+-------+-----+\n",
      "only showing top 2 rows\n",
      "\n"
     ]
    }
   ],
   "source": [
    "dataframe.show(2)"
   ]
  },
  {
   "cell_type": "code",
   "execution_count": 10,
   "id": "42c030bd",
   "metadata": {},
   "outputs": [
    {
     "name": "stdout",
     "output_type": "stream",
     "text": [
      "+-----+------------------+------------------+-----------+\n",
      "|count|         price_sum|          bath_avg|distinctCnt|\n",
      "+-----+------------------+------------------+-----------+\n",
      "|13320|1499374.1449999989|2.6926096474673513|         19|\n",
      "+-----+------------------+------------------+-----------+\n",
      "\n"
     ]
    }
   ],
   "source": [
    "dataframe.select(sf.count(\"*\").alias(\"count\"),\n",
    "                 sf.sum(\"price\").alias(\"price_sum\"),\n",
    "                 sf.avg(\"bath\").alias(\"bath_avg\"),\n",
    "                 sf.countDistinct(\"bath\").alias(\"distinctCnt\")).show()"
   ]
  },
  {
   "cell_type": "code",
   "execution_count": 11,
   "id": "0a017153",
   "metadata": {},
   "outputs": [
    {
     "name": "stdout",
     "output_type": "stream",
     "text": [
      "+-----+------------------+------------------+\n",
      "|count|         price_sum|          bath_avg|\n",
      "+-----+------------------+------------------+\n",
      "|13320|1499374.1449999984|2.6926096474673513|\n",
      "+-----+------------------+------------------+\n",
      "\n"
     ]
    }
   ],
   "source": [
    "dataframe.selectExpr(\"count(*) as count\",\"sum(price) as price_sum\",\"avg(bath) as bath_avg\").show()"
   ]
  },
  {
   "cell_type": "markdown",
   "id": "f4c38104",
   "metadata": {},
   "source": [
    "## Grouping Aggregation"
   ]
  },
  {
   "cell_type": "code",
   "execution_count": 13,
   "id": "dff6aaa0",
   "metadata": {},
   "outputs": [],
   "source": [
    "dataframe.createOrReplaceTempView(\"banglore\")"
   ]
  },
  {
   "cell_type": "code",
   "execution_count": 14,
   "id": "0a7ecc66",
   "metadata": {},
   "outputs": [],
   "source": [
    "sql_summary = spark.sql(\"\"\"\n",
    "select area_type,sum(bath + balcony) as batch_bal,avg(price) as price_avg\n",
    "from banglore group by area_type\n",
    "\"\"\")"
   ]
  },
  {
   "cell_type": "code",
   "execution_count": 16,
   "id": "05e0de69",
   "metadata": {},
   "outputs": [
    {
     "name": "stdout",
     "output_type": "stream",
     "text": [
      "+--------------------+---------+------------------+\n",
      "|           area_type|batch_bal|         price_avg|\n",
      "+--------------------+---------+------------------+\n",
      "|      Built-up  Area|     9376|104.28549834574028|\n",
      "|Super built-up  Area|    34342| 92.97175711035274|\n",
      "|          Plot  Area|     9378|208.49548641975312|\n",
      "|        Carpet  Area|      312| 89.50235632183907|\n",
      "+--------------------+---------+------------------+\n",
      "\n"
     ]
    }
   ],
   "source": [
    "sql_summary.show()\n",
    "#sf.sum(sf.expr(\"bath + balcony\")).alias(\"batch_bal\"),"
   ]
  },
  {
   "cell_type": "code",
   "execution_count": 29,
   "id": "0fd8284e",
   "metadata": {},
   "outputs": [
    {
     "name": "stdout",
     "output_type": "stream",
     "text": [
      "+--------------------+------------------+---------+---------+\n",
      "|           area_type|         price_avg|batch_bal|batch_bal|\n",
      "+--------------------+------------------+---------+---------+\n",
      "|      Built-up  Area|104.28549834574028|     9376|     9376|\n",
      "|Super built-up  Area| 92.97175711035274|    34342|    34342|\n",
      "|          Plot  Area|208.49548641975312|     9378|     9378|\n",
      "|        Carpet  Area| 89.50235632183907|      312|      312|\n",
      "+--------------------+------------------+---------+---------+\n",
      "\n"
     ]
    }
   ],
   "source": [
    "dataframe.groupBy(\"area_type\").agg(sf.avg(\"price\").alias(\"price_avg\"),\n",
    "                                  sf.sum(sf.expr(\"bath + balcony\")).alias(\"batch_bal\"),\n",
    "                                   sf.expr(\"sum(bath + balcony) as batch_bal\")\n",
    "                                  ).show()"
   ]
  },
  {
   "cell_type": "markdown",
   "id": "7fa757b9",
   "metadata": {},
   "source": [
    "# find second largest salary of employee"
   ]
  },
  {
   "cell_type": "code",
   "execution_count": null,
   "id": "c1abc004",
   "metadata": {},
   "outputs": [],
   "source": []
  }
 ],
 "metadata": {
  "kernelspec": {
   "display_name": "Python 3 (ipykernel)",
   "language": "python",
   "name": "python3"
  },
  "language_info": {
   "codemirror_mode": {
    "name": "ipython",
    "version": 3
   },
   "file_extension": ".py",
   "mimetype": "text/x-python",
   "name": "python",
   "nbconvert_exporter": "python",
   "pygments_lexer": "ipython3",
   "version": "3.10.4"
  }
 },
 "nbformat": 4,
 "nbformat_minor": 5
}
