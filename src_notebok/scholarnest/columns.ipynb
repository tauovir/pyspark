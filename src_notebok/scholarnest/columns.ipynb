{
 "cells": [
  {
   "cell_type": "code",
   "execution_count": 1,
   "id": "adfe1379",
   "metadata": {},
   "outputs": [],
   "source": [
    "from pyspark.sql import SparkSession\n",
    "from pyspark.sql.functions import spark_partition_id\n",
    "from pyspark.sql import functions as sf"
   ]
  },
  {
   "cell_type": "code",
   "execution_count": 2,
   "id": "f62e7b49",
   "metadata": {},
   "outputs": [],
   "source": [
    "spark = SparkSession.builder.master(\"local[2]\").appName(\"sparkCols\").getOrCreate()"
   ]
  },
  {
   "cell_type": "code",
   "execution_count": 7,
   "id": "40615044",
   "metadata": {},
   "outputs": [],
   "source": [
    "filepath = \"../data/Bengaluru_House_Data*.csv\""
   ]
  },
  {
   "cell_type": "code",
   "execution_count": 68,
   "id": "569c5c51",
   "metadata": {},
   "outputs": [],
   "source": [
    "dataframe = spark.read.format(\"csv\").option(\"path\",filepath).option(\"inferSchema\",\"true\").option(\"header\",\"true\").load()"
   ]
  },
  {
   "cell_type": "code",
   "execution_count": 69,
   "id": "a19d708e",
   "metadata": {},
   "outputs": [
    {
     "name": "stdout",
     "output_type": "stream",
     "text": [
      "+--------------------+-------------+--------------------+---------+-------+----------+----+-------+-----+\n",
      "|           area_type| availability|            location|     size|society|total_sqft|bath|balcony|price|\n",
      "+--------------------+-------------+--------------------+---------+-------+----------+----+-------+-----+\n",
      "|Super built-up  Area|       19-Dec|Electronic City P...|    2 BHK|Coomee |      1056|   2|      1|39.07|\n",
      "|          Plot  Area|Ready To Move|    Chikka Tirupathi|4 Bedroom|Theanmp|      2600|   5|      3|120.0|\n",
      "+--------------------+-------------+--------------------+---------+-------+----------+----+-------+-----+\n",
      "only showing top 2 rows\n",
      "\n"
     ]
    }
   ],
   "source": [
    "dataframe.show(2)"
   ]
  },
  {
   "cell_type": "markdown",
   "id": "438951c5",
   "metadata": {},
   "source": [
    "## Column String and Column Object"
   ]
  },
  {
   "cell_type": "code",
   "execution_count": 66,
   "id": "cdaebcea",
   "metadata": {},
   "outputs": [
    {
     "name": "stdout",
     "output_type": "stream",
     "text": [
      "+--------------------+-------------+--------------------+---------+-------+\n",
      "|           area_type| availability|            location|     size|society|\n",
      "+--------------------+-------------+--------------------+---------+-------+\n",
      "|Super built-up  Area|       19-Dec|Electronic City P...|    2 BHK|Coomee |\n",
      "|          Plot  Area|Ready To Move|    Chikka Tirupathi|4 Bedroom|Theanmp|\n",
      "+--------------------+-------------+--------------------+---------+-------+\n",
      "only showing top 2 rows\n",
      "\n"
     ]
    }
   ],
   "source": [
    "dataframe.select(\"area_type\",sf.col(\"availability\"),sf.column(\"location\"),dataframe.size,dataframe['society']).show(2)"
   ]
  },
  {
   "cell_type": "markdown",
   "id": "b7b6af24",
   "metadata": {},
   "source": [
    "## Column Expression\n",
    "**1. String expression or SQL expression<br>\n",
    "**2. Column Object Expression"
   ]
  },
  {
   "cell_type": "code",
   "execution_count": 24,
   "id": "4c7bdd3c",
   "metadata": {},
   "outputs": [
    {
     "name": "stdout",
     "output_type": "stream",
     "text": [
      "+--------------------+----------+\n",
      "|           area_type|       cat|\n",
      "+--------------------+----------+\n",
      "|Super built-up  Area|    2 BHK2|\n",
      "|          Plot  Area|4 Bedroom5|\n",
      "|      Built-up  Area|    3 BHK2|\n",
      "+--------------------+----------+\n",
      "only showing top 3 rows\n",
      "\n"
     ]
    }
   ],
   "source": [
    "# String expression or SQL expression\n",
    "dataframe.select(\"area_type\",sf.expr(\"concat(size,bath) as cat\")).show(3)"
   ]
  },
  {
   "cell_type": "code",
   "execution_count": 25,
   "id": "d9824e0c",
   "metadata": {},
   "outputs": [
    {
     "name": "stdout",
     "output_type": "stream",
     "text": [
      "+--------------------+----------+\n",
      "|           area_type|       cat|\n",
      "+--------------------+----------+\n",
      "|Super built-up  Area|    2 BHK2|\n",
      "|          Plot  Area|4 Bedroom5|\n",
      "|      Built-up  Area|    3 BHK2|\n",
      "+--------------------+----------+\n",
      "only showing top 3 rows\n",
      "\n"
     ]
    }
   ],
   "source": [
    "# String expression or SQL expression\n",
    "dataframe.select(\"area_type\",sf.concat(\"size\",\"bath\").alias(\"cat\")).show(3)"
   ]
  },
  {
   "cell_type": "markdown",
   "id": "1fce4606",
   "metadata": {},
   "source": [
    "## User Defined Function\n",
    "**To use UDF, weh have to register user_define_function to UDF"
   ]
  },
  {
   "cell_type": "code",
   "execution_count": 65,
   "id": "44032489",
   "metadata": {},
   "outputs": [
    {
     "name": "stdout",
     "output_type": "stream",
     "text": [
      "+---------+\n",
      "|     size|\n",
      "+---------+\n",
      "|   14 BHK|\n",
      "|5 Bedroom|\n",
      "+---------+\n",
      "only showing top 2 rows\n",
      "\n"
     ]
    }
   ],
   "source": [
    "dataframe.select(\"size\").distinct().show(2)"
   ]
  },
  {
   "cell_type": "code",
   "execution_count": 41,
   "id": "db64dcfd",
   "metadata": {},
   "outputs": [],
   "source": [
    "def bedrrom_to_bhk(size):\n",
    "    if size:\n",
    "        text = size.replace(\"Bedroom\", \"BHK\")\n",
    "        return text\n",
    "    else:\n",
    "        return size \n",
    "        "
   ]
  },
  {
   "cell_type": "code",
   "execution_count": 64,
   "id": "e17c4f14",
   "metadata": {},
   "outputs": [
    {
     "name": "stdout",
     "output_type": "stream",
     "text": [
      "+------+\n",
      "|  size|\n",
      "+------+\n",
      "|12 BHK|\n",
      "|14 BHK|\n",
      "+------+\n",
      "only showing top 2 rows\n",
      "\n"
     ]
    }
   ],
   "source": [
    "bedrrom_to_bhk_udf = sf.udf(bedrrom_to_bhk,sf.StringType()) # Dataframe UDF\n",
    "src = dataframe.withColumn(\"size\",bedrrom_to_bhk_udf(\"size\")).select(\"size\").distinct()\n",
    "src.show(2)"
   ]
  },
  {
   "cell_type": "markdown",
   "id": "2d92761c",
   "metadata": {},
   "source": [
    "## Register UDF in SQL expression"
   ]
  },
  {
   "cell_type": "code",
   "execution_count": 49,
   "id": "8c4600bd",
   "metadata": {},
   "outputs": [],
   "source": [
    "# for f in spark.catalog.listFunctions():\n",
    "#     print(f)\n"
   ]
  },
  {
   "cell_type": "code",
   "execution_count": 51,
   "id": "c908ee45",
   "metadata": {},
   "outputs": [
    {
     "data": {
      "text/plain": [
       "<function __main__.bedrrom_to_bhk(size)>"
      ]
     },
     "execution_count": 51,
     "metadata": {},
     "output_type": "execute_result"
    }
   ],
   "source": [
    "spark.udf.register(\"bedrrom_to_bhk_udf\",bedrrom_to_bhk,sf.StringType())"
   ]
  },
  {
   "cell_type": "code",
   "execution_count": 63,
   "id": "6c865171",
   "metadata": {},
   "outputs": [
    {
     "name": "stdout",
     "output_type": "stream",
     "text": [
      "+------+\n",
      "|  size|\n",
      "+------+\n",
      "|12 BHK|\n",
      "|14 BHK|\n",
      "+------+\n",
      "only showing top 2 rows\n",
      "\n"
     ]
    }
   ],
   "source": [
    "dataframe2 = dataframe.withColumn(\"size\",sf.expr(\"bedrrom_to_bhk_udf(size)\")).select(\"size\").distinct()\n",
    "dataframe2.show(2)"
   ]
  },
  {
   "cell_type": "code",
   "execution_count": 70,
   "id": "e41b41aa",
   "metadata": {},
   "outputs": [
    {
     "name": "stdout",
     "output_type": "stream",
     "text": [
      "+--------------------+-------------+--------------------+---------+-------+----------+----+-------+-----+\n",
      "|           area_type| availability|            location|     size|society|total_sqft|bath|balcony|price|\n",
      "+--------------------+-------------+--------------------+---------+-------+----------+----+-------+-----+\n",
      "|Super built-up  Area|       19-Dec|Electronic City P...|    2 BHK|Coomee |      1056|   2|      1|39.07|\n",
      "|          Plot  Area|Ready To Move|    Chikka Tirupathi|4 Bedroom|Theanmp|      2600|   5|      3|120.0|\n",
      "+--------------------+-------------+--------------------+---------+-------+----------+----+-------+-----+\n",
      "only showing top 2 rows\n",
      "\n"
     ]
    }
   ],
   "source": [
    "dataframe.show(2)"
   ]
  },
  {
   "cell_type": "code",
   "execution_count": 79,
   "id": "069dc3e2",
   "metadata": {},
   "outputs": [
    {
     "name": "stdout",
     "output_type": "stream",
     "text": [
      "+--------------------+-------------+--------------------+---------+-------+----------+----+-------+-----+\n",
      "|           area_type| availability|            location|     size|society|total_sqft|bath|balcony|price|\n",
      "+--------------------+-------------+--------------------+---------+-------+----------+----+-------+-----+\n",
      "|Super built-up  Area|       19-Dec|Electronic City P...|    2 BHK|Coomee |      1056|   2|      1|39.07|\n",
      "|          Plot  Area|Ready To Move|    Chikka Tirupathi|4 Bedroom|Theanmp|      2600| 105|      3|120.0|\n",
      "+--------------------+-------------+--------------------+---------+-------+----------+----+-------+-----+\n",
      "only showing top 2 rows\n",
      "\n"
     ]
    }
   ],
   "source": [
    "dataframe.withColumn(\"bath\",sf.when(sf.col(\"bath\") >2 , sf.col(\"bath\") +100).otherwise(sf.col(\"bath\"))).show(2)"
   ]
  }
 ],
 "metadata": {
  "kernelspec": {
   "display_name": "Python 3 (ipykernel)",
   "language": "python",
   "name": "python3"
  },
  "language_info": {
   "codemirror_mode": {
    "name": "ipython",
    "version": 3
   },
   "file_extension": ".py",
   "mimetype": "text/x-python",
   "name": "python",
   "nbconvert_exporter": "python",
   "pygments_lexer": "ipython3",
   "version": "3.10.4"
  }
 },
 "nbformat": 4,
 "nbformat_minor": 5
}
