{
 "cells": [
  {
   "cell_type": "code",
   "execution_count": 1,
   "id": "4835264b",
   "metadata": {},
   "outputs": [],
   "source": [
    "\n",
    "from pyspark.sql import *\n",
    "from pyspark.sql.types import *\n"
   ]
  },
  {
   "cell_type": "code",
   "execution_count": 9,
   "id": "1b6e16e9",
   "metadata": {},
   "outputs": [],
   "source": [
    "## Create Spark Session"
   ]
  },
  {
   "cell_type": "code",
   "execution_count": 2,
   "id": "1c319899",
   "metadata": {},
   "outputs": [],
   "source": [
    "spark = SparkSession.builder.master(\"local[2]\").appName(\"DataFrame-Session\").getOrCreate()"
   ]
  },
  {
   "cell_type": "code",
   "execution_count": 16,
   "id": "75f0080f",
   "metadata": {},
   "outputs": [],
   "source": [
    "# Below method are generic method"
   ]
  },
  {
   "cell_type": "code",
   "execution_count": 3,
   "id": "b7a642db",
   "metadata": {},
   "outputs": [],
   "source": [
    "filepath = \"../data/Fire_Department_Calls_for_Service.csv\""
   ]
  },
  {
   "cell_type": "code",
   "execution_count": 4,
   "id": "2be67dec",
   "metadata": {},
   "outputs": [],
   "source": [
    "dataframe = spark.read. \\\n",
    "        option(\"header\", \"true\"). \\\n",
    "        option(\"inferSchema\", \"true\").csv(filepath)"
   ]
  },
  {
   "cell_type": "code",
   "execution_count": 7,
   "id": "bce68a3b",
   "metadata": {},
   "outputs": [
    {
     "name": "stdout",
     "output_type": "stream",
     "text": [
      "root\n",
      " |-- Call Number: integer (nullable = true)\n",
      " |-- Unit ID: string (nullable = true)\n",
      " |-- Incident Number: integer (nullable = true)\n",
      " |-- Call Type: string (nullable = true)\n",
      " |-- Call Date: string (nullable = true)\n",
      " |-- Watch Date: string (nullable = true)\n",
      " |-- Received DtTm: string (nullable = true)\n",
      " |-- Entry DtTm: string (nullable = true)\n",
      " |-- Dispatch DtTm: string (nullable = true)\n",
      " |-- Response DtTm: string (nullable = true)\n",
      " |-- On Scene DtTm: string (nullable = true)\n",
      " |-- Transport DtTm: string (nullable = true)\n",
      " |-- Hospital DtTm: string (nullable = true)\n",
      " |-- Call Final Disposition: string (nullable = true)\n",
      " |-- Available DtTm: string (nullable = true)\n",
      " |-- Address: string (nullable = true)\n",
      " |-- City: string (nullable = true)\n",
      " |-- Zipcode of Incident: integer (nullable = true)\n",
      " |-- Battalion: string (nullable = true)\n",
      " |-- Station Area: string (nullable = true)\n",
      " |-- Box: string (nullable = true)\n",
      " |-- Original Priority: string (nullable = true)\n",
      " |-- Priority: string (nullable = true)\n",
      " |-- Final Priority: integer (nullable = true)\n",
      " |-- ALS Unit: boolean (nullable = true)\n",
      " |-- Call Type Group: string (nullable = true)\n",
      " |-- Number of Alarms: integer (nullable = true)\n",
      " |-- Unit Type: string (nullable = true)\n",
      " |-- Unit sequence in call dispatch: integer (nullable = true)\n",
      " |-- Fire Prevention District: string (nullable = true)\n",
      " |-- Supervisor District: string (nullable = true)\n",
      " |-- Neighborhooods - Analysis Boundaries: string (nullable = true)\n",
      " |-- RowID: string (nullable = true)\n",
      " |-- case_location: string (nullable = true)\n",
      " |-- Analysis Neighborhoods: integer (nullable = true)\n",
      "\n"
     ]
    }
   ],
   "source": [
    "dataframe.printSchema(2)"
   ]
  },
  {
   "cell_type": "code",
   "execution_count": 8,
   "id": "f4aab8e4",
   "metadata": {},
   "outputs": [],
   "source": [
    "pandas_df = dataframe.limit(10).toPandas()"
   ]
  },
  {
   "cell_type": "code",
   "execution_count": 9,
   "id": "fd173ab6",
   "metadata": {},
   "outputs": [
    {
     "data": {
      "text/html": [
       "<div>\n",
       "<style scoped>\n",
       "    .dataframe tbody tr th:only-of-type {\n",
       "        vertical-align: middle;\n",
       "    }\n",
       "\n",
       "    .dataframe tbody tr th {\n",
       "        vertical-align: top;\n",
       "    }\n",
       "\n",
       "    .dataframe thead th {\n",
       "        text-align: right;\n",
       "    }\n",
       "</style>\n",
       "<table border=\"1\" class=\"dataframe\">\n",
       "  <thead>\n",
       "    <tr style=\"text-align: right;\">\n",
       "      <th></th>\n",
       "      <th>Call Number</th>\n",
       "      <th>Unit ID</th>\n",
       "      <th>Incident Number</th>\n",
       "      <th>Call Type</th>\n",
       "      <th>Call Date</th>\n",
       "      <th>Watch Date</th>\n",
       "      <th>Received DtTm</th>\n",
       "      <th>Entry DtTm</th>\n",
       "      <th>Dispatch DtTm</th>\n",
       "      <th>Response DtTm</th>\n",
       "      <th>...</th>\n",
       "      <th>Call Type Group</th>\n",
       "      <th>Number of Alarms</th>\n",
       "      <th>Unit Type</th>\n",
       "      <th>Unit sequence in call dispatch</th>\n",
       "      <th>Fire Prevention District</th>\n",
       "      <th>Supervisor District</th>\n",
       "      <th>Neighborhooods - Analysis Boundaries</th>\n",
       "      <th>RowID</th>\n",
       "      <th>case_location</th>\n",
       "      <th>Analysis Neighborhoods</th>\n",
       "    </tr>\n",
       "  </thead>\n",
       "  <tbody>\n",
       "    <tr>\n",
       "      <th>0</th>\n",
       "      <td>221210313</td>\n",
       "      <td>E36</td>\n",
       "      <td>22054955</td>\n",
       "      <td>Outside Fire</td>\n",
       "      <td>05/01/2022</td>\n",
       "      <td>04/30/2022</td>\n",
       "      <td>05/01/2022 02:58:25 AM</td>\n",
       "      <td>05/01/2022 02:59:15 AM</td>\n",
       "      <td>05/01/2022 02:59:25 AM</td>\n",
       "      <td>05/01/2022 03:01:06 AM</td>\n",
       "      <td>...</td>\n",
       "      <td>Fire</td>\n",
       "      <td>1</td>\n",
       "      <td>ENGINE</td>\n",
       "      <td>1</td>\n",
       "      <td>2</td>\n",
       "      <td>5</td>\n",
       "      <td>Hayes Valley</td>\n",
       "      <td>221210313-E36</td>\n",
       "      <td>POINT (-122.42316555403964 37.77781524520032)</td>\n",
       "      <td>9</td>\n",
       "    </tr>\n",
       "    <tr>\n",
       "      <th>1</th>\n",
       "      <td>220190150</td>\n",
       "      <td>E29</td>\n",
       "      <td>22008871</td>\n",
       "      <td>Alarms</td>\n",
       "      <td>01/19/2022</td>\n",
       "      <td>01/18/2022</td>\n",
       "      <td>01/19/2022 01:42:12 AM</td>\n",
       "      <td>01/19/2022 01:44:13 AM</td>\n",
       "      <td>01/19/2022 01:44:28 AM</td>\n",
       "      <td>01/19/2022 01:46:47 AM</td>\n",
       "      <td>...</td>\n",
       "      <td>Alarm</td>\n",
       "      <td>1</td>\n",
       "      <td>ENGINE</td>\n",
       "      <td>1</td>\n",
       "      <td>3</td>\n",
       "      <td>10</td>\n",
       "      <td>Potrero Hill</td>\n",
       "      <td>220190150-E29</td>\n",
       "      <td>POINT (-122.39469970274361 37.76460987856451)</td>\n",
       "      <td>26</td>\n",
       "    </tr>\n",
       "  </tbody>\n",
       "</table>\n",
       "<p>2 rows × 35 columns</p>\n",
       "</div>"
      ],
      "text/plain": [
       "   Call Number Unit ID  Incident Number     Call Type   Call Date  Watch Date  \\\n",
       "0    221210313     E36         22054955  Outside Fire  05/01/2022  04/30/2022   \n",
       "1    220190150     E29         22008871        Alarms  01/19/2022  01/18/2022   \n",
       "\n",
       "            Received DtTm              Entry DtTm           Dispatch DtTm  \\\n",
       "0  05/01/2022 02:58:25 AM  05/01/2022 02:59:15 AM  05/01/2022 02:59:25 AM   \n",
       "1  01/19/2022 01:42:12 AM  01/19/2022 01:44:13 AM  01/19/2022 01:44:28 AM   \n",
       "\n",
       "            Response DtTm  ... Call Type Group Number of Alarms Unit Type  \\\n",
       "0  05/01/2022 03:01:06 AM  ...            Fire                1    ENGINE   \n",
       "1  01/19/2022 01:46:47 AM  ...           Alarm                1    ENGINE   \n",
       "\n",
       "  Unit sequence in call dispatch Fire Prevention District Supervisor District  \\\n",
       "0                              1                        2                   5   \n",
       "1                              1                        3                  10   \n",
       "\n",
       "  Neighborhooods - Analysis Boundaries          RowID  \\\n",
       "0                         Hayes Valley  221210313-E36   \n",
       "1                         Potrero Hill  220190150-E29   \n",
       "\n",
       "                                   case_location Analysis Neighborhoods  \n",
       "0  POINT (-122.42316555403964 37.77781524520032)                      9  \n",
       "1  POINT (-122.39469970274361 37.76460987856451)                     26  \n",
       "\n",
       "[2 rows x 35 columns]"
      ]
     },
     "execution_count": 9,
     "metadata": {},
     "output_type": "execute_result"
    }
   ],
   "source": [
    "pandas_df.head(2)"
   ]
  },
  {
   "cell_type": "markdown",
   "id": "2268a1ba",
   "metadata": {},
   "source": [
    "## Rename the column\n",
    "We can create chain of transformaation one after,\n",
    "Spark transformation return new dataframe after transformation\n",
    "Spark dataframe is immutable"
   ]
  },
  {
   "cell_type": "code",
   "execution_count": 10,
   "id": "b8766e6f",
   "metadata": {},
   "outputs": [],
   "source": [
    "dataframe = dataframe.withColumnRenamed(\"Call Number\",\"CallNumber\").\\\n",
    "withColumnRenamed(\"Unit ID\",\"UnitID\").withColumnRenamed(\"Incident Number\",\"IncidentNumber\").\\\n",
    "withColumnRenamed(\"Call Type\",\"CallType\").withColumnRenamed(\"Call Date\",\"CallDate\").\\\n",
    "withColumnRenamed(\"Watch Date\",\"WatchDate\").withColumnRenamed(\"Received DtTm\",\"ReceivedDtTm\").\\\n",
    "withColumnRenamed(\"Entry DtTm\",\"EntryDtTm\").withColumnRenamed(\"Dispatch DtTm\",\"DispatchDtTm\").\\\n",
    "withColumnRenamed(\"Response DtTm\",\"ResponseDtTm\").withColumnRenamed(\"On Scene DtTm\",\"OnSceneDtTm\").\\\n",
    "withColumnRenamed(\"Transport DtTm\",\"TransportDtTm\").withColumnRenamed(\"Hospital DtTm\",\"HospitalDtTm\").\\\n",
    "withColumnRenamed(\"CallFinalDisposition\",\"CallFinalDisposition\").withColumnRenamed(\"Available DtTm\",\"AvailableDtTm\").\\\n",
    "withColumnRenamed(\"Original Priority\",\"OriginalPriority\").withColumnRenamed(\"Final Priority\",\"FinalPriority\").\\\n",
    "withColumnRenamed(\"ALS Unit\",\"ALSUnit\").withColumnRenamed(\"Call Type Group\",\"CallTypeGroup\").\\\n",
    "withColumnRenamed(\"Number of Alarms\",\"NumberofAlarms\").withColumnRenamed(\"Unit Type\",\"UnitType\").\\\n",
    "withColumnRenamed(\"Unit sequence in call dispatch\",\"UnitSequenceInCallDispatch\").\\\n",
    "withColumnRenamed(\"Fire Prevention Distric\",\"FirePreventionDistric\").\\\n",
    "withColumnRenamed(\"Supervisor District\",\"SupervisorDistrict\").\\\n",
    "withColumnRenamed(\"Supervisor District\",\"SupervisorDistrict\")"
   ]
  },
  {
   "cell_type": "code",
   "execution_count": 11,
   "id": "a31682e2",
   "metadata": {},
   "outputs": [
    {
     "data": {
      "text/html": [
       "<div>\n",
       "<style scoped>\n",
       "    .dataframe tbody tr th:only-of-type {\n",
       "        vertical-align: middle;\n",
       "    }\n",
       "\n",
       "    .dataframe tbody tr th {\n",
       "        vertical-align: top;\n",
       "    }\n",
       "\n",
       "    .dataframe thead th {\n",
       "        text-align: right;\n",
       "    }\n",
       "</style>\n",
       "<table border=\"1\" class=\"dataframe\">\n",
       "  <thead>\n",
       "    <tr style=\"text-align: right;\">\n",
       "      <th></th>\n",
       "      <th>CallNumber</th>\n",
       "      <th>UnitID</th>\n",
       "      <th>IncidentNumber</th>\n",
       "      <th>CallType</th>\n",
       "      <th>CallDate</th>\n",
       "      <th>WatchDate</th>\n",
       "      <th>ReceivedDtTm</th>\n",
       "      <th>EntryDtTm</th>\n",
       "      <th>DispatchDtTm</th>\n",
       "      <th>ResponseDtTm</th>\n",
       "      <th>...</th>\n",
       "      <th>CallTypeGroup</th>\n",
       "      <th>NumberofAlarms</th>\n",
       "      <th>UnitType</th>\n",
       "      <th>UnitSequenceInCallDispatch</th>\n",
       "      <th>Fire Prevention District</th>\n",
       "      <th>SupervisorDistrict</th>\n",
       "      <th>Neighborhooods - Analysis Boundaries</th>\n",
       "      <th>RowID</th>\n",
       "      <th>case_location</th>\n",
       "      <th>Analysis Neighborhoods</th>\n",
       "    </tr>\n",
       "  </thead>\n",
       "  <tbody>\n",
       "    <tr>\n",
       "      <th>0</th>\n",
       "      <td>221210313</td>\n",
       "      <td>E36</td>\n",
       "      <td>22054955</td>\n",
       "      <td>Outside Fire</td>\n",
       "      <td>05/01/2022</td>\n",
       "      <td>04/30/2022</td>\n",
       "      <td>05/01/2022 02:58:25 AM</td>\n",
       "      <td>05/01/2022 02:59:15 AM</td>\n",
       "      <td>05/01/2022 02:59:25 AM</td>\n",
       "      <td>05/01/2022 03:01:06 AM</td>\n",
       "      <td>...</td>\n",
       "      <td>Fire</td>\n",
       "      <td>1</td>\n",
       "      <td>ENGINE</td>\n",
       "      <td>1</td>\n",
       "      <td>2</td>\n",
       "      <td>5</td>\n",
       "      <td>Hayes Valley</td>\n",
       "      <td>221210313-E36</td>\n",
       "      <td>POINT (-122.42316555403964 37.77781524520032)</td>\n",
       "      <td>9</td>\n",
       "    </tr>\n",
       "    <tr>\n",
       "      <th>1</th>\n",
       "      <td>220190150</td>\n",
       "      <td>E29</td>\n",
       "      <td>22008871</td>\n",
       "      <td>Alarms</td>\n",
       "      <td>01/19/2022</td>\n",
       "      <td>01/18/2022</td>\n",
       "      <td>01/19/2022 01:42:12 AM</td>\n",
       "      <td>01/19/2022 01:44:13 AM</td>\n",
       "      <td>01/19/2022 01:44:28 AM</td>\n",
       "      <td>01/19/2022 01:46:47 AM</td>\n",
       "      <td>...</td>\n",
       "      <td>Alarm</td>\n",
       "      <td>1</td>\n",
       "      <td>ENGINE</td>\n",
       "      <td>1</td>\n",
       "      <td>3</td>\n",
       "      <td>10</td>\n",
       "      <td>Potrero Hill</td>\n",
       "      <td>220190150-E29</td>\n",
       "      <td>POINT (-122.39469970274361 37.76460987856451)</td>\n",
       "      <td>26</td>\n",
       "    </tr>\n",
       "  </tbody>\n",
       "</table>\n",
       "<p>2 rows × 35 columns</p>\n",
       "</div>"
      ],
      "text/plain": [
       "   CallNumber UnitID  IncidentNumber      CallType    CallDate   WatchDate  \\\n",
       "0   221210313    E36        22054955  Outside Fire  05/01/2022  04/30/2022   \n",
       "1   220190150    E29        22008871        Alarms  01/19/2022  01/18/2022   \n",
       "\n",
       "             ReceivedDtTm               EntryDtTm            DispatchDtTm  \\\n",
       "0  05/01/2022 02:58:25 AM  05/01/2022 02:59:15 AM  05/01/2022 02:59:25 AM   \n",
       "1  01/19/2022 01:42:12 AM  01/19/2022 01:44:13 AM  01/19/2022 01:44:28 AM   \n",
       "\n",
       "             ResponseDtTm  ... CallTypeGroup NumberofAlarms UnitType  \\\n",
       "0  05/01/2022 03:01:06 AM  ...          Fire              1   ENGINE   \n",
       "1  01/19/2022 01:46:47 AM  ...         Alarm              1   ENGINE   \n",
       "\n",
       "  UnitSequenceInCallDispatch Fire Prevention District SupervisorDistrict  \\\n",
       "0                          1                        2                  5   \n",
       "1                          1                        3                 10   \n",
       "\n",
       "  Neighborhooods - Analysis Boundaries          RowID  \\\n",
       "0                         Hayes Valley  221210313-E36   \n",
       "1                         Potrero Hill  220190150-E29   \n",
       "\n",
       "                                   case_location Analysis Neighborhoods  \n",
       "0  POINT (-122.42316555403964 37.77781524520032)                      9  \n",
       "1  POINT (-122.39469970274361 37.76460987856451)                     26  \n",
       "\n",
       "[2 rows x 35 columns]"
      ]
     },
     "execution_count": 11,
     "metadata": {},
     "output_type": "execute_result"
    }
   ],
   "source": [
    "pandas_df = dataframe.limit(10).toPandas()\n",
    "pandas_df.head(2)"
   ]
  },
  {
   "cell_type": "code",
   "execution_count": 12,
   "id": "6a0d791c",
   "metadata": {},
   "outputs": [],
   "source": [
    "from pyspark.sql.functions import *"
   ]
  },
  {
   "cell_type": "code",
   "execution_count": null,
   "id": "c1c6ba28",
   "metadata": {},
   "outputs": [],
   "source": [
    "## Convert Data"
   ]
  },
  {
   "cell_type": "code",
   "execution_count": 13,
   "id": "13a35847",
   "metadata": {},
   "outputs": [],
   "source": [
    "transformed_df = dataframe.withColumn(\"CallDate\",to_date(\"CallDate\",\"MM/dd/yyyy\")).\\\n",
    "withColumn(\"WatchDate\",to_date(\"WatchDate\",\"MM/dd/yyyy\")).\\\n",
    "withColumn(\"AvailableDtTm\",to_timestamp(\"AvailableDtTm\",\"MM/dd/yyyy hh:mm:ss a\"))"
   ]
  },
  {
   "cell_type": "code",
   "execution_count": 19,
   "id": "b0153f5f",
   "metadata": {},
   "outputs": [
    {
     "name": "stdout",
     "output_type": "stream",
     "text": [
      "root\n",
      " |-- CallNumber: integer (nullable = true)\n",
      " |-- UnitID: string (nullable = true)\n",
      " |-- IncidentNumber: integer (nullable = true)\n",
      " |-- CallType: string (nullable = true)\n",
      " |-- CallDate: date (nullable = true)\n",
      " |-- WatchDate: date (nullable = true)\n",
      " |-- ReceivedDtTm: string (nullable = true)\n",
      " |-- EntryDtTm: string (nullable = true)\n",
      " |-- DispatchDtTm: string (nullable = true)\n",
      " |-- ResponseDtTm: string (nullable = true)\n",
      " |-- OnSceneDtTm: string (nullable = true)\n",
      " |-- TransportDtTm: string (nullable = true)\n",
      " |-- HospitalDtTm: string (nullable = true)\n",
      " |-- Call Final Disposition: string (nullable = true)\n",
      " |-- AvailableDtTm: timestamp (nullable = true)\n",
      " |-- Address: string (nullable = true)\n",
      " |-- City: string (nullable = true)\n",
      " |-- Zipcode of Incident: integer (nullable = true)\n",
      " |-- Battalion: string (nullable = true)\n",
      " |-- Station Area: string (nullable = true)\n",
      " |-- Box: string (nullable = true)\n",
      " |-- OriginalPriority: string (nullable = true)\n",
      " |-- Priority: string (nullable = true)\n",
      " |-- FinalPriority: integer (nullable = true)\n",
      " |-- ALSUnit: boolean (nullable = true)\n",
      " |-- CallTypeGroup: string (nullable = true)\n",
      " |-- NumberofAlarms: integer (nullable = true)\n",
      " |-- UnitType: string (nullable = true)\n",
      " |-- UnitSequenceInCallDispatch: integer (nullable = true)\n",
      " |-- Fire Prevention District: string (nullable = true)\n",
      " |-- SupervisorDistrict: string (nullable = true)\n",
      " |-- Neighborhooods - Analysis Boundaries: string (nullable = true)\n",
      " |-- RowID: string (nullable = true)\n",
      " |-- case_location: string (nullable = true)\n",
      " |-- Analysis Neighborhoods: integer (nullable = true)\n",
      "\n"
     ]
    }
   ],
   "source": [
    "transformed_df.printSchema()"
   ]
  },
  {
   "cell_type": "markdown",
   "id": "764b4750",
   "metadata": {},
   "source": [
    "## Cache Dataframe\n",
    "It is a utility method, it store data in memory. Cached, because wanto to do ten analysys on same dataframe"
   ]
  },
  {
   "cell_type": "code",
   "execution_count": 14,
   "id": "9d92a54d",
   "metadata": {},
   "outputs": [
    {
     "data": {
      "text/plain": [
       "DataFrame[CallNumber: int, UnitID: string, IncidentNumber: int, CallType: string, CallDate: date, WatchDate: date, ReceivedDtTm: string, EntryDtTm: string, DispatchDtTm: string, ResponseDtTm: string, OnSceneDtTm: string, TransportDtTm: string, HospitalDtTm: string, Call Final Disposition: string, AvailableDtTm: timestamp, Address: string, City: string, Zipcode of Incident: int, Battalion: string, Station Area: string, Box: string, OriginalPriority: string, Priority: string, FinalPriority: int, ALSUnit: boolean, CallTypeGroup: string, NumberofAlarms: int, UnitType: string, UnitSequenceInCallDispatch: int, Fire Prevention District: string, SupervisorDistrict: string, Neighborhooods - Analysis Boundaries: string, RowID: string, case_location: string, Analysis Neighborhoods: int]"
      ]
     },
     "execution_count": 14,
     "metadata": {},
     "output_type": "execute_result"
    }
   ],
   "source": [
    "transformed_df.cache()"
   ]
  },
  {
   "cell_type": "markdown",
   "id": "f36c591c",
   "metadata": {},
   "source": [
    "## How many Distinct type of call were made to the Fire department"
   ]
  },
  {
   "cell_type": "code",
   "execution_count": 17,
   "id": "72247e36",
   "metadata": {},
   "outputs": [],
   "source": [
    "# This is two step process: convert DF to View, then execute SQL query\n",
    "transformed_df.createOrReplaceTempView(\"fire_service_call_view\")"
   ]
  },
  {
   "cell_type": "code",
   "execution_count": 19,
   "id": "ecbac436",
   "metadata": {},
   "outputs": [
    {
     "name": "stdout",
     "output_type": "stream",
     "text": [
      "+------------------------+\n",
      "|distinct_call_type_count|\n",
      "+------------------------+\n",
      "|                      33|\n",
      "+------------------------+\n",
      "\n"
     ]
    }
   ],
   "source": [
    "sql = \"Select count(Distinct CallType) as distinct_call_type_count from fire_service_call_view where CallType is not null\"\n",
    "\n",
    "sql_df = spark.sql(sql)\n",
    "sql_df.show()"
   ]
  },
  {
   "cell_type": "code",
   "execution_count": 20,
   "id": "9e32cf7d",
   "metadata": {},
   "outputs": [
    {
     "data": {
      "text/plain": [
       "33"
      ]
     },
     "execution_count": 20,
     "metadata": {},
     "output_type": "execute_result"
    }
   ],
   "source": [
    "df1 = transformed_df.where(\"CallType is not null\").select(\"CallType\").distinct().count()\n",
    "df1"
   ]
  },
  {
   "cell_type": "markdown",
   "id": "83831cfa",
   "metadata": {},
   "source": [
    "## What are the distinct type of call that made to  the Fire department"
   ]
  },
  {
   "cell_type": "code",
   "execution_count": 21,
   "id": "d4ae08f4",
   "metadata": {},
   "outputs": [
    {
     "name": "stdout",
     "output_type": "stream",
     "text": [
      "+------------------------+\n",
      "|distinct_call_type_count|\n",
      "+------------------------+\n",
      "|    Elevator / Escala...|\n",
      "|             Marine Fire|\n",
      "+------------------------+\n",
      "only showing top 2 rows\n",
      "\n"
     ]
    }
   ],
   "source": [
    "sql = \"Select distinct CallType as distinct_call_type_count from fire_service_call_view where CallType is not null\"\n",
    "\n",
    "sql_df = spark.sql(sql)\n",
    "sql_df.show(2)"
   ]
  },
  {
   "cell_type": "code",
   "execution_count": 22,
   "id": "8d52d641",
   "metadata": {},
   "outputs": [
    {
     "name": "stdout",
     "output_type": "stream",
     "text": [
      "+--------------------+\n",
      "|  distinct_call_type|\n",
      "+--------------------+\n",
      "|Elevator / Escala...|\n",
      "|         Marine Fire|\n",
      "|  Aircraft Emergency|\n",
      "|Confined Space / ...|\n",
      "+--------------------+\n",
      "only showing top 4 rows\n",
      "\n"
     ]
    }
   ],
   "source": [
    "df2 = transformed_df.where(\"CallType is not null\").select(expr(\"CallType as distinct_call_type\")).distinct()\n",
    "df2.show(4)"
   ]
  },
  {
   "cell_type": "code",
   "execution_count": 34,
   "id": "cf5b2c1c",
   "metadata": {},
   "outputs": [],
   "source": [
    "# transformed_df.printSchema()"
   ]
  },
  {
   "cell_type": "markdown",
   "id": "21842ef3",
   "metadata": {},
   "source": [
    "## What are the most coomon call type"
   ]
  },
  {
   "cell_type": "code",
   "execution_count": 27,
   "id": "1e071cf2",
   "metadata": {},
   "outputs": [
    {
     "name": "stdout",
     "output_type": "stream",
     "text": [
      "+--------------------+-----+\n",
      "|            callType|count|\n",
      "+--------------------+-----+\n",
      "|Lightning Strike ...|   21|\n",
      "|   Train / Rail Fire|  120|\n",
      "|      Administrative|  330|\n",
      "+--------------------+-----+\n",
      "only showing top 3 rows\n",
      "\n"
     ]
    }
   ],
   "source": [
    "# this count is transformation as it is used after the groupBY,\n",
    "df3 = transformed_df.select(\"callType\").where(\"callType is not null\").groupBy(\"callType\").count().orderBy(\"count\",assending=False)\n",
    "df3.show(3)"
   ]
  },
  {
   "cell_type": "code",
   "execution_count": null,
   "id": "be358289",
   "metadata": {},
   "outputs": [],
   "source": []
  }
 ],
 "metadata": {
  "kernelspec": {
   "display_name": "Python 3 (ipykernel)",
   "language": "python",
   "name": "python3"
  },
  "language_info": {
   "codemirror_mode": {
    "name": "ipython",
    "version": 3
   },
   "file_extension": ".py",
   "mimetype": "text/x-python",
   "name": "python",
   "nbconvert_exporter": "python",
   "pygments_lexer": "ipython3",
   "version": "3.10.4"
  }
 },
 "nbformat": 4,
 "nbformat_minor": 5
}
