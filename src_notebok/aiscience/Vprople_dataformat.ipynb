{
 "cells": [
  {
   "cell_type": "code",
   "execution_count": 2,
   "id": "c53389c5-ccec-428b-8017-47fff5b125d9",
   "metadata": {},
   "outputs": [],
   "source": [
    "from pyspark.sql import SparkSession\n",
    "from pyspark.sql import functions\n",
    "from pyspark.sql.types import IntegerType"
   ]
  },
  {
   "cell_type": "code",
   "execution_count": 14,
   "id": "584d4ff9-3737-4ec3-be9b-2ee3af665e9f",
   "metadata": {},
   "outputs": [],
   "source": [
    "from pyspark.sql.functions import *"
   ]
  },
  {
   "cell_type": "code",
   "execution_count": 3,
   "id": "1ff69109-6e2f-4bf2-af89-29ed0bf536c4",
   "metadata": {},
   "outputs": [],
   "source": [
    "data = [\n",
    "    {\"fname\": \"Rahul\", \"lname\": \"Kumar\", \"gender\": \"M\", \"salary\": 10000, \"bonus\": 1000, \"deduction\": 500},\n",
    "    {\"fname\": \"Taukir\", \"lname\": \"Khan\", \"gender\": \"M\", \"salary\": 12000, \"bonus\": 2000},\n",
    "    {\"fname\": \"Pooja\", \"lname\": \"Sharma\", \"gender\": \"F\", \"salary\": 15000, \"bonus\": 3000, \"deduction\": 2000},\n",
    "     {\"fname\": \"Ravi\", \"lname\": \"Kumari\", \"gender\": \"other\", \"salary\": 15000, \"bonus\": 3000, \"deduction\": 2000}\n",
    "]\n"
   ]
  },
  {
   "cell_type": "markdown",
   "id": "20afe95c-4bfe-4cde-b890-beb500bfa753",
   "metadata": {},
   "source": [
    "## Conver data to blow format\n",
    "```json\n",
    "     [\n",
    "    {\"name\": \"Rahul Kumar\",  \"gender\": \"Male\", \"total_salary\": 10500},\n",
    "    {\"name\": \"Taukir Khan\", \"gender\": \"Male\", \"total_salary\": 14000},\n",
    "    {\"name\": \"Pooja Sharma\",\"gender\": \"Female\", \"total_salary\": 16000}\n",
    "    ]\n",
    "```"
   ]
  },
  {
   "cell_type": "code",
   "execution_count": 4,
   "id": "57e61ad8-5b97-4d19-9a72-3e7b2830a48e",
   "metadata": {},
   "outputs": [],
   "source": [
    "spark = SparkSession.builder.master(\"local[2]\").appName(\"DataSet\").getOrCreate()"
   ]
  },
  {
   "cell_type": "code",
   "execution_count": 5,
   "id": "d2a31463-4bc1-4bd7-b1f9-2df164b701ba",
   "metadata": {},
   "outputs": [
    {
     "name": "stdout",
     "output_type": "stream",
     "text": [
      "+-----+---------+------+------+------+------+\n",
      "|bonus|deduction| fname|gender| lname|salary|\n",
      "+-----+---------+------+------+------+------+\n",
      "| 1000|      500| Rahul|     M| Kumar| 10000|\n",
      "| 2000|     NULL|Taukir|     M|  Khan| 12000|\n",
      "| 3000|     2000| Pooja|     F|Sharma| 15000|\n",
      "| 3000|     2000|  Ravi| other|Kumari| 15000|\n",
      "+-----+---------+------+------+------+------+\n",
      "\n"
     ]
    }
   ],
   "source": [
    "dataframe = spark.createDataFrame(data) \n",
    "dataframe.show()\n",
    "# na.fill(value=0,subset=[\"deduction\"])."
   ]
  },
  {
   "cell_type": "markdown",
   "id": "5164d8f8-979e-431c-8d3a-850a00bcbfce",
   "metadata": {},
   "source": [
    "### Method-1"
   ]
  },
  {
   "cell_type": "code",
   "execution_count": 7,
   "id": "4e52cbb4-3d03-4599-b9d3-375893ea7b17",
   "metadata": {},
   "outputs": [
    {
     "name": "stdout",
     "output_type": "stream",
     "text": [
      "+-----+---------+------+------+------+------+------------+------------+\n",
      "|bonus|deduction| fname|gender| lname|salary|        name|total_salary|\n",
      "+-----+---------+------+------+------+------+------------+------------+\n",
      "| 1000|      500| Rahul|  Male| Kumar| 10000| Rahul Kumar|       10500|\n",
      "| 2000|        0|Taukir|  Male|  Khan| 12000| Taukir Khan|       14000|\n",
      "| 3000|     2000| Pooja|Female|Sharma| 15000|Pooja Sharma|       16000|\n",
      "| 3000|     2000|  Ravi| other|Kumari| 15000| Ravi Kumari|       16000|\n",
      "+-----+---------+------+------+------+------+------------+------------+\n",
      "\n"
     ]
    }
   ],
   "source": [
    "dataframe.na.fill(value=0,subset=[\"deduction\"]).withColumn(\"gender\",functions.when(dataframe.gender == \"M\",\"Male\").\\\n",
    "                                  when(dataframe.gender == \"F\",\"Female\").\\\n",
    "                                  otherwise(dataframe.gender)).\\\n",
    "withColumn(\"name\", functions.expr(\"concat(fname,' ',lname)\")).\\\n",
    "withColumn(\"total_salary\",(functions.col('salary') + functions.col('bonus') - functions.col('deduction'))).\\\n",
    "select(\"*\").show()"
   ]
  },
  {
   "cell_type": "markdown",
   "id": "03624e4a-5a11-4720-82c6-407201294ca3",
   "metadata": {},
   "source": [
    "### Method-2"
   ]
  },
  {
   "cell_type": "code",
   "execution_count": 8,
   "id": "69d7010e-0bdc-4b44-a4b5-9e7daccd5e17",
   "metadata": {},
   "outputs": [
    {
     "name": "stdout",
     "output_type": "stream",
     "text": [
      "+-----+---------+------+------+------+------+------------+------------+\n",
      "|bonus|deduction| fname|gender| lname|salary|        name|total_salary|\n",
      "+-----+---------+------+------+------+------+------------+------------+\n",
      "| 1000|      500| Rahul|  Male| Kumar| 10000| Rahul Kumar|       10500|\n",
      "| 2000|        0|Taukir|  Male|  Khan| 12000| Taukir Khan|       14000|\n",
      "| 3000|     2000| Pooja|Female|Sharma| 15000|Pooja Sharma|       16000|\n",
      "| 3000|     2000|  Ravi| other|Kumari| 15000| Ravi Kumari|       16000|\n",
      "+-----+---------+------+------+------+------+------------+------------+\n",
      "\n"
     ]
    }
   ],
   "source": [
    "dataframe.na.fill(value=0,subset=[\"deduction\"]).withColumn(\"gender\",functions.expr(\"CASE WHEN gender = 'M' THEN 'Male' \" +\n",
    "           \"WHEN gender = 'F' THEN 'Female' ELSE gender END\")).\\\n",
    "withColumn(\"name\", functions.expr(\"concat(fname,' ',lname)\")).\\\n",
    "withColumn(\"total_salary\",(functions.col('salary') + functions.col('bonus') - functions.col('deduction'))).\\\n",
    "select(\"*\").show()"
   ]
  },
  {
   "cell_type": "markdown",
   "id": "074d738e-2781-4b5e-b8d6-f0f24856e04b",
   "metadata": {},
   "source": [
    "### Method-3"
   ]
  },
  {
   "cell_type": "code",
   "execution_count": 18,
   "id": "c7509155-5bac-48d1-a0af-7c45b369d47e",
   "metadata": {},
   "outputs": [
    {
     "name": "stdout",
     "output_type": "stream",
     "text": [
      "+-----+---------+------+------+------+------+------------+------------+\n",
      "|bonus|deduction| fname|gender| lname|salary|        name|total_salary|\n",
      "+-----+---------+------+------+------+------+------------+------------+\n",
      "| 1000|      500| Rahul|  Male| Kumar| 10000| Rahul Kumar|     10500.0|\n",
      "| 2000|     NULL|Taukir|  Male|  Khan| 12000| Taukir Khan|     14000.0|\n",
      "| 3000|     2000| Pooja|Female|Sharma| 15000|Pooja Sharma|     16000.0|\n",
      "| 3000|     2000|  Ravi| other|Kumari| 15000| Ravi Kumari|     16000.0|\n",
      "+-----+---------+------+------+------+------+------------+------------+\n",
      "\n"
     ]
    }
   ],
   "source": [
    "dataframe.withColumn(\"gender\",functions.expr(\"CASE WHEN gender = 'M' THEN 'Male' \" +\n",
    "           \"WHEN gender = 'F' THEN 'Female' ELSE gender END\")).\\\n",
    "withColumn(\"name\", functions.expr(\"concat(fname,' ',lname)\")).\\\n",
    "withColumn(\"total_salary\",(col('salary') + col('bonus') - coalesce(col('deduction'),lit(0.0)))).select(\"*\").show()"
   ]
  }
 ],
 "metadata": {
  "kernelspec": {
   "display_name": "Python 3 (ipykernel)",
   "language": "python",
   "name": "python3"
  },
  "language_info": {
   "codemirror_mode": {
    "name": "ipython",
    "version": 3
   },
   "file_extension": ".py",
   "mimetype": "text/x-python",
   "name": "python",
   "nbconvert_exporter": "python",
   "pygments_lexer": "ipython3",
   "version": "3.10.4"
  }
 },
 "nbformat": 4,
 "nbformat_minor": 5
}
