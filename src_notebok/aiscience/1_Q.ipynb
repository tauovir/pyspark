{
 "cells": [
  {
   "cell_type": "code",
   "execution_count": 1,
   "id": "4c09552f-af76-4f79-a1b5-d46b8c27a51a",
   "metadata": {},
   "outputs": [],
   "source": [
    "from pyspark.sql import SparkSession\n",
    "from pyspark.sql import functions"
   ]
  },
  {
   "cell_type": "code",
   "execution_count": 2,
   "id": "357ab46f-19ca-40ea-9802-bac32176f2d6",
   "metadata": {},
   "outputs": [],
   "source": [
    "#StudentData\n",
    "spark = SparkSession.builder.master(\"local[2]\").appName(\"StudentSet\").getOrCreate()"
   ]
  },
  {
   "cell_type": "code",
   "execution_count": 3,
   "id": "29062562-c1a5-4613-9fba-91eaad47c006",
   "metadata": {},
   "outputs": [],
   "source": [
    "filepath = \"../../data/StudentData.csv\"\n",
    "dataframe = spark.read.format('csv').options(header = True,inferSchema = True,path = filepath).load()"
   ]
  },
  {
   "cell_type": "markdown",
   "id": "0db05447-8446-455c-93f3-3f1b642dd106",
   "metadata": {},
   "source": [
    "## Create New Column total_marks : 150"
   ]
  },
  {
   "cell_type": "code",
   "execution_count": 6,
   "id": "c21d850d-4956-4a20-b4b4-bacdddf4a3c9",
   "metadata": {},
   "outputs": [],
   "source": [
    "dataframe = dataframe.withColumn(\"total_marks\",functions.lit(150))"
   ]
  },
  {
   "cell_type": "code",
   "execution_count": 15,
   "id": "f199605e-489b-4c7e-824b-a8245c02d170",
   "metadata": {},
   "outputs": [
    {
     "name": "stdout",
     "output_type": "stream",
     "text": [
      "+---+------+----------------+------+-----+-----+--------------------+-----------+------------------+\n",
      "|age|gender|            name|course| roll|marks|               email|total_marks|           average|\n",
      "+---+------+----------------+------+-----+-----+--------------------+-----------+------------------+\n",
      "| 28|Female| Hubert Oliveras|    DB| 2984|   59|Annika Hoffman_Na...|        150| 39.33333333333333|\n",
      "| 29|Female|Toshiko Hillyard| Cloud|12899|   62|Margene Moores_Ma...|        150|41.333333333333336|\n",
      "+---+------+----------------+------+-----+-----+--------------------+-----------+------------------+\n",
      "only showing top 2 rows\n",
      "\n"
     ]
    }
   ],
   "source": [
    "dataframe.show(2)"
   ]
  },
  {
   "cell_type": "markdown",
   "id": "bd1bf079-68fe-4a86-afa5-0d9b0d15617f",
   "metadata": {},
   "source": [
    "## Create New average: marks/total_marks * 100"
   ]
  },
  {
   "cell_type": "code",
   "execution_count": 12,
   "id": "5fd5acd4-4be1-470c-9117-188d7d982a08",
   "metadata": {},
   "outputs": [
    {
     "name": "stdout",
     "output_type": "stream",
     "text": [
      "+---+------+----------------+------+-----+-----+--------------------+-----------+------------------+\n",
      "|age|gender|            name|course| roll|marks|               email|total_marks|           average|\n",
      "+---+------+----------------+------+-----+-----+--------------------+-----------+------------------+\n",
      "| 28|Female| Hubert Oliveras|    DB| 2984|   59|Annika Hoffman_Na...|        150| 39.33333333333333|\n",
      "| 29|Female|Toshiko Hillyard| Cloud|12899|   62|Margene Moores_Ma...|        150|41.333333333333336|\n",
      "+---+------+----------------+------+-----+-----+--------------------+-----------+------------------+\n",
      "only showing top 2 rows\n",
      "\n"
     ]
    }
   ],
   "source": [
    "dataframe = dataframe.withColumn(\"average\",(functions.col('marks')/functions.col('total_marks') * 100))\n",
    "dataframe.show(2)"
   ]
  },
  {
   "cell_type": "markdown",
   "id": "a7512665-66b7-44d3-8d39-c47e25102a3f",
   "metadata": {},
   "source": [
    "## Filterout all all student who achieved more than 80% marks in OOP and save it to new DF"
   ]
  },
  {
   "cell_type": "code",
   "execution_count": 20,
   "id": "ca3c0d7a-b306-4f7f-b9ee-ed904f26bf22",
   "metadata": {},
   "outputs": [
    {
     "name": "stdout",
     "output_type": "stream",
     "text": [
      "+---+------+----+------+----+-----+-----+-----------+-------+\n",
      "|age|gender|name|course|roll|marks|email|total_marks|average|\n",
      "+---+------+----+------+----+-----+-----+-----------+-------+\n",
      "+---+------+----+------+----+-----+-----+-----------+-------+\n",
      "\n"
     ]
    }
   ],
   "source": [
    "df2 = dataframe.filter((dataframe.course =='OOP') & (dataframe.average > 80))\n",
    "df2.show(2)"
   ]
  }
 ],
 "metadata": {
  "kernelspec": {
   "display_name": "Python 3 (ipykernel)",
   "language": "python",
   "name": "python3"
  },
  "language_info": {
   "codemirror_mode": {
    "name": "ipython",
    "version": 3
   },
   "file_extension": ".py",
   "mimetype": "text/x-python",
   "name": "python",
   "nbconvert_exporter": "python",
   "pygments_lexer": "ipython3",
   "version": "3.10.4"
  }
 },
 "nbformat": 4,
 "nbformat_minor": 5
}
