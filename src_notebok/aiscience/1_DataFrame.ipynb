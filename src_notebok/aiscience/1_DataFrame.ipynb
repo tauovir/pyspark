{
 "cells": [
  {
   "cell_type": "code",
   "execution_count": 2,
   "id": "1c6869db-7ec3-4d52-8670-e6638874ce6e",
   "metadata": {},
   "outputs": [],
   "source": [
    "from pyspark.sql import SparkSession"
   ]
  },
  {
   "cell_type": "code",
   "execution_count": 3,
   "id": "5bc960e4-6bb5-475a-8342-a91b1eb29a6b",
   "metadata": {},
   "outputs": [],
   "source": [
    "spark = SparkSession.builder.master(\"local[2]\").appName(\"DataSet\").getOrCreate()"
   ]
  },
  {
   "cell_type": "code",
   "execution_count": 5,
   "id": "32acce22-50f6-471b-b89b-0a742bb58c14",
   "metadata": {},
   "outputs": [],
   "source": [
    "filepath = \"../../data/users_data*.csv\""
   ]
  },
  {
   "cell_type": "code",
   "execution_count": 32,
   "id": "59faa162-9454-47bf-b759-640e428abadd",
   "metadata": {},
   "outputs": [],
   "source": [
    "dataframe = spark.read.format(\"csv\").options(path=filepath,header=True,inferSchema = True,delimiter = \",\").load()\n",
    "# dataframe = spark.read.options(header=True,inferSchema = \"True\").csv(filepath)"
   ]
  },
  {
   "cell_type": "code",
   "execution_count": 64,
   "id": "de5cca4e-f7b3-42a8-9bc5-53e43d233e0b",
   "metadata": {},
   "outputs": [
    {
     "name": "stdout",
     "output_type": "stream",
     "text": [
      "+---+---------+----------+------+---------------+------------+------+-------+---------------+\n",
      "| id|user_name|    mobile|salary|user_created_at|        addr|  city|country|address_created|\n",
      "+---+---------+----------+------+---------------+------------+------+-------+---------------+\n",
      "|  1|   taukir|8010339935| 50000|     2023-11-17|    Richmond|   B.C| Canada|     2023-11-17|\n",
      "|  1|   taukir|8010339935| 50000|     2023-11-17|natesh puram|Meerut|  India|     2023-11-17|\n",
      "+---+---------+----------+------+---------------+------------+------+-------+---------------+\n",
      "only showing top 2 rows\n",
      "\n"
     ]
    }
   ],
   "source": [
    "dataframe.show(2)"
   ]
  },
  {
   "cell_type": "code",
   "execution_count": 65,
   "id": "1cec5245-e7eb-4c21-8941-365f9e64fd66",
   "metadata": {},
   "outputs": [],
   "source": [
    "# dataframe.printSchema()"
   ]
  },
  {
   "cell_type": "markdown",
   "id": "079443b2-3c7b-422c-9590-8c2122e727c8",
   "metadata": {},
   "source": [
    "# Create SChema for DataFrame"
   ]
  },
  {
   "cell_type": "code",
   "execution_count": 38,
   "id": "4dc8ddfc-8818-4fa8-85d1-99068f30162b",
   "metadata": {},
   "outputs": [],
   "source": [
    "from pyspark.sql.types import StructType, StructField,StringType,IntegerType,DateType"
   ]
  },
  {
   "cell_type": "code",
   "execution_count": 40,
   "id": "29d05617-981f-4b96-83fe-26081a07b0b5",
   "metadata": {},
   "outputs": [],
   "source": [
    "schema = StructType([\n",
    "    StructField(\"id\",IntegerType(), True),  # whether this filed can have Null values,it can have that way it is True\n",
    "    StructField(\"user_name\",StringType(), True),\n",
    "    StructField(\"mobile\",StringType(), True),\n",
    "    StructField(\"salary\",IntegerType(), True),\n",
    "    StructField(\"user_created_at\",DateType(), True),\n",
    "    StructField(\"addr\",StringType(), True),\n",
    "    StructField(\"city\",StringType(), True),\n",
    "    StructField(\"country\",StringType(), True),\n",
    "     StructField(\"address_created\",DateType(), True)\n",
    "])"
   ]
  },
  {
   "cell_type": "code",
   "execution_count": 41,
   "id": "7ee9e042-d1e8-4d04-b9cb-648e9352e3eb",
   "metadata": {},
   "outputs": [],
   "source": [
    "dataframe2 = spark.read.format(\"csv\").options(path=filepath,header=True,delimiter = \",\").schema(schema).load()"
   ]
  },
  {
   "cell_type": "code",
   "execution_count": 66,
   "id": "82a30cbe-560f-4c1d-8cd9-462ea1a59d16",
   "metadata": {},
   "outputs": [],
   "source": [
    "# dataframe2.printSchema()"
   ]
  },
  {
   "cell_type": "code",
   "execution_count": 67,
   "id": "a344fc13-8dd8-43e9-a597-afe5b282d0bd",
   "metadata": {},
   "outputs": [
    {
     "name": "stdout",
     "output_type": "stream",
     "text": [
      "+---+---------+----------+------+---------------+------------+------+-------+---------------+\n",
      "| id|user_name|    mobile|salary|user_created_at|        addr|  city|country|address_created|\n",
      "+---+---------+----------+------+---------------+------------+------+-------+---------------+\n",
      "|  1|   taukir|8010339935| 50000|     2023-11-17|    Richmond|   B.C| Canada|     2023-11-17|\n",
      "|  1|   taukir|8010339935| 50000|     2023-11-17|natesh puram|Meerut|  India|     2023-11-17|\n",
      "+---+---------+----------+------+---------------+------------+------+-------+---------------+\n",
      "only showing top 2 rows\n",
      "\n"
     ]
    }
   ],
   "source": [
    "dataframe2.show(2)"
   ]
  },
  {
   "cell_type": "markdown",
   "id": "d9123e96-15b5-4ad6-8072-c12feea7b0f9",
   "metadata": {},
   "source": [
    "# Select DataFrame Columns"
   ]
  },
  {
   "cell_type": "code",
   "execution_count": 51,
   "id": "bf0f2858-2995-48e2-a4ba-6d04ff600195",
   "metadata": {},
   "outputs": [],
   "source": [
    "from pyspark.sql import functions"
   ]
  },
  {
   "cell_type": "code",
   "execution_count": 70,
   "id": "38669555-159d-44ec-ac2f-a0870ebe8e24",
   "metadata": {},
   "outputs": [
    {
     "name": "stdout",
     "output_type": "stream",
     "text": [
      "+---------+----------+------+---------------+\n",
      "|user_name|    mobile|salary|user_created_at|\n",
      "+---------+----------+------+---------------+\n",
      "|   taukir|8010339935| 50000|     2023-11-17|\n",
      "|   taukir|8010339935| 50000|     2023-11-17|\n",
      "+---------+----------+------+---------------+\n",
      "only showing top 2 rows\n",
      "\n"
     ]
    }
   ],
   "source": [
    "dataframe.select(\"user_name\",dataframe.mobile,dataframe['salary'],functions.col('user_created_at')).show(2)\n",
    "# dataframe[['salary','mobile']].show(2)\n",
    "# dataframe.select(\"*\").show(2)\n",
    "# dataframe.select(dataframe.columns[0:3]).show(2)"
   ]
  },
  {
   "cell_type": "markdown",
   "id": "c67d4388-fa93-40f7-9278-745d8d9fba15",
   "metadata": {},
   "source": [
    "# withColumn"
   ]
  },
  {
   "cell_type": "code",
   "execution_count": 80,
   "id": "c86e287c-c4c1-4491-80d5-b9af39245f41",
   "metadata": {},
   "outputs": [
    {
     "name": "stdout",
     "output_type": "stream",
     "text": [
      "+---+---------+----------+------+---------------+------------+------+-------+---------------+----------+----------+\n",
      "| id|user_name|    mobile|salary|user_created_at|        addr|  city|country|address_created|user_name2|salary_inc|\n",
      "+---+---------+----------+------+---------------+------------+------+-------+---------------+----------+----------+\n",
      "|  1|   taukir|8010339935| 50000|     2023-11-17|    Richmond|   B.C|  INDIA|     2023-11-17|    taukir|    500000|\n",
      "|  1|   taukir|8010339935| 50000|     2023-11-17|natesh puram|Meerut|  INDIA|     2023-11-17|    taukir|    500000|\n",
      "|  2|     khan|8010223369| 40000|     2023-11-17|Khhan Market| Delhi|  INDIA|     2023-11-17|      khan|    400000|\n",
      "+---+---------+----------+------+---------------+------------+------+-------+---------------+----------+----------+\n",
      "only showing top 3 rows\n",
      "\n"
     ]
    }
   ],
   "source": [
    "dataframe.withColumn(\"user_name2\",functions.col('user_name')).\\\n",
    "withColumn(\"mobile\",functions.col('mobile').cast('long')).\\\n",
    "withColumn(\"salary_inc\",functions.col('salary') * 10).\\\n",
    "withColumn(\"country\",functions.lit('INDIA')).select(\"*\").show(3)"
   ]
  },
  {
   "cell_type": "markdown",
   "id": "9e133552-8ca6-468f-a333-336396e1b160",
   "metadata": {},
   "source": [
    "# withColumnRenamed"
   ]
  },
  {
   "cell_type": "code",
   "execution_count": 89,
   "id": "c37ad610-32c5-4a82-975b-7e4adae05c33",
   "metadata": {},
   "outputs": [
    {
     "name": "stdout",
     "output_type": "stream",
     "text": [
      "+---+---------+----------+------+---------------+------------+------+-------+---------------+\n",
      "| id|user_name|cell_phone|salary|user_created_at|        addr|  city|country|address_created|\n",
      "+---+---------+----------+------+---------------+------------+------+-------+---------------+\n",
      "|  1|   taukir|8010339935| 50000|     2023-11-17|    Richmond|   B.C| Canada|     2023-11-17|\n",
      "|  1|   taukir|8010339935| 50000|     2023-11-17|natesh puram|Meerut|  India|     2023-11-17|\n",
      "+---+---------+----------+------+---------------+------------+------+-------+---------------+\n",
      "only showing top 2 rows\n",
      "\n"
     ]
    }
   ],
   "source": [
    "dataframe.withColumnRenamed(\"mobile\",\"cell_phone\").\\\n",
    "withColumnRenamed(\"user_name2\",\"user_name\").show(2)"
   ]
  },
  {
   "cell_type": "code",
   "execution_count": 91,
   "id": "5a9e7034-4421-4639-8e1d-2b2dac9c8c8c",
   "metadata": {},
   "outputs": [
    {
     "name": "stdout",
     "output_type": "stream",
     "text": [
      "+---+---------+----------+------+---------------+------------+------+-------+---------------+\n",
      "| id|user_name|cell_phone|salary|user_created_at|        addr|  city|country|address_created|\n",
      "+---+---------+----------+------+---------------+------------+------+-------+---------------+\n",
      "|  1|   taukir|8010339935| 50000|     2023-11-17|    Richmond|   B.C| Canada|     2023-11-17|\n",
      "|  1|   taukir|8010339935| 50000|     2023-11-17|natesh puram|Meerut|  India|     2023-11-17|\n",
      "+---+---------+----------+------+---------------+------------+------+-------+---------------+\n",
      "only showing top 2 rows\n",
      "\n"
     ]
    }
   ],
   "source": [
    "dataframe.select(\"*\").withColumnRenamed(\"mobile\",\"cell_phone\").show(2)"
   ]
  },
  {
   "cell_type": "code",
   "execution_count": 93,
   "id": "7451bc11-5aa9-43fc-abec-5742238c0c7e",
   "metadata": {},
   "outputs": [
    {
     "name": "stdout",
     "output_type": "stream",
     "text": [
      "+---------+----------+\n",
      "|user_name|cell_phone|\n",
      "+---------+----------+\n",
      "|   taukir|8010339935|\n",
      "|   taukir|8010339935|\n",
      "+---------+----------+\n",
      "only showing top 2 rows\n",
      "\n"
     ]
    }
   ],
   "source": [
    "dataframe.select(\"user_name\",functions.col(\"mobile\").alias(\"cell_phone\")).show(2)"
   ]
  },
  {
   "cell_type": "markdown",
   "id": "525bc7f0-fc54-456d-9e63-d9596f8449b4",
   "metadata": {},
   "source": [
    "# Datafrme with Filter"
   ]
  },
  {
   "cell_type": "code",
   "execution_count": 118,
   "id": "f6060e1e-a9b5-42d9-b3a7-974b657bbd27",
   "metadata": {},
   "outputs": [
    {
     "name": "stdout",
     "output_type": "stream",
     "text": [
      "+---+---------+----------+------+---------------+--------+----+-------+---------------+\n",
      "| id|user_name|    mobile|salary|user_created_at|    addr|city|country|address_created|\n",
      "+---+---------+----------+------+---------------+--------+----+-------+---------------+\n",
      "|  1|   taukir|8010339935| 50000|     2023-11-17|Richmond| B.C| Canada|     2023-11-17|\n",
      "|  5|   zeenat|   1560489| 46000|     2023-11-17|Richmond| B.C| Canada|     2023-11-17|\n",
      "+---+---------+----------+------+---------------+--------+----+-------+---------------+\n",
      "only showing top 2 rows\n",
      "\n"
     ]
    }
   ],
   "source": [
    "# dataframe.filter(dataframe.country == 'India').show()\n",
    "# dataframe.filter((dataframe.country == 'India') & (dataframe.salary > 35000)).show(3)\n",
    "# dataframe.filter(dataframe.country.isin(['India','US'])).show(3)\n",
    "# dataframe.filter(dataframe.country.startswith('Ca')).show(2)\n",
    "# dataframe.filter(dataframe.country.endswith('ia')).show(2)\n",
    "# dataframe.filter(dataframe.country.contains('na')).show(2)\n",
    "dataframe.filter(dataframe.country.like('%na%')).show(2)"
   ]
  },
  {
   "cell_type": "code",
   "execution_count": 112,
   "id": "1f12fe0b-2069-4dc5-9fcd-1a179b77cb43",
   "metadata": {},
   "outputs": [
    {
     "name": "stdout",
     "output_type": "stream",
     "text": [
      "+---+---------+----------+------+---------------+--------+----+-------+---------------+\n",
      "| id|user_name|    mobile|salary|user_created_at|    addr|city|country|address_created|\n",
      "+---+---------+----------+------+---------------+--------+----+-------+---------------+\n",
      "|  1|   taukir|8010339935| 50000|     2023-11-17|Richmond| B.C| Canada|     2023-11-17|\n",
      "|  5|   zeenat|   1560489| 46000|     2023-11-17|Richmond| B.C| Canada|     2023-11-17|\n",
      "+---+---------+----------+------+---------------+--------+----+-------+---------------+\n",
      "only showing top 2 rows\n",
      "\n"
     ]
    }
   ],
   "source": [
    "dataframe.filter(dataframe.country.startswith('Ca')).show(2)"
   ]
  },
  {
   "cell_type": "code",
   "execution_count": null,
   "id": "d9ae3a92-8f7f-4840-b397-c8ba64ed0f75",
   "metadata": {},
   "outputs": [],
   "source": []
  }
 ],
 "metadata": {
  "kernelspec": {
   "display_name": "Python 3 (ipykernel)",
   "language": "python",
   "name": "python3"
  },
  "language_info": {
   "codemirror_mode": {
    "name": "ipython",
    "version": 3
   },
   "file_extension": ".py",
   "mimetype": "text/x-python",
   "name": "python",
   "nbconvert_exporter": "python",
   "pygments_lexer": "ipython3",
   "version": "3.10.4"
  }
 },
 "nbformat": 4,
 "nbformat_minor": 5
}
