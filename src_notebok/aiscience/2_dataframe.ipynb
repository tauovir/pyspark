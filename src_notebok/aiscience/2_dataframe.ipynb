{
 "cells": [
  {
   "cell_type": "code",
   "execution_count": 14,
   "id": "fde4c7cc-ea87-4d61-b19f-b03dbaf9dc2d",
   "metadata": {},
   "outputs": [],
   "source": [
    "from pyspark.sql import SparkSession"
   ]
  },
  {
   "cell_type": "code",
   "execution_count": 31,
   "id": "6dc58db8-8090-4534-8c6f-3c834651d25c",
   "metadata": {},
   "outputs": [],
   "source": [
    "from pyspark.sql import functions\n",
    "from pyspark.sql.types import IntegerType"
   ]
  },
  {
   "cell_type": "code",
   "execution_count": 16,
   "id": "17e8cc1a-ad82-4e3c-b9bd-9f1011500caa",
   "metadata": {},
   "outputs": [],
   "source": [
    "spark = SparkSession.builder.master(\"local[2]\").appName(\"DataSet\").getOrCreate()"
   ]
  },
  {
   "cell_type": "code",
   "execution_count": 17,
   "id": "8424fe2f-adce-4864-bc8d-577650419604",
   "metadata": {},
   "outputs": [],
   "source": [
    "filepath = \"../../data/users_data.csv\"\n",
    "dataframe = spark.read.format(\"csv\").options(path=filepath,header=True,inferSchema = True,delimiter = \",\").load()"
   ]
  },
  {
   "cell_type": "code",
   "execution_count": 18,
   "id": "d981f48c-84fc-4bd9-b2d9-4c755f435c6c",
   "metadata": {},
   "outputs": [
    {
     "name": "stdout",
     "output_type": "stream",
     "text": [
      "+---+---------+----------+------+-----+---------------+------------+------------+-------+---------------+\n",
      "| id|user_name|    mobile|salary|bonus|user_created_at|        addr|        city|country|address_created|\n",
      "+---+---------+----------+------+-----+---------------+------------+------------+-------+---------------+\n",
      "|  1|   taukir|8010339935| 50000|10000|     17-11-2023|    Richmond|         B.C| Canada|     17-11-2023|\n",
      "|  1|   taukir|8010339935| 50000|12000|     17-11-2023|natesh puram|      Meerut|  India|     17-11-2023|\n",
      "|  2|     khan|8010223369| 40000|15000|     17-11-2023|Khhan Market|       Delhi|  India|     17-11-2023|\n",
      "|  3|      Sab|  96301452| 35000|10000|     17-11-2023|Sadar Market|      Kanpur|  India|     17-11-2023|\n",
      "|  4|      sam| 963201458| 25061|12000|     17-11-2023|   Street 16|Los angeles |     US|     17-11-2023|\n",
      "|  5|   zeenat|   1560489| 46000| 5000|     17-11-2023|    Richmond|         B.C| Canada|     17-11-2023|\n",
      "|  5|   zeenat|   1560489| 46000| 7000|     17-11-2023|     Jaunpur|Jaunpur city|  India|     17-11-2023|\n",
      "+---+---------+----------+------+-----+---------------+------------+------------+-------+---------------+\n",
      "\n"
     ]
    }
   ],
   "source": [
    "dataframe.show()"
   ]
  },
  {
   "cell_type": "markdown",
   "id": "d3a10858-c0ff-4a5a-9beb-54b537eeb148",
   "metadata": {},
   "source": [
    "## Count"
   ]
  },
  {
   "cell_type": "code",
   "execution_count": 6,
   "id": "fac7aefe-29ff-44fa-a41d-a7700037640e",
   "metadata": {},
   "outputs": [],
   "source": [
    "# dataframe.count()\n",
    "# dataframe.filter(dataframe.country == 'India').count()"
   ]
  },
  {
   "cell_type": "markdown",
   "id": "2300f025-2fc6-4931-a1ff-1034ad6a6c34",
   "metadata": {},
   "source": [
    "# Distinct"
   ]
  },
  {
   "cell_type": "code",
   "execution_count": 19,
   "id": "e8ee7601-ac12-41a1-8d55-47e7bb650520",
   "metadata": {},
   "outputs": [
    {
     "data": {
      "text/plain": [
       "7"
      ]
     },
     "execution_count": 19,
     "metadata": {},
     "output_type": "execute_result"
    }
   ],
   "source": [
    "dataframe.distinct().count()"
   ]
  },
  {
   "cell_type": "markdown",
   "id": "9dd0ee77-fe92-42a7-8749-a04ddd1c2611",
   "metadata": {},
   "source": [
    "# Drop Duplicate"
   ]
  },
  {
   "cell_type": "code",
   "execution_count": 20,
   "id": "c40c277f-9f60-4237-98c4-c2b803752257",
   "metadata": {},
   "outputs": [
    {
     "name": "stdout",
     "output_type": "stream",
     "text": [
      "+---+---------+----------+------+-----+---------------+------------+------+-------+---------------+\n",
      "| id|user_name|    mobile|salary|bonus|user_created_at|        addr|  city|country|address_created|\n",
      "+---+---------+----------+------+-----+---------------+------------+------+-------+---------------+\n",
      "|  1|   taukir|8010339935| 50000|12000|     17-11-2023|natesh puram|Meerut|  India|     17-11-2023|\n",
      "|  1|   taukir|8010339935| 50000|10000|     17-11-2023|    Richmond|   B.C| Canada|     17-11-2023|\n",
      "+---+---------+----------+------+-----+---------------+------------+------+-------+---------------+\n",
      "only showing top 2 rows\n",
      "\n"
     ]
    }
   ],
   "source": [
    "dataframe.dropDuplicates().orderBy('id').show(2)"
   ]
  },
  {
   "cell_type": "markdown",
   "id": "12c671d2-719d-472a-a8ed-248b34dbef17",
   "metadata": {},
   "source": [
    "# Sorting/OrderBy"
   ]
  },
  {
   "cell_type": "code",
   "execution_count": 21,
   "id": "fea324ca-90fe-44d3-80ee-e3dd1db33293",
   "metadata": {},
   "outputs": [
    {
     "name": "stdout",
     "output_type": "stream",
     "text": [
      "+---+---------+----------+------+-----+---------------+------------+------+-------+---------------+\n",
      "| id|user_name|    mobile|salary|bonus|user_created_at|        addr|  city|country|address_created|\n",
      "+---+---------+----------+------+-----+---------------+------------+------+-------+---------------+\n",
      "|  1|   taukir|8010339935| 50000|10000|     17-11-2023|    Richmond|   B.C| Canada|     17-11-2023|\n",
      "|  1|   taukir|8010339935| 50000|12000|     17-11-2023|natesh puram|Meerut|  India|     17-11-2023|\n",
      "+---+---------+----------+------+-----+---------------+------------+------+-------+---------------+\n",
      "only showing top 2 rows\n",
      "\n"
     ]
    }
   ],
   "source": [
    "# dataframe.sort(dataframe.salary).show()\n",
    "# dataframe.sort(dataframe.id,dataframe.salary).show()\n",
    "# dataframe.sort(dataframe.country).show()\n",
    "dataframe.sort(dataframe.id.asc(),dataframe.salary.desc()).show(2)"
   ]
  },
  {
   "cell_type": "code",
   "execution_count": 10,
   "id": "7e37f697-9dc1-46ff-9146-f799311fe55d",
   "metadata": {},
   "outputs": [
    {
     "name": "stdout",
     "output_type": "stream",
     "text": [
      "+---+---------+----------+------+---------------+----------+--------+-------+---------------+\n",
      "| id|user_name|    mobile|salary|user_created_at|      addr|    city|country|address_created|\n",
      "+---+---------+----------+------+---------------+----------+--------+-------+---------------+\n",
      "|  1|   taukir|8010339935| 50000|     2023-11-17|  Richmond|     B.C| Canada|     2023-11-17|\n",
      "|  1|   taukir|8010339935| 50000|          10000|17-11-2023|Richmond|    B.C|         Canada|\n",
      "+---+---------+----------+------+---------------+----------+--------+-------+---------------+\n",
      "only showing top 2 rows\n",
      "\n"
     ]
    }
   ],
   "source": [
    "dataframe.orderBy(dataframe.id.asc(),dataframe.salary.desc()).show(2)"
   ]
  },
  {
   "cell_type": "markdown",
   "id": "ef48542e-e6af-4229-b158-b198c941fc78",
   "metadata": {},
   "source": [
    "# GroupBy"
   ]
  },
  {
   "cell_type": "code",
   "execution_count": 11,
   "id": "37dfda6b-315c-4df8-ac3a-bfc60f26fa16",
   "metadata": {},
   "outputs": [
    {
     "name": "stdout",
     "output_type": "stream",
     "text": [
      "+---+---------+----------+------+---------------+------------+------+-------+---------------+\n",
      "| id|user_name|    mobile|salary|user_created_at|        addr|  city|country|address_created|\n",
      "+---+---------+----------+------+---------------+------------+------+-------+---------------+\n",
      "|  1|   taukir|8010339935| 50000|     2023-11-17|    Richmond|   B.C| Canada|     2023-11-17|\n",
      "|  1|   taukir|8010339935| 50000|     2023-11-17|natesh puram|Meerut|  India|     2023-11-17|\n",
      "|  2|     khan|8010223369| 40000|     2023-11-17|Khhan Market| Delhi|  India|     2023-11-17|\n",
      "+---+---------+----------+------+---------------+------------+------+-------+---------------+\n",
      "only showing top 3 rows\n",
      "\n"
     ]
    }
   ],
   "source": [
    "dataframe.show(3)"
   ]
  },
  {
   "cell_type": "code",
   "execution_count": 22,
   "id": "a633bb97-eec6-49d0-9023-e3dad2601b1c",
   "metadata": {},
   "outputs": [
    {
     "name": "stdout",
     "output_type": "stream",
     "text": [
      "+-------+-----------+\n",
      "|country|avg(salary)|\n",
      "+-------+-----------+\n",
      "|  India|    42750.0|\n",
      "|     US|    25061.0|\n",
      "| Canada|    48000.0|\n",
      "+-------+-----------+\n",
      "\n"
     ]
    }
   ],
   "source": [
    "# dataframe.groupBy('country').count().show()\n",
    "# dataframe.groupBy('country').sum('salary').show()\n",
    "# dataframe.groupBy('country').max('salary').show()\n",
    "# dataframe.groupBy('country').min('salary').show()\n",
    "dataframe.groupBy('country').avg('salary').show()"
   ]
  },
  {
   "cell_type": "code",
   "execution_count": 23,
   "id": "b19a7925-07af-4b91-a192-631e24e15a36",
   "metadata": {},
   "outputs": [
    {
     "name": "stdout",
     "output_type": "stream",
     "text": [
      "+-------+---+-----------+-------+-------+----------+\n",
      "|country| id|total_count|sum_sal|max_sal|   max_sal|\n",
      "+-------+---+-----------+-------+-------+----------+\n",
      "|  India|  2|          1|  40000|  40000|8010263369|\n",
      "|     US|  4|          1|  25061|  25061| 963226519|\n",
      "| Canada|  5|          1|  46000|  46000|   1606489|\n",
      "|  India|  3|          1|  35000|  35000|  96336452|\n",
      "|  India|  5|          1|  46000|  46000|   1606489|\n",
      "|  India|  1|          1|  50000|  50000|8010389935|\n",
      "| Canada|  1|          1|  50000|  50000|8010389935|\n",
      "+-------+---+-----------+-------+-------+----------+\n",
      "\n"
     ]
    }
   ],
   "source": [
    "dataframe.groupBy('country','id').agg(\n",
    "    functions.count(\"*\").alias(\"total_count\"),\n",
    "    functions.sum(\"salary\").alias(\"sum_sal\"),\n",
    "    functions.max(\"salary\").alias(\"max_sal\"),\n",
    "    functions.sum(functions.expr(\"salary + mobile\" )).alias(\"max_sal\")\n",
    ").show()"
   ]
  },
  {
   "cell_type": "code",
   "execution_count": 54,
   "id": "b656d5d9-eff8-4cc4-871a-c725f4d332d5",
   "metadata": {},
   "outputs": [
    {
     "name": "stdout",
     "output_type": "stream",
     "text": [
      "+-------+---+\n",
      "|country|cnt|\n",
      "+-------+---+\n",
      "|  India|  4|\n",
      "+-------+---+\n",
      "\n"
     ]
    }
   ],
   "source": [
    "# dataframe.filter(dataframe.salary > 30000).groupBy('country').agg(functions.count(\"*\").alias(\"cnt\")).show()\n",
    "# dataframe.filter(dataframe.salary > 30000).groupBy('country').agg(\n",
    "#     functions.count(\"*\").alias(\"cnt\")).where(dataframe.cnt > 4).show() # we get Error as cnd not attribute\n",
    "\n",
    "dataframe.filter(dataframe.salary > 30000).groupBy('country').agg(\n",
    "    functions.count(\"*\").alias(\"cnt\")).where(functions.col('cnt') > 2).show()  # it will work with col as it is within context"
   ]
  },
  {
   "cell_type": "markdown",
   "id": "ddf2d6d7-f65a-451a-a335-7ef408fb9362",
   "metadata": {},
   "source": [
    "## UDF"
   ]
  },
  {
   "cell_type": "code",
   "execution_count": 35,
   "id": "b53a37ab-b768-4280-92d3-2633abe04043",
   "metadata": {},
   "outputs": [],
   "source": [
    "def total_salary(salary, bonus):\n",
    "    return (salary + bonus)\n",
    "total_salary_udf = functions.udf(lambda x,y:total_salary(x,y), IntegerType())"
   ]
  },
  {
   "cell_type": "code",
   "execution_count": 37,
   "id": "72ab4d16-9c81-4ed4-ab2a-8514ff5304e4",
   "metadata": {},
   "outputs": [],
   "source": [
    "dataframe2 = dataframe.withColumn(\"total_salary\",total_salary_udf(dataframe.salary,dataframe.bonus))"
   ]
  },
  {
   "cell_type": "code",
   "execution_count": 39,
   "id": "1c11b947-2933-4db5-bc2d-85076e9e7dfc",
   "metadata": {},
   "outputs": [
    {
     "name": "stdout",
     "output_type": "stream",
     "text": [
      "+---+---------+----------+------+-----+---------------+------------+------+-------+---------------+------------+\n",
      "| id|user_name|    mobile|salary|bonus|user_created_at|        addr|  city|country|address_created|total_salary|\n",
      "+---+---------+----------+------+-----+---------------+------------+------+-------+---------------+------------+\n",
      "|  1|   taukir|8010339935| 50000|10000|     17-11-2023|    Richmond|   B.C| Canada|     17-11-2023|       60000|\n",
      "|  1|   taukir|8010339935| 50000|12000|     17-11-2023|natesh puram|Meerut|  India|     17-11-2023|       62000|\n",
      "|  2|     khan|8010223369| 40000|15000|     17-11-2023|Khhan Market| Delhi|  India|     17-11-2023|       55000|\n",
      "+---+---------+----------+------+-----+---------------+------------+------+-------+---------------+------------+\n",
      "only showing top 3 rows\n",
      "\n"
     ]
    }
   ],
   "source": [
    "dataframe2.show(3)"
   ]
  },
  {
   "cell_type": "code",
   "execution_count": 44,
   "id": "43a0d076-ddb8-4cf9-b64c-4c26bb852db3",
   "metadata": {},
   "outputs": [
    {
     "name": "stdout",
     "output_type": "stream",
     "text": [
      "+---+---------+----------+------+-----+---------------+------------+------+-------+---------------+------------+\n",
      "| id|user_name|    mobile|salary|bonus|user_created_at|        addr|  city|country|address_created|total_salary|\n",
      "+---+---------+----------+------+-----+---------------+------------+------+-------+---------------+------------+\n",
      "|  1|   taukir|8010339935| 50000|10000|     17-11-2023|    Richmond|   B.C| Canada|     17-11-2023|       60000|\n",
      "|  1|   taukir|8010339935| 50000|12000|     17-11-2023|natesh puram|Meerut|  India|     17-11-2023|       62000|\n",
      "|  2|     khan|8010223369| 40000|15000|     17-11-2023|Khhan Market| Delhi|  India|     17-11-2023|       55000|\n",
      "+---+---------+----------+------+-----+---------------+------------+------+-------+---------------+------------+\n",
      "only showing top 3 rows\n",
      "\n"
     ]
    }
   ],
   "source": [
    "## Second Appraoch\n",
    "dataframe.withColumn(\"total_salary\",functions.expr(\"salary + bonus\" )).show(3)"
   ]
  },
  {
   "cell_type": "markdown",
   "id": "577fbbe2-4a92-4ffe-b208-6a6923866cde",
   "metadata": {},
   "source": [
    "## Cache"
   ]
  },
  {
   "cell_type": "code",
   "execution_count": 55,
   "id": "cdf77699-3d85-4330-aace-2262d1c45b1e",
   "metadata": {},
   "outputs": [],
   "source": [
    "df2 = dataframe.filter(dataframe.salary > 30000).groupBy('country').agg(functions.count(\"*\").alias(\"cnt\"))\n",
    "# where(functions.col('cnt') > 2).show()"
   ]
  },
  {
   "cell_type": "code",
   "execution_count": 56,
   "id": "f4709fa6-9fe0-4e61-952f-8f5b93f3b32a",
   "metadata": {},
   "outputs": [
    {
     "data": {
      "text/plain": [
       "DataFrame[country: string, cnt: bigint]"
      ]
     },
     "execution_count": 56,
     "metadata": {},
     "output_type": "execute_result"
    }
   ],
   "source": [
    "df2.cache()"
   ]
  },
  {
   "cell_type": "code",
   "execution_count": 57,
   "id": "96900e35-97d8-430f-aa62-d4bfc3559190",
   "metadata": {},
   "outputs": [
    {
     "name": "stdout",
     "output_type": "stream",
     "text": [
      "+-------+---+\n",
      "|country|cnt|\n",
      "+-------+---+\n",
      "|  India|  4|\n",
      "+-------+---+\n",
      "\n"
     ]
    }
   ],
   "source": [
    "df2.where(functions.col('cnt') > 2).show()"
   ]
  }
 ],
 "metadata": {
  "kernelspec": {
   "display_name": "Python 3 (ipykernel)",
   "language": "python",
   "name": "python3"
  },
  "language_info": {
   "codemirror_mode": {
    "name": "ipython",
    "version": 3
   },
   "file_extension": ".py",
   "mimetype": "text/x-python",
   "name": "python",
   "nbconvert_exporter": "python",
   "pygments_lexer": "ipython3",
   "version": "3.10.4"
  }
 },
 "nbformat": 4,
 "nbformat_minor": 5
}
