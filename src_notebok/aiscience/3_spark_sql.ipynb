{
 "cells": [
  {
   "cell_type": "code",
   "execution_count": 1,
   "id": "035e8181-920d-48fe-96ed-0eb58373952b",
   "metadata": {},
   "outputs": [],
   "source": [
    "from pyspark.sql import SparkSession\n",
    "from pyspark.sql import functions\n",
    "from pyspark.sql.types import IntegerType"
   ]
  },
  {
   "cell_type": "code",
   "execution_count": 2,
   "id": "76ec43d7-98aa-45fc-beaa-15ccb56e3c7e",
   "metadata": {},
   "outputs": [],
   "source": [
    "spark = SparkSession.builder.master(\"local[2]\").appName(\"DataSet\").getOrCreate()"
   ]
  },
  {
   "cell_type": "code",
   "execution_count": 4,
   "id": "420ffa6f-8879-48af-982e-5f90e7497d40",
   "metadata": {},
   "outputs": [],
   "source": [
    "filepath = \"../../data/users_data.csv\"\n",
    "dataframe = spark.read.format(\"csv\").options(path=filepath,header=True,inferSchema = True,delimiter = \",\").load()"
   ]
  },
  {
   "cell_type": "code",
   "execution_count": 6,
   "id": "6f7093d2-50c2-4104-9321-f9b5224532d8",
   "metadata": {},
   "outputs": [
    {
     "name": "stdout",
     "output_type": "stream",
     "text": [
      "+---+---------+----------+------+-----+---------------+------------+------------+-------+---------------+\n",
      "| id|user_name|    mobile|salary|bonus|user_created_at|        addr|        city|country|address_created|\n",
      "+---+---------+----------+------+-----+---------------+------------+------------+-------+---------------+\n",
      "|  1|   taukir|8010339935| 50000|10000|     17-11-2023|    Richmond|         B.C| Canada|     17-11-2023|\n",
      "|  1|   taukir|8010339935| 50000|12000|     17-11-2023|natesh puram|      Meerut|  India|     17-11-2023|\n",
      "|  2|     khan|8010223369| 40000|15000|     17-11-2023|Khhan Market|       Delhi|  India|     17-11-2023|\n",
      "|  3|      Sab|  96301452| 35000|10000|     17-11-2023|Sadar Market|      Kanpur|  India|     17-11-2023|\n",
      "|  4|      sam| 963201458| 25061|12000|     17-11-2023|   Street 16|Los angeles |     US|     17-11-2023|\n",
      "|  5|   zeenat|   1560489| 46000| 5000|     17-11-2023|    Richmond|         B.C| Canada|     17-11-2023|\n",
      "|  5|   zeenat|   1560489| 46000| 7000|     17-11-2023|     Jaunpur|Jaunpur city|  India|     17-11-2023|\n",
      "+---+---------+----------+------+-----+---------------+------------+------------+-------+---------------+\n",
      "\n"
     ]
    }
   ],
   "source": [
    "dataframe.show()"
   ]
  },
  {
   "cell_type": "code",
   "execution_count": 7,
   "id": "0f1e49e0-04c7-43e2-afd8-550e957c517c",
   "metadata": {},
   "outputs": [],
   "source": [
    "dataframe.createOrReplaceTempView(\"user_data\")"
   ]
  },
  {
   "cell_type": "code",
   "execution_count": 10,
   "id": "e3d098b5-5bab-47a8-b53f-f78fbc1f7bcb",
   "metadata": {},
   "outputs": [
    {
     "name": "stdout",
     "output_type": "stream",
     "text": [
      "+---------+------+\n",
      "|user_name|salary|\n",
      "+---------+------+\n",
      "|   taukir| 60000|\n",
      "|   taukir| 62000|\n",
      "|     khan| 55000|\n",
      "|      Sab| 45000|\n",
      "|      sam| 37061|\n",
      "|   zeenat| 51000|\n",
      "|   zeenat| 53000|\n",
      "+---------+------+\n",
      "\n"
     ]
    }
   ],
   "source": [
    "spark.sql(\"select user_name,(salary + bonus) as salary from user_data \").show()"
   ]
  }
 ],
 "metadata": {
  "kernelspec": {
   "display_name": "Python 3 (ipykernel)",
   "language": "python",
   "name": "python3"
  },
  "language_info": {
   "codemirror_mode": {
    "name": "ipython",
    "version": 3
   },
   "file_extension": ".py",
   "mimetype": "text/x-python",
   "name": "python",
   "nbconvert_exporter": "python",
   "pygments_lexer": "ipython3",
   "version": "3.10.4"
  }
 },
 "nbformat": 4,
 "nbformat_minor": 5
}
