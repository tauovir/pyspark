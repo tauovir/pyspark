{
 "cells": [
  {
   "cell_type": "code",
   "execution_count": 1,
   "id": "7d3bd997",
   "metadata": {},
   "outputs": [],
   "source": [
    "from pyspark.sql import SparkSession\n",
    "from pyspark.sql import functions as FS\n",
    "limit = 5"
   ]
  },
  {
   "cell_type": "code",
   "execution_count": 2,
   "id": "19d3ff14",
   "metadata": {},
   "outputs": [],
   "source": [
    "spark = SparkSession.builder.master(\"local[2]\").appName(\"Load source\").getOrCreate()"
   ]
  },
  {
   "cell_type": "code",
   "execution_count": 3,
   "id": "c5749fad",
   "metadata": {},
   "outputs": [
    {
     "data": {
      "text/html": [
       "\n",
       "            <div>\n",
       "                <p><b>SparkSession - in-memory</b></p>\n",
       "                \n",
       "        <div>\n",
       "            <p><b>SparkContext</b></p>\n",
       "\n",
       "            <p><a href=\"http://DESKTOP-EPOU8CU:4040\">Spark UI</a></p>\n",
       "\n",
       "            <dl>\n",
       "              <dt>Version</dt>\n",
       "                <dd><code>v3.5.0</code></dd>\n",
       "              <dt>Master</dt>\n",
       "                <dd><code>local[2]</code></dd>\n",
       "              <dt>AppName</dt>\n",
       "                <dd><code>Load source</code></dd>\n",
       "            </dl>\n",
       "        </div>\n",
       "        \n",
       "            </div>\n",
       "        "
      ],
      "text/plain": [
       "<pyspark.sql.session.SparkSession at 0x246ffdbcdc0>"
      ]
     },
     "execution_count": 3,
     "metadata": {},
     "output_type": "execute_result"
    }
   ],
   "source": [
    "spark"
   ]
  },
  {
   "cell_type": "markdown",
   "id": "43262bae",
   "metadata": {},
   "source": [
    "#### Postgres Driver Configuration\n",
    "Note: postgresql-42.7.0.jar require in spark jar forlder"
   ]
  },
  {
   "cell_type": "code",
   "execution_count": 4,
   "id": "ddf89e7a",
   "metadata": {},
   "outputs": [],
   "source": [
    "url = \"jdbc:postgresql://localhost:5432/glue_db\"\n",
    "format = \"jdbc\"\n",
    "driver = \"org.postgresql.Driver\"\n",
    "user = \"postgres\"\n",
    "password = \"khan102030\""
   ]
  },
  {
   "cell_type": "code",
   "execution_count": 5,
   "id": "462b062b",
   "metadata": {},
   "outputs": [],
   "source": [
    "filepath = '../../data/hudsonu-product/'"
   ]
  },
  {
   "cell_type": "markdown",
   "id": "21e66397",
   "metadata": {},
   "source": [
    "### Read customer data"
   ]
  },
  {
   "cell_type": "code",
   "execution_count": 93,
   "id": "d9cd991d",
   "metadata": {},
   "outputs": [
    {
     "name": "stdout",
     "output_type": "stream",
     "text": [
      "+-----------+----------+---------+--------------------+--------------+-----+-----+--------------------+------------+\n",
      "|customer_id|first_name|last_name|             address|          city|state|  zip|               email|       phone|\n",
      "+-----------+----------+---------+--------------------+--------------+-----+-----+--------------------+------------+\n",
      "|      49983|  Casandra|   Jarvis|     2 Forster Court|Virginia Beach|   VA|23471|cjarvis6h@nature.com|757-301-5085|\n",
      "|      13518|   Jilleen|  Downage|02047 Holmberg Ci...|      Waterloo|   IA|50706|  jdownage22@nps.gov|319-104-1110|\n",
      "|      56390|     Codie| Schrader|  6365 Nelson Street|       Houston|   TX|77245|cschrader7y@seesa...|713-814-7694|\n",
      "|      56705|  Stillman|Colegrove|87 Independence P...|        Denver|   CO|80243|scolegrovegn@nyma...|303-584-3866|\n",
      "|      11489|  Jillayne|      Aim| 77998 Vermont Trail|    Santa Cruz|   CA|95064|      jaimr6@nba.com|831-594-6353|\n",
      "+-----------+----------+---------+--------------------+--------------+-----+-----+--------------------+------------+\n",
      "only showing top 5 rows\n",
      "\n"
     ]
    }
   ],
   "source": [
    "customer = spark.read.format(\"csv\").\\\n",
    "options(path=filepath + 'Customer.csv',header=True,inferSchema = True,delimiter = \",\").load().repartition(3)\n",
    "# df = spark.read.csv(filepath + 'Customer.csv', header=True).repartition(3)\n",
    "customer.show(limit)"
   ]
  },
  {
   "cell_type": "code",
   "execution_count": 96,
   "id": "5c90056e",
   "metadata": {},
   "outputs": [
    {
     "data": {
      "text/plain": [
       "3"
      ]
     },
     "execution_count": 96,
     "metadata": {},
     "output_type": "execute_result"
    }
   ],
   "source": [
    "customer.rdd.getNumPartitions()"
   ]
  },
  {
   "cell_type": "markdown",
   "id": "c770486e",
   "metadata": {},
   "source": [
    "### Write customer data to postgres"
   ]
  },
  {
   "cell_type": "code",
   "execution_count": 97,
   "id": "f4ae2acc",
   "metadata": {},
   "outputs": [],
   "source": [
    "customer.select(\"*\").write.format(format).option(\"url\", url).\\\n",
    "option(\"driver\", driver).option(\"dbtable\", 'customer').\\\n",
    "option(\"user\", user).option(\"password\", password).save()\n"
   ]
  },
  {
   "cell_type": "code",
   "execution_count": 13,
   "id": "282cf97f",
   "metadata": {},
   "outputs": [],
   "source": [
    "### Read NetSale data"
   ]
  },
  {
   "cell_type": "code",
   "execution_count": 11,
   "id": "e7fe8a48",
   "metadata": {},
   "outputs": [
    {
     "name": "stdout",
     "output_type": "stream",
     "text": [
      "+----------+---------------+-----------+--------+-----+------+\n",
      "|netsale_id|      sale_time|customer_id|shipping|  tax| total|\n",
      "+----------+---------------+-----------+--------+-----+------+\n",
      "|  10531095| 1/1/21 1:03 AM|      13467|   16.36| 4.91|103.07|\n",
      "|  10531270| 1/1/21 9:19 AM|      19177|     0.0|10.57|194.37|\n",
      "|  10531551|1/1/21 10:55 AM|      55122|   13.99| 5.07| 89.01|\n",
      "|  10531593|1/1/21 11:10 AM|      22113|     0.0|14.11|239.81|\n",
      "|  10531612|1/1/21 11:15 AM|      22793|     5.0| 0.72| 20.17|\n",
      "+----------+---------------+-----------+--------+-----+------+\n",
      "only showing top 5 rows\n",
      "\n"
     ]
    }
   ],
   "source": [
    "netsale = spark.read.format(\"csv\").\\\n",
    "options(path=filepath + 'Netsale.csv',header=True,inferSchema = True,delimiter = \",\").load()\n",
    "netsale.show(limit)"
   ]
  },
  {
   "cell_type": "code",
   "execution_count": 19,
   "id": "7c59500f",
   "metadata": {},
   "outputs": [],
   "source": [
    "netsale_df = netsale.drop(\"total\")"
   ]
  },
  {
   "cell_type": "code",
   "execution_count": 20,
   "id": "0e36dbd7",
   "metadata": {},
   "outputs": [
    {
     "name": "stdout",
     "output_type": "stream",
     "text": [
      "+----------+--------------+-----------+--------+-----+\n",
      "|netsale_id|     sale_time|customer_id|shipping|  tax|\n",
      "+----------+--------------+-----------+--------+-----+\n",
      "|  10531095|1/1/21 1:03 AM|      13467|   16.36| 4.91|\n",
      "|  10531270|1/1/21 9:19 AM|      19177|     0.0|10.57|\n",
      "+----------+--------------+-----------+--------+-----+\n",
      "only showing top 2 rows\n",
      "\n"
     ]
    }
   ],
   "source": [
    "netsale_df.show(2)"
   ]
  },
  {
   "cell_type": "markdown",
   "id": "843858b4",
   "metadata": {},
   "source": [
    "### Write netsale to Postgres"
   ]
  },
  {
   "cell_type": "code",
   "execution_count": 21,
   "id": "da8c9631",
   "metadata": {},
   "outputs": [],
   "source": [
    "# netsale_df.select(\"*\").write.format(format).option(\"url\", url).\\\n",
    "# option(\"driver\", driver).option(\"dbtable\", 'netsale').\\\n",
    "# option(\"user\", user).option(\"password\", password).save()"
   ]
  },
  {
   "cell_type": "markdown",
   "id": "0e8cd506",
   "metadata": {},
   "source": [
    "### Read netsale_line "
   ]
  },
  {
   "cell_type": "code",
   "execution_count": 22,
   "id": "2df93d26",
   "metadata": {},
   "outputs": [
    {
     "name": "stdout",
     "output_type": "stream",
     "text": [
      "+----------+----------+-----+---+-----+\n",
      "|netsale_id|product_id|price|qty| size|\n",
      "+----------+----------+-----+---+-----+\n",
      "|  10531095|  75361262|14.55|  3| NULL|\n",
      "|  10531095|  78150032|10.85|  3| NULL|\n",
      "|  10531095|  87404608| 56.4|  7|Large|\n",
      "|  10533233|  74183131| 27.3|  1| NULL|\n",
      "|  10533250|  77024694| 10.9|  4| NULL|\n",
      "+----------+----------+-----+---+-----+\n",
      "only showing top 5 rows\n",
      "\n"
     ]
    }
   ],
   "source": [
    "netsale_line = spark.read.format(\"csv\").\\\n",
    "options(path=filepath + 'Netsale_Line.csv',header=True,inferSchema = True,delimiter = \",\").load()\n",
    "netsale_line.show(limit)"
   ]
  },
  {
   "cell_type": "markdown",
   "id": "ff406954",
   "metadata": {},
   "source": [
    "### Write netsale_line to Postgres"
   ]
  },
  {
   "cell_type": "code",
   "execution_count": 23,
   "id": "d014478f",
   "metadata": {},
   "outputs": [],
   "source": [
    "# netsale_line.select(\"*\").write.format(format).option(\"url\", url).\\\n",
    "# option(\"driver\", driver).option(\"dbtable\", 'netsale_line').\\\n",
    "# option(\"user\", user).option(\"password\", password).save()"
   ]
  },
  {
   "cell_type": "code",
   "execution_count": 14,
   "id": "28696931",
   "metadata": {},
   "outputs": [],
   "source": [
    "# df = netsale_line.join(netsale,netsale_line.netsale_id == netsale.netsale_id,\"inner\").\\\n",
    "# select(netsale.netsale_id,netsale.customer_id,netsale.sale_time,\n",
    "#        netsale.shipping,netsale.tax,netsale.total,\n",
    "#        netsale_line.product_id,\n",
    "#        netsale_line.price,netsale_line.qty)"
   ]
  },
  {
   "cell_type": "markdown",
   "id": "90243d77",
   "metadata": {},
   "source": [
    "### Read Product"
   ]
  },
  {
   "cell_type": "code",
   "execution_count": 30,
   "id": "83441305",
   "metadata": {},
   "outputs": [
    {
     "name": "stdout",
     "output_type": "stream",
     "text": [
      "+----------+--------------------+--------+------------------+--------------------+----------+--------------------+--------+--------------------+--------------------+-----------+------------------------+--------------------+-----------+----------------+-------------+\n",
      "|product_id|                name|in_store|embellishment_type|              fabric|       fit|        graphic_type|  origin|         season_code|              vendor| color_code|single_sku_catalog_entry|             catalog|   category|     subcategory|current_price|\n",
      "+----------+--------------------+--------+------------------+--------------------+----------+--------------------+--------+--------------------+--------------------+-----------+------------------------+--------------------+-----------+----------------+-------------+\n",
      "|  13029606|White ^un^ Coache...|    true|  Embroidered/Sewn|97% Polyester/3% ...|      NULL|            SIDELINE|Imported|                Fall|              Adidas|      White|               103000000|Clothing & Access...|        Men|            Hats|         28.0|\n",
      "|  13194142|^color^ ^un^ Ampl...|    true|      Screen Print|         100% Cotton|      NULL|            SIDELINE|Imported|                Fall|              Adidas|    ^color^|                    NULL|Clothing & Access...|        Men|T-Shirts & Tanks|         25.0|\n",
      "|  13547940|^un^ Youth Girls'...|    true|      Screen Print|51% Cotton/49% Po...|     Youth|Trend/Fashion Gra...|Imported|  Basic Non-Seasonal|     Wes & Willy LLC|       NULL|                    NULL|Clothing & Access...|       Kids|           Youth|         26.0|\n",
      "|  15262883|Fan Brander Black...|   false|              NULL|                NULL|      NULL|                NULL|    NULL|DSV Direct Ship f...|Branded Logistics...|       NULL|               100000000|         Electronics|Cell Phones|     Phone Cases|        29.99|\n",
      "|  15281446|Black/White ^un^ ...|    true|      Screen Print|      100% Polyester|Activewear|            SIDELINE|Imported|                Fall|              Adidas|Black/White|                    NULL|Clothing & Access...|      Women|       Outerwear|         70.0|\n",
      "+----------+--------------------+--------+------------------+--------------------+----------+--------------------+--------+--------------------+--------------------+-----------+------------------------+--------------------+-----------+----------------+-------------+\n",
      "only showing top 5 rows\n",
      "\n"
     ]
    }
   ],
   "source": [
    "product = spark.read.format(\"csv\").\\\n",
    "options(path=filepath + 'Product.csv',header=True,inferSchema = True,delimiter = \",\").load()\n",
    "product.show(limit,True)"
   ]
  },
  {
   "cell_type": "code",
   "execution_count": 60,
   "id": "7f4903ce",
   "metadata": {},
   "outputs": [
    {
     "data": {
      "text/plain": [
       "['product_id', 'name', 'in_store', 'embellishment_type', 'fabric']"
      ]
     },
     "execution_count": 60,
     "metadata": {},
     "output_type": "execute_result"
    }
   ],
   "source": [
    "product.columns[:5]"
   ]
  },
  {
   "cell_type": "code",
   "execution_count": 62,
   "id": "29ff8922",
   "metadata": {},
   "outputs": [],
   "source": [
    "product_df =product.withColumn('discount',FS.lit(10)).\\\n",
    "withColumnRenamed('current_price',\"mrp\").\\\n",
    "withColumn('sale_price',(FS.col('mrp') * (100 - FS.col('discount'))) /100)"
   ]
  },
  {
   "cell_type": "code",
   "execution_count": 65,
   "id": "41c34cc5",
   "metadata": {},
   "outputs": [
    {
     "data": {
      "text/plain": [
       "['product_id', 'name', 'in_store', 'embellishment_type', 'fabric', 'fit']"
      ]
     },
     "execution_count": 65,
     "metadata": {},
     "output_type": "execute_result"
    }
   ],
   "source": [
    "product_df.columns[:6]"
   ]
  },
  {
   "cell_type": "markdown",
   "id": "a2cf3fbf",
   "metadata": {},
   "source": [
    "### Write Product to Postgres"
   ]
  },
  {
   "cell_type": "code",
   "execution_count": 66,
   "id": "8d0b6711",
   "metadata": {},
   "outputs": [],
   "source": [
    "# product_df.select(\"*\").write.format(format).option(\"url\", url).\\\n",
    "# option(\"driver\", driver).option(\"dbtable\", 'product').\\\n",
    "# option(\"user\", user).option(\"password\", password).save()"
   ]
  },
  {
   "cell_type": "markdown",
   "id": "52fbca81",
   "metadata": {},
   "source": [
    "### Read Size"
   ]
  },
  {
   "cell_type": "code",
   "execution_count": 67,
   "id": "0dd8bc98",
   "metadata": {},
   "outputs": [
    {
     "name": "stdout",
     "output_type": "stream",
     "text": [
      "+----------+-------+\n",
      "|product_id|   size|\n",
      "+----------+-------+\n",
      "|  57450359|2XLarge|\n",
      "|  57450359|  Large|\n",
      "|  57450359| Medium|\n",
      "|  57450359|  Small|\n",
      "|  57450359| XLarge|\n",
      "+----------+-------+\n",
      "only showing top 5 rows\n",
      "\n"
     ]
    }
   ],
   "source": [
    "size_df = spark.read.format(\"csv\").\\\n",
    "options(path=filepath + 'Size.csv',header=True,inferSchema = True,delimiter = \",\").load()\n",
    "size_df.show(limit,True)"
   ]
  },
  {
   "cell_type": "markdown",
   "id": "3e528108",
   "metadata": {},
   "source": [
    "### Write size to Postgres"
   ]
  },
  {
   "cell_type": "code",
   "execution_count": 69,
   "id": "e6cb10d0",
   "metadata": {},
   "outputs": [],
   "source": [
    "# size_df.select(\"*\").write.format(format).option(\"url\", url).\\\n",
    "# option(\"driver\", driver).option(\"dbtable\", 'product_size').\\\n",
    "# option(\"user\", user).option(\"password\", password).save()"
   ]
  },
  {
   "cell_type": "markdown",
   "id": "d10976fd",
   "metadata": {},
   "source": [
    "### Read Vendor"
   ]
  },
  {
   "cell_type": "code",
   "execution_count": 72,
   "id": "f7697651",
   "metadata": {},
   "outputs": [
    {
     "name": "stdout",
     "output_type": "stream",
     "text": [
      "+--------------------+--------------------+--------------------+--------+-----------+-----+-------+--------------+--------------+\n",
      "|                name|                 url|             address|address2|       city|state|    zip|         phone|           fax|\n",
      "+--------------------+--------------------+--------------------+--------+-----------+-----+-------+--------------+--------------+\n",
      "|                  47|https://www.47bra...|132 Campanelli In...| Door 27|   Brockton|   MA| 2301.0|  781-702-2921|          NULL|\n",
      "|              Adidas|https://www.adida...|5055 N Greeley Av...|    NULL|   Portland|   OR|97217.0|(800) 982-9337|(971) 234-2450|\n",
      "|    Alex And Ani Inc|https://www.alexa...|2000 Chapel View ...|    NULL|   Cranston|   RI| 2920.0|  800-725-7822|          NULL|\n",
      "|       All Star Dogs|http://www.allsta...|    20 Hastings Road|    NULL|   Marlboro|   NJ| 7746.0|  800-391-3520|  732-566-3401|\n",
      "|Alta Gracia Holdc...|http://www.altagr...| 160 E Saint John St|    NULL|Spartanburg|   SC|29306.0|(864) 285-9810|          NULL|\n",
      "+--------------------+--------------------+--------------------+--------+-----------+-----+-------+--------------+--------------+\n",
      "only showing top 5 rows\n",
      "\n"
     ]
    }
   ],
   "source": [
    "vendor = spark.read.format(\"csv\").\\\n",
    "options(path=filepath + 'Vendor.csv',header=True,inferSchema = True,delimiter = \",\").load()\n",
    "vendor.show(limit,True)"
   ]
  },
  {
   "cell_type": "markdown",
   "id": "69567876",
   "metadata": {},
   "source": [
    "### Write Vendor to Postgres"
   ]
  },
  {
   "cell_type": "code",
   "execution_count": 73,
   "id": "e0b8468f",
   "metadata": {},
   "outputs": [],
   "source": [
    "# vendor.select(\"*\").write.format(format).option(\"url\", url).\\\n",
    "# option(\"driver\", driver).option(\"dbtable\", 'vendor').\\\n",
    "# option(\"user\", user).option(\"password\", password).save()"
   ]
  },
  {
   "cell_type": "markdown",
   "id": "41873a64",
   "metadata": {},
   "source": [
    "### Read Wholesale"
   ]
  },
  {
   "cell_type": "code",
   "execution_count": 74,
   "id": "b5a7592d",
   "metadata": {},
   "outputs": [
    {
     "name": "stdout",
     "output_type": "stream",
     "text": [
      "+--------+-----------+-------------------+\n",
      "|order_id|     outlet|               date|\n",
      "+--------+-----------+-------------------+\n",
      "|   80001|     K-Mart|2010-01-02 00:00:00|\n",
      "|   80002|     Target|2010-01-02 00:00:00|\n",
      "|   80003|Sam 's Club|2010-01-03 00:00:00|\n",
      "|   80004|     Target|2010-01-04 00:00:00|\n",
      "|   80005|    Walmart|2010-01-04 00:00:00|\n",
      "+--------+-----------+-------------------+\n",
      "only showing top 5 rows\n",
      "\n"
     ]
    }
   ],
   "source": [
    "wholesale = spark.read.format(\"csv\").\\\n",
    "options(path=filepath + 'Wholesale.csv',header=True,inferSchema = True,delimiter = \",\").load()\n",
    "wholesale.show(limit,True)"
   ]
  },
  {
   "cell_type": "markdown",
   "id": "6d10f990",
   "metadata": {},
   "source": [
    "### Write Wholesale to Postgres"
   ]
  },
  {
   "cell_type": "code",
   "execution_count": 75,
   "id": "9107d572",
   "metadata": {},
   "outputs": [],
   "source": [
    "wholesale.select(\"*\").write.format(format).option(\"url\", url).\\\n",
    "option(\"driver\", driver).option(\"dbtable\", 'wholesale').\\\n",
    "option(\"user\", user).option(\"password\", password).save()"
   ]
  },
  {
   "cell_type": "markdown",
   "id": "93ec5212",
   "metadata": {},
   "source": [
    "### Read Wholesale_Line"
   ]
  },
  {
   "cell_type": "code",
   "execution_count": 76,
   "id": "3659ae1b",
   "metadata": {},
   "outputs": [
    {
     "name": "stdout",
     "output_type": "stream",
     "text": [
      "+--------+----------+-------+-----+--------+\n",
      "|order_id|product_id|   size|price|quantity|\n",
      "+--------+----------+-------+-----+--------+\n",
      "|   80065|  94402140|  Small| 25.5|     262|\n",
      "|   80065|  94402140| Medium| 25.5|     210|\n",
      "|   80065|  94402140|  Large| 25.5|     221|\n",
      "|   80065|  94402140|3XLarge| 25.5|     227|\n",
      "|   80065|  94402140|2XLarge| 25.5|     230|\n",
      "+--------+----------+-------+-----+--------+\n",
      "only showing top 5 rows\n",
      "\n"
     ]
    }
   ],
   "source": [
    "wholesale_line = spark.read.format(\"csv\").\\\n",
    "options(path=filepath + 'Wholesale_Line.csv',header=True,inferSchema = True,delimiter = \",\").load()\n",
    "wholesale_line.show(limit,True)"
   ]
  },
  {
   "cell_type": "markdown",
   "id": "8c623ece",
   "metadata": {},
   "source": [
    "### Write Wholesale_Line to Postgres"
   ]
  },
  {
   "cell_type": "code",
   "execution_count": 77,
   "id": "17880bd4",
   "metadata": {},
   "outputs": [],
   "source": [
    "wholesale_line.select(\"*\").write.format(format).option(\"url\", url).\\\n",
    "option(\"driver\", driver).option(\"dbtable\", 'wholesale_line').\\\n",
    "option(\"user\", user).option(\"password\", password).save()"
   ]
  },
  {
   "cell_type": "code",
   "execution_count": null,
   "id": "005f821c",
   "metadata": {},
   "outputs": [],
   "source": []
  }
 ],
 "metadata": {
  "kernelspec": {
   "display_name": "Python 3 (ipykernel)",
   "language": "python",
   "name": "python3"
  },
  "language_info": {
   "codemirror_mode": {
    "name": "ipython",
    "version": 3
   },
   "file_extension": ".py",
   "mimetype": "text/x-python",
   "name": "python",
   "nbconvert_exporter": "python",
   "pygments_lexer": "ipython3",
   "version": "3.10.4"
  }
 },
 "nbformat": 4,
 "nbformat_minor": 5
}
