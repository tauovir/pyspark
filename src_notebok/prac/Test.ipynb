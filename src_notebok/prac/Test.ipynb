{
 "cells": [
  {
   "cell_type": "code",
   "execution_count": 1,
   "id": "27bbf7a3",
   "metadata": {},
   "outputs": [],
   "source": [
    "from pyspark.sql import SparkSession\n",
    "from pyspark.sql import functions as F\n",
    "from pyspark.sql import Window as W"
   ]
  },
  {
   "cell_type": "code",
   "execution_count": 25,
   "id": "523cbf8e",
   "metadata": {},
   "outputs": [],
   "source": [
    "spark = SparkSession.builder.appName(\"SparkSession\").getOrCreate()"
   ]
  },
  {
   "cell_type": "code",
   "execution_count": 17,
   "id": "bf2d5aee",
   "metadata": {},
   "outputs": [],
   "source": [
    "string = 'ABCDCDC'\n",
    "sub_string = 'CDC'\n",
    "#Output: 2\n"
   ]
  },
  {
   "cell_type": "code",
   "execution_count": 18,
   "id": "8f5c996b",
   "metadata": {},
   "outputs": [],
   "source": [
    "# datatype_string = \"number(12, 8)\""
   ]
  },
  {
   "cell_type": "code",
   "execution_count": 39,
   "id": "293d8acb",
   "metadata": {},
   "outputs": [
    {
     "name": "stdout",
     "output_type": "stream",
     "text": [
      "[1, 3, 4, 5, 7, 9, 88]\n"
     ]
    }
   ],
   "source": [
    "def sor_list(lines : list) -> list:\n",
    "    for i in range(len(lines)):\n",
    "        for j in range(i+1, len(lines)):\n",
    "            if lines[i] > lines[j]:\n",
    "                lines[i],lines[j] = lines[j],lines[i]\n",
    "            \n",
    "    print(lines)\n",
    "l1 = [3,1,5,7,4,88,9]\n",
    "sor_list(l1)"
   ]
  },
  {
   "cell_type": "code",
   "execution_count": null,
   "id": "d8c243db",
   "metadata": {},
   "outputs": [],
   "source": [
    "l1 = [],3,1,5,7,4,88,9]"
   ]
  }
 ],
 "metadata": {
  "kernelspec": {
   "display_name": "Python 3 (ipykernel)",
   "language": "python",
   "name": "python3"
  },
  "language_info": {
   "codemirror_mode": {
    "name": "ipython",
    "version": 3
   },
   "file_extension": ".py",
   "mimetype": "text/x-python",
   "name": "python",
   "nbconvert_exporter": "python",
   "pygments_lexer": "ipython3",
   "version": "3.10.4"
  }
 },
 "nbformat": 4,
 "nbformat_minor": 5
}
