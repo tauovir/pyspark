{
 "cells": [
  {
   "cell_type": "code",
   "execution_count": 1,
   "id": "682540a8-96ce-4ed6-ac8b-8131e00945ec",
   "metadata": {},
   "outputs": [],
   "source": [
    "from pyspark.sql import SparkSession\n",
    "from pyspark.sql import functions\n",
    "from pyspark.sql.types import IntegerType\n",
    "from pyspark.sql import Window"
   ]
  },
  {
   "cell_type": "code",
   "execution_count": 2,
   "id": "7b16a710-9b54-4c6b-a19d-072a47828a6e",
   "metadata": {},
   "outputs": [],
   "source": [
    "from pyspark.sql.functions import *"
   ]
  },
  {
   "cell_type": "markdown",
   "id": "1d2c10e4-c2bb-4a92-8e1a-fbdf8bddac0b",
   "metadata": {},
   "source": [
    "# Tiger analytics interview questions and answers in pyspark\n",
    "#### Find the Origin and destination of each customer.\n",
    "Note: There can be more than one stop for the customer journey"
   ]
  },
  {
   "cell_type": "code",
   "execution_count": 3,
   "id": "d0503153-4f6e-40d7-96b1-a87a4ae161e9",
   "metadata": {},
   "outputs": [],
   "source": [
    "data = [\n",
    "        (1,\"flight1\",\"Delhi\",\"Hyderabad\"),\n",
    "        (1,\"flight2\",\"Hyderabad\",\"Kochi\"),\n",
    "        (1,\"flight3\",\"Kochi\",\"Mangalore\"),\n",
    "        (2,\"flight1\",\"Mumbai\",\"Ayudhya\"),\n",
    "        (2,\"flight2\",\"Ayudhya\",\"Gorakhpur\")\n",
    "       ]"
   ]
  },
  {
   "cell_type": "code",
   "execution_count": 4,
   "id": "b91ddc05-0f70-4cc4-a6fd-bafba579ba80",
   "metadata": {},
   "outputs": [],
   "source": [
    "spark= SparkSession.builder.master(\"local[2]\").appName(\"DataSet\").getOrCreate()"
   ]
  },
  {
   "cell_type": "code",
   "execution_count": 5,
   "id": "1f071d2b-7da6-47c7-acb9-6e341ec82641",
   "metadata": {},
   "outputs": [
    {
     "name": "stdout",
     "output_type": "stream",
     "text": [
      "+-------+-------+---------+-----------+\n",
      "|cust_id| flight|   origin|destination|\n",
      "+-------+-------+---------+-----------+\n",
      "|      1|flight1|    Delhi|  Hyderabad|\n",
      "|      1|flight2|Hyderabad|      Kochi|\n",
      "|      1|flight3|    Kochi|  Mangalore|\n",
      "|      2|flight1|   Mumbai|    Ayudhya|\n",
      "|      2|flight2|  Ayudhya|  Gorakhpur|\n",
      "+-------+-------+---------+-----------+\n",
      "\n"
     ]
    }
   ],
   "source": [
    "_schema = ['cust_id', 'flight', 'origin', 'destination']\n",
    "dataframe = spark.createDataFrame(data=data,schema = _schema)\n",
    "dataframe.show()"
   ]
  },
  {
   "cell_type": "markdown",
   "id": "28f1813a-dc01-4f00-a5d0-dfa432d12689",
   "metadata": {},
   "source": [
    "### Generate Row Number for each customer and flight set"
   ]
  },
  {
   "cell_type": "code",
   "execution_count": 6,
   "id": "28983128-b0d9-4e61-b00e-856bb4818d76",
   "metadata": {},
   "outputs": [],
   "source": [
    "df1 = dataframe.withColumn(\"RN\",functions.row_number().over(Window.partitionBy(functions.col(\"cust_id\")).orderBy(functions.col(\"flight\"))))"
   ]
  },
  {
   "cell_type": "code",
   "execution_count": 7,
   "id": "6eb79a6a-9c8a-4fc9-b1de-dbc27ac6fb97",
   "metadata": {},
   "outputs": [
    {
     "name": "stdout",
     "output_type": "stream",
     "text": [
      "+-------+-------+---------+-----------+---+\n",
      "|cust_id| flight|   origin|destination| RN|\n",
      "+-------+-------+---------+-----------+---+\n",
      "|      1|flight1|    Delhi|  Hyderabad|  1|\n",
      "|      1|flight2|Hyderabad|      Kochi|  2|\n",
      "|      1|flight3|    Kochi|  Mangalore|  3|\n",
      "|      2|flight1|   Mumbai|    Ayudhya|  1|\n",
      "|      2|flight2|  Ayudhya|  Gorakhpur|  2|\n",
      "+-------+-------+---------+-----------+---+\n",
      "\n"
     ]
    }
   ],
   "source": [
    "df1.show()"
   ]
  },
  {
   "cell_type": "markdown",
   "id": "b645a723-dbf8-4bd7-a419-5ec40cfaddc1",
   "metadata": {},
   "source": [
    "## Find Max and minimum"
   ]
  },
  {
   "cell_type": "code",
   "execution_count": 8,
   "id": "d49e4c4a-65a1-4db2-97d5-e5f1194c7955",
   "metadata": {},
   "outputs": [],
   "source": [
    "df2 = df1.groupBy(\"cust_id\").agg(functions.min(\"RN\").alias(\"origin_num\"),functions.max(\"RN\").alias(\"destination_num\"))"
   ]
  },
  {
   "cell_type": "code",
   "execution_count": 9,
   "id": "add046ca-8db9-48e7-9df1-dd6e73f5d5d2",
   "metadata": {},
   "outputs": [
    {
     "name": "stdout",
     "output_type": "stream",
     "text": [
      "+-------+----------+---------------+\n",
      "|cust_id|origin_num|destination_num|\n",
      "+-------+----------+---------------+\n",
      "|      1|         1|              3|\n",
      "|      2|         1|              2|\n",
      "+-------+----------+---------------+\n",
      "\n"
     ]
    }
   ],
   "source": [
    "df2.show()"
   ]
  },
  {
   "cell_type": "code",
   "execution_count": 10,
   "id": "855dba62-6ad2-4a52-a793-a6dcc132b8ad",
   "metadata": {},
   "outputs": [],
   "source": [
    "joined_df = df1.join(df2, df1.cust_id == df2.cust_id, 'inner').drop(df1.cust_id)"
   ]
  },
  {
   "cell_type": "code",
   "execution_count": 11,
   "id": "c28601a4-204a-42a4-8f1f-c562dc9f7c30",
   "metadata": {},
   "outputs": [
    {
     "name": "stdout",
     "output_type": "stream",
     "text": [
      "+-------+---------+-----------+---+-------+----------+---------------+\n",
      "| flight|   origin|destination| RN|cust_id|origin_num|destination_num|\n",
      "+-------+---------+-----------+---+-------+----------+---------------+\n",
      "|flight3|    Kochi|  Mangalore|  3|      1|         1|              3|\n",
      "|flight2|Hyderabad|      Kochi|  2|      1|         1|              3|\n",
      "|flight1|    Delhi|  Hyderabad|  1|      1|         1|              3|\n",
      "|flight2|  Ayudhya|  Gorakhpur|  2|      2|         1|              2|\n",
      "|flight1|   Mumbai|    Ayudhya|  1|      2|         1|              2|\n",
      "+-------+---------+-----------+---+-------+----------+---------------+\n",
      "\n"
     ]
    }
   ],
   "source": [
    "joined_df.show()"
   ]
  },
  {
   "cell_type": "markdown",
   "id": "9a360fa7-26db-4b20-af81-a52b639b25bc",
   "metadata": {},
   "source": [
    "## Final Answer"
   ]
  },
  {
   "cell_type": "code",
   "execution_count": 12,
   "id": "6c542a85-87fa-48e0-827a-ecae1f7da1d3",
   "metadata": {},
   "outputs": [
    {
     "name": "stdout",
     "output_type": "stream",
     "text": [
      "+-------+------+-----------+\n",
      "|cust_id|origin|destination|\n",
      "+-------+------+-----------+\n",
      "|      1| Delhi|  Mangalore|\n",
      "|      2|Mumbai|  Gorakhpur|\n",
      "+-------+------+-----------+\n",
      "\n"
     ]
    }
   ],
   "source": [
    "final_df = joined_df.groupBy(col(\"cust_id\")).agg(\n",
    "    max(when(col(\"RN\") == col(\"origin_num\"),col(\"origin\"))).alias(\"origin\"),\n",
    "    max(when(col(\"RN\") == col(\"destination_num\"),col(\"destination\"))).alias(\"destination\")\n",
    ")\n",
    "final_df.show()"
   ]
  },
  {
   "cell_type": "markdown",
   "id": "47b59f36-41a8-4b28-9cde-e6698234b2e8",
   "metadata": {},
   "source": [
    "# Method-2"
   ]
  },
  {
   "cell_type": "code",
   "execution_count": 13,
   "id": "f92656bd-4820-4816-ad98-675c0f367bc7",
   "metadata": {},
   "outputs": [
    {
     "name": "stdout",
     "output_type": "stream",
     "text": [
      "+-------+-------+---------+-----------+\n",
      "|cust_id| flight|   origin|destination|\n",
      "+-------+-------+---------+-----------+\n",
      "|      1|flight1|    Delhi|  Hyderabad|\n",
      "|      1|flight2|Hyderabad|      Kochi|\n",
      "|      1|flight3|    Kochi|  Mangalore|\n",
      "|      2|flight1|   Mumbai|    Ayudhya|\n",
      "|      2|flight2|  Ayudhya|  Gorakhpur|\n",
      "+-------+-------+---------+-----------+\n",
      "\n"
     ]
    }
   ],
   "source": [
    "dataframe.show()"
   ]
  },
  {
   "cell_type": "code",
   "execution_count": 14,
   "id": "948fe7a6-d35e-4f50-ab17-f4a6dc6469ae",
   "metadata": {},
   "outputs": [
    {
     "name": "stdout",
     "output_type": "stream",
     "text": [
      "+-------+-------+---------+-----------+---+\n",
      "|cust_id| flight|   origin|destination| RN|\n",
      "+-------+-------+---------+-----------+---+\n",
      "|      1|flight1|    Delhi|  Hyderabad|  1|\n",
      "|      1|flight2|Hyderabad|      Kochi|  2|\n",
      "|      1|flight3|    Kochi|  Mangalore|  3|\n",
      "|      2|flight1|   Mumbai|    Ayudhya|  1|\n",
      "|      2|flight2|  Ayudhya|  Gorakhpur|  2|\n",
      "+-------+-------+---------+-----------+---+\n",
      "\n"
     ]
    }
   ],
   "source": [
    "df_row = dataframe.withColumn(\"RN\",row_number().over(Window.partitionBy(col(\"cust_id\")).orderBy(col(\"flight\"))))\n",
    "df_row.show()"
   ]
  },
  {
   "cell_type": "code",
   "execution_count": 15,
   "id": "4264c19a-27c0-4268-bcc8-af7964bbcec5",
   "metadata": {},
   "outputs": [
    {
     "name": "stdout",
     "output_type": "stream",
     "text": [
      "+-----+---+---+\n",
      "|start|end| id|\n",
      "+-----+---+---+\n",
      "|    1|  3|  1|\n",
      "|    1|  2|  2|\n",
      "+-----+---+---+\n",
      "\n"
     ]
    }
   ],
   "source": [
    "df22 = df_row.groupBy(\"cust_id\").agg(min(\"RN\").alias(\"start\"),max(\"RN\").alias(\"end\")).select(col('start'),col('end'),col('cust_id').alias('id'))\n",
    "df22.show()"
   ]
  },
  {
   "cell_type": "code",
   "execution_count": 16,
   "id": "81d519f9-def5-4dbc-8317-9c6a82f4370e",
   "metadata": {},
   "outputs": [
    {
     "name": "stdout",
     "output_type": "stream",
     "text": [
      "+-------+-------+------+-----------+---+-----+---+---+\n",
      "|cust_id| flight|origin|destination| RN|start|end| id|\n",
      "+-------+-------+------+-----------+---+-----+---+---+\n",
      "|      1|flight3|  NULL|  Mangalore|  3|    1|  3|  1|\n",
      "|      1|flight1| Delhi|       NULL|  1|    1|  3|  1|\n",
      "|      2|flight2|  NULL|  Gorakhpur|  2|    1|  2|  2|\n",
      "|      2|flight1|Mumbai|       NULL|  1|    1|  2|  2|\n",
      "+-------+-------+------+-----------+---+-----+---+---+\n",
      "\n"
     ]
    }
   ],
   "source": [
    "final_data = df_row.join(df22,df_row.cust_id == df22.id).\\\n",
    "withColumn('origin',when((col('cust_id') == col('id')) & (col('RN') == col('start')),col('origin'))).\\\n",
    "withColumn('destination',when((col('cust_id') == col('id')) & (col('RN') == col('end')),col('destination'))).\\\n",
    "filter(col(\"origin\").isNotNull() | col(\"destination\").isNotNull())\n",
    "\n",
    "final_data.show()\n",
    "# final_data.drop(df22.cust_id).withColumn(\"origin\",when(col(\"start\") == "
   ]
  },
  {
   "cell_type": "code",
   "execution_count": 17,
   "id": "815969ab-d2c1-46d1-88a8-16db1dbf3a3e",
   "metadata": {},
   "outputs": [
    {
     "name": "stdout",
     "output_type": "stream",
     "text": [
      "+-------+-------+------+-----------+---+-----+---+---+\n",
      "|cust_id| flight|origin|destination| RN|start|end| id|\n",
      "+-------+-------+------+-----------+---+-----+---+---+\n",
      "|      1|flight3|  NULL|  Mangalore|  3|    1|  3|  1|\n",
      "|      1|flight1| Delhi|       NULL|  1|    1|  3|  1|\n",
      "|      2|flight2|  NULL|  Gorakhpur|  2|    1|  2|  2|\n",
      "|      2|flight1|Mumbai|       NULL|  1|    1|  2|  2|\n",
      "+-------+-------+------+-----------+---+-----+---+---+\n",
      "\n"
     ]
    }
   ],
   "source": [
    "# final_data.select(\"cust_id\",\"origin\",\"destination\").distinct().show()\n",
    "final_data.show()"
   ]
  },
  {
   "cell_type": "code",
   "execution_count": 18,
   "id": "93a84d93-1b98-4690-b0e0-ed32e1c06548",
   "metadata": {},
   "outputs": [
    {
     "name": "stdout",
     "output_type": "stream",
     "text": [
      "+-------+------+-----------+\n",
      "|cust_id|origin|destination|\n",
      "+-------+------+-----------+\n",
      "|      1| Delhi|  Mangalore|\n",
      "|      2|Mumbai|  Gorakhpur|\n",
      "+-------+------+-----------+\n",
      "\n"
     ]
    }
   ],
   "source": [
    "final_data.groupBy('cust_id').agg(max(when(col('RN')==col('start'),col('origin'))).alias('origin'),\n",
    "                                  max(when(col('RN') ==col('end'),col('destination'))).alias('destination')).show()"
   ]
  },
  {
   "cell_type": "code",
   "execution_count": 19,
   "id": "71788c61-acb7-4aa5-9c1a-1f7d964fd8cd",
   "metadata": {},
   "outputs": [
    {
     "name": "stdout",
     "output_type": "stream",
     "text": [
      "+-------+-------+------+-----------+---+-----+---+---+\n",
      "|cust_id| flight|origin|destination| RN|start|end| id|\n",
      "+-------+-------+------+-----------+---+-----+---+---+\n",
      "|      1|flight3|  NULL|  Mangalore|  3|    1|  3|  1|\n",
      "|      1|flight1| Delhi|       NULL|  1|    1|  3|  1|\n",
      "|      2|flight2|  NULL|  Gorakhpur|  2|    1|  2|  2|\n",
      "|      2|flight1|Mumbai|       NULL|  1|    1|  2|  2|\n",
      "+-------+-------+------+-----------+---+-----+---+---+\n",
      "\n"
     ]
    }
   ],
   "source": [
    "final_data.withColumn(\"\")"
   ]
  }
 ],
 "metadata": {
  "kernelspec": {
   "display_name": "Python 3 (ipykernel)",
   "language": "python",
   "name": "python3"
  },
  "language_info": {
   "codemirror_mode": {
    "name": "ipython",
    "version": 3
   },
   "file_extension": ".py",
   "mimetype": "text/x-python",
   "name": "python",
   "nbconvert_exporter": "python",
   "pygments_lexer": "ipython3",
   "version": "3.10.4"
  }
 },
 "nbformat": 4,
 "nbformat_minor": 5
}
