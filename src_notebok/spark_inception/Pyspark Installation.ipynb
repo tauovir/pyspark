{
 "cells": [
  {
   "cell_type": "markdown",
   "id": "2a95b7c7",
   "metadata": {},
   "source": [
    "###  Pyspark Installation on Ubuntu 18.04\n",
    "<ol>\n",
    "<li> First check java is install or not</li>\n",
    "    <li> home> java -version  If not install  type : sudo apt-get install default-jdk</li>\n",
    "    <li> Secondly, make a vertual environment</li>\n",
    "    <li> home> virtualenv -p/usr/bin/python3.6 my_env (for python3.6)</li>\n",
    "    <li> OR virtualenv -p /usr/bin/python2.7 my_env (for python 2.7)</li>\n",
    "    <li> activate vertual environment : source my_env/bin/activate</li>\n",
    "    <li> home> pip install pyspark</li>\n",
    "    <li> Install Jupyter notebook in vertual environment</li>\n",
    "    <li> pip install jupyter</li>\n",
    "    <li>Initiate jupyter notebook[/li>\n",
    "    <li>#home> jupyter notebook</li>\n"
   ]
  },
  {
   "cell_type": "code",
   "execution_count": 2,
   "id": "seeing-poultry",
   "metadata": {},
   "outputs": [],
   "source": [
    "from pyspark import SparkContext"
   ]
  },
  {
   "cell_type": "code",
   "execution_count": 3,
   "id": "encouraging-favor",
   "metadata": {},
   "outputs": [],
   "source": [
    "sc = SparkContext()"
   ]
  },
  {
   "cell_type": "code",
   "execution_count": 4,
   "id": "precious-effect",
   "metadata": {},
   "outputs": [
    {
     "data": {
      "text/html": [
       "\n",
       "        <div>\n",
       "            <p><b>SparkContext</b></p>\n",
       "\n",
       "            <p><a href=\"http://192.168.0.111:4041\">Spark UI</a></p>\n",
       "\n",
       "            <dl>\n",
       "              <dt>Version</dt>\n",
       "                <dd><code>v3.0.1</code></dd>\n",
       "              <dt>Master</dt>\n",
       "                <dd><code>local[*]</code></dd>\n",
       "              <dt>AppName</dt>\n",
       "                <dd><code>pyspark-shell</code></dd>\n",
       "            </dl>\n",
       "        </div>\n",
       "        "
      ],
      "text/plain": [
       "<SparkContext master=local[*] appName=pyspark-shell>"
      ]
     },
     "execution_count": 4,
     "metadata": {},
     "output_type": "execute_result"
    }
   ],
   "source": [
    "sc"
   ]
  },
  {
   "cell_type": "code",
   "execution_count": 5,
   "id": "synthetic-webmaster",
   "metadata": {},
   "outputs": [
    {
     "data": {
      "text/plain": [
       "10000"
      ]
     },
     "execution_count": 5,
     "metadata": {},
     "output_type": "execute_result"
    }
   ],
   "source": [
    "rdd = sc.parallelize(range(10000))\n",
    "rdd.count()"
   ]
  }
 ],
 "metadata": {
  "kernelspec": {
   "display_name": "Python 3 (ipykernel)",
   "language": "python",
   "name": "python3"
  },
  "language_info": {
   "codemirror_mode": {
    "name": "ipython",
    "version": 3
   },
   "file_extension": ".py",
   "mimetype": "text/x-python",
   "name": "python",
   "nbconvert_exporter": "python",
   "pygments_lexer": "ipython3",
   "version": "3.10.4"
  }
 },
 "nbformat": 4,
 "nbformat_minor": 5
}
