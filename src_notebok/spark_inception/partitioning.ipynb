{
 "cells": [
  {
   "cell_type": "code",
   "execution_count": 3,
   "id": "170c58ef",
   "metadata": {},
   "outputs": [],
   "source": [
    "from pyspark.sql import SparkSession\n",
    "from pyspark.sql import functions as FS\n",
    "from pyspark.sql import window as wn\n"
   ]
  },
  {
   "cell_type": "code",
   "execution_count": 5,
   "id": "98f461ef",
   "metadata": {},
   "outputs": [],
   "source": [
    "spark = SparkSession.builder.master(\"local[2]\").appName(\"Partition\").getOrCreate()"
   ]
  },
  {
   "cell_type": "code",
   "execution_count": 46,
   "id": "a71f810c",
   "metadata": {},
   "outputs": [],
   "source": [
    "users = [\n",
    "    (1,\"Taukir\",'taukir@gmail.com',\"8010339935\"),\n",
    "    (2,\"Khan\",'khan@gmail.com',\"8010359935\"),\n",
    "    (3,\"Rahul\",'rahul@gmail.com',\"9810339935\"),\n",
    "    (4,\"Chohan\",'chohan@gmail.com',\"8985339935\"),\n",
    "    (5,\"Rohit\",'Rohit@gmail.com',\"9325339935\"),\n",
    "    (6,\"Sab\",'sab@gmail.com',\"5120339935\"),\n",
    "    (7,\"sonu\",'jim@gmail.com',\"8010009935\"),\n",
    "    (8,\"Lavan\",'lavan@gmail.com',\"8090139935\"),\n",
    "    (9,\"Reddy\",'reddy@gmail.com',\"8010332135\"),\n",
    "    (10,\"Kate\",'kate@gmail.com',\"+110339900\"),\n",
    "    \n",
    "]\n",
    "user_columns = [\"user_id\",'name','email','phone']\n",
    "\n",
    "address = [\n",
    "    (1,\"Meerut\",'Uttar Pradesh','India'),\n",
    "    (1,\"Ghaziabad\",'Uttar Pradesh','India'),\n",
    "     (2,\"Kanpur\",'Uttar Pradesh','India'),\n",
    "     (3,\"Ghazibad\",'Uttar Pradesh','India'),\n",
    "    (4,\"Meerut\",'Uttar Pradesh','India'),\n",
    "    (5,\"Panipath\",'Hayana','India'),\n",
    "     (6,\"Sonipath\",'Hayana','India'),\n",
    "     (6,\"Hisar\",'Hayana','India'),\n",
    "     (8,\"Mumbai\",'Maharashtra','India'),\n",
    "     (9,\"Pune\",'Maharashtra','India'),\n",
    "    (10,\"Toronto\",'Onterio','Canada')\n",
    "    ]\n",
    "address_columns = [\"user_id\",'city','state','country']"
   ]
  },
  {
   "cell_type": "code",
   "execution_count": 47,
   "id": "fd93e586",
   "metadata": {},
   "outputs": [
    {
     "name": "stdout",
     "output_type": "stream",
     "text": [
      "+-------+------+----------------+----------+\n",
      "|user_id|  name|           email|     phone|\n",
      "+-------+------+----------------+----------+\n",
      "|      1|Taukir|taukir@gmail.com|8010339935|\n",
      "|      2|  Khan|  khan@gmail.com|8010359935|\n",
      "|      3| Rahul| rahul@gmail.com|9810339935|\n",
      "|      4|Chohan|chohan@gmail.com|8985339935|\n",
      "|      5| Rohit| Rohit@gmail.com|9325339935|\n",
      "+-------+------+----------------+----------+\n",
      "only showing top 5 rows\n",
      "\n"
     ]
    }
   ],
   "source": [
    "user_df = spark.createDataFrame(data = users,schema = user_columns)\n",
    "user_df.show(5)"
   ]
  },
  {
   "cell_type": "code",
   "execution_count": 53,
   "id": "03b5bbb3",
   "metadata": {},
   "outputs": [
    {
     "name": "stdout",
     "output_type": "stream",
     "text": [
      "+-------+---------+-------------+-------+\n",
      "|user_id|     city|        state|country|\n",
      "+-------+---------+-------------+-------+\n",
      "|      1|   Meerut|Uttar Pradesh|  India|\n",
      "|      1|Ghaziabad|Uttar Pradesh|  India|\n",
      "|      2|   Kanpur|Uttar Pradesh|  India|\n",
      "|      3| Ghazibad|Uttar Pradesh|  India|\n",
      "|      4|   Meerut|Uttar Pradesh|  India|\n",
      "+-------+---------+-------------+-------+\n",
      "only showing top 5 rows\n",
      "\n"
     ]
    }
   ],
   "source": [
    "address_df = spark.createDataFrame(data = address,schema = address_columns)\n",
    "address_df.show(5)"
   ]
  },
  {
   "cell_type": "code",
   "execution_count": 59,
   "id": "e5bfcff0",
   "metadata": {},
   "outputs": [
    {
     "name": "stdout",
     "output_type": "stream",
     "text": [
      "+------+----------------+----------+---------+-------------+-------+\n",
      "|  name|           email|     phone|     city|        state|country|\n",
      "+------+----------------+----------+---------+-------------+-------+\n",
      "|Taukir|taukir@gmail.com|8010339935|   Meerut|Uttar Pradesh|  India|\n",
      "|Taukir|taukir@gmail.com|8010339935|Ghaziabad|Uttar Pradesh|  India|\n",
      "|  Khan|  khan@gmail.com|8010359935|   Kanpur|Uttar Pradesh|  India|\n",
      "| Rahul| rahul@gmail.com|9810339935| Ghazibad|Uttar Pradesh|  India|\n",
      "|Chohan|chohan@gmail.com|8985339935|   Meerut|Uttar Pradesh|  India|\n",
      "| Rohit| Rohit@gmail.com|9325339935| Panipath|       Hayana|  India|\n",
      "|   Sab|   sab@gmail.com|5120339935| Sonipath|       Hayana|  India|\n",
      "|   Sab|   sab@gmail.com|5120339935|    Hisar|       Hayana|  India|\n",
      "| Lavan| lavan@gmail.com|8090139935|   Mumbai|  Maharashtra|  India|\n",
      "| Reddy| reddy@gmail.com|8010332135|     Pune|  Maharashtra|  India|\n",
      "|  Kate|  kate@gmail.com|+110339900|  Toronto|      Onterio| Canada|\n",
      "+------+----------------+----------+---------+-------------+-------+\n",
      "\n"
     ]
    }
   ],
   "source": [
    "join_df = user_df.join(address_df,user_df.user_id == address_df.user_id).\\\n",
    "select(user_df.name,user_df.email,user_df.phone,address_df.city,address_df.state,address_df.country)\n",
    "join_df.show()"
   ]
  },
  {
   "cell_type": "code",
   "execution_count": 79,
   "id": "46857b96",
   "metadata": {},
   "outputs": [
    {
     "data": {
      "text/plain": [
       "1"
      ]
     },
     "execution_count": 79,
     "metadata": {},
     "output_type": "execute_result"
    }
   ],
   "source": [
    "join_df.rdd.getNumPartitions()"
   ]
  },
  {
   "cell_type": "code",
   "execution_count": 96,
   "id": "64dc34d8",
   "metadata": {},
   "outputs": [
    {
     "name": "stdout",
     "output_type": "stream",
     "text": [
      "== Physical Plan ==\n",
      "AdaptiveSparkPlan isFinalPlan=false\n",
      "+- Exchange hashpartitioning(state#685, 200), REPARTITION_BY_COL, [plan_id=4578]\n",
      "   +- Project [name#602, email#603, phone#604, city#684, state#685, country#686]\n",
      "      +- SortMergeJoin [user_id#601L], [user_id#683L], Inner\n",
      "         :- Sort [user_id#601L ASC NULLS FIRST], false, 0\n",
      "         :  +- Exchange hashpartitioning(user_id#601L, 200), ENSURE_REQUIREMENTS, [plan_id=4572]\n",
      "         :     +- Filter isnotnull(user_id#601L)\n",
      "         :        +- Scan ExistingRDD[user_id#601L,name#602,email#603,phone#604]\n",
      "         +- Sort [user_id#683L ASC NULLS FIRST], false, 0\n",
      "            +- Exchange hashpartitioning(user_id#683L, 200), ENSURE_REQUIREMENTS, [plan_id=4573]\n",
      "               +- Filter isnotnull(user_id#683L)\n",
      "                  +- Scan ExistingRDD[user_id#683L,city#684,state#685,country#686]\n",
      "\n",
      "\n"
     ]
    }
   ],
   "source": [
    "# d1 = join_df.repartition(numPartitions = 3)\n",
    "join_df.repartition(\"state\").explain()"
   ]
  },
  {
   "cell_type": "code",
   "execution_count": 93,
   "id": "8eed32ae",
   "metadata": {},
   "outputs": [
    {
     "data": {
      "text/plain": [
       "1"
      ]
     },
     "execution_count": 93,
     "metadata": {},
     "output_type": "execute_result"
    }
   ],
   "source": [
    "d1.rdd.getNumPartitions()"
   ]
  },
  {
   "cell_type": "code",
   "execution_count": 87,
   "id": "8c568532",
   "metadata": {},
   "outputs": [
    {
     "name": "stdout",
     "output_type": "stream",
     "text": [
      "+------+----------------+----------+---------+-------------+-------+\n",
      "|  name|           email|     phone|     city|        state|country|\n",
      "+------+----------------+----------+---------+-------------+-------+\n",
      "|Taukir|taukir@gmail.com|8010339935|Ghaziabad|Uttar Pradesh|  India|\n",
      "|  Kate|  kate@gmail.com|+110339900|  Toronto|      Onterio| Canada|\n",
      "| Rahul| rahul@gmail.com|9810339935| Ghazibad|Uttar Pradesh|  India|\n",
      "|Chohan|chohan@gmail.com|8985339935|   Meerut|Uttar Pradesh|  India|\n",
      "|   Sab|   sab@gmail.com|5120339935|    Hisar|       Hayana|  India|\n",
      "|Taukir|taukir@gmail.com|8010339935|   Meerut|Uttar Pradesh|  India|\n",
      "| Rohit| Rohit@gmail.com|9325339935| Panipath|       Hayana|  India|\n",
      "| Lavan| lavan@gmail.com|8090139935|   Mumbai|  Maharashtra|  India|\n",
      "| Reddy| reddy@gmail.com|8010332135|     Pune|  Maharashtra|  India|\n",
      "|   Sab|   sab@gmail.com|5120339935| Sonipath|       Hayana|  India|\n",
      "|  Khan|  khan@gmail.com|8010359935|   Kanpur|Uttar Pradesh|  India|\n",
      "+------+----------------+----------+---------+-------------+-------+\n",
      "\n"
     ]
    }
   ],
   "source": [
    "d1.show()"
   ]
  },
  {
   "cell_type": "code",
   "execution_count": 88,
   "id": "10974df5",
   "metadata": {},
   "outputs": [],
   "source": [
    "d1.write.option(\"header\",True).mode(\"overwrite\").csv(base_path + \"/tmp\")"
   ]
  },
  {
   "cell_type": "code",
   "execution_count": null,
   "id": "4b27af5d",
   "metadata": {},
   "outputs": [],
   "source": []
  },
  {
   "cell_type": "code",
   "execution_count": null,
   "id": "8dc0f93a",
   "metadata": {},
   "outputs": [],
   "source": []
  },
  {
   "cell_type": "code",
   "execution_count": 8,
   "id": "0b901bb9",
   "metadata": {},
   "outputs": [
    {
     "name": "stdout",
     "output_type": "stream",
     "text": [
      "+-----------+----------+-----------+--------------------+--------------+-----+-----+--------------------+------------+\n",
      "|customer_id|first_name|  last_name|             address|          city|state|  zip|               email|       phone|\n",
      "+-----------+----------+-----------+--------------------+--------------+-----+-----+--------------------+------------+\n",
      "|      10005|    Martie|     Feasby| 8915 Mitchell Place|Grand Junction|   CO|81505|mfeasbyaf@printfr...|970-222-2301|\n",
      "|      10006|   Tiertza|   Swainson|   689 Drewry Avenue|    Saint Paul|   MN|55166|tswainsonqz@gmail...|651-259-9540|\n",
      "|      10012|      Nana|   Di Lucia|3 Village Green C...|    Boca Raton|   FL|33499|ndiluciadc@statco...|561-923-6152|\n",
      "|      10014| Pierrette|    Hassent|    081 Mendota Pass|       Madison|   WI|53710|phassent3u@netsca...|608-241-2936|\n",
      "|      10015|    Britta|MacSkeaghan|    8 Di Loreto Park|       Buffalo|   NY|14210|bmacskeaghanae@de...|716-947-1700|\n",
      "+-----------+----------+-----------+--------------------+--------------+-----+-----+--------------------+------------+\n",
      "only showing top 5 rows\n",
      "\n"
     ]
    }
   ],
   "source": [
    "base_path = \"../../data/hudsonu-product/\"\n",
    "customer = spark.read.csv(base_path + \"Customer.csv\",header = True,sep = ',')\n",
    "customer.show(5)"
   ]
  },
  {
   "cell_type": "code",
   "execution_count": 27,
   "id": "a37c970c",
   "metadata": {},
   "outputs": [],
   "source": [
    "customer = customer.select('city').groupBy('city').count()\n",
    "\n",
    "customer.count()\n",
    "\n",
    "customer.write.option(\"header\",True).partitionBy(\"city\").mode(\"overwrite\") .csv(base_path + \"/tmp/zipcodes-state\")"
   ]
  },
  {
   "cell_type": "code",
   "execution_count": 23,
   "id": "6a1b5bab",
   "metadata": {},
   "outputs": [],
   "source": [
    "# base_path = \"../../data/hudsonu-product/\"\n",
    "# Netsale_Line = spark.read.csv(base_path + \"Netsale_Line.csv\",header = True,sep = ',')\n",
    "# Netsale_Line.show(5)"
   ]
  },
  {
   "cell_type": "code",
   "execution_count": 28,
   "id": "4d6cfed7",
   "metadata": {},
   "outputs": [
    {
     "data": {
      "text/plain": [
       "457"
      ]
     },
     "execution_count": 28,
     "metadata": {},
     "output_type": "execute_result"
    }
   ],
   "source": [
    "customer.count()"
   ]
  }
 ],
 "metadata": {
  "kernelspec": {
   "display_name": "Python 3 (ipykernel)",
   "language": "python",
   "name": "python3"
  },
  "language_info": {
   "codemirror_mode": {
    "name": "ipython",
    "version": 3
   },
   "file_extension": ".py",
   "mimetype": "text/x-python",
   "name": "python",
   "nbconvert_exporter": "python",
   "pygments_lexer": "ipython3",
   "version": "3.10.4"
  }
 },
 "nbformat": 4,
 "nbformat_minor": 5
}
