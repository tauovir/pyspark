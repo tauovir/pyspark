{
 "cells": [
  {
   "cell_type": "markdown",
   "id": "92013151",
   "metadata": {},
   "source": [
    "### In this session we are going to cover some basic functionality of Pyspark\n",
    "#####  Introduce PySparks SQL funtions library \n",
    "<ol>\n",
    "<li> Select method</li>\n",
    "    <li> Like Operator (for searching a string)</li>\n",
    "    <li> Substring Search</li>\n",
    "    <li> Starts with, Ends with</li>\n",
    "    <li> Slicing</li>\n",
    "    <li> Filtering</li>\n",
    "    <li> Collecting Results as Objects</li>\n"
   ]
  },
  {
   "cell_type": "code",
   "execution_count": 1,
   "id": "permanent-earth",
   "metadata": {},
   "outputs": [],
   "source": [
    "import pyspark\n",
    "from pyspark.sql import SparkSession"
   ]
  },
  {
   "cell_type": "code",
   "execution_count": 2,
   "id": "diverse-interview",
   "metadata": {},
   "outputs": [],
   "source": [
    "spark = SparkSession.builder.appName(\"Pyspark SQL function\").getOrCreate()"
   ]
  },
  {
   "cell_type": "code",
   "execution_count": 3,
   "id": "ordinary-acquisition",
   "metadata": {},
   "outputs": [
    {
     "data": {
      "text/html": [
       "\n",
       "            <div>\n",
       "                <p><b>SparkSession - in-memory</b></p>\n",
       "                \n",
       "        <div>\n",
       "            <p><b>SparkContext</b></p>\n",
       "\n",
       "            <p><a href=\"http://DESKTOP-EPOU8CU:4040\">Spark UI</a></p>\n",
       "\n",
       "            <dl>\n",
       "              <dt>Version</dt>\n",
       "                <dd><code>v3.5.0</code></dd>\n",
       "              <dt>Master</dt>\n",
       "                <dd><code>local[*]</code></dd>\n",
       "              <dt>AppName</dt>\n",
       "                <dd><code>Pyspark SQL function</code></dd>\n",
       "            </dl>\n",
       "        </div>\n",
       "        \n",
       "            </div>\n",
       "        "
      ],
      "text/plain": [
       "<pyspark.sql.session.SparkSession at 0x246a8840bb0>"
      ]
     },
     "execution_count": 3,
     "metadata": {},
     "output_type": "execute_result"
    }
   ],
   "source": [
    "spark"
   ]
  },
  {
   "cell_type": "code",
   "execution_count": 12,
   "id": "published-situation",
   "metadata": {},
   "outputs": [],
   "source": [
    "# ## About this dataframe\n",
    "# \n",
    "# The **fifa19.csv** dataset includes a list of all the FIFA 2019 players and their attributes listed below: \n",
    "# \n",
    "#  - **General**: Age, Nationality, Overall, Potential, Club\n",
    "#  - **Metrics:** Value, Wage\n",
    "#  - **Player Descriptive:** Preferred Foot, International Reputation, Weak Foot, Skill Moves, Work Rate, Position, Jersey Number, Joined, Loaned From, Contract Valid Until, Height, Weight\n",
    "#  - **Possition:** LS, ST, RS, LW, LF, CF, RF, RW, LAM, CAM, RAM, LM, LCM, CM, RCM, RM, LWB, LDM, CDM, RDM, RWB, LB, LCB, CB, RCB, RB, \n",
    "#  - **Other:** Crossing, Finishing, Heading, Accuracy, ShortPassing, Volleys, Dribbling, Curve, FKAccuracy, LongPassing, BallControl, Acceleration, SprintSpeed, Agility, Reactions, Balance, ShotPower, Jumping, Stamina, Strength, LongShots, Aggression, Interceptions, Positioning, Vision, Penalties, Composure, Marking, StandingTackle, SlidingTackle, GKDiving, GKHandling, GKKicking, GKPositioning, GKReflexes, and Release Clause.\n",
    "# \n",
    "# **Source:** https://www.kaggle.com/karangadiya/fifa19"
   ]
  },
  {
   "cell_type": "code",
   "execution_count": 4,
   "id": "ethical-manitoba",
   "metadata": {},
   "outputs": [],
   "source": [
    "file_path = \"../../data/\"\n",
    "fifa = spark.read.csv(file_path+'fifa19.csv',inferSchema=True,header=True)"
   ]
  },
  {
   "cell_type": "code",
   "execution_count": 5,
   "id": "brutal-firewall",
   "metadata": {},
   "outputs": [
    {
     "data": {
      "text/html": [
       "<div>\n",
       "<style scoped>\n",
       "    .dataframe tbody tr th:only-of-type {\n",
       "        vertical-align: middle;\n",
       "    }\n",
       "\n",
       "    .dataframe tbody tr th {\n",
       "        vertical-align: top;\n",
       "    }\n",
       "\n",
       "    .dataframe thead th {\n",
       "        text-align: right;\n",
       "    }\n",
       "</style>\n",
       "<table border=\"1\" class=\"dataframe\">\n",
       "  <thead>\n",
       "    <tr style=\"text-align: right;\">\n",
       "      <th></th>\n",
       "      <th>_c0</th>\n",
       "      <th>ID</th>\n",
       "      <th>Name</th>\n",
       "      <th>Age</th>\n",
       "      <th>Photo</th>\n",
       "      <th>Nationality</th>\n",
       "      <th>Flag</th>\n",
       "      <th>Overall</th>\n",
       "      <th>Potential</th>\n",
       "      <th>Club</th>\n",
       "      <th>...</th>\n",
       "      <th>Composure</th>\n",
       "      <th>Marking</th>\n",
       "      <th>StandingTackle</th>\n",
       "      <th>SlidingTackle</th>\n",
       "      <th>GKDiving</th>\n",
       "      <th>GKHandling</th>\n",
       "      <th>GKKicking</th>\n",
       "      <th>GKPositioning</th>\n",
       "      <th>GKReflexes</th>\n",
       "      <th>Release Clause</th>\n",
       "    </tr>\n",
       "  </thead>\n",
       "  <tbody>\n",
       "    <tr>\n",
       "      <th>0</th>\n",
       "      <td>0</td>\n",
       "      <td>158023</td>\n",
       "      <td>L. Messi</td>\n",
       "      <td>31</td>\n",
       "      <td>https://cdn.sofifa.org/players/4/19/158023.png</td>\n",
       "      <td>Argentina</td>\n",
       "      <td>https://cdn.sofifa.org/flags/52.png</td>\n",
       "      <td>94</td>\n",
       "      <td>94</td>\n",
       "      <td>FC Barcelona</td>\n",
       "      <td>...</td>\n",
       "      <td>96</td>\n",
       "      <td>33</td>\n",
       "      <td>28</td>\n",
       "      <td>26</td>\n",
       "      <td>6</td>\n",
       "      <td>11</td>\n",
       "      <td>15</td>\n",
       "      <td>14</td>\n",
       "      <td>8</td>\n",
       "      <td>€226.5M</td>\n",
       "    </tr>\n",
       "    <tr>\n",
       "      <th>1</th>\n",
       "      <td>1</td>\n",
       "      <td>20801</td>\n",
       "      <td>Cristiano Ronaldo</td>\n",
       "      <td>33</td>\n",
       "      <td>https://cdn.sofifa.org/players/4/19/20801.png</td>\n",
       "      <td>Portugal</td>\n",
       "      <td>https://cdn.sofifa.org/flags/38.png</td>\n",
       "      <td>94</td>\n",
       "      <td>94</td>\n",
       "      <td>Juventus</td>\n",
       "      <td>...</td>\n",
       "      <td>95</td>\n",
       "      <td>28</td>\n",
       "      <td>31</td>\n",
       "      <td>23</td>\n",
       "      <td>7</td>\n",
       "      <td>11</td>\n",
       "      <td>15</td>\n",
       "      <td>14</td>\n",
       "      <td>11</td>\n",
       "      <td>€127.1M</td>\n",
       "    </tr>\n",
       "    <tr>\n",
       "      <th>2</th>\n",
       "      <td>2</td>\n",
       "      <td>190871</td>\n",
       "      <td>Neymar Jr</td>\n",
       "      <td>26</td>\n",
       "      <td>https://cdn.sofifa.org/players/4/19/190871.png</td>\n",
       "      <td>Brazil</td>\n",
       "      <td>https://cdn.sofifa.org/flags/54.png</td>\n",
       "      <td>92</td>\n",
       "      <td>93</td>\n",
       "      <td>Paris Saint-Germain</td>\n",
       "      <td>...</td>\n",
       "      <td>94</td>\n",
       "      <td>27</td>\n",
       "      <td>24</td>\n",
       "      <td>33</td>\n",
       "      <td>9</td>\n",
       "      <td>9</td>\n",
       "      <td>15</td>\n",
       "      <td>15</td>\n",
       "      <td>11</td>\n",
       "      <td>€228.1M</td>\n",
       "    </tr>\n",
       "  </tbody>\n",
       "</table>\n",
       "<p>3 rows × 89 columns</p>\n",
       "</div>"
      ],
      "text/plain": [
       "   _c0      ID               Name  Age  \\\n",
       "0    0  158023           L. Messi   31   \n",
       "1    1   20801  Cristiano Ronaldo   33   \n",
       "2    2  190871          Neymar Jr   26   \n",
       "\n",
       "                                            Photo Nationality  \\\n",
       "0  https://cdn.sofifa.org/players/4/19/158023.png   Argentina   \n",
       "1   https://cdn.sofifa.org/players/4/19/20801.png    Portugal   \n",
       "2  https://cdn.sofifa.org/players/4/19/190871.png      Brazil   \n",
       "\n",
       "                                  Flag  Overall  Potential  \\\n",
       "0  https://cdn.sofifa.org/flags/52.png       94         94   \n",
       "1  https://cdn.sofifa.org/flags/38.png       94         94   \n",
       "2  https://cdn.sofifa.org/flags/54.png       92         93   \n",
       "\n",
       "                  Club  ... Composure Marking StandingTackle  SlidingTackle  \\\n",
       "0         FC Barcelona  ...        96      33             28             26   \n",
       "1             Juventus  ...        95      28             31             23   \n",
       "2  Paris Saint-Germain  ...        94      27             24             33   \n",
       "\n",
       "  GKDiving  GKHandling  GKKicking  GKPositioning GKReflexes Release Clause  \n",
       "0        6          11         15             14          8        €226.5M  \n",
       "1        7          11         15             14         11        €127.1M  \n",
       "2        9           9         15             15         11        €228.1M  \n",
       "\n",
       "[3 rows x 89 columns]"
      ]
     },
     "execution_count": 5,
     "metadata": {},
     "output_type": "execute_result"
    }
   ],
   "source": [
    "fifa.limit(3).toPandas()"
   ]
  },
  {
   "cell_type": "code",
   "execution_count": 6,
   "id": "fitted-delaware",
   "metadata": {},
   "outputs": [
    {
     "data": {
      "text/plain": [
       "18207"
      ]
     },
     "execution_count": 6,
     "metadata": {},
     "output_type": "execute_result"
    }
   ],
   "source": [
    "# Number of rows\n",
    "fifa.count()"
   ]
  },
  {
   "cell_type": "code",
   "execution_count": 7,
   "id": "antique-staff",
   "metadata": {},
   "outputs": [
    {
     "data": {
      "text/plain": [
       "['_c0', 'ID', 'Name', 'Age', 'Photo']"
      ]
     },
     "execution_count": 7,
     "metadata": {},
     "output_type": "execute_result"
    }
   ],
   "source": [
    "# Column List\n",
    "fifa.columns[:5]"
   ]
  },
  {
   "cell_type": "code",
   "execution_count": 9,
   "id": "pressing-violation",
   "metadata": {},
   "outputs": [],
   "source": [
    "# Shema of Dataset\n",
    "# print(fifa.printSchema())"
   ]
  },
  {
   "cell_type": "code",
   "execution_count": 15,
   "id": "straight-digit",
   "metadata": {},
   "outputs": [],
   "source": [
    "# ## Pyspark Select functiin\n",
    "# There are a variety of functions you can import from pyspark.sql.functions. Check out the documentation for the full list available:\n",
    "# http://spark.apache.org/docs/latest/api/python/pyspark.sql.html#module-pyspark.sql.functions"
   ]
  },
  {
   "cell_type": "code",
   "execution_count": 10,
   "id": "magnetic-design",
   "metadata": {},
   "outputs": [],
   "source": [
    "from pyspark.sql.functions import *\n",
    "# Since this is a sql function, the calls are pretty intuitive...."
   ]
  },
  {
   "cell_type": "code",
   "execution_count": 11,
   "id": "practical-hormone",
   "metadata": {},
   "outputs": [
    {
     "name": "stdout",
     "output_type": "stream",
     "text": [
      "+-----------+-----------------+---+--------------------+\n",
      "|Nationality|             Name|Age|               Photo|\n",
      "+-----------+-----------------+---+--------------------+\n",
      "|  Argentina|         L. Messi| 31|https://cdn.sofif...|\n",
      "|   Portugal|Cristiano Ronaldo| 33|https://cdn.sofif...|\n",
      "|     Brazil|        Neymar Jr| 26|https://cdn.sofif...|\n",
      "|      Spain|           De Gea| 27|https://cdn.sofif...|\n",
      "|    Belgium|     K. De Bruyne| 27|https://cdn.sofif...|\n",
      "+-----------+-----------------+---+--------------------+\n",
      "only showing top 5 rows\n",
      "\n"
     ]
    }
   ],
   "source": [
    "fifa.select(['Nationality','Name','Age','Photo']).show(5)"
   ]
  },
  {
   "cell_type": "code",
   "execution_count": 13,
   "id": "jewish-whale",
   "metadata": {},
   "outputs": [
    {
     "name": "stdout",
     "output_type": "stream",
     "text": [
      "+-----------+-----------------+---+----------------------------------------------+\n",
      "|Nationality|Name             |Age|Photo                                         |\n",
      "+-----------+-----------------+---+----------------------------------------------+\n",
      "|Argentina  |L. Messi         |31 |https://cdn.sofifa.org/players/4/19/158023.png|\n",
      "|Portugal   |Cristiano Ronaldo|33 |https://cdn.sofifa.org/players/4/19/20801.png |\n",
      "|Brazil     |Neymar Jr        |26 |https://cdn.sofifa.org/players/4/19/190871.png|\n",
      "+-----------+-----------------+---+----------------------------------------------+\n",
      "only showing top 3 rows\n",
      "\n"
     ]
    }
   ],
   "source": [
    "# To discard wrapping Text\n",
    "fifa.select(['Nationality','Name','Age','Photo']).show(3,False)"
   ]
  },
  {
   "cell_type": "code",
   "execution_count": 14,
   "id": "periodic-douglas",
   "metadata": {},
   "outputs": [
    {
     "name": "stdout",
     "output_type": "stream",
     "text": [
      "+-----------+-----------------+---+\n",
      "|Nationality|             Name|Age|\n",
      "+-----------+-----------------+---+\n",
      "|  Argentina|         L. Messi| 31|\n",
      "|   Portugal|Cristiano Ronaldo| 33|\n",
      "|     Brazil|        Neymar Jr| 26|\n",
      "+-----------+-----------------+---+\n",
      "only showing top 3 rows\n",
      "\n"
     ]
    }
   ],
   "source": [
    "fifa.select(['Nationality','Name','Age']).show(3)"
   ]
  },
  {
   "cell_type": "code",
   "execution_count": 15,
   "id": "south-stupid",
   "metadata": {},
   "outputs": [
    {
     "name": "stdout",
     "output_type": "stream",
     "text": [
      "+-----------+-----------+---+\n",
      "|Nationality|       Name|Age|\n",
      "+-----------+-----------+---+\n",
      "|     Sweden|  B. Nygren| 16|\n",
      "|     France|W. Geubbels| 16|\n",
      "|    England|   B. Mumba| 16|\n",
      "+-----------+-----------+---+\n",
      "only showing top 3 rows\n",
      "\n"
     ]
    }
   ],
   "source": [
    "# OrderBY\n",
    "# Who is youngester players\n",
    "fifa.select(['Nationality','Name','Age']).orderBy(['Age']).show(3)"
   ]
  },
  {
   "cell_type": "code",
   "execution_count": 16,
   "id": "similar-adoption",
   "metadata": {},
   "outputs": [
    {
     "name": "stdout",
     "output_type": "stream",
     "text": [
      "+-----------------+-------------+---+\n",
      "|      Nationality|         Name|Age|\n",
      "+-----------------+-------------+---+\n",
      "|           Mexico|     O. Pérez| 45|\n",
      "|Trinidad & Tobago|    T. Warner| 44|\n",
      "|          England|K. Pilkington| 44|\n",
      "+-----------------+-------------+---+\n",
      "only showing top 3 rows\n",
      "\n"
     ]
    }
   ],
   "source": [
    "# OrderBy descending order\n",
    "fifa.select(['Nationality','Name','Age']).orderBy(fifa['Age'].desc()).show(3)\n"
   ]
  },
  {
   "cell_type": "code",
   "execution_count": 17,
   "id": "pending-fraction",
   "metadata": {},
   "outputs": [
    {
     "name": "stdout",
     "output_type": "stream",
     "text": [
      "+-------------+------------+\n",
      "|Name         |Club        |\n",
      "+-------------+------------+\n",
      "|L. Messi     |FC Barcelona|\n",
      "|L. Suárez    |FC Barcelona|\n",
      "|M. ter Stegen|FC Barcelona|\n",
      "+-------------+------------+\n",
      "only showing top 3 rows\n",
      "\n"
     ]
    }
   ],
   "source": [
    "# Wild card search\n",
    "# If we wanted to look for all players that had \"Barcelona\" in their club title \n",
    "# We could use the like operator\n",
    "fifa.select(\"Name\",\"Club\").where(fifa.Club.like(\"%Barcelona%\")).show(3, False)"
   ]
  },
  {
   "cell_type": "code",
   "execution_count": 18,
   "id": "blind-ottawa",
   "metadata": {},
   "outputs": [
    {
     "data": {
      "text/html": [
       "<div>\n",
       "<style scoped>\n",
       "    .dataframe tbody tr th:only-of-type {\n",
       "        vertical-align: middle;\n",
       "    }\n",
       "\n",
       "    .dataframe tbody tr th {\n",
       "        vertical-align: top;\n",
       "    }\n",
       "\n",
       "    .dataframe thead th {\n",
       "        text-align: right;\n",
       "    }\n",
       "</style>\n",
       "<table border=\"1\" class=\"dataframe\">\n",
       "  <thead>\n",
       "    <tr style=\"text-align: right;\">\n",
       "      <th></th>\n",
       "      <th>Photo</th>\n",
       "    </tr>\n",
       "  </thead>\n",
       "  <tbody>\n",
       "    <tr>\n",
       "      <th>0</th>\n",
       "      <td>https://cdn.sofifa.org/players/4/19/158023.png</td>\n",
       "    </tr>\n",
       "    <tr>\n",
       "      <th>1</th>\n",
       "      <td>https://cdn.sofifa.org/players/4/19/20801.png</td>\n",
       "    </tr>\n",
       "    <tr>\n",
       "      <th>2</th>\n",
       "      <td>https://cdn.sofifa.org/players/4/19/190871.png</td>\n",
       "    </tr>\n",
       "  </tbody>\n",
       "</table>\n",
       "</div>"
      ],
      "text/plain": [
       "                                            Photo\n",
       "0  https://cdn.sofifa.org/players/4/19/158023.png\n",
       "1   https://cdn.sofifa.org/players/4/19/20801.png\n",
       "2  https://cdn.sofifa.org/players/4/19/190871.png"
      ]
     },
     "execution_count": 18,
     "metadata": {},
     "output_type": "execute_result"
    }
   ],
   "source": [
    "# **Substrings**\n",
    "# \n",
    "# .substr(starting postion,length)\n",
    "# \n",
    "# Use this if you want to return a particular portion within a string\n",
    "fifa.select('Photo').limit(3).toPandas()"
   ]
  },
  {
   "cell_type": "code",
   "execution_count": 22,
   "id": "concrete-mauritius",
   "metadata": {},
   "outputs": [
    {
     "name": "stdout",
     "output_type": "stream",
     "text": [
      "+----------------------------------------------+-----------------------+\n",
      "|Photo                                         |substring(Photo, -4, 4)|\n",
      "+----------------------------------------------+-----------------------+\n",
      "|https://cdn.sofifa.org/players/4/19/158023.png|.png                   |\n",
      "|https://cdn.sofifa.org/players/4/19/20801.png |.png                   |\n",
      "|https://cdn.sofifa.org/players/4/19/190871.png|.png                   |\n",
      "+----------------------------------------------+-----------------------+\n",
      "only showing top 3 rows\n",
      "\n"
     ]
    }
   ],
   "source": [
    "fifa.select(\"Photo\",fifa.Photo.substr(-4,4)).show(3,False)"
   ]
  },
  {
   "cell_type": "code",
   "execution_count": 23,
   "id": "increased-kruger",
   "metadata": {},
   "outputs": [
    {
     "name": "stdout",
     "output_type": "stream",
     "text": [
      "+----------------------------------------------+-------+\n",
      "|Photo                                         |sub_str|\n",
      "+----------------------------------------------+-------+\n",
      "|https://cdn.sofifa.org/players/4/19/158023.png|.png   |\n",
      "|https://cdn.sofifa.org/players/4/19/20801.png |.png   |\n",
      "|https://cdn.sofifa.org/players/4/19/190871.png|.png   |\n",
      "+----------------------------------------------+-------+\n",
      "only showing top 3 rows\n",
      "\n"
     ]
    }
   ],
   "source": [
    " # we can also give name to computed subtring columns\n",
    "fifa.select(\"Photo\",fifa.Photo.substr(-4,4).alias('sub_str')).show(3,False)"
   ]
  },
  {
   "cell_type": "code",
   "execution_count": 24,
   "id": "studied-trick",
   "metadata": {},
   "outputs": [
    {
     "data": {
      "text/html": [
       "<div>\n",
       "<style scoped>\n",
       "    .dataframe tbody tr th:only-of-type {\n",
       "        vertical-align: middle;\n",
       "    }\n",
       "\n",
       "    .dataframe tbody tr th {\n",
       "        vertical-align: top;\n",
       "    }\n",
       "\n",
       "    .dataframe thead th {\n",
       "        text-align: right;\n",
       "    }\n",
       "</style>\n",
       "<table border=\"1\" class=\"dataframe\">\n",
       "  <thead>\n",
       "    <tr style=\"text-align: right;\">\n",
       "      <th></th>\n",
       "      <th>_c0</th>\n",
       "      <th>ID</th>\n",
       "      <th>Name</th>\n",
       "      <th>Age</th>\n",
       "      <th>Photo</th>\n",
       "      <th>Nationality</th>\n",
       "      <th>Flag</th>\n",
       "      <th>Overall</th>\n",
       "      <th>Potential</th>\n",
       "      <th>Club</th>\n",
       "      <th>...</th>\n",
       "      <th>Composure</th>\n",
       "      <th>Marking</th>\n",
       "      <th>StandingTackle</th>\n",
       "      <th>SlidingTackle</th>\n",
       "      <th>GKDiving</th>\n",
       "      <th>GKHandling</th>\n",
       "      <th>GKKicking</th>\n",
       "      <th>GKPositioning</th>\n",
       "      <th>GKReflexes</th>\n",
       "      <th>Release Clause</th>\n",
       "    </tr>\n",
       "  </thead>\n",
       "  <tbody>\n",
       "    <tr>\n",
       "      <th>0</th>\n",
       "      <td>0</td>\n",
       "      <td>158023</td>\n",
       "      <td>L. Messi</td>\n",
       "      <td>31</td>\n",
       "      <td>https://cdn.sofifa.org/players/4/19/158023.png</td>\n",
       "      <td>Argentina</td>\n",
       "      <td>https://cdn.sofifa.org/flags/52.png</td>\n",
       "      <td>94</td>\n",
       "      <td>94</td>\n",
       "      <td>FC Barcelona</td>\n",
       "      <td>...</td>\n",
       "      <td>96</td>\n",
       "      <td>33</td>\n",
       "      <td>28</td>\n",
       "      <td>26</td>\n",
       "      <td>6</td>\n",
       "      <td>11</td>\n",
       "      <td>15</td>\n",
       "      <td>14</td>\n",
       "      <td>8</td>\n",
       "      <td>€226.5M</td>\n",
       "    </tr>\n",
       "    <tr>\n",
       "      <th>1</th>\n",
       "      <td>1</td>\n",
       "      <td>20801</td>\n",
       "      <td>Cristiano Ronaldo</td>\n",
       "      <td>33</td>\n",
       "      <td>https://cdn.sofifa.org/players/4/19/20801.png</td>\n",
       "      <td>Portugal</td>\n",
       "      <td>https://cdn.sofifa.org/flags/38.png</td>\n",
       "      <td>94</td>\n",
       "      <td>94</td>\n",
       "      <td>Juventus</td>\n",
       "      <td>...</td>\n",
       "      <td>95</td>\n",
       "      <td>28</td>\n",
       "      <td>31</td>\n",
       "      <td>23</td>\n",
       "      <td>7</td>\n",
       "      <td>11</td>\n",
       "      <td>15</td>\n",
       "      <td>14</td>\n",
       "      <td>11</td>\n",
       "      <td>€127.1M</td>\n",
       "    </tr>\n",
       "    <tr>\n",
       "      <th>2</th>\n",
       "      <td>15</td>\n",
       "      <td>211110</td>\n",
       "      <td>P. Dybala</td>\n",
       "      <td>24</td>\n",
       "      <td>https://cdn.sofifa.org/players/4/19/211110.png</td>\n",
       "      <td>Argentina</td>\n",
       "      <td>https://cdn.sofifa.org/flags/52.png</td>\n",
       "      <td>89</td>\n",
       "      <td>94</td>\n",
       "      <td>Juventus</td>\n",
       "      <td>...</td>\n",
       "      <td>84</td>\n",
       "      <td>23</td>\n",
       "      <td>20</td>\n",
       "      <td>20</td>\n",
       "      <td>5</td>\n",
       "      <td>4</td>\n",
       "      <td>4</td>\n",
       "      <td>5</td>\n",
       "      <td>8</td>\n",
       "      <td>€153.5M</td>\n",
       "    </tr>\n",
       "  </tbody>\n",
       "</table>\n",
       "<p>3 rows × 89 columns</p>\n",
       "</div>"
      ],
      "text/plain": [
       "   _c0      ID               Name  Age  \\\n",
       "0    0  158023           L. Messi   31   \n",
       "1    1   20801  Cristiano Ronaldo   33   \n",
       "2   15  211110          P. Dybala   24   \n",
       "\n",
       "                                            Photo Nationality  \\\n",
       "0  https://cdn.sofifa.org/players/4/19/158023.png   Argentina   \n",
       "1   https://cdn.sofifa.org/players/4/19/20801.png    Portugal   \n",
       "2  https://cdn.sofifa.org/players/4/19/211110.png   Argentina   \n",
       "\n",
       "                                  Flag  Overall  Potential          Club  ...  \\\n",
       "0  https://cdn.sofifa.org/flags/52.png       94         94  FC Barcelona  ...   \n",
       "1  https://cdn.sofifa.org/flags/38.png       94         94      Juventus  ...   \n",
       "2  https://cdn.sofifa.org/flags/52.png       89         94      Juventus  ...   \n",
       "\n",
       "  Composure Marking StandingTackle  SlidingTackle GKDiving  GKHandling  \\\n",
       "0        96      33             28             26        6          11   \n",
       "1        95      28             31             23        7          11   \n",
       "2        84      23             20             20        5           4   \n",
       "\n",
       "   GKKicking  GKPositioning GKReflexes Release Clause  \n",
       "0         15             14          8        €226.5M  \n",
       "1         15             14         11        €127.1M  \n",
       "2          4              5          8        €153.5M  \n",
       "\n",
       "[3 rows x 89 columns]"
      ]
     },
     "execution_count": 24,
     "metadata": {},
     "output_type": "execute_result"
    }
   ],
   "source": [
    "# We can also use ISIN to search for a list of options within a column.\n",
    "fifa[fifa.Nationality.isin(\"Argentina\",\"Portugal\")].limit(3).toPandas()"
   ]
  },
  {
   "cell_type": "code",
   "execution_count": 25,
   "id": "meaningful-shakespeare",
   "metadata": {},
   "outputs": [
    {
     "data": {
      "text/html": [
       "<div>\n",
       "<style scoped>\n",
       "    .dataframe tbody tr th:only-of-type {\n",
       "        vertical-align: middle;\n",
       "    }\n",
       "\n",
       "    .dataframe tbody tr th {\n",
       "        vertical-align: top;\n",
       "    }\n",
       "\n",
       "    .dataframe thead th {\n",
       "        text-align: right;\n",
       "    }\n",
       "</style>\n",
       "<table border=\"1\" class=\"dataframe\">\n",
       "  <thead>\n",
       "    <tr style=\"text-align: right;\">\n",
       "      <th></th>\n",
       "      <th>Name</th>\n",
       "      <th>Age</th>\n",
       "      <th>Nationality</th>\n",
       "    </tr>\n",
       "  </thead>\n",
       "  <tbody>\n",
       "    <tr>\n",
       "      <th>0</th>\n",
       "      <td>L. Messi</td>\n",
       "      <td>31</td>\n",
       "      <td>Argentina</td>\n",
       "    </tr>\n",
       "    <tr>\n",
       "      <th>1</th>\n",
       "      <td>Cristiano Ronaldo</td>\n",
       "      <td>33</td>\n",
       "      <td>Portugal</td>\n",
       "    </tr>\n",
       "    <tr>\n",
       "      <th>2</th>\n",
       "      <td>P. Dybala</td>\n",
       "      <td>24</td>\n",
       "      <td>Argentina</td>\n",
       "    </tr>\n",
       "  </tbody>\n",
       "</table>\n",
       "</div>"
      ],
      "text/plain": [
       "                Name  Age Nationality\n",
       "0           L. Messi   31   Argentina\n",
       "1  Cristiano Ronaldo   33    Portugal\n",
       "2          P. Dybala   24   Argentina"
      ]
     },
     "execution_count": 25,
     "metadata": {},
     "output_type": "execute_result"
    }
   ],
   "source": [
    "# To Limit columsn\n",
    "fifa[fifa.Nationality.isin(\"Argentina\",\"Portugal\")].select(['Name','Age','Nationality']).limit(3).toPandas()"
   ]
  },
  {
   "cell_type": "code",
   "execution_count": 40,
   "id": "expired-brand",
   "metadata": {},
   "outputs": [],
   "source": [
    "# **Starts with Ends with**\n",
    "# \n",
    "# Search for a specific case - begins with \"x\" and ends with \"x\""
   ]
  },
  {
   "cell_type": "code",
   "execution_count": 26,
   "id": "severe-unknown",
   "metadata": {},
   "outputs": [
    {
     "data": {
      "text/plain": [
       "DataFrame[Name: string, Club: string]"
      ]
     },
     "execution_count": 26,
     "metadata": {},
     "output_type": "execute_result"
    }
   ],
   "source": [
    "fifa.select(\"Name\",\"Club\").where(fifa.Name.startswith(\"L\"))"
   ]
  },
  {
   "cell_type": "code",
   "execution_count": 27,
   "id": "informational-jacksonville",
   "metadata": {},
   "outputs": [
    {
     "data": {
      "text/html": [
       "<div>\n",
       "<style scoped>\n",
       "    .dataframe tbody tr th:only-of-type {\n",
       "        vertical-align: middle;\n",
       "    }\n",
       "\n",
       "    .dataframe tbody tr th {\n",
       "        vertical-align: top;\n",
       "    }\n",
       "\n",
       "    .dataframe thead th {\n",
       "        text-align: right;\n",
       "    }\n",
       "</style>\n",
       "<table border=\"1\" class=\"dataframe\">\n",
       "  <thead>\n",
       "    <tr style=\"text-align: right;\">\n",
       "      <th></th>\n",
       "      <th>Name</th>\n",
       "      <th>Club</th>\n",
       "    </tr>\n",
       "  </thead>\n",
       "  <tbody>\n",
       "    <tr>\n",
       "      <th>0</th>\n",
       "      <td>L. Messi</td>\n",
       "      <td>FC Barcelona</td>\n",
       "    </tr>\n",
       "    <tr>\n",
       "      <th>1</th>\n",
       "      <td>L. Bonucci</td>\n",
       "      <td>Juventus</td>\n",
       "    </tr>\n",
       "    <tr>\n",
       "      <th>2</th>\n",
       "      <td>L. Fabiański</td>\n",
       "      <td>West Ham United</td>\n",
       "    </tr>\n",
       "  </tbody>\n",
       "</table>\n",
       "</div>"
      ],
      "text/plain": [
       "           Name             Club\n",
       "0      L. Messi     FC Barcelona\n",
       "1    L. Bonucci         Juventus\n",
       "2  L. Fabiański  West Ham United"
      ]
     },
     "execution_count": 27,
     "metadata": {},
     "output_type": "execute_result"
    }
   ],
   "source": [
    "fifa.select(\"Name\",\"Club\").where(fifa.Name.startswith(\"L\")).where(fifa.Name.endswith(\"i\")).limit(3).toPandas()"
   ]
  },
  {
   "cell_type": "code",
   "execution_count": 43,
   "id": "tight-sailing",
   "metadata": {},
   "outputs": [],
   "source": [
    "#### Slicing a Dataframe"
   ]
  },
  {
   "cell_type": "code",
   "execution_count": 28,
   "id": "subjective-calcium",
   "metadata": {},
   "outputs": [
    {
     "name": "stdout",
     "output_type": "stream",
     "text": [
      "Sliced row count: 300\n"
     ]
    }
   ],
   "source": [
    "# Slice rows\n",
    "df2 = fifa.limit(300)\n",
    "print('Sliced row count:',df2.count())\n"
   ]
  },
  {
   "cell_type": "code",
   "execution_count": 29,
   "id": "advisory-collectible",
   "metadata": {},
   "outputs": [
    {
     "name": "stdout",
     "output_type": "stream",
     "text": [
      "Sliced column count: 5\n"
     ]
    }
   ],
   "source": [
    "# Slice columns\n",
    "cols_list = fifa.columns[0:5]\n",
    "df3 = fifa.select(cols_list)\n",
    "print('Sliced column count:',len(df3.columns))"
   ]
  },
  {
   "cell_type": "markdown",
   "id": "506b06d8",
   "metadata": {},
   "source": [
    "**Slicing Method**\n",
    "\n",
    " pyspark.sql.functions.slice(x, start, length)[source] <br>\n",
    "\" Returns an array containing all the elements in x from index start (or starting from the end if start is negative) with the specified length\".  <br>\n",
    "**Note**: indexing starts at 1 here*"
   ]
  },
  {
   "cell_type": "code",
   "execution_count": 31,
   "id": "english-sitting",
   "metadata": {},
   "outputs": [
    {
     "name": "stdout",
     "output_type": "stream",
     "text": [
      "+---------+\n",
      "|        x|\n",
      "+---------+\n",
      "|[1, 2, 3]|\n",
      "|   [4, 5]|\n",
      "+---------+\n",
      "\n"
     ]
    }
   ],
   "source": [
    "from pyspark.sql.functions import slice\n",
    "df = spark.createDataFrame([([1, 2, 3],), ([4, 5],)], ['x']) \n",
    "df.show()"
   ]
  },
  {
   "cell_type": "code",
   "execution_count": 32,
   "id": "particular-current",
   "metadata": {},
   "outputs": [
    {
     "name": "stdout",
     "output_type": "stream",
     "text": [
      "+------+\n",
      "|sliced|\n",
      "+------+\n",
      "|[2, 3]|\n",
      "|   [5]|\n",
      "+------+\n",
      "\n"
     ]
    }
   ],
   "source": [
    "df.select(slice(df.x, 2, 2).alias(\"sliced\")).show()"
   ]
  },
  {
   "cell_type": "code",
   "execution_count": 33,
   "id": "expanded-evanescence",
   "metadata": {},
   "outputs": [
    {
     "data": {
      "text/html": [
       "<div>\n",
       "<style scoped>\n",
       "    .dataframe tbody tr th:only-of-type {\n",
       "        vertical-align: middle;\n",
       "    }\n",
       "\n",
       "    .dataframe tbody tr th {\n",
       "        vertical-align: top;\n",
       "    }\n",
       "\n",
       "    .dataframe thead th {\n",
       "        text-align: right;\n",
       "    }\n",
       "</style>\n",
       "<table border=\"1\" class=\"dataframe\">\n",
       "  <thead>\n",
       "    <tr style=\"text-align: right;\">\n",
       "      <th></th>\n",
       "      <th>_c0</th>\n",
       "      <th>ID</th>\n",
       "      <th>Name</th>\n",
       "      <th>Age</th>\n",
       "      <th>Photo</th>\n",
       "      <th>Nationality</th>\n",
       "      <th>Flag</th>\n",
       "      <th>Overall</th>\n",
       "      <th>Potential</th>\n",
       "      <th>Club</th>\n",
       "      <th>...</th>\n",
       "      <th>Composure</th>\n",
       "      <th>Marking</th>\n",
       "      <th>StandingTackle</th>\n",
       "      <th>SlidingTackle</th>\n",
       "      <th>GKDiving</th>\n",
       "      <th>GKHandling</th>\n",
       "      <th>GKKicking</th>\n",
       "      <th>GKPositioning</th>\n",
       "      <th>GKReflexes</th>\n",
       "      <th>Release Clause</th>\n",
       "    </tr>\n",
       "  </thead>\n",
       "  <tbody>\n",
       "    <tr>\n",
       "      <th>0</th>\n",
       "      <td>0</td>\n",
       "      <td>158023</td>\n",
       "      <td>L. Messi</td>\n",
       "      <td>31</td>\n",
       "      <td>https://cdn.sofifa.org/players/4/19/158023.png</td>\n",
       "      <td>Argentina</td>\n",
       "      <td>https://cdn.sofifa.org/flags/52.png</td>\n",
       "      <td>94</td>\n",
       "      <td>94</td>\n",
       "      <td>FC Barcelona</td>\n",
       "      <td>...</td>\n",
       "      <td>96</td>\n",
       "      <td>33</td>\n",
       "      <td>28</td>\n",
       "      <td>26</td>\n",
       "      <td>6</td>\n",
       "      <td>11</td>\n",
       "      <td>15</td>\n",
       "      <td>14</td>\n",
       "      <td>8</td>\n",
       "      <td>€226.5M</td>\n",
       "    </tr>\n",
       "    <tr>\n",
       "      <th>1</th>\n",
       "      <td>1</td>\n",
       "      <td>20801</td>\n",
       "      <td>Cristiano Ronaldo</td>\n",
       "      <td>33</td>\n",
       "      <td>https://cdn.sofifa.org/players/4/19/20801.png</td>\n",
       "      <td>Portugal</td>\n",
       "      <td>https://cdn.sofifa.org/flags/38.png</td>\n",
       "      <td>94</td>\n",
       "      <td>94</td>\n",
       "      <td>Juventus</td>\n",
       "      <td>...</td>\n",
       "      <td>95</td>\n",
       "      <td>28</td>\n",
       "      <td>31</td>\n",
       "      <td>23</td>\n",
       "      <td>7</td>\n",
       "      <td>11</td>\n",
       "      <td>15</td>\n",
       "      <td>14</td>\n",
       "      <td>11</td>\n",
       "      <td>€127.1M</td>\n",
       "    </tr>\n",
       "    <tr>\n",
       "      <th>2</th>\n",
       "      <td>2</td>\n",
       "      <td>190871</td>\n",
       "      <td>Neymar Jr</td>\n",
       "      <td>26</td>\n",
       "      <td>https://cdn.sofifa.org/players/4/19/190871.png</td>\n",
       "      <td>Brazil</td>\n",
       "      <td>https://cdn.sofifa.org/flags/54.png</td>\n",
       "      <td>92</td>\n",
       "      <td>93</td>\n",
       "      <td>Paris Saint-Germain</td>\n",
       "      <td>...</td>\n",
       "      <td>94</td>\n",
       "      <td>27</td>\n",
       "      <td>24</td>\n",
       "      <td>33</td>\n",
       "      <td>9</td>\n",
       "      <td>9</td>\n",
       "      <td>15</td>\n",
       "      <td>15</td>\n",
       "      <td>11</td>\n",
       "      <td>€228.1M</td>\n",
       "    </tr>\n",
       "  </tbody>\n",
       "</table>\n",
       "<p>3 rows × 89 columns</p>\n",
       "</div>"
      ],
      "text/plain": [
       "   _c0      ID               Name  Age  \\\n",
       "0    0  158023           L. Messi   31   \n",
       "1    1   20801  Cristiano Ronaldo   33   \n",
       "2    2  190871          Neymar Jr   26   \n",
       "\n",
       "                                            Photo Nationality  \\\n",
       "0  https://cdn.sofifa.org/players/4/19/158023.png   Argentina   \n",
       "1   https://cdn.sofifa.org/players/4/19/20801.png    Portugal   \n",
       "2  https://cdn.sofifa.org/players/4/19/190871.png      Brazil   \n",
       "\n",
       "                                  Flag  Overall  Potential  \\\n",
       "0  https://cdn.sofifa.org/flags/52.png       94         94   \n",
       "1  https://cdn.sofifa.org/flags/38.png       94         94   \n",
       "2  https://cdn.sofifa.org/flags/54.png       92         93   \n",
       "\n",
       "                  Club  ... Composure Marking StandingTackle  SlidingTackle  \\\n",
       "0         FC Barcelona  ...        96      33             28             26   \n",
       "1             Juventus  ...        95      28             31             23   \n",
       "2  Paris Saint-Germain  ...        94      27             24             33   \n",
       "\n",
       "  GKDiving  GKHandling  GKKicking  GKPositioning GKReflexes Release Clause  \n",
       "0        6          11         15             14          8        €226.5M  \n",
       "1        7          11         15             14         11        €127.1M  \n",
       "2        9           9         15             15         11        €228.1M  \n",
       "\n",
       "[3 rows x 89 columns]"
      ]
     },
     "execution_count": 33,
     "metadata": {},
     "output_type": "execute_result"
    }
   ],
   "source": [
    "fifa.limit(3).toPandas()"
   ]
  },
  {
   "cell_type": "markdown",
   "id": "0818be59",
   "metadata": {},
   "source": [
    "**Filtering Data**\n",
    "\n",
    "A large part of working with DataFrames is the ability to quickly filter out data based on conditions. Spark DataFrames are built on top of the Spark SQL platform, which means that is you already know SQL, you can quickly and easily grab that data using SQL commands, or using the DataFram methods (which is what we focus on in this course).\n"
   ]
  },
  {
   "cell_type": "code",
   "execution_count": 35,
   "id": "destroyed-eclipse",
   "metadata": {},
   "outputs": [
    {
     "data": {
      "text/html": [
       "<div>\n",
       "<style scoped>\n",
       "    .dataframe tbody tr th:only-of-type {\n",
       "        vertical-align: middle;\n",
       "    }\n",
       "\n",
       "    .dataframe tbody tr th {\n",
       "        vertical-align: top;\n",
       "    }\n",
       "\n",
       "    .dataframe thead th {\n",
       "        text-align: right;\n",
       "    }\n",
       "</style>\n",
       "<table border=\"1\" class=\"dataframe\">\n",
       "  <thead>\n",
       "    <tr style=\"text-align: right;\">\n",
       "      <th></th>\n",
       "      <th>_c0</th>\n",
       "      <th>ID</th>\n",
       "      <th>Name</th>\n",
       "      <th>Age</th>\n",
       "      <th>Photo</th>\n",
       "      <th>Nationality</th>\n",
       "      <th>Flag</th>\n",
       "      <th>Overall</th>\n",
       "      <th>Potential</th>\n",
       "      <th>Club</th>\n",
       "      <th>...</th>\n",
       "      <th>Composure</th>\n",
       "      <th>Marking</th>\n",
       "      <th>StandingTackle</th>\n",
       "      <th>SlidingTackle</th>\n",
       "      <th>GKDiving</th>\n",
       "      <th>GKHandling</th>\n",
       "      <th>GKKicking</th>\n",
       "      <th>GKPositioning</th>\n",
       "      <th>GKReflexes</th>\n",
       "      <th>Release Clause</th>\n",
       "    </tr>\n",
       "  </thead>\n",
       "  <tbody>\n",
       "    <tr>\n",
       "      <th>0</th>\n",
       "      <td>18118</td>\n",
       "      <td>243725</td>\n",
       "      <td>D. Collins</td>\n",
       "      <td>17</td>\n",
       "      <td>https://cdn.sofifa.org/players/4/19/243725.png</td>\n",
       "      <td>Republic of Ireland</td>\n",
       "      <td>https://cdn.sofifa.org/flags/25.png</td>\n",
       "      <td>49</td>\n",
       "      <td>62</td>\n",
       "      <td>Sligo Rovers</td>\n",
       "      <td>...</td>\n",
       "      <td>50</td>\n",
       "      <td>39</td>\n",
       "      <td>29</td>\n",
       "      <td>27</td>\n",
       "      <td>6</td>\n",
       "      <td>9</td>\n",
       "      <td>5</td>\n",
       "      <td>13</td>\n",
       "      <td>8</td>\n",
       "      <td>€109K</td>\n",
       "    </tr>\n",
       "    <tr>\n",
       "      <th>1</th>\n",
       "      <td>18119</td>\n",
       "      <td>240668</td>\n",
       "      <td>J. Egan</td>\n",
       "      <td>19</td>\n",
       "      <td>https://cdn.sofifa.org/players/4/19/240668.png</td>\n",
       "      <td>England</td>\n",
       "      <td>https://cdn.sofifa.org/flags/14.png</td>\n",
       "      <td>49</td>\n",
       "      <td>62</td>\n",
       "      <td>Carlisle United</td>\n",
       "      <td>...</td>\n",
       "      <td>42</td>\n",
       "      <td>23</td>\n",
       "      <td>25</td>\n",
       "      <td>27</td>\n",
       "      <td>12</td>\n",
       "      <td>9</td>\n",
       "      <td>10</td>\n",
       "      <td>8</td>\n",
       "      <td>12</td>\n",
       "      <td>€143K</td>\n",
       "    </tr>\n",
       "    <tr>\n",
       "      <th>2</th>\n",
       "      <td>18120</td>\n",
       "      <td>241443</td>\n",
       "      <td>Xie Xiaofan</td>\n",
       "      <td>20</td>\n",
       "      <td>https://cdn.sofifa.org/players/4/19/241443.png</td>\n",
       "      <td>China PR</td>\n",
       "      <td>https://cdn.sofifa.org/flags/155.png</td>\n",
       "      <td>49</td>\n",
       "      <td>61</td>\n",
       "      <td>Jiangsu Suning FC</td>\n",
       "      <td>...</td>\n",
       "      <td>42</td>\n",
       "      <td>53</td>\n",
       "      <td>40</td>\n",
       "      <td>42</td>\n",
       "      <td>13</td>\n",
       "      <td>12</td>\n",
       "      <td>7</td>\n",
       "      <td>12</td>\n",
       "      <td>12</td>\n",
       "      <td>€118K</td>\n",
       "    </tr>\n",
       "  </tbody>\n",
       "</table>\n",
       "<p>3 rows × 89 columns</p>\n",
       "</div>"
      ],
      "text/plain": [
       "     _c0      ID         Name  Age  \\\n",
       "0  18118  243725   D. Collins   17   \n",
       "1  18119  240668      J. Egan   19   \n",
       "2  18120  241443  Xie Xiaofan   20   \n",
       "\n",
       "                                            Photo          Nationality  \\\n",
       "0  https://cdn.sofifa.org/players/4/19/243725.png  Republic of Ireland   \n",
       "1  https://cdn.sofifa.org/players/4/19/240668.png              England   \n",
       "2  https://cdn.sofifa.org/players/4/19/241443.png             China PR   \n",
       "\n",
       "                                   Flag  Overall  Potential  \\\n",
       "0   https://cdn.sofifa.org/flags/25.png       49         62   \n",
       "1   https://cdn.sofifa.org/flags/14.png       49         62   \n",
       "2  https://cdn.sofifa.org/flags/155.png       49         61   \n",
       "\n",
       "                Club  ... Composure Marking StandingTackle  SlidingTackle  \\\n",
       "0       Sligo Rovers  ...        50      39             29             27   \n",
       "1    Carlisle United  ...        42      23             25             27   \n",
       "2  Jiangsu Suning FC  ...        42      53             40             42   \n",
       "\n",
       "  GKDiving  GKHandling  GKKicking  GKPositioning GKReflexes Release Clause  \n",
       "0        6           9          5             13          8          €109K  \n",
       "1       12           9         10              8         12          €143K  \n",
       "2       13          12          7             12         12          €118K  \n",
       "\n",
       "[3 rows x 89 columns]"
      ]
     },
     "execution_count": 35,
     "metadata": {},
     "output_type": "execute_result"
    }
   ],
   "source": [
    "fifa.filter('Overall<50').limit(3).toPandas()"
   ]
  },
  {
   "cell_type": "code",
   "execution_count": 36,
   "id": "vital-float",
   "metadata": {},
   "outputs": [
    {
     "data": {
      "text/html": [
       "<div>\n",
       "<style scoped>\n",
       "    .dataframe tbody tr th:only-of-type {\n",
       "        vertical-align: middle;\n",
       "    }\n",
       "\n",
       "    .dataframe tbody tr th {\n",
       "        vertical-align: top;\n",
       "    }\n",
       "\n",
       "    .dataframe thead th {\n",
       "        text-align: right;\n",
       "    }\n",
       "</style>\n",
       "<table border=\"1\" class=\"dataframe\">\n",
       "  <thead>\n",
       "    <tr style=\"text-align: right;\">\n",
       "      <th></th>\n",
       "      <th>ID</th>\n",
       "      <th>Name</th>\n",
       "      <th>Nationality</th>\n",
       "      <th>Overall</th>\n",
       "    </tr>\n",
       "  </thead>\n",
       "  <tbody>\n",
       "    <tr>\n",
       "      <th>0</th>\n",
       "      <td>158023</td>\n",
       "      <td>L. Messi</td>\n",
       "      <td>Argentina</td>\n",
       "      <td>94</td>\n",
       "    </tr>\n",
       "    <tr>\n",
       "      <th>1</th>\n",
       "      <td>20801</td>\n",
       "      <td>Cristiano Ronaldo</td>\n",
       "      <td>Portugal</td>\n",
       "      <td>94</td>\n",
       "    </tr>\n",
       "    <tr>\n",
       "      <th>2</th>\n",
       "      <td>190871</td>\n",
       "      <td>Neymar Jr</td>\n",
       "      <td>Brazil</td>\n",
       "      <td>92</td>\n",
       "    </tr>\n",
       "    <tr>\n",
       "      <th>3</th>\n",
       "      <td>193080</td>\n",
       "      <td>De Gea</td>\n",
       "      <td>Spain</td>\n",
       "      <td>91</td>\n",
       "    </tr>\n",
       "  </tbody>\n",
       "</table>\n",
       "</div>"
      ],
      "text/plain": [
       "       ID               Name Nationality  Overall\n",
       "0  158023           L. Messi   Argentina       94\n",
       "1   20801  Cristiano Ronaldo    Portugal       94\n",
       "2  190871          Neymar Jr      Brazil       92\n",
       "3  193080             De Gea       Spain       91"
      ]
     },
     "execution_count": 36,
     "metadata": {},
     "output_type": "execute_result"
    }
   ],
   "source": [
    "# Using SQL with .select()\n",
    "fifa.filter(\"Overall>80\").select(['ID','Name','Nationality','Overall']).limit(4).toPandas()"
   ]
  },
  {
   "cell_type": "code",
   "execution_count": 38,
   "id": "broadband-disease",
   "metadata": {},
   "outputs": [
    {
     "name": "stdout",
     "output_type": "stream",
     "text": [
      "+-----------+-----------------+---+-------+\n",
      "|Nationality|             Name|Age|Overall|\n",
      "+-----------+-----------------+---+-------+\n",
      "|  Argentina|         L. Messi| 31|     94|\n",
      "|   Portugal|Cristiano Ronaldo| 33|     94|\n",
      "|     Brazil|        Neymar Jr| 26|     92|\n",
      "+-----------+-----------------+---+-------+\n",
      "only showing top 3 rows\n",
      "\n"
     ]
    }
   ],
   "source": [
    "\n",
    "fifa.select(['Nationality','Name','Age','Overall']).filter(\"Overall>70\").orderBy(fifa[\"Overall\"].desc()).show(3)\n"
   ]
  },
  {
   "cell_type": "code",
   "execution_count": 39,
   "id": "vocational-candy",
   "metadata": {},
   "outputs": [],
   "source": [
    "# ### Collecting Results as Objects\n",
    "# The last thing we need to cover is collecting results as objects. If we wanted to say print individual names from an output, we need to essentially remove the item from the dataframe into an object. Like this\n",
    "\n",
    "# Collecting results as Python objects\n",
    "# you need the \".collect()\" call at the end to \"collect\" the results"
   ]
  },
  {
   "cell_type": "code",
   "execution_count": 40,
   "id": "round-cookie",
   "metadata": {},
   "outputs": [],
   "source": [
    "result = fifa.select(['Nationality','Name','Age','Overall']).filter(\"Overall>70\").orderBy(fifa[\"Overall\"].desc()).collect()\n"
   ]
  },
  {
   "cell_type": "code",
   "execution_count": 41,
   "id": "coated-tokyo",
   "metadata": {},
   "outputs": [
    {
     "data": {
      "text/plain": [
       "pyspark.sql.types.Row"
      ]
     },
     "execution_count": 41,
     "metadata": {},
     "output_type": "execute_result"
    }
   ],
   "source": [
    "type(result[0])"
   ]
  },
  {
   "cell_type": "code",
   "execution_count": 42,
   "id": "hollywood-spirit",
   "metadata": {},
   "outputs": [
    {
     "name": "stdout",
     "output_type": "stream",
     "text": [
      "Best Player Over 70:  L. Messi\n",
      "Nationality of Best Player Over 70:  Argentina\n",
      "\n",
      "Worst Player Over 70:  Zapater\n",
      "Nationality of Worst Player Over 70:  Spain\n"
     ]
    }
   ],
   "source": [
    "print(\"Best Player Over 70: \",result[0][1])\n",
    "print(\"Nationality of Best Player Over 70: \",result[0][0])\n",
    "print(\"\")\n",
    "print(\"Worst Player Over 70: \",result[-1][1])\n",
    "print(\"Nationality of Worst Player Over 70: \",result[-1][0])"
   ]
  },
  {
   "cell_type": "code",
   "execution_count": 43,
   "id": "destroyed-eagle",
   "metadata": {},
   "outputs": [
    {
     "data": {
      "text/plain": [
       "{'Nationality': 'Argentina', 'Name': 'L. Messi', 'Age': 31, 'Overall': 94}"
      ]
     },
     "execution_count": 43,
     "metadata": {},
     "output_type": "execute_result"
    }
   ],
   "source": [
    "# Rows can also be called to turn into dictionaries if needed\n",
    "result[0].asDict()"
   ]
  },
  {
   "cell_type": "code",
   "execution_count": 44,
   "id": "cordless-helena",
   "metadata": {},
   "outputs": [],
   "source": [
    "# we can make list of dictionary if needed\n",
    "list1 = []\n",
    "for row in result:\n",
    "    list1.append(row.asDict())\n",
    "    "
   ]
  },
  {
   "cell_type": "code",
   "execution_count": 45,
   "id": "rotary-director",
   "metadata": {},
   "outputs": [],
   "source": [
    "\n",
    "# Check out this link for more info on other methods:\n",
    "# http://spark.apache.org/docs/latest/api/python/pyspark.sql.html#pyspark-sql-module"
   ]
  }
 ],
 "metadata": {
  "kernelspec": {
   "display_name": "Python 3 (ipykernel)",
   "language": "python",
   "name": "python3"
  },
  "language_info": {
   "codemirror_mode": {
    "name": "ipython",
    "version": 3
   },
   "file_extension": ".py",
   "mimetype": "text/x-python",
   "name": "python",
   "nbconvert_exporter": "python",
   "pygments_lexer": "ipython3",
   "version": "3.10.4"
  }
 },
 "nbformat": 4,
 "nbformat_minor": 5
}
